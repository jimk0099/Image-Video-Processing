{
  "cells": [
    {
      "cell_type": "markdown",
      "metadata": {
        "id": "LpnEVMCYYlnD"
      },
      "source": [
        "#2η ομαδική εργασία στη Τεχνολογία και Ανάλυση Εικόνων και Βίντεο"
      ]
    },
    {
      "cell_type": "markdown",
      "metadata": {
        "id": "agnyP3gR--gE"
      },
      "source": [
        "Παράδοση: 26/5/2022<br>\n",
        "Ομάδα 9: Δημήτριος Καλέμης - el18152"
      ]
    },
    {
      "cell_type": "markdown",
      "source": [
        "#1. Θεωρητικό Μέρος"
      ],
      "metadata": {
        "id": "oFlIH-2s6aeI"
      }
    },
    {
      "cell_type": "markdown",
      "source": [
        "###**1. Περιγράψτε τη λειτουργία της Rectified Linear Unit (ReLU)**"
      ],
      "metadata": {
        "id": "bFc39APa6mFk"
      }
    },
    {
      "cell_type": "markdown",
      "source": [
        "Η συνάρτηση ReLU χρησιμοποιείται ευρέως στην εκπαίδευση των μην γραμμικών νευρωνικών δικτύων, τα οποία έχουν γνωρίσει εκτεταμένη χρήση την τελευταία δεκαετία. Η συνάρτηση ReLU υπερτερεί έναντι άλλων μην γραμμικών συναρτήσεων, από τη στιγμή που ο χρόνος εκπαίδευσης των μοντέλων μειώνεται σημαντικά με τη χρήση της. Επιπλέον, επιφέρει γρηγορότερη σύγκλιση και αποτρέπει την εμφάνιση του φαινομένου \"vanishing gradient\", γεγονότα που την καθιστούν κατάλληλη για εφαρμογή σε μεγάλου μεγέθους νευρωνικά δίκτυα. Ο ορισμός της συνάρτησης ενεργοποίησης ReLU φαίνεται παρακάτω:\n",
        "\n",
        "ReLU(x) = max(0,x)\n",
        "\n",
        "Η λειτουργία της συνάρτησης αυτής είναι να μηδενίζει τις εισόδους (που παράγονται από τα train data) με αρνητική τιμή, ενώ να επιτρέπει την εκπαίδευση με εισόδους που έχουν θετική τιμή. Τέλος, προσάπτει μη γραμμικές ιδιότητες στο νευρωνικό δίκτυου, διατηρώντας ταυτόχρονα χαμηλή σχεδιαστική και υπολογιστική πολυπλοκότητα."
      ],
      "metadata": {
        "id": "kLQ6TslN6u2B"
      }
    },
    {
      "cell_type": "markdown",
      "source": [
        "###**2. Παρουσιάστε ένα συγκριτικό πίνακα με τα επίπεδα, το μέγεθος των φίλτρων, συνάρτηση ενεργοποίησης, πλήθος παραμέτρων και τεχνικές pooling και dropout που χρησιμοποιούν τα 3 διαφορετικά δίκτυα που παρουσιάζονται στα προαναφερθέντα άρθρα και σχολιάστε επαρκώς τις διαφορές τους. Ποια χαρακτηριστικά αυτών των τριών δικτύων είναι κατά τη γνώμη σας αυτά που συνέβαλαν στη σταδιακή αύξηση της ακρίβειας ταξινόμησης.**"
      ],
      "metadata": {
        "id": "G8K5U35rDRI7"
      }
    },
    {
      "cell_type": "markdown",
      "source": [
        "Τα τρία νευρωνικά δίκτυα που αναφέρονται στα papers που μας δόθηκαν είναι τα LeNet, AlexNet και VGG. Παρακάτω φαίνονται τα χαρακτηριστικά τους:\n"
      ],
      "metadata": {
        "id": "-K9HZruuQ7ig"
      }
    },
    {
      "cell_type": "markdown",
      "source": [
        "<!DOCTYPE html>\n",
        "<html>\n",
        "<head>\n",
        "<style>\n",
        "table {\n",
        "  font-family: arial, sans-serif;\n",
        "  border-collapse: collapse;\n",
        "  width: 100%;\n",
        "}\n",
        "\n",
        "td, th {\n",
        "  font-size: 20px;\n",
        "  border: 1px solid #dddddd;\n",
        "  text-align: left;\n",
        "  padding: 8px;\n",
        "}\n",
        "\n",
        "tr:nth-child(even) {\n",
        "  background-color: #dddddd;\n",
        "}\n",
        "</style>\n",
        "</head>\n",
        "<body>\n",
        "\n",
        "<table width=100% <table height=300>\n",
        "  <tr>\n",
        "    <th></th>\n",
        "    <th>LeNet</th>\n",
        "    <th>AlexNet</th>\n",
        "    <th>VGG</th>\n",
        "  </tr>\n",
        "  <tr>\n",
        "    <th>Layers</th>\n",
        "    <td>8</td>\n",
        "    <td>14</td>\n",
        "    <td>10</td>\n",
        "  </tr>\n",
        "  <tr>\n",
        "    <th>Kernel size</th>\n",
        "    <td>5x5 (all layers)</td>\n",
        "    <td>3x3 (first layer), 5x5 (second layer), 3x3 (last 3 layers)</td>\n",
        "    <td>3x3 (all layers)</td>\n",
        "  </tr>\n",
        "  <tr>\n",
        "    <th>Activation function</th>\n",
        "    <td>Sigmoid</td>\n",
        "    <td>ReLU</td>\n",
        "    <td>ReLU</td>\n",
        "  </tr>\n",
        "  <tr>\n",
        "    <th>Parameters (trainable)</th>\n",
        "    <td>83,976</td>\n",
        "    <td>21,630,868</td>\n",
        "    <td>34,605,460</td>\n",
        "  </tr>\n",
        "  <tr>\n",
        "    <th>Pooling</th>\n",
        "    <td>2×2 average pooling, stride 2</td>\n",
        "    <td>3×3 maximum pooling, stride 2</td>\n",
        "    <td>2×2 maximum pooling, stride 2</td>\n",
        "  </tr>\n",
        "  <tr>\n",
        "    <th>Dropout</th>\n",
        "    <td>-</td>\n",
        "    <td>dropout with rate 0.5</td>\n",
        "    <td>dropout with rate 0.5</td>\n",
        "  </tr>\n",
        "</table>\n",
        "\n",
        "</body>\n",
        "</html>"
      ],
      "metadata": {
        "id": "9GXwezHlDqtJ"
      }
    },
    {
      "cell_type": "markdown",
      "source": [
        "Αρχικά, παρατηρούμε πως το LeNet έχει τα λιγότερα Layers σε σχέση με τα άλλα δύο μοντέλα. Επιπλέον, έχει σημαντικά λιγότερο αριθμό παραμέτρων και είναι το μόνο από τα 3 μοντέλα που δεν χρησιμοποιεί την συνάρτηση ενεργοποίησης ReLU, αλλά στη θέση της έχει την Sigmoid. Το LeNet είναι το μόνο νευρωνικό δίκτυο στον πίνακα που χρησιμοποιεί average pooling αντί για maximum pooling και επιπρόσθετα δεν χρησιμοποιοεί καθόλου dropout επίπεδα. Για όλους του παραπάνω λόγους, είναι αντιληπτό πως το LeNet είναι πολύ πιο απλό στη δομή του και έχει πολύ μικρότερη υπολογιστική πολυπλοκότητα και χρόνο εκπαίδευσης. Το AlexNet, χρησιμοποιεί διάφορα kernel sizes (στην original μορφή του το πρώτο layer είχε kernel 11x11 αλλά για το δικό μας training set αυτό δεν έδινε καλά αποτελέσματα). Το VGG είναι εκείνο με τις περισσότερες παραμέτρους και επομένως την μεγαλύτερη υπολογιστική πολυπλοκότητα, αλλά ταυτόχρονα δίνει και τα καλύτερα αποτελέσματα.\n",
        "\n",
        "Με βάση τα παραπάνω είναι ασφαλές να πούμε πως η εφαρμογή της ReLU στην εκπαίδευση των νευρωνικών δικτύων είναι πολύ σημαντικός παράγοντας για τη βελτίωση της ακρίβειας των μοντέλων. Η ReLU επιτρέπει αρχικά τη μείωση της πολυπλοκότητας των υπολογισμών και συνεπώς την αύξηση της ταχύτητας εκπαίδευσης, το οποίο σημαίνει ότι στον ίδιο χρόνο μπορούμε να εκπαιδεύσουμε πιο βαθιά νευρωνικά.\n",
        "\n",
        "Αξιοσημείωτη είναι επίσης η συμβολή των Dropout layers στην εξέλιξη των νευρωνικών δικτύων, από τη στιγμή που με τη χρήση τους επιτυγχάνονται αρκετά μεγαλύτερα accuracies. Είναι ένας αποδοτικός τρόπος για την αποφυγή της υπερεκπαίδευσης των μοντέλων, το οποίο είναι θεμελιώδες πρόβλημα στην εκπαίδευση νευρωνικών.\n",
        "\n",
        "Τέλος, φαίνεται πως είναι απαραίτητο να υπάρχουν πολλές trainable parameters προκειμένου να έχουμε ικανοποιητικά αποτελέσματα. Με άλλα λόγια, ο αριθμός των παραμέτρων είναι (έως ένα βαθμό) ανάλογος της ακρίβειας που θα έχει το νευρωνικό μετά την εκπαίδευσή του."
      ],
      "metadata": {
        "id": "6phWk_5DQ1BM"
      }
    },
    {
      "cell_type": "markdown",
      "source": [
        "#2. Εργαστηριακό Μέρος"
      ],
      "metadata": {
        "id": "Y70JzRri6gFJ"
      }
    },
    {
      "cell_type": "markdown",
      "metadata": {
        "id": "DfEMjsB4Yurm"
      },
      "source": [
        "## Εισαγωγή και επισκόπηση του συνόλου δεδομένων"
      ]
    },
    {
      "cell_type": "code",
      "execution_count": 32,
      "metadata": {
        "id": "STXQMBuN3nZ6"
      },
      "outputs": [],
      "source": [
        "from __future__ import absolute_import, division, print_function, unicode_literals # legacy compatibility\n",
        "\n",
        "import numpy as np\n",
        "import pandas as pd\n",
        "import matplotlib.pyplot as plt"
      ]
    },
    {
      "cell_type": "code",
      "execution_count": 33,
      "metadata": {
        "id": "2WSEGPI9Q7tW"
      },
      "outputs": [],
      "source": [
        "# helper functions\n",
        "\n",
        "# select from from_list elements with index in index_list\n",
        "def select_from_list(from_list, index_list):\n",
        "  filtered_list= [from_list[i] for i in index_list]\n",
        "  return(filtered_list)\n",
        "\n",
        "# append in filtered_list the index of each element of unfiltered_list if it exists in in target_list\n",
        "def get_ds_index(unfiltered_list, target_list):\n",
        "  index = 0\n",
        "  filtered_list=[]\n",
        "  for i_ in unfiltered_list:\n",
        "    if i_[0] in target_list:\n",
        "      filtered_list.append(index)\n",
        "    index += 1\n",
        "  return(filtered_list)\n"
      ]
    },
    {
      "cell_type": "code",
      "execution_count": 34,
      "metadata": {
        "id": "OCW71UaGzz0Q"
      },
      "outputs": [],
      "source": [
        "# load the entire dataset\n",
        "import tensorflow as tf\n",
        "from tensorflow.keras import datasets, layers, models\n",
        "\n",
        "(x_train_all, y_train_all), (x_test_all, y_test_all) = tf.keras.datasets.cifar100.load_data(label_mode='fine')"
      ]
    },
    {
      "cell_type": "code",
      "execution_count": 35,
      "metadata": {
        "id": "kGKYHffEE1do",
        "colab": {
          "base_uri": "https://localhost:8080/"
        },
        "outputId": "5378a8a0-581d-4191-c16e-de80b3ab5b34"
      },
      "outputs": [
        {
          "output_type": "stream",
          "name": "stdout",
          "text": [
            "(50000, 32, 32, 3)\n"
          ]
        }
      ],
      "source": [
        "print(x_train_all.shape)"
      ]
    },
    {
      "cell_type": "markdown",
      "metadata": {
        "id": "9PO9wIwYUf0R"
      },
      "source": [
        "Η κάθε ομάδα θα δουλέψει με διαφορετικό υποσύνολο του dataset.\n",
        "Στο επόμενο κελί, αντικαταστήστε την τιμή της μεταβλητής `team_seed` με τον αριθμό που αντιστοιχεί στην ομάδας σας. "
      ]
    },
    {
      "cell_type": "code",
      "execution_count": 36,
      "metadata": {
        "id": "NN0kEze7uZ_G"
      },
      "outputs": [],
      "source": [
        "# REPLACE WITH YOUR TEAM NUMBER\n",
        "team_seed = 9"
      ]
    },
    {
      "cell_type": "code",
      "execution_count": 37,
      "metadata": {
        "id": "RhbZJW6PxUDJ"
      },
      "outputs": [],
      "source": [
        "# select from CIFAR100 20 classes\n",
        "cifar100_classes_url = \"https://pastebin.com/raw/nzE1n98V\""
      ]
    },
    {
      "cell_type": "markdown",
      "metadata": {
        "id": "yO9f6wb0Wi0H"
      },
      "source": [
        "Δημιουργούμε το μοναδικό dataset της ομάδας μας:"
      ]
    },
    {
      "cell_type": "code",
      "execution_count": 38,
      "metadata": {
        "id": "PgIN2h_KuCp_"
      },
      "outputs": [],
      "source": [
        "team_classes = pd.read_csv(cifar100_classes_url, sep=',', header=None)\n",
        "CIFAR100_LABELS_LIST = pd.read_csv('https://pastebin.com/raw/qgDaNggt', sep=',', header=None).astype(str).values.tolist()[0]\n",
        "\n",
        "our_index = team_classes.iloc[team_seed,:].values.tolist()\n",
        "our_classes = select_from_list(CIFAR100_LABELS_LIST, our_index)\n",
        "train_index = get_ds_index(y_train_all, our_index)\n",
        "test_index = get_ds_index(y_test_all, our_index)\n",
        "\n",
        "x_train_ds = np.asarray(select_from_list(x_train_all, train_index))\n",
        "y_train_ds = np.asarray(select_from_list(y_train_all, train_index))\n",
        "x_test_ds = np.asarray(select_from_list(x_test_all, test_index))\n",
        "y_test_ds = np.asarray(select_from_list(y_test_all, test_index))"
      ]
    },
    {
      "cell_type": "code",
      "execution_count": 39,
      "metadata": {
        "id": "zhrklfVVJ3Pn",
        "colab": {
          "base_uri": "https://localhost:8080/",
          "height": 0
        },
        "outputId": "4010fc3d-ae10-439d-c4da-3ac210ccb790"
      },
      "outputs": [
        {
          "output_type": "stream",
          "name": "stdout",
          "text": [
            "[28]\n"
          ]
        },
        {
          "output_type": "display_data",
          "data": {
            "text/plain": [
              "<Figure size 432x288 with 1 Axes>"
            ],
            "image/png": "[encoded data removed]"
          },
          "metadata": {
            "needs_background": "light"
          }
        }
      ],
      "source": [
        "#print(our_index)\n",
        "plt.imshow(x_train_ds[0])\n",
        "print(y_train_ds[0])"
      ]
    },
    {
      "cell_type": "code",
      "execution_count": 40,
      "metadata": {
        "id": "_B4-tvVOQq3j",
        "colab": {
          "base_uri": "https://localhost:8080/"
        },
        "outputId": "4dbff904-8781-4852-bb0d-da75f078a826"
      },
      "outputs": [
        {
          "output_type": "stream",
          "name": "stdout",
          "text": [
            "[' beaver', ' bed', ' camel', ' can', ' caterpillar', ' crab', ' cup', ' forest', ' kangaroo', ' leopard', ' mushroom', ' orchid', ' sea', ' skyscraper', ' streetcar', ' table', ' tiger', ' trout', ' tulip', ' wardrobe']\n",
            "[4, 5, 15, 16, 18, 26, 28, 33, 38, 42, 51, 54, 71, 76, 81, 84, 88, 91, 92, 94]\n",
            "[[28]\n",
            " [71]\n",
            " [71]\n",
            " ...\n",
            " [26]\n",
            " [16]\n",
            " [33]]\n"
          ]
        }
      ],
      "source": [
        "# print our classes\n",
        "print(our_classes)\n",
        "print(our_index)\n",
        "print((y_train_ds))"
      ]
    },
    {
      "cell_type": "code",
      "execution_count": 41,
      "metadata": {
        "id": "bk5wy0u7GGMj",
        "colab": {
          "base_uri": "https://localhost:8080/"
        },
        "outputId": "bb5fe404-ef4c-41df-e5b8-e0cd76c14c2e"
      },
      "outputs": [
        {
          "output_type": "stream",
          "name": "stdout",
          "text": [
            "(10000, 32, 32, 3)\n"
          ]
        }
      ],
      "source": [
        "print(x_train_ds.shape)"
      ]
    },
    {
      "cell_type": "code",
      "execution_count": 42,
      "metadata": {
        "id": "uy02lbN0W1Yg",
        "colab": {
          "base_uri": "https://localhost:8080/"
        },
        "outputId": "6ce5ffdd-6a60-4f9d-847d-6d7ef73310c6"
      },
      "outputs": [
        {
          "output_type": "stream",
          "name": "stdout",
          "text": [
            "{4: 0, 5: 1, 15: 2, 16: 3, 18: 4, 26: 5, 28: 6, 33: 7, 38: 8, 42: 9, 51: 10, 54: 11, 71: 12, 76: 13, 81: 14, 84: 15, 88: 16, 91: 17, 92: 18, 94: 19}\n"
          ]
        }
      ],
      "source": [
        "# fix mapping [0, numclasses-1] -> [0, 19]\n",
        "d = {}\n",
        "for i in range(20):\n",
        "  d[our_index[i]] = i # new key, so add\n",
        "print(d)"
      ]
    },
    {
      "cell_type": "code",
      "execution_count": 43,
      "metadata": {
        "id": "azt3DG3xaghl"
      },
      "outputs": [],
      "source": [
        "# apply mapping to y_train_ds and make the z_train_ds matrix\n",
        "\n",
        "z_train_ds = y_train_ds.copy()\n",
        "z_test_ds = y_test_ds.copy()\n",
        "\n",
        "for k in range(len(y_train_ds)):\n",
        "  z_train_ds[k][0] = d[y_train_ds[k][0]]\n",
        "\n",
        "for k in range(len(y_test_ds)):\n",
        "  z_test_ds[k][0] = d[y_test_ds[k][0]]\n"
      ]
    },
    {
      "cell_type": "code",
      "execution_count": 44,
      "metadata": {
        "id": "QpGXgTs_5ZCk",
        "colab": {
          "base_uri": "https://localhost:8080/",
          "height": 0
        },
        "outputId": "faf24130-d956-4594-82aa-42a22e931813"
      },
      "outputs": [
        {
          "output_type": "stream",
          "name": "stdout",
          "text": [
            "Train: X=(8500, 32, 32, 3), y=(8500, 1)\n",
            "Validation: X=(1500, 32, 32, 3), y=(1500, 1)\n",
            "Test: X=(2000, 32, 32, 3), y=(2000, 1)\n"
          ]
        },
        {
          "output_type": "display_data",
          "data": {
            "text/plain": [
              "<Figure size 432x504 with 9 Axes>"
            ],
            "image/png": "[encoded data removed]"
          },
          "metadata": {
            "needs_background": "light"
          }
        }
      ],
      "source": [
        "# get (train) dataset dimensions\n",
        "data_size, img_rows, img_cols, img_channels = x_train_ds.shape\n",
        "\n",
        "# set validation set percentage (wrt the training set size)\n",
        "validation_percentage = 0.15\n",
        "val_size = round(validation_percentage * data_size)\n",
        "\n",
        "# Reserve val_size samples for validation and normalize all values\n",
        "x_val = x_train_ds[-val_size:]/255\n",
        "y_val = z_train_ds[-val_size:]\n",
        "x_train = x_train_ds[:-val_size]/255\n",
        "y_train = z_train_ds[:-val_size]\n",
        "x_test = x_test_ds/255\n",
        "y_test = z_test_ds\n",
        "\n",
        "# summarize loaded dataset\n",
        "print('Train: X=%s, y=%s' % (x_train.shape, y_train.shape))\n",
        "print('Validation: X=%s, y=%s' % (x_val.shape, y_val.shape))\n",
        "print('Test: X=%s, y=%s' % (x_test.shape, y_test.shape))\n",
        "\n",
        "# get class label from class index\n",
        "def class_label_from_index(fine_category):\n",
        "  return(CIFAR100_LABELS_LIST[fine_category.item(0)])\n",
        "\n",
        "# plot first few images\n",
        "plt.figure(figsize=(6, 7))\n",
        "for i in range(9):\n",
        "\t# define subplot\n",
        "  plt.subplot(330 + 1 + i).set_title(class_label_from_index(y_train_ds[i]))\n",
        "\t# plot raw pixel data\n",
        "  plt.imshow(x_train[i], cmap=plt.get_cmap('gray'))\n",
        "  #show the figure\n",
        "plt.show()"
      ]
    },
    {
      "cell_type": "markdown",
      "metadata": {
        "id": "iAgowxR8oJH7"
      },
      "source": [
        "## Ερώτημα 1\n",
        "---\n",
        "#### Βήμα 1: Σχεδίαση, μεταγλώττιση και εκπαίδευση των μοντέλων\n",
        "\n",
        " 1. Σχεδίαστε, μεταγλωττίστε και εκπαιδεύστε τα μοντέλα  **LeNet, AlexNet και  VGG**, καθώς και ένα δικό σας μοντέλο (ονομάστε το π.χ. **MyCNN**) χρησιμοποιώντας διαφορετικούς συνδυασμούς (τουλάχιστον 2 ανά μοντέλο) για [optimizer](https://keras.io/api/optimizers/), [loss](https://keras.io/api/losses/), batch size και epoch.  Για [metrics](https://keras.io/api/metrics/) να χρησιμοποιήσετε την ορθότητα (όπως στο Lab8.1).\n",
        "---\n",
        "  \n",
        "#### Βήμα 2: Αξιολόγηση των μοντέλων\n",
        "\n",
        "1. Για κάθε ένα από τα μοντέλα που εκπαιδεύσατε, απεικονίστε σε κοινό διάγραμμα την ορθότητα εκπαίδευσης και την ορθότητα επικύρωσης στο σύνολο των εποχών, για κάθε διαφορετικό συνδυασμό του βήματος 1 και επιλέξτε αυτό με την καλύτερη ορθότητα από κάθε μοντέλο (ένα από κάθε αρχιτεκτονική, συνολικά 4).\n",
        "2. Για κάθε ένα από τα μοντέλα με την καλύτερη ορθότητα (συνολικά **4**), απεικονίστε σε κοινό διάγραμμα την ορθότητα εκπαίδευσης και την ορθότητα επικύρωσης στο σύνολο των εποχών.\n",
        "3. Αξιολογήστε, αναλυτικά, τα αποτελέσματά σας ως προς τα εξής:\n",
        " - Επίδραση του πλήθους των δεδομένων/κλάσεων στην απόδοση του μοντέλου\n",
        " - Επίδραση του αλγόριθμου βελτιστοποίησης (optimizer)\n",
        " - Επίδραση του μεγέθους δέσμης (batch size)\n",
        " \n",
        "---\n",
        "\n",
        "#### Βήμα 3: Αξιολόγηση ορθότητας\n",
        "Αξιολογήστε την ορθότητα για το test set σας.\n"
      ]
    },
    {
      "cell_type": "markdown",
      "metadata": {
        "id": "pb8g46J9wQaI"
      },
      "source": [
        "##Βήμα 1: Σχεδίαση, μεταγλώττιση και εκπαίδευση των μοντέλων\n"
      ]
    },
    {
      "cell_type": "markdown",
      "metadata": {
        "id": "daDqu-8gw7od"
      },
      "source": [
        "###Σχεδίαση Μοντέλων"
      ]
    },
    {
      "cell_type": "code",
      "execution_count": 45,
      "metadata": {
        "id": "8yOQ2eLuOXZC",
        "colab": {
          "base_uri": "https://localhost:8080/"
        },
        "outputId": "a4cad1d3-eb66-4742-9204-33837ebf3e0e"
      },
      "outputs": [
        {
          "output_type": "stream",
          "name": "stdout",
          "text": [
            "Looking in indexes: https://pypi.org/simple, https://us-python.pkg.dev/colab-wheels/public/simple/\n",
            "Requirement already satisfied: d2l in /usr/local/lib/python3.7/dist-packages (0.17.5)\n",
            "Requirement already satisfied: jupyter==1.0.0 in /usr/local/lib/python3.7/dist-packages (from d2l) (1.0.0)\n",
            "Requirement already satisfied: requests==2.25.1 in /usr/local/lib/python3.7/dist-packages (from d2l) (2.25.1)\n",
            "Requirement already satisfied: pandas==1.2.4 in /usr/local/lib/python3.7/dist-packages (from d2l) (1.2.4)\n",
            "Requirement already satisfied: numpy==1.21.5 in /usr/local/lib/python3.7/dist-packages (from d2l) (1.21.5)\n",
            "Requirement already satisfied: matplotlib==3.5.1 in /usr/local/lib/python3.7/dist-packages (from d2l) (3.5.1)\n",
            "Requirement already satisfied: nbconvert in /usr/local/lib/python3.7/dist-packages (from jupyter==1.0.0->d2l) (5.6.1)\n",
            "Requirement already satisfied: ipykernel in /usr/local/lib/python3.7/dist-packages (from jupyter==1.0.0->d2l) (4.10.1)\n",
            "Requirement already satisfied: ipywidgets in /usr/local/lib/python3.7/dist-packages (from jupyter==1.0.0->d2l) (7.7.0)\n",
            "Requirement already satisfied: qtconsole in /usr/local/lib/python3.7/dist-packages (from jupyter==1.0.0->d2l) (5.3.0)\n",
            "Requirement already satisfied: jupyter-console in /usr/local/lib/python3.7/dist-packages (from jupyter==1.0.0->d2l) (5.2.0)\n",
            "Requirement already satisfied: notebook in /usr/local/lib/python3.7/dist-packages (from jupyter==1.0.0->d2l) (5.3.1)\n",
            "Requirement already satisfied: python-dateutil>=2.7 in /usr/local/lib/python3.7/dist-packages (from matplotlib==3.5.1->d2l) (2.8.2)\n",
            "Requirement already satisfied: packaging>=20.0 in /usr/local/lib/python3.7/dist-packages (from matplotlib==3.5.1->d2l) (21.3)\n",
            "Requirement already satisfied: pyparsing>=2.2.1 in /usr/local/lib/python3.7/dist-packages (from matplotlib==3.5.1->d2l) (3.0.9)\n",
            "Requirement already satisfied: fonttools>=4.22.0 in /usr/local/lib/python3.7/dist-packages (from matplotlib==3.5.1->d2l) (4.33.3)\n",
            "Requirement already satisfied: kiwisolver>=1.0.1 in /usr/local/lib/python3.7/dist-packages (from matplotlib==3.5.1->d2l) (1.4.2)\n",
            "Requirement already satisfied: cycler>=0.10 in /usr/local/lib/python3.7/dist-packages (from matplotlib==3.5.1->d2l) (0.11.0)\n",
            "Requirement already satisfied: pillow>=6.2.0 in /usr/local/lib/python3.7/dist-packages (from matplotlib==3.5.1->d2l) (7.1.2)\n",
            "Requirement already satisfied: pytz>=2017.3 in /usr/local/lib/python3.7/dist-packages (from pandas==1.2.4->d2l) (2022.1)\n",
            "Requirement already satisfied: idna<3,>=2.5 in /usr/local/lib/python3.7/dist-packages (from requests==2.25.1->d2l) (2.10)\n",
            "Requirement already satisfied: urllib3<1.27,>=1.21.1 in /usr/local/lib/python3.7/dist-packages (from requests==2.25.1->d2l) (1.24.3)\n",
            "Requirement already satisfied: chardet<5,>=3.0.2 in /usr/local/lib/python3.7/dist-packages (from requests==2.25.1->d2l) (3.0.4)\n",
            "Requirement already satisfied: certifi>=2017.4.17 in /usr/local/lib/python3.7/dist-packages (from requests==2.25.1->d2l) (2022.5.18.1)\n",
            "Requirement already satisfied: typing-extensions in /usr/local/lib/python3.7/dist-packages (from kiwisolver>=1.0.1->matplotlib==3.5.1->d2l) (4.2.0)\n",
            "Requirement already satisfied: six>=1.5 in /usr/local/lib/python3.7/dist-packages (from python-dateutil>=2.7->matplotlib==3.5.1->d2l) (1.15.0)\n",
            "Requirement already satisfied: traitlets>=4.1.0 in /usr/local/lib/python3.7/dist-packages (from ipykernel->jupyter==1.0.0->d2l) (5.1.1)\n",
            "Requirement already satisfied: tornado>=4.0 in /usr/local/lib/python3.7/dist-packages (from ipykernel->jupyter==1.0.0->d2l) (5.1.1)\n",
            "Requirement already satisfied: ipython>=4.0.0 in /usr/local/lib/python3.7/dist-packages (from ipykernel->jupyter==1.0.0->d2l) (5.5.0)\n",
            "Requirement already satisfied: jupyter-client in /usr/local/lib/python3.7/dist-packages (from ipykernel->jupyter==1.0.0->d2l) (5.3.5)\n",
            "Requirement already satisfied: pygments in /usr/local/lib/python3.7/dist-packages (from ipython>=4.0.0->ipykernel->jupyter==1.0.0->d2l) (2.6.1)\n",
            "Requirement already satisfied: decorator in /usr/local/lib/python3.7/dist-packages (from ipython>=4.0.0->ipykernel->jupyter==1.0.0->d2l) (4.4.2)\n",
            "Requirement already satisfied: prompt-toolkit<2.0.0,>=1.0.4 in /usr/local/lib/python3.7/dist-packages (from ipython>=4.0.0->ipykernel->jupyter==1.0.0->d2l) (1.0.18)\n",
            "Requirement already satisfied: setuptools>=18.5 in /usr/local/lib/python3.7/dist-packages (from ipython>=4.0.0->ipykernel->jupyter==1.0.0->d2l) (57.4.0)\n",
            "Requirement already satisfied: pickleshare in /usr/local/lib/python3.7/dist-packages (from ipython>=4.0.0->ipykernel->jupyter==1.0.0->d2l) (0.7.5)\n",
            "Requirement already satisfied: simplegeneric>0.8 in /usr/local/lib/python3.7/dist-packages (from ipython>=4.0.0->ipykernel->jupyter==1.0.0->d2l) (0.8.1)\n",
            "Requirement already satisfied: pexpect in /usr/local/lib/python3.7/dist-packages (from ipython>=4.0.0->ipykernel->jupyter==1.0.0->d2l) (4.8.0)\n",
            "Requirement already satisfied: wcwidth in /usr/local/lib/python3.7/dist-packages (from prompt-toolkit<2.0.0,>=1.0.4->ipython>=4.0.0->ipykernel->jupyter==1.0.0->d2l) (0.2.5)\n",
            "Requirement already satisfied: ipython-genutils~=0.2.0 in /usr/local/lib/python3.7/dist-packages (from ipywidgets->jupyter==1.0.0->d2l) (0.2.0)\n",
            "Requirement already satisfied: widgetsnbextension~=3.6.0 in /usr/local/lib/python3.7/dist-packages (from ipywidgets->jupyter==1.0.0->d2l) (3.6.0)\n",
            "Requirement already satisfied: nbformat>=4.2.0 in /usr/local/lib/python3.7/dist-packages (from ipywidgets->jupyter==1.0.0->d2l) (5.4.0)\n",
            "Requirement already satisfied: jupyterlab-widgets>=1.0.0 in /usr/local/lib/python3.7/dist-packages (from ipywidgets->jupyter==1.0.0->d2l) (1.1.0)\n",
            "Requirement already satisfied: jsonschema>=2.6 in /usr/local/lib/python3.7/dist-packages (from nbformat>=4.2.0->ipywidgets->jupyter==1.0.0->d2l) (4.3.3)\n",
            "Requirement already satisfied: fastjsonschema in /usr/local/lib/python3.7/dist-packages (from nbformat>=4.2.0->ipywidgets->jupyter==1.0.0->d2l) (2.15.3)\n",
            "Requirement already satisfied: jupyter-core in /usr/local/lib/python3.7/dist-packages (from nbformat>=4.2.0->ipywidgets->jupyter==1.0.0->d2l) (4.10.0)\n",
            "Requirement already satisfied: attrs>=17.4.0 in /usr/local/lib/python3.7/dist-packages (from jsonschema>=2.6->nbformat>=4.2.0->ipywidgets->jupyter==1.0.0->d2l) (21.4.0)\n",
            "Requirement already satisfied: pyrsistent!=0.17.0,!=0.17.1,!=0.17.2,>=0.14.0 in /usr/local/lib/python3.7/dist-packages (from jsonschema>=2.6->nbformat>=4.2.0->ipywidgets->jupyter==1.0.0->d2l) (0.18.1)\n",
            "Requirement already satisfied: importlib-resources>=1.4.0 in /usr/local/lib/python3.7/dist-packages (from jsonschema>=2.6->nbformat>=4.2.0->ipywidgets->jupyter==1.0.0->d2l) (5.7.1)\n",
            "Requirement already satisfied: importlib-metadata in /usr/local/lib/python3.7/dist-packages (from jsonschema>=2.6->nbformat>=4.2.0->ipywidgets->jupyter==1.0.0->d2l) (4.11.3)\n",
            "Requirement already satisfied: zipp>=3.1.0 in /usr/local/lib/python3.7/dist-packages (from importlib-resources>=1.4.0->jsonschema>=2.6->nbformat>=4.2.0->ipywidgets->jupyter==1.0.0->d2l) (3.8.0)\n",
            "Requirement already satisfied: terminado>=0.8.1 in /usr/local/lib/python3.7/dist-packages (from notebook->jupyter==1.0.0->d2l) (0.13.3)\n",
            "Requirement already satisfied: jinja2 in /usr/local/lib/python3.7/dist-packages (from notebook->jupyter==1.0.0->d2l) (2.11.3)\n",
            "Requirement already satisfied: Send2Trash in /usr/local/lib/python3.7/dist-packages (from notebook->jupyter==1.0.0->d2l) (1.8.0)\n",
            "Requirement already satisfied: pyzmq>=13 in /usr/local/lib/python3.7/dist-packages (from jupyter-client->ipykernel->jupyter==1.0.0->d2l) (23.0.0)\n",
            "Requirement already satisfied: ptyprocess in /usr/local/lib/python3.7/dist-packages (from terminado>=0.8.1->notebook->jupyter==1.0.0->d2l) (0.7.0)\n",
            "Requirement already satisfied: MarkupSafe>=0.23 in /usr/local/lib/python3.7/dist-packages (from jinja2->notebook->jupyter==1.0.0->d2l) (2.0.1)\n",
            "Requirement already satisfied: bleach in /usr/local/lib/python3.7/dist-packages (from nbconvert->jupyter==1.0.0->d2l) (5.0.0)\n",
            "Requirement already satisfied: entrypoints>=0.2.2 in /usr/local/lib/python3.7/dist-packages (from nbconvert->jupyter==1.0.0->d2l) (0.4)\n",
            "Requirement already satisfied: testpath in /usr/local/lib/python3.7/dist-packages (from nbconvert->jupyter==1.0.0->d2l) (0.6.0)\n",
            "Requirement already satisfied: mistune<2,>=0.8.1 in /usr/local/lib/python3.7/dist-packages (from nbconvert->jupyter==1.0.0->d2l) (0.8.4)\n",
            "Requirement already satisfied: pandocfilters>=1.4.1 in /usr/local/lib/python3.7/dist-packages (from nbconvert->jupyter==1.0.0->d2l) (1.5.0)\n",
            "Requirement already satisfied: defusedxml in /usr/local/lib/python3.7/dist-packages (from nbconvert->jupyter==1.0.0->d2l) (0.7.1)\n",
            "Requirement already satisfied: webencodings in /usr/local/lib/python3.7/dist-packages (from bleach->nbconvert->jupyter==1.0.0->d2l) (0.5.1)\n",
            "Requirement already satisfied: qtpy>=2.0.1 in /usr/local/lib/python3.7/dist-packages (from qtconsole->jupyter==1.0.0->d2l) (2.1.0)\n"
          ]
        }
      ],
      "source": [
        "!pip install d2l"
      ]
    },
    {
      "cell_type": "code",
      "execution_count": 46,
      "metadata": {
        "id": "12hIGerVy2iu"
      },
      "outputs": [],
      "source": [
        "import tensorflow as tf\n",
        "from d2l import tensorflow as d2l"
      ]
    },
    {
      "cell_type": "markdown",
      "metadata": {
        "id": "mGsT2fK2bCRs"
      },
      "source": [
        "####LeNet"
      ]
    },
    {
      "cell_type": "markdown",
      "metadata": {
        "id": "0Sg7FfmwQPWd"
      },
      "source": [
        "Αλλάζουμε το τελευταίο layers.Dense σε 20, επειδή έχουμε 20 κατηγορίες αντικειμένων."
      ]
    },
    {
      "cell_type": "code",
      "execution_count": 47,
      "metadata": {
        "id": "tBZkPy6xOPHz"
      },
      "outputs": [],
      "source": [
        "# Code from Dive into Deep Learning - 6.6. Convolutional Neural Networks\n",
        "# Our LeNet model: images 32x32x3 and 20 categories \n",
        "\n",
        "def LeNet():\n",
        "    return tf.keras.models.Sequential([\n",
        "        tf.keras.layers.Conv2D(filters=6, kernel_size=5, activation='sigmoid',\n",
        "                               padding='same'),\n",
        "        tf.keras.layers.AvgPool2D(pool_size=2, strides=2),\n",
        "        tf.keras.layers.Conv2D(filters=16, kernel_size=5,\n",
        "                               activation='sigmoid'),\n",
        "        tf.keras.layers.AvgPool2D(pool_size=2, strides=2),\n",
        "        tf.keras.layers.Flatten(),\n",
        "        tf.keras.layers.Dense(120, activation='sigmoid'),\n",
        "        tf.keras.layers.Dense(84, activation='sigmoid'),\n",
        "        tf.keras.layers.Dense(20)])\n",
        "\n",
        "\n",
        "# === Original LeNet model ===\n",
        "#def LeNet_original():\n",
        "#    return tf.keras.models.Sequential([\n",
        "#        tf.keras.layers.Conv2D(filters=6, kernel_size=5, activation='sigmoid',\n",
        "#                               padding='same'),\n",
        "#        tf.keras.layers.AvgPool2D(pool_size=2, strides=2),\n",
        "#        tf.keras.layers.Conv2D(filters=16, kernel_size=5,\n",
        "#                               activation='sigmoid'),\n",
        "#        tf.keras.layers.AvgPool2D(pool_size=2, strides=2),\n",
        "#        tf.keras.layers.Flatten(),\n",
        "#        tf.keras.layers.Dense(120, activation='sigmoid'),\n",
        "#        tf.keras.layers.Dense(84, activation='sigmoid'),\n",
        "#        tf.keras.layers.Dense(10)])"
      ]
    },
    {
      "cell_type": "code",
      "execution_count": 48,
      "metadata": {
        "colab": {
          "base_uri": "https://localhost:8080/"
        },
        "id": "nIrIDDnpUCQB",
        "outputId": "ecf2f0f9-5c1a-4814-f0e9-b10ac1c37c74"
      },
      "outputs": [
        {
          "output_type": "stream",
          "name": "stdout",
          "text": [
            "Conv2D output shape: \t (1, 32, 32, 6)\n",
            "AveragePooling2D output shape: \t (1, 16, 16, 6)\n",
            "Conv2D output shape: \t (1, 12, 12, 16)\n",
            "AveragePooling2D output shape: \t (1, 6, 6, 16)\n",
            "Flatten output shape: \t (1, 576)\n",
            "Dense output shape: \t (1, 120)\n",
            "Dense output shape: \t (1, 84)\n",
            "Dense output shape: \t (1, 20)\n",
            "Model: \"sequential_82\"\n",
            "_________________________________________________________________\n",
            " Layer (type)                Output Shape              Param #   \n",
            "=================================================================\n",
            " conv2d_74 (Conv2D)          (1, 32, 32, 6)            456       \n",
            "                                                                 \n",
            " average_pooling2d_2 (Averag  (1, 16, 16, 6)           0         \n",
            " ePooling2D)                                                     \n",
            "                                                                 \n",
            " conv2d_75 (Conv2D)          (1, 12, 12, 16)           2416      \n",
            "                                                                 \n",
            " average_pooling2d_3 (Averag  (1, 6, 6, 16)            0         \n",
            " ePooling2D)                                                     \n",
            "                                                                 \n",
            " flatten_16 (Flatten)        (1, 576)                  0         \n",
            "                                                                 \n",
            " dense_48 (Dense)            (1, 120)                  69240     \n",
            "                                                                 \n",
            " dense_49 (Dense)            (1, 84)                   10164     \n",
            "                                                                 \n",
            " dense_50 (Dense)            (1, 20)                   1700      \n",
            "                                                                 \n",
            "=================================================================\n",
            "Total params: 83,976\n",
            "Trainable params: 83,976\n",
            "Non-trainable params: 0\n",
            "_________________________________________________________________\n"
          ]
        }
      ],
      "source": [
        "# Build the model and get the summary for LeNet\n",
        "\n",
        "X = tf.random.uniform((1, 32, 32, 3))\n",
        "for layer in LeNet().layers:\n",
        "    X = layer(X)\n",
        "    print(layer.__class__.__name__, 'output shape: \\t', X.shape)\n",
        "\n",
        "LeNet_model_1 = LeNet()\n",
        "LeNet_model_1.build((1, 32, 32, 3))           # each image is size 32x32 and has 3 channels (rgb)\n",
        "\n",
        "LeNet_model_2 = LeNet()\n",
        "LeNet_model_2.build((1, 32, 32, 3)) \n",
        "\n",
        "LeNet_model_1.summary()"
      ]
    },
    {
      "cell_type": "markdown",
      "metadata": {
        "id": "xVkoOzKZySsf"
      },
      "source": [
        "####AlexNet"
      ]
    },
    {
      "cell_type": "markdown",
      "metadata": {
        "id": "6W0udTNeQd1H"
      },
      "source": [
        "Αλλάζουμε το τελευταίο layers.Dense σε 20, επειδή έχουμε 20 κατηγορίες αντικειμένων. Επιπλέον, από τη στιγμή που οι εικόνες μας έχουν διαστάσεις 32x32x3, γίνονται οι κατάλληλες προσαρμογές στη πρώτη συνέλιξη έτσι ώστε να μη μικρύνουν υπερβολικά οι εικόνες μας. Πιο συγκεκριμένα, βάζουμε kernel_size=3 χωρίς padding  και strides=2, οπότε μειώνεται η διάσταση της εικόνας αλλά όχι σε υπερβολικό βαθμό. Στην αρχική υλοποίηση του AlexNet, επειδή οι εικόνες εισόδου έχουν πολύ μεγαλύτερο μέγεθος, η συνέλιξη έχει αρκετά διαφορετικές παραμέτρους."
      ]
    },
    {
      "cell_type": "code",
      "execution_count": 62,
      "metadata": {
        "id": "7WGfsJMoyYzn"
      },
      "outputs": [],
      "source": [
        "# Code from Dive into Deep Learning - 7.1. Deep Convolutional Neural Networks (AlexNet)\n",
        "# Our AlexNet model: images 32x32x3 and 20 categories\n",
        "\n",
        "def AlexNet():\n",
        "    return tf.keras.models.Sequential([\n",
        "        tf.keras.layers.Conv2D(filters=96, kernel_size=3, strides=2,\n",
        "                               activation='relu'),\n",
        "        tf.keras.layers.MaxPool2D(pool_size=3, strides=2),\n",
        "        tf.keras.layers.Conv2D(filters=256, kernel_size=5, padding='same',\n",
        "                               activation='relu'),\n",
        "        tf.keras.layers.MaxPool2D(pool_size=3, strides=2),\n",
        "        tf.keras.layers.Conv2D(filters=384, kernel_size=3, padding='same',\n",
        "                               activation='relu'),\n",
        "        tf.keras.layers.Conv2D(filters=384, kernel_size=3, padding='same',\n",
        "                               activation='relu'),\n",
        "        tf.keras.layers.Conv2D(filters=256, kernel_size=3, padding='same',\n",
        "                               activation='relu'),\n",
        "        tf.keras.layers.MaxPool2D(pool_size=3, strides=2),\n",
        "        tf.keras.layers.Flatten(),\n",
        "        tf.keras.layers.Dense(4096, activation='relu'),\n",
        "        tf.keras.layers.Dropout(0.5),\n",
        "        tf.keras.layers.Dense(4096, activation='relu'),\n",
        "        tf.keras.layers.Dropout(0.5),\n",
        "        tf.keras.layers.Dense(20)\n",
        "    ])\n",
        "\n",
        "\n",
        "# === Original AlexNet model ===\n",
        "#def AlexNet_original():\n",
        "#    return tf.keras.models.Sequential([\n",
        "#        tf.keras.layers.Conv2D(filters=96, kernel_size=11, strides=4,\n",
        "#                               activation='relu'),\n",
        "#        tf.keras.layers.MaxPool2D(pool_size=3, strides=2),\n",
        "#        tf.keras.layers.Conv2D(filters=256, kernel_size=5, padding='same',\n",
        "#                               activation='relu'),\n",
        "#        tf.keras.layers.MaxPool2D(pool_size=3, strides=2),\n",
        "#        tf.keras.layers.Conv2D(filters=384, kernel_size=3, padding='same',\n",
        "#                               activation='relu'),\n",
        "#        tf.keras.layers.Conv2D(filters=384, kernel_size=3, padding='same',\n",
        "#                               activation='relu'),\n",
        "#        tf.keras.layers.Conv2D(filters=256, kernel_size=3, padding='same',\n",
        "#                               activation='relu'),\n",
        "#        tf.keras.layers.MaxPool2D(pool_size=3, strides=2),\n",
        "#        tf.keras.layers.Flatten(),\n",
        "#        tf.keras.layers.Dense(4096, activation='relu'),\n",
        "#        tf.keras.layers.Dropout(0.5),\n",
        "#        tf.keras.layers.Dense(4096, activation='relu'),\n",
        "#        tf.keras.layers.Dropout(0.5),\n",
        "#        tf.keras.layers.Dense(1000)\n",
        "#    ])"
      ]
    },
    {
      "cell_type": "code",
      "execution_count": 63,
      "metadata": {
        "colab": {
          "base_uri": "https://localhost:8080/"
        },
        "id": "tCcv5dtH-mkD",
        "outputId": "845db0f3-8abe-4ea4-8b64-da8aa871ab74"
      },
      "outputs": [
        {
          "output_type": "stream",
          "name": "stdout",
          "text": [
            "Conv2D output shape:\t (1, 15, 15, 96)\n",
            "MaxPooling2D output shape:\t (1, 7, 7, 96)\n",
            "Conv2D output shape:\t (1, 7, 7, 256)\n",
            "MaxPooling2D output shape:\t (1, 3, 3, 256)\n",
            "Conv2D output shape:\t (1, 3, 3, 384)\n",
            "Conv2D output shape:\t (1, 3, 3, 384)\n",
            "Conv2D output shape:\t (1, 3, 3, 256)\n",
            "MaxPooling2D output shape:\t (1, 1, 1, 256)\n",
            "Flatten output shape:\t (1, 256)\n",
            "Dense output shape:\t (1, 4096)\n",
            "Dropout output shape:\t (1, 4096)\n",
            "Dense output shape:\t (1, 4096)\n",
            "Dropout output shape:\t (1, 4096)\n",
            "Dense output shape:\t (1, 20)\n",
            "Model: \"sequential_109\"\n",
            "_________________________________________________________________\n",
            " Layer (type)                Output Shape              Param #   \n",
            "=================================================================\n",
            " conv2d_140 (Conv2D)         (1, 15, 15, 96)           2688      \n",
            "                                                                 \n",
            " max_pooling2d_90 (MaxPoolin  (1, 7, 7, 96)            0         \n",
            " g2D)                                                            \n",
            "                                                                 \n",
            " conv2d_141 (Conv2D)         (1, 7, 7, 256)            614656    \n",
            "                                                                 \n",
            " max_pooling2d_91 (MaxPoolin  (1, 3, 3, 256)           0         \n",
            " g2D)                                                            \n",
            "                                                                 \n",
            " conv2d_142 (Conv2D)         (1, 3, 3, 384)            885120    \n",
            "                                                                 \n",
            " conv2d_143 (Conv2D)         (1, 3, 3, 384)            1327488   \n",
            "                                                                 \n",
            " conv2d_144 (Conv2D)         (1, 3, 3, 256)            884992    \n",
            "                                                                 \n",
            " max_pooling2d_92 (MaxPoolin  (1, 1, 1, 256)           0         \n",
            " g2D)                                                            \n",
            "                                                                 \n",
            " flatten_31 (Flatten)        (1, 256)                  0         \n",
            "                                                                 \n",
            " dense_93 (Dense)            (1, 4096)                 1052672   \n",
            "                                                                 \n",
            " dropout_56 (Dropout)        (1, 4096)                 0         \n",
            "                                                                 \n",
            " dense_94 (Dense)            (1, 4096)                 16781312  \n",
            "                                                                 \n",
            " dropout_57 (Dropout)        (1, 4096)                 0         \n",
            "                                                                 \n",
            " dense_95 (Dense)            (1, 20)                   81940     \n",
            "                                                                 \n",
            "=================================================================\n",
            "Total params: 21,630,868\n",
            "Trainable params: 21,630,868\n",
            "Non-trainable params: 0\n",
            "_________________________________________________________________\n"
          ]
        }
      ],
      "source": [
        "# Build the model and get the summary for AlexNet\n",
        "\n",
        "X = tf.random.uniform((1, 32, 32, 3))\n",
        "for layer in AlexNet().layers:\n",
        "    X = layer(X)\n",
        "    print(layer.__class__.__name__, 'output shape:\\t', X.shape)\n",
        "\n",
        "AlexNet_model_1 = AlexNet()\n",
        "AlexNet_model_1.build((1, 32, 32, 3))           # each image is size 32x32 and has 3 channels (rgb)\n",
        "\n",
        "AlexNet_model_2 = AlexNet()\n",
        "AlexNet_model_2.build((1, 32, 32, 3)) \n",
        "\n",
        "AlexNet_model_1.summary()"
      ]
    },
    {
      "cell_type": "markdown",
      "metadata": {
        "id": "o1g3NV0uECLu"
      },
      "source": [
        "####VGG"
      ]
    },
    {
      "cell_type": "markdown",
      "metadata": {
        "id": "LM-ADE_LUhk4"
      },
      "source": [
        "Αλλάζουμε το τελευταίο layers.Dense σε 20, επειδή έχουμε 20 κατηγορίες αντικειμένων. Επιπλέον, γίνεται χρήση λιγότερων vgg blocks από όσα έχει η υλοποίηση του άρθρου (δηλαδή λιγότερα layers), έτσι ώστε να μην μειώνονται υπερβολικά οι διαστάσεις της εξόδου. Πιο συγκεκριμένα, η custom υλοποίησή μας έχει 3 vgg blocks σε αντίθεση με την original υλοποίηση η οποία έχει 5. "
      ]
    },
    {
      "cell_type": "code",
      "execution_count": 51,
      "metadata": {
        "id": "JkF8YfUSKShV"
      },
      "outputs": [],
      "source": [
        "def vgg_block(num_convs, num_channels):\n",
        "    blk = tf.keras.models.Sequential()\n",
        "    for _ in range(num_convs):\n",
        "        blk.add(tf.keras.layers.Conv2D(num_channels,kernel_size=3,\n",
        "                                    padding='same',activation='relu'))\n",
        "    blk.add(tf.keras.layers.MaxPool2D(pool_size=2, strides=2))\n",
        "    return blk"
      ]
    },
    {
      "cell_type": "code",
      "execution_count": 52,
      "metadata": {
        "id": "OIbo4DTGF9Vb"
      },
      "outputs": [],
      "source": [
        "# Code from Dive into Deep Learning - 7.2. Networks Using Blocks (VGG)\n",
        "# Our VGG model: images 32x32x3 and 20 categories\n",
        "\n",
        "def vgg(conv_arch):\n",
        "    net = tf.keras.models.Sequential()\n",
        "    # The convulational part\n",
        "    for (num_convs, num_channels) in conv_arch:\n",
        "        net.add(vgg_block(num_convs, num_channels))\n",
        "    # The fully-connected part\n",
        "    net.add(tf.keras.models.Sequential([\n",
        "        tf.keras.layers.Flatten(),\n",
        "        tf.keras.layers.Dense(4096, activation='relu'),\n",
        "        tf.keras.layers.Dropout(0.5),\n",
        "        tf.keras.layers.Dense(4096, activation='relu'),\n",
        "        tf.keras.layers.Dropout(0.5),\n",
        "        tf.keras.layers.Dense(20)]))\n",
        "    return net\n",
        "\n",
        "\n",
        "# === Original VGG model ===\n",
        "#def vgg_original(conv_arch):\n",
        "#    net = tf.keras.models.Sequential()\n",
        "#    for (num_convs, num_channels) in conv_arch:\n",
        "#        net.add(vgg_block(num_convs, num_channels))\n",
        "#    net.add(tf.keras.models.Sequential([\n",
        "#        tf.keras.layers.Flatten(),\n",
        "#        tf.keras.layers.Dense(4096, activation='relu'),\n",
        "#        tf.keras.layers.Dropout(0.5),\n",
        "#        tf.keras.layers.Dense(4096, activation='relu'),\n",
        "#        tf.keras.layers.Dropout(0.5),\n",
        "#        tf.keras.layers.Dense(10)]))\n",
        "#    return net\n",
        "\n",
        "#conv_arch = ((1, 64), (1, 128), (2, 256), (2, 512), (2, 512))\n"
      ]
    },
    {
      "cell_type": "code",
      "execution_count": 53,
      "metadata": {
        "colab": {
          "base_uri": "https://localhost:8080/"
        },
        "id": "lPTah9phMSb4",
        "outputId": "406d1eb8-61ae-4901-e9ea-d9b91d5fe2a1"
      },
      "outputs": [
        {
          "output_type": "stream",
          "name": "stdout",
          "text": [
            "Sequential output shape:\t (1, 16, 16, 64)\n",
            "Sequential output shape:\t (1, 8, 8, 128)\n",
            "Sequential output shape:\t (1, 4, 4, 256)\n",
            "Sequential output shape:\t (1, 20)\n",
            "Model: \"sequential_92\"\n",
            "_________________________________________________________________\n",
            " Layer (type)                Output Shape              Param #   \n",
            "=================================================================\n",
            " sequential_93 (Sequential)  (1, 16, 16, 64)           1792      \n",
            "                                                                 \n",
            " sequential_94 (Sequential)  (1, 8, 8, 128)            73856     \n",
            "                                                                 \n",
            " sequential_95 (Sequential)  (1, 4, 4, 256)            885248    \n",
            "                                                                 \n",
            " sequential_96 (Sequential)  (1, 20)                   33644564  \n",
            "                                                                 \n",
            "=================================================================\n",
            "Total params: 34,605,460\n",
            "Trainable params: 34,605,460\n",
            "Non-trainable params: 0\n",
            "_________________________________________________________________\n"
          ]
        }
      ],
      "source": [
        "# Build the model and get the summary for VGG\n",
        "\n",
        "conv_arch = ((1, 64), (1, 128), (2, 256))\n",
        "X = tf.random.uniform((1, 32, 32, 3))\n",
        "for blk in vgg(conv_arch).layers:\n",
        "    X = blk(X)\n",
        "    print(blk.__class__.__name__,'output shape:\\t', X.shape)\n",
        "\n",
        "vgg_model_1 = vgg(conv_arch)\n",
        "vgg_model_1.build((1, 32, 32, 3))\n",
        "\n",
        "vgg_model_2 = vgg(conv_arch)\n",
        "vgg_model_2.build((1, 32, 32, 3))\n",
        "\n",
        "vgg_model_1.summary()"
      ]
    },
    {
      "cell_type": "markdown",
      "metadata": {
        "id": "rR9ma6ExIACn"
      },
      "source": [
        "####MyCNN"
      ]
    },
    {
      "cell_type": "markdown",
      "metadata": {
        "id": "YD7Vz1-XQ9GB"
      },
      "source": [
        "Για το μοντέλο MyCNN επιλέγουμε να κάνουμε 5 συνελίξες εκ των οποίων η πρώτη γίνεται χωρίς padding και οι υπόλοιπες γίνονται με padding. Επιλέγουμε σχετικά υψηλή τιμή filters στις συνελίξεις, με αποτέλεσμα να παίρνει περισσότερο χρόνο η εκπαίδευση του νευρωνικού, καθώς πραγματοποιούνται περισσότερες πράξεις. Επιπλέον, έχουμε τρεις MaxPool2d, οι οποίες κάνουν downsampling ενδιάμεσα από τις συνελίξεις. Τέλος, όπως και στα παραπάνω νευρωνικά δίκτυα επιλέγουμε 3 dense layers. Το τελευταίο dense layer εχει output 20, όσες δηλαδή και οι κατηγορίες μας."
      ]
    },
    {
      "cell_type": "code",
      "execution_count": 54,
      "metadata": {
        "id": "UeS4E-otH9qS"
      },
      "outputs": [],
      "source": [
        "def MyCNN():\n",
        "        return tf.keras.models.Sequential([\n",
        "        tf.keras.layers.Conv2D(filters=128, kernel_size=3, activation='relu'),\n",
        "        tf.keras.layers.Conv2D(filters=256, kernel_size=5, padding='same', activation='relu'),\n",
        "        tf.keras.layers.MaxPool2D(pool_size=3, strides=2),\n",
        "        tf.keras.layers.Conv2D(filters=512, kernel_size=3, padding='same', activation='relu'),\n",
        "        tf.keras.layers.MaxPool2D(pool_size=3, strides=2),\n",
        "        tf.keras.layers.Conv2D(filters=512, kernel_size=3, padding='same', activation='relu'),\n",
        "        tf.keras.layers.Conv2D(filters=256, kernel_size=3, padding='same', activation='relu'),\n",
        "        tf.keras.layers.MaxPool2D(pool_size=3, strides=2),\n",
        "        tf.keras.layers.Flatten(),\n",
        "        tf.keras.layers.Dense(4096, activation='relu'),\n",
        "        tf.keras.layers.Dropout(0.5),\n",
        "        tf.keras.layers.Dense(4096, activation='relu'),\n",
        "        tf.keras.layers.Dropout(0.5),\n",
        "        tf.keras.layers.Dense(20)\n",
        "    ])"
      ]
    },
    {
      "cell_type": "code",
      "execution_count": 55,
      "metadata": {
        "colab": {
          "base_uri": "https://localhost:8080/"
        },
        "id": "rnnxaFx4KCHf",
        "outputId": "9cab0f6e-9cdf-4901-f4e6-7cfe4e58d718"
      },
      "outputs": [
        {
          "output_type": "stream",
          "name": "stdout",
          "text": [
            "Conv2D output shape:\t (1, 30, 30, 128)\n",
            "Conv2D output shape:\t (1, 30, 30, 256)\n",
            "MaxPooling2D output shape:\t (1, 14, 14, 256)\n",
            "Conv2D output shape:\t (1, 14, 14, 512)\n",
            "MaxPooling2D output shape:\t (1, 6, 6, 512)\n",
            "Conv2D output shape:\t (1, 6, 6, 512)\n",
            "Conv2D output shape:\t (1, 6, 6, 256)\n",
            "MaxPooling2D output shape:\t (1, 2, 2, 256)\n",
            "Flatten output shape:\t (1, 1024)\n",
            "Dense output shape:\t (1, 4096)\n",
            "Dropout output shape:\t (1, 4096)\n",
            "Dense output shape:\t (1, 4096)\n",
            "Dropout output shape:\t (1, 4096)\n",
            "Dense output shape:\t (1, 20)\n",
            "Model: \"sequential_103\"\n",
            "_________________________________________________________________\n",
            " Layer (type)                Output Shape              Param #   \n",
            "=================================================================\n",
            " conv2d_110 (Conv2D)         (1, 30, 30, 128)          3584      \n",
            "                                                                 \n",
            " conv2d_111 (Conv2D)         (1, 30, 30, 256)          819456    \n",
            "                                                                 \n",
            " max_pooling2d_72 (MaxPoolin  (1, 14, 14, 256)         0         \n",
            " g2D)                                                            \n",
            "                                                                 \n",
            " conv2d_112 (Conv2D)         (1, 14, 14, 512)          1180160   \n",
            "                                                                 \n",
            " max_pooling2d_73 (MaxPoolin  (1, 6, 6, 512)           0         \n",
            " g2D)                                                            \n",
            "                                                                 \n",
            " conv2d_113 (Conv2D)         (1, 6, 6, 512)            2359808   \n",
            "                                                                 \n",
            " conv2d_114 (Conv2D)         (1, 6, 6, 256)            1179904   \n",
            "                                                                 \n",
            " max_pooling2d_74 (MaxPoolin  (1, 2, 2, 256)           0         \n",
            " g2D)                                                            \n",
            "                                                                 \n",
            " flatten_25 (Flatten)        (1, 1024)                 0         \n",
            "                                                                 \n",
            " dense_75 (Dense)            (1, 4096)                 4198400   \n",
            "                                                                 \n",
            " dropout_44 (Dropout)        (1, 4096)                 0         \n",
            "                                                                 \n",
            " dense_76 (Dense)            (1, 4096)                 16781312  \n",
            "                                                                 \n",
            " dropout_45 (Dropout)        (1, 4096)                 0         \n",
            "                                                                 \n",
            " dense_77 (Dense)            (1, 20)                   81940     \n",
            "                                                                 \n",
            "=================================================================\n",
            "Total params: 26,604,564\n",
            "Trainable params: 26,604,564\n",
            "Non-trainable params: 0\n",
            "_________________________________________________________________\n"
          ]
        }
      ],
      "source": [
        "X = tf.random.uniform((1, 32, 32, 3))\n",
        "for layer in MyCNN().layers:\n",
        "    X = layer(X)\n",
        "    print(layer.__class__.__name__, 'output shape:\\t', X.shape)\n",
        "\n",
        "MyCNN_model_1 = MyCNN()\n",
        "MyCNN_model_1.build((1, 32, 32, 3))           # each image is size 32x32 and has 3 channels (rgb) \n",
        "\n",
        "MyCNN_model_2 = MyCNN()\n",
        "MyCNN_model_2.build((1, 32, 32, 3))\n",
        "\n",
        "MyCNN_model_1.summary()"
      ]
    },
    {
      "cell_type": "markdown",
      "metadata": {
        "id": "lBpMJLtcyA-l"
      },
      "source": [
        "###Μεταγλώττιση και εκπαίδευση μοντέλων"
      ]
    },
    {
      "cell_type": "markdown",
      "metadata": {
        "id": "SHaH4iTqDKJV"
      },
      "source": [
        "####LeNet"
      ]
    },
    {
      "cell_type": "markdown",
      "metadata": {
        "id": "kJ5eQuXRXF2m"
      },
      "source": [
        "* Πρώτη υλοποίηση LeNet: optimizer='adam', epochs=50, batch_size=256"
      ]
    },
    {
      "cell_type": "code",
      "execution_count": 56,
      "metadata": {
        "colab": {
          "base_uri": "https://localhost:8080/"
        },
        "id": "otQAPRWckNXi",
        "outputId": "5685d0c7-0f80-47b1-c7f2-cc31bd4ddc9d"
      },
      "outputs": [
        {
          "output_type": "stream",
          "name": "stdout",
          "text": [
            "Epoch 1/50\n",
            "34/34 [==============================] - 1s 17ms/step - loss: 3.0259 - accuracy: 0.0472 - val_loss: 3.0004 - val_accuracy: 0.0500\n",
            "Epoch 2/50\n",
            "34/34 [==============================] - 0s 8ms/step - loss: 3.0015 - accuracy: 0.0472 - val_loss: 3.0007 - val_accuracy: 0.0500\n",
            "Epoch 3/50\n",
            "34/34 [==============================] - 0s 7ms/step - loss: 3.0014 - accuracy: 0.0464 - val_loss: 2.9974 - val_accuracy: 0.0640\n",
            "Epoch 4/50\n",
            "34/34 [==============================] - 0s 8ms/step - loss: 2.9974 - accuracy: 0.0521 - val_loss: 2.9909 - val_accuracy: 0.0760\n",
            "Epoch 5/50\n",
            "34/34 [==============================] - 0s 7ms/step - loss: 2.9673 - accuracy: 0.0866 - val_loss: 2.9145 - val_accuracy: 0.0925\n",
            "Epoch 6/50\n",
            "34/34 [==============================] - 0s 8ms/step - loss: 2.8634 - accuracy: 0.1045 - val_loss: 2.8170 - val_accuracy: 0.1240\n",
            "Epoch 7/50\n",
            "34/34 [==============================] - 0s 7ms/step - loss: 2.7918 - accuracy: 0.1315 - val_loss: 2.7663 - val_accuracy: 0.1325\n",
            "Epoch 8/50\n",
            "34/34 [==============================] - 0s 11ms/step - loss: 2.7562 - accuracy: 0.1341 - val_loss: 2.7442 - val_accuracy: 0.1425\n",
            "Epoch 9/50\n",
            "34/34 [==============================] - 0s 13ms/step - loss: 2.7275 - accuracy: 0.1492 - val_loss: 2.7297 - val_accuracy: 0.1520\n",
            "Epoch 10/50\n",
            "34/34 [==============================] - 0s 13ms/step - loss: 2.7123 - accuracy: 0.1560 - val_loss: 2.7104 - val_accuracy: 0.1555\n",
            "Epoch 11/50\n",
            "34/34 [==============================] - 0s 13ms/step - loss: 2.6952 - accuracy: 0.1616 - val_loss: 2.6929 - val_accuracy: 0.1670\n",
            "Epoch 12/50\n",
            "34/34 [==============================] - 0s 14ms/step - loss: 2.6783 - accuracy: 0.1705 - val_loss: 2.6718 - val_accuracy: 0.1740\n",
            "Epoch 13/50\n",
            "34/34 [==============================] - 0s 14ms/step - loss: 2.6572 - accuracy: 0.1776 - val_loss: 2.6543 - val_accuracy: 0.1795\n",
            "Epoch 14/50\n",
            "34/34 [==============================] - 0s 13ms/step - loss: 2.6381 - accuracy: 0.1867 - val_loss: 2.6345 - val_accuracy: 0.1965\n",
            "Epoch 15/50\n",
            "34/34 [==============================] - 0s 12ms/step - loss: 2.6247 - accuracy: 0.1960 - val_loss: 2.6168 - val_accuracy: 0.2035\n",
            "Epoch 16/50\n",
            "34/34 [==============================] - 0s 14ms/step - loss: 2.6068 - accuracy: 0.2013 - val_loss: 2.5944 - val_accuracy: 0.2085\n",
            "Epoch 17/50\n",
            "34/34 [==============================] - 0s 12ms/step - loss: 2.5862 - accuracy: 0.2114 - val_loss: 2.5744 - val_accuracy: 0.2290\n",
            "Epoch 18/50\n",
            "34/34 [==============================] - 0s 14ms/step - loss: 2.5614 - accuracy: 0.2240 - val_loss: 2.5575 - val_accuracy: 0.2305\n",
            "Epoch 19/50\n",
            "34/34 [==============================] - 0s 14ms/step - loss: 2.5310 - accuracy: 0.2342 - val_loss: 2.5278 - val_accuracy: 0.2435\n",
            "Epoch 20/50\n",
            "34/34 [==============================] - 0s 15ms/step - loss: 2.5042 - accuracy: 0.2469 - val_loss: 2.4925 - val_accuracy: 0.2415\n",
            "Epoch 21/50\n",
            "34/34 [==============================] - 0s 14ms/step - loss: 2.4764 - accuracy: 0.2468 - val_loss: 2.4690 - val_accuracy: 0.2475\n",
            "Epoch 22/50\n",
            "34/34 [==============================] - 1s 17ms/step - loss: 2.4517 - accuracy: 0.2555 - val_loss: 2.4442 - val_accuracy: 0.2595\n",
            "Epoch 23/50\n",
            "34/34 [==============================] - 1s 15ms/step - loss: 2.4232 - accuracy: 0.2604 - val_loss: 2.4264 - val_accuracy: 0.2600\n",
            "Epoch 24/50\n",
            "34/34 [==============================] - 0s 14ms/step - loss: 2.4025 - accuracy: 0.2689 - val_loss: 2.3982 - val_accuracy: 0.2805\n",
            "Epoch 25/50\n",
            "34/34 [==============================] - 1s 17ms/step - loss: 2.3792 - accuracy: 0.2778 - val_loss: 2.4048 - val_accuracy: 0.2675\n",
            "Epoch 26/50\n",
            "34/34 [==============================] - 1s 16ms/step - loss: 2.3679 - accuracy: 0.2724 - val_loss: 2.3721 - val_accuracy: 0.2810\n",
            "Epoch 27/50\n",
            "34/34 [==============================] - 1s 16ms/step - loss: 2.3479 - accuracy: 0.2858 - val_loss: 2.3558 - val_accuracy: 0.2900\n",
            "Epoch 28/50\n",
            "34/34 [==============================] - 1s 16ms/step - loss: 2.3289 - accuracy: 0.2889 - val_loss: 2.3616 - val_accuracy: 0.2875\n",
            "Epoch 29/50\n",
            "34/34 [==============================] - 1s 22ms/step - loss: 2.3238 - accuracy: 0.2895 - val_loss: 2.3400 - val_accuracy: 0.2855\n",
            "Epoch 30/50\n",
            "34/34 [==============================] - 1s 17ms/step - loss: 2.2948 - accuracy: 0.2984 - val_loss: 2.3176 - val_accuracy: 0.2945\n",
            "Epoch 31/50\n",
            "34/34 [==============================] - 1s 18ms/step - loss: 2.2806 - accuracy: 0.3024 - val_loss: 2.3063 - val_accuracy: 0.3050\n",
            "Epoch 32/50\n",
            "34/34 [==============================] - 1s 17ms/step - loss: 2.2743 - accuracy: 0.2985 - val_loss: 2.3105 - val_accuracy: 0.3125\n",
            "Epoch 33/50\n",
            "34/34 [==============================] - 1s 19ms/step - loss: 2.2643 - accuracy: 0.3013 - val_loss: 2.2905 - val_accuracy: 0.3105\n",
            "Epoch 34/50\n",
            "34/34 [==============================] - 1s 19ms/step - loss: 2.2487 - accuracy: 0.3084 - val_loss: 2.2774 - val_accuracy: 0.3095\n",
            "Epoch 35/50\n",
            "34/34 [==============================] - 1s 18ms/step - loss: 2.2367 - accuracy: 0.3086 - val_loss: 2.2715 - val_accuracy: 0.3080\n",
            "Epoch 36/50\n",
            "34/34 [==============================] - 1s 19ms/step - loss: 2.2305 - accuracy: 0.3133 - val_loss: 2.2784 - val_accuracy: 0.3135\n",
            "Epoch 37/50\n",
            "34/34 [==============================] - 1s 17ms/step - loss: 2.2172 - accuracy: 0.3158 - val_loss: 2.2709 - val_accuracy: 0.3155\n",
            "Epoch 38/50\n",
            "34/34 [==============================] - 1s 21ms/step - loss: 2.2147 - accuracy: 0.3108 - val_loss: 2.2466 - val_accuracy: 0.3265\n",
            "Epoch 39/50\n",
            "34/34 [==============================] - 1s 21ms/step - loss: 2.1920 - accuracy: 0.3193 - val_loss: 2.2394 - val_accuracy: 0.3140\n",
            "Epoch 40/50\n",
            "34/34 [==============================] - 1s 18ms/step - loss: 2.1847 - accuracy: 0.3233 - val_loss: 2.2372 - val_accuracy: 0.3255\n",
            "Epoch 41/50\n",
            "34/34 [==============================] - 1s 16ms/step - loss: 2.1848 - accuracy: 0.3227 - val_loss: 2.2234 - val_accuracy: 0.3225\n",
            "Epoch 42/50\n",
            "34/34 [==============================] - 1s 17ms/step - loss: 2.1651 - accuracy: 0.3264 - val_loss: 2.2146 - val_accuracy: 0.3335\n",
            "Epoch 43/50\n",
            "34/34 [==============================] - 1s 19ms/step - loss: 2.1609 - accuracy: 0.3253 - val_loss: 2.2135 - val_accuracy: 0.3330\n",
            "Epoch 44/50\n",
            "34/34 [==============================] - 1s 20ms/step - loss: 2.1499 - accuracy: 0.3361 - val_loss: 2.2030 - val_accuracy: 0.3320\n",
            "Epoch 45/50\n",
            "34/34 [==============================] - 1s 17ms/step - loss: 2.1426 - accuracy: 0.3349 - val_loss: 2.2018 - val_accuracy: 0.3345\n",
            "Epoch 46/50\n",
            "34/34 [==============================] - 0s 14ms/step - loss: 2.1278 - accuracy: 0.3394 - val_loss: 2.1859 - val_accuracy: 0.3370\n",
            "Epoch 47/50\n",
            "34/34 [==============================] - 1s 17ms/step - loss: 2.1166 - accuracy: 0.3413 - val_loss: 2.1763 - val_accuracy: 0.3475\n",
            "Epoch 48/50\n",
            "34/34 [==============================] - 0s 14ms/step - loss: 2.1048 - accuracy: 0.3487 - val_loss: 2.1730 - val_accuracy: 0.3470\n",
            "Epoch 49/50\n",
            "34/34 [==============================] - 1s 15ms/step - loss: 2.0945 - accuracy: 0.3515 - val_loss: 2.1649 - val_accuracy: 0.3530\n",
            "Epoch 50/50\n",
            "34/34 [==============================] - 0s 15ms/step - loss: 2.0913 - accuracy: 0.3545 - val_loss: 2.1602 - val_accuracy: 0.3520\n"
          ]
        }
      ],
      "source": [
        "LeNet_model_1.compile(optimizer='adam',\n",
        "              loss=tf.keras.losses.SparseCategoricalCrossentropy(from_logits=True),\n",
        "              metrics=['accuracy'])\n",
        "\n",
        "LeNet_history_1 = LeNet_model_1.fit(x_train, y_train, epochs=50, batch_size=256,\n",
        "                    validation_data=(x_test, y_test))\n",
        "\n",
        "LeNet_model_1.save('LeNet_model_1.h5')"
      ]
    },
    {
      "cell_type": "markdown",
      "metadata": {
        "id": "Tczes1NwXrw_"
      },
      "source": [
        "* Δεύτερη υλοποίηση LeNet: optimizer='Nadam', epochs=50, batch_size=10"
      ]
    },
    {
      "cell_type": "code",
      "execution_count": 57,
      "metadata": {
        "colab": {
          "base_uri": "https://localhost:8080/"
        },
        "id": "sJK5sqaVW4v-",
        "outputId": "02d8cd17-1321-40ef-f3db-3e1977058fe2"
      },
      "outputs": [
        {
          "output_type": "stream",
          "name": "stdout",
          "text": [
            "Epoch 1/50\n",
            "850/850 [==============================] - 6s 6ms/step - loss: 2.9854 - accuracy: 0.0582 - val_loss: 2.8229 - val_accuracy: 0.1345\n",
            "Epoch 2/50\n",
            "850/850 [==============================] - 4s 5ms/step - loss: 2.7286 - accuracy: 0.1513 - val_loss: 2.6510 - val_accuracy: 0.1860\n",
            "Epoch 3/50\n",
            "850/850 [==============================] - 5s 5ms/step - loss: 2.6129 - accuracy: 0.2024 - val_loss: 2.5645 - val_accuracy: 0.2200\n",
            "Epoch 4/50\n",
            "850/850 [==============================] - 4s 5ms/step - loss: 2.4861 - accuracy: 0.2473 - val_loss: 2.4164 - val_accuracy: 0.2770\n",
            "Epoch 5/50\n",
            "850/850 [==============================] - 5s 5ms/step - loss: 2.3502 - accuracy: 0.2782 - val_loss: 2.2959 - val_accuracy: 0.3045\n",
            "Epoch 6/50\n",
            "850/850 [==============================] - 5s 5ms/step - loss: 2.2646 - accuracy: 0.3024 - val_loss: 2.2357 - val_accuracy: 0.3230\n",
            "Epoch 7/50\n",
            "850/850 [==============================] - 5s 5ms/step - loss: 2.1965 - accuracy: 0.3271 - val_loss: 2.2122 - val_accuracy: 0.3315\n",
            "Epoch 8/50\n",
            "850/850 [==============================] - 5s 5ms/step - loss: 2.1422 - accuracy: 0.3387 - val_loss: 2.1736 - val_accuracy: 0.3425\n",
            "Epoch 9/50\n",
            "850/850 [==============================] - 6s 7ms/step - loss: 2.0865 - accuracy: 0.3540 - val_loss: 2.1321 - val_accuracy: 0.3565\n",
            "Epoch 10/50\n",
            "850/850 [==============================] - 4s 5ms/step - loss: 2.0423 - accuracy: 0.3707 - val_loss: 2.0825 - val_accuracy: 0.3650\n",
            "Epoch 11/50\n",
            "850/850 [==============================] - 5s 5ms/step - loss: 1.9903 - accuracy: 0.3822 - val_loss: 2.0636 - val_accuracy: 0.3750\n",
            "Epoch 12/50\n",
            "850/850 [==============================] - 5s 5ms/step - loss: 1.9420 - accuracy: 0.4053 - val_loss: 2.0305 - val_accuracy: 0.3925\n",
            "Epoch 13/50\n",
            "850/850 [==============================] - 4s 5ms/step - loss: 1.8986 - accuracy: 0.4115 - val_loss: 1.9932 - val_accuracy: 0.3885\n",
            "Epoch 14/50\n",
            "850/850 [==============================] - 5s 5ms/step - loss: 1.8517 - accuracy: 0.4258 - val_loss: 1.9729 - val_accuracy: 0.4050\n",
            "Epoch 15/50\n",
            "850/850 [==============================] - 4s 5ms/step - loss: 1.8134 - accuracy: 0.4354 - val_loss: 1.9633 - val_accuracy: 0.4035\n",
            "Epoch 16/50\n",
            "850/850 [==============================] - 4s 5ms/step - loss: 1.7710 - accuracy: 0.4506 - val_loss: 1.9463 - val_accuracy: 0.4055\n",
            "Epoch 17/50\n",
            "850/850 [==============================] - 4s 5ms/step - loss: 1.7299 - accuracy: 0.4618 - val_loss: 1.9237 - val_accuracy: 0.4195\n",
            "Epoch 18/50\n",
            "850/850 [==============================] - 5s 5ms/step - loss: 1.6962 - accuracy: 0.4778 - val_loss: 1.9545 - val_accuracy: 0.4080\n",
            "Epoch 19/50\n",
            "850/850 [==============================] - 4s 5ms/step - loss: 1.6585 - accuracy: 0.4888 - val_loss: 1.9153 - val_accuracy: 0.4195\n",
            "Epoch 20/50\n",
            "850/850 [==============================] - 5s 5ms/step - loss: 1.6187 - accuracy: 0.4994 - val_loss: 1.8986 - val_accuracy: 0.4375\n",
            "Epoch 21/50\n",
            "850/850 [==============================] - 4s 5ms/step - loss: 1.5838 - accuracy: 0.5048 - val_loss: 1.9188 - val_accuracy: 0.4360\n",
            "Epoch 22/50\n",
            "850/850 [==============================] - 4s 5ms/step - loss: 1.5451 - accuracy: 0.5146 - val_loss: 1.8552 - val_accuracy: 0.4370\n",
            "Epoch 23/50\n",
            "850/850 [==============================] - 4s 5ms/step - loss: 1.5054 - accuracy: 0.5276 - val_loss: 1.8901 - val_accuracy: 0.4355\n",
            "Epoch 24/50\n",
            "850/850 [==============================] - 4s 5ms/step - loss: 1.4699 - accuracy: 0.5404 - val_loss: 1.8795 - val_accuracy: 0.4440\n",
            "Epoch 25/50\n",
            "850/850 [==============================] - 4s 5ms/step - loss: 1.4351 - accuracy: 0.5471 - val_loss: 1.8702 - val_accuracy: 0.4425\n",
            "Epoch 26/50\n",
            "850/850 [==============================] - 4s 5ms/step - loss: 1.3930 - accuracy: 0.5631 - val_loss: 1.8691 - val_accuracy: 0.4505\n",
            "Epoch 27/50\n",
            "850/850 [==============================] - 5s 5ms/step - loss: 1.3581 - accuracy: 0.5769 - val_loss: 1.9023 - val_accuracy: 0.4435\n",
            "Epoch 28/50\n",
            "850/850 [==============================] - 5s 5ms/step - loss: 1.3211 - accuracy: 0.5820 - val_loss: 1.9048 - val_accuracy: 0.4440\n",
            "Epoch 29/50\n",
            "850/850 [==============================] - 5s 5ms/step - loss: 1.2858 - accuracy: 0.5974 - val_loss: 1.9058 - val_accuracy: 0.4405\n",
            "Epoch 30/50\n",
            "850/850 [==============================] - 5s 5ms/step - loss: 1.2498 - accuracy: 0.6125 - val_loss: 1.9015 - val_accuracy: 0.4445\n",
            "Epoch 31/50\n",
            "850/850 [==============================] - 4s 5ms/step - loss: 1.2067 - accuracy: 0.6213 - val_loss: 1.9191 - val_accuracy: 0.4515\n",
            "Epoch 32/50\n",
            "850/850 [==============================] - 4s 5ms/step - loss: 1.1745 - accuracy: 0.6287 - val_loss: 1.9505 - val_accuracy: 0.4425\n",
            "Epoch 33/50\n",
            "850/850 [==============================] - 5s 5ms/step - loss: 1.1352 - accuracy: 0.6407 - val_loss: 1.9343 - val_accuracy: 0.4645\n",
            "Epoch 34/50\n",
            "850/850 [==============================] - 4s 5ms/step - loss: 1.0977 - accuracy: 0.6566 - val_loss: 1.9475 - val_accuracy: 0.4495\n",
            "Epoch 35/50\n",
            "850/850 [==============================] - 5s 5ms/step - loss: 1.0626 - accuracy: 0.6680 - val_loss: 1.9892 - val_accuracy: 0.4510\n",
            "Epoch 36/50\n",
            "850/850 [==============================] - 5s 5ms/step - loss: 1.0241 - accuracy: 0.6811 - val_loss: 1.9866 - val_accuracy: 0.4475\n",
            "Epoch 37/50\n",
            "850/850 [==============================] - 5s 5ms/step - loss: 0.9864 - accuracy: 0.6909 - val_loss: 2.0357 - val_accuracy: 0.4345\n",
            "Epoch 38/50\n",
            "850/850 [==============================] - 5s 5ms/step - loss: 0.9538 - accuracy: 0.7018 - val_loss: 2.0624 - val_accuracy: 0.4355\n",
            "Epoch 39/50\n",
            "850/850 [==============================] - 4s 5ms/step - loss: 0.9206 - accuracy: 0.7124 - val_loss: 2.0619 - val_accuracy: 0.4430\n",
            "Epoch 40/50\n",
            "850/850 [==============================] - 4s 5ms/step - loss: 0.8863 - accuracy: 0.7205 - val_loss: 2.0896 - val_accuracy: 0.4385\n",
            "Epoch 41/50\n",
            "850/850 [==============================] - 4s 5ms/step - loss: 0.8495 - accuracy: 0.7353 - val_loss: 2.1464 - val_accuracy: 0.4380\n",
            "Epoch 42/50\n",
            "850/850 [==============================] - 5s 5ms/step - loss: 0.8166 - accuracy: 0.7478 - val_loss: 2.1498 - val_accuracy: 0.4370\n",
            "Epoch 43/50\n",
            "850/850 [==============================] - 5s 5ms/step - loss: 0.7848 - accuracy: 0.7571 - val_loss: 2.2278 - val_accuracy: 0.4270\n",
            "Epoch 44/50\n",
            "850/850 [==============================] - 4s 5ms/step - loss: 0.7518 - accuracy: 0.7688 - val_loss: 2.2203 - val_accuracy: 0.4365\n",
            "Epoch 45/50\n",
            "850/850 [==============================] - 5s 5ms/step - loss: 0.7136 - accuracy: 0.7829 - val_loss: 2.2591 - val_accuracy: 0.4415\n",
            "Epoch 46/50\n",
            "850/850 [==============================] - 4s 5ms/step - loss: 0.6847 - accuracy: 0.7916 - val_loss: 2.2917 - val_accuracy: 0.4395\n",
            "Epoch 47/50\n",
            "850/850 [==============================] - 4s 5ms/step - loss: 0.6558 - accuracy: 0.8005 - val_loss: 2.3147 - val_accuracy: 0.4335\n",
            "Epoch 48/50\n",
            "850/850 [==============================] - 4s 5ms/step - loss: 0.6184 - accuracy: 0.8133 - val_loss: 2.3737 - val_accuracy: 0.4255\n",
            "Epoch 49/50\n",
            "850/850 [==============================] - 5s 5ms/step - loss: 0.5892 - accuracy: 0.8188 - val_loss: 2.4262 - val_accuracy: 0.4340\n",
            "Epoch 50/50\n",
            "850/850 [==============================] - 5s 5ms/step - loss: 0.5554 - accuracy: 0.8351 - val_loss: 2.4637 - val_accuracy: 0.4375\n"
          ]
        }
      ],
      "source": [
        "LeNet_model_2.compile(optimizer='Nadam',\n",
        "              loss=tf.keras.losses.SparseCategoricalCrossentropy(from_logits=True),\n",
        "              metrics=['accuracy'])\n",
        "\n",
        "LeNet_history_2 = LeNet_model_2.fit(x_train, y_train, epochs=50, batch_size=10,\n",
        "                    validation_data=(x_test, y_test))\n",
        "\n",
        "LeNet_model_2.save('LeNet_model_2.h5')"
      ]
    },
    {
      "cell_type": "markdown",
      "metadata": {
        "id": "ig6NNn2FDN0k"
      },
      "source": [
        "####AlexNet"
      ]
    },
    {
      "cell_type": "markdown",
      "metadata": {
        "id": "JoFhK4v5ddOx"
      },
      "source": [
        "* Πρώτη υλοποίηση AlexNet: optimizer='adam', epochs=30, batch_size=128"
      ]
    },
    {
      "cell_type": "code",
      "execution_count": 64,
      "metadata": {
        "colab": {
          "base_uri": "https://localhost:8080/"
        },
        "id": "hf1EEK3dVrHV",
        "outputId": "2c708b34-7f8a-490a-f9ce-0bc6cc072272"
      },
      "outputs": [
        {
          "output_type": "stream",
          "name": "stdout",
          "text": [
            "Epoch 1/30\n",
            "67/67 [==============================] - 2s 27ms/step - loss: 2.9374 - accuracy: 0.0728 - val_loss: 2.8074 - val_accuracy: 0.0990\n",
            "Epoch 2/30\n",
            "67/67 [==============================] - 2s 22ms/step - loss: 2.7613 - accuracy: 0.1126 - val_loss: 2.6743 - val_accuracy: 0.1370\n",
            "Epoch 3/30\n",
            "67/67 [==============================] - 2s 24ms/step - loss: 2.6404 - accuracy: 0.1440 - val_loss: 2.6032 - val_accuracy: 0.1490\n",
            "Epoch 4/30\n",
            "67/67 [==============================] - 2s 24ms/step - loss: 2.5788 - accuracy: 0.1592 - val_loss: 2.5291 - val_accuracy: 0.1755\n",
            "Epoch 5/30\n",
            "67/67 [==============================] - 2s 23ms/step - loss: 2.4668 - accuracy: 0.1975 - val_loss: 2.3720 - val_accuracy: 0.2425\n",
            "Epoch 6/30\n",
            "67/67 [==============================] - 2s 23ms/step - loss: 2.3196 - accuracy: 0.2442 - val_loss: 2.2857 - val_accuracy: 0.2725\n",
            "Epoch 7/30\n",
            "67/67 [==============================] - 2s 23ms/step - loss: 2.2199 - accuracy: 0.2736 - val_loss: 2.2167 - val_accuracy: 0.2920\n",
            "Epoch 8/30\n",
            "67/67 [==============================] - 2s 22ms/step - loss: 2.0737 - accuracy: 0.3266 - val_loss: 2.0529 - val_accuracy: 0.3435\n",
            "Epoch 9/30\n",
            "67/67 [==============================] - 2s 23ms/step - loss: 1.9299 - accuracy: 0.3732 - val_loss: 2.0075 - val_accuracy: 0.3785\n",
            "Epoch 10/30\n",
            "67/67 [==============================] - 2s 23ms/step - loss: 1.7838 - accuracy: 0.4262 - val_loss: 1.9557 - val_accuracy: 0.3920\n",
            "Epoch 11/30\n",
            "67/67 [==============================] - 2s 23ms/step - loss: 1.6011 - accuracy: 0.4867 - val_loss: 1.8856 - val_accuracy: 0.4450\n",
            "Epoch 12/30\n",
            "67/67 [==============================] - 2s 22ms/step - loss: 1.4861 - accuracy: 0.5244 - val_loss: 1.8035 - val_accuracy: 0.4730\n",
            "Epoch 13/30\n",
            "67/67 [==============================] - 2s 23ms/step - loss: 1.3762 - accuracy: 0.5574 - val_loss: 1.7880 - val_accuracy: 0.4570\n",
            "Epoch 14/30\n",
            "67/67 [==============================] - 2s 23ms/step - loss: 1.2252 - accuracy: 0.6013 - val_loss: 1.7975 - val_accuracy: 0.4830\n",
            "Epoch 15/30\n",
            "67/67 [==============================] - 2s 23ms/step - loss: 1.0983 - accuracy: 0.6396 - val_loss: 1.8637 - val_accuracy: 0.4845\n",
            "Epoch 16/30\n",
            "67/67 [==============================] - 2s 23ms/step - loss: 1.0355 - accuracy: 0.6635 - val_loss: 1.8761 - val_accuracy: 0.4800\n",
            "Epoch 17/30\n",
            "67/67 [==============================] - 2s 23ms/step - loss: 0.9038 - accuracy: 0.7058 - val_loss: 1.8934 - val_accuracy: 0.4920\n",
            "Epoch 18/30\n",
            "67/67 [==============================] - 2s 24ms/step - loss: 0.8129 - accuracy: 0.7321 - val_loss: 1.9437 - val_accuracy: 0.5165\n",
            "Epoch 19/30\n",
            "67/67 [==============================] - 2s 24ms/step - loss: 0.7135 - accuracy: 0.7678 - val_loss: 2.0944 - val_accuracy: 0.4855\n",
            "Epoch 20/30\n",
            "67/67 [==============================] - 2s 23ms/step - loss: 0.6175 - accuracy: 0.7955 - val_loss: 2.3156 - val_accuracy: 0.4890\n",
            "Epoch 21/30\n",
            "67/67 [==============================] - 2s 23ms/step - loss: 0.6008 - accuracy: 0.8049 - val_loss: 2.2318 - val_accuracy: 0.5125\n",
            "Epoch 22/30\n",
            "67/67 [==============================] - 2s 24ms/step - loss: 0.4976 - accuracy: 0.8359 - val_loss: 2.3474 - val_accuracy: 0.5145\n",
            "Epoch 23/30\n",
            "67/67 [==============================] - 2s 23ms/step - loss: 0.4200 - accuracy: 0.8585 - val_loss: 2.4930 - val_accuracy: 0.5135\n",
            "Epoch 24/30\n",
            "67/67 [==============================] - 2s 23ms/step - loss: 0.3858 - accuracy: 0.8774 - val_loss: 2.4989 - val_accuracy: 0.5130\n",
            "Epoch 25/30\n",
            "67/67 [==============================] - 2s 23ms/step - loss: 0.3193 - accuracy: 0.8955 - val_loss: 2.9016 - val_accuracy: 0.5230\n",
            "Epoch 26/30\n",
            "67/67 [==============================] - 2s 23ms/step - loss: 0.3381 - accuracy: 0.8931 - val_loss: 2.6943 - val_accuracy: 0.4965\n",
            "Epoch 27/30\n",
            "67/67 [==============================] - 2s 23ms/step - loss: 0.2993 - accuracy: 0.9026 - val_loss: 3.0033 - val_accuracy: 0.5120\n",
            "Epoch 28/30\n",
            "67/67 [==============================] - 2s 23ms/step - loss: 0.2542 - accuracy: 0.9188 - val_loss: 2.8862 - val_accuracy: 0.5240\n",
            "Epoch 29/30\n",
            "67/67 [==============================] - 2s 23ms/step - loss: 0.2086 - accuracy: 0.9315 - val_loss: 2.9710 - val_accuracy: 0.5115\n",
            "Epoch 30/30\n",
            "67/67 [==============================] - 2s 23ms/step - loss: 0.1856 - accuracy: 0.9413 - val_loss: 3.1168 - val_accuracy: 0.5285\n"
          ]
        }
      ],
      "source": [
        "AlexNet_model_1.compile(optimizer='adam',\n",
        "              loss=tf.keras.losses.SparseCategoricalCrossentropy(from_logits=True),\n",
        "              metrics=['accuracy'])\n",
        "\n",
        "AlexNet_history_1 = AlexNet_model_1.fit(x_train, y_train, epochs=30, batch_size=128,\n",
        "                    validation_data=(x_test, y_test))\n",
        "\n",
        "AlexNet_model_1.save('AlexNet_model_1.h5')"
      ]
    },
    {
      "cell_type": "markdown",
      "metadata": {
        "id": "kkgVn6YCdhnL"
      },
      "source": [
        "* Δεύτερη υλοποίηση AlexNet: optimizer='RMSprop', epochs=30, batch_size=64"
      ]
    },
    {
      "cell_type": "code",
      "execution_count": 65,
      "metadata": {
        "colab": {
          "base_uri": "https://localhost:8080/"
        },
        "id": "xSUEq-kkdO8g",
        "outputId": "45cd95cb-f2ac-42c0-f5b3-04bd1182bbb5"
      },
      "outputs": [
        {
          "output_type": "stream",
          "name": "stdout",
          "text": [
            "Epoch 1/30\n",
            "133/133 [==============================] - 5s 23ms/step - loss: 3.2303 - accuracy: 0.0513 - val_loss: 2.9950 - val_accuracy: 0.0530\n",
            "Epoch 2/30\n",
            "133/133 [==============================] - 3s 21ms/step - loss: 2.9257 - accuracy: 0.0851 - val_loss: 2.8339 - val_accuracy: 0.0895\n",
            "Epoch 3/30\n",
            "133/133 [==============================] - 3s 22ms/step - loss: 2.7664 - accuracy: 0.1302 - val_loss: 2.7101 - val_accuracy: 0.1250\n",
            "Epoch 4/30\n",
            "133/133 [==============================] - 3s 21ms/step - loss: 2.6498 - accuracy: 0.1624 - val_loss: 2.5217 - val_accuracy: 0.2100\n",
            "Epoch 5/30\n",
            "133/133 [==============================] - 3s 24ms/step - loss: 2.4894 - accuracy: 0.2261 - val_loss: 2.5672 - val_accuracy: 0.2390\n",
            "Epoch 6/30\n",
            "133/133 [==============================] - 3s 22ms/step - loss: 2.3129 - accuracy: 0.2948 - val_loss: 2.2031 - val_accuracy: 0.3760\n",
            "Epoch 7/30\n",
            "133/133 [==============================] - 3s 22ms/step - loss: 2.1798 - accuracy: 0.3539 - val_loss: 2.0567 - val_accuracy: 0.3845\n",
            "Epoch 8/30\n",
            "133/133 [==============================] - 3s 22ms/step - loss: 2.0212 - accuracy: 0.3847 - val_loss: 1.9036 - val_accuracy: 0.4260\n",
            "Epoch 9/30\n",
            "133/133 [==============================] - 3s 22ms/step - loss: 1.8924 - accuracy: 0.4288 - val_loss: 1.9877 - val_accuracy: 0.4200\n",
            "Epoch 10/30\n",
            "133/133 [==============================] - 3s 21ms/step - loss: 1.7860 - accuracy: 0.4602 - val_loss: 2.2475 - val_accuracy: 0.3950\n",
            "Epoch 11/30\n",
            "133/133 [==============================] - 3s 22ms/step - loss: 1.6321 - accuracy: 0.5085 - val_loss: 1.8429 - val_accuracy: 0.4740\n",
            "Epoch 12/30\n",
            "133/133 [==============================] - 3s 22ms/step - loss: 1.5590 - accuracy: 0.5278 - val_loss: 1.7890 - val_accuracy: 0.4915\n",
            "Epoch 13/30\n",
            "133/133 [==============================] - 3s 22ms/step - loss: 1.4628 - accuracy: 0.5667 - val_loss: 1.8789 - val_accuracy: 0.4475\n",
            "Epoch 14/30\n",
            "133/133 [==============================] - 3s 22ms/step - loss: 1.3405 - accuracy: 0.5956 - val_loss: 2.0371 - val_accuracy: 0.4310\n",
            "Epoch 15/30\n",
            "133/133 [==============================] - 3s 21ms/step - loss: 1.2465 - accuracy: 0.6239 - val_loss: 2.4247 - val_accuracy: 0.4925\n",
            "Epoch 16/30\n",
            "133/133 [==============================] - 3s 23ms/step - loss: 1.1933 - accuracy: 0.6464 - val_loss: 1.9221 - val_accuracy: 0.5130\n",
            "Epoch 17/30\n",
            "133/133 [==============================] - 3s 23ms/step - loss: 1.0743 - accuracy: 0.6792 - val_loss: 2.2518 - val_accuracy: 0.4880\n",
            "Epoch 18/30\n",
            "133/133 [==============================] - 3s 22ms/step - loss: 1.0420 - accuracy: 0.6925 - val_loss: 1.9871 - val_accuracy: 0.5320\n",
            "Epoch 19/30\n",
            "133/133 [==============================] - 3s 22ms/step - loss: 0.9836 - accuracy: 0.7156 - val_loss: 2.2360 - val_accuracy: 0.5585\n",
            "Epoch 20/30\n",
            "133/133 [==============================] - 3s 21ms/step - loss: 0.9134 - accuracy: 0.7376 - val_loss: 2.5211 - val_accuracy: 0.4500\n",
            "Epoch 21/30\n",
            "133/133 [==============================] - 3s 21ms/step - loss: 0.9104 - accuracy: 0.7386 - val_loss: 2.0129 - val_accuracy: 0.5335\n",
            "Epoch 22/30\n",
            "133/133 [==============================] - 4s 30ms/step - loss: 0.8531 - accuracy: 0.7572 - val_loss: 2.0762 - val_accuracy: 0.5115\n",
            "Epoch 23/30\n",
            "133/133 [==============================] - 4s 27ms/step - loss: 0.8527 - accuracy: 0.7720 - val_loss: 2.1511 - val_accuracy: 0.5375\n",
            "Epoch 24/30\n",
            "133/133 [==============================] - 3s 23ms/step - loss: 0.9187 - accuracy: 0.7559 - val_loss: 2.2490 - val_accuracy: 0.5720\n",
            "Epoch 25/30\n",
            "133/133 [==============================] - 3s 21ms/step - loss: 1.0211 - accuracy: 0.7564 - val_loss: 3.1433 - val_accuracy: 0.4945\n",
            "Epoch 26/30\n",
            "133/133 [==============================] - 3s 22ms/step - loss: 0.8084 - accuracy: 0.7811 - val_loss: 3.3952 - val_accuracy: 0.5085\n",
            "Epoch 27/30\n",
            "133/133 [==============================] - 3s 21ms/step - loss: 0.7737 - accuracy: 0.7996 - val_loss: 2.0860 - val_accuracy: 0.5110\n",
            "Epoch 28/30\n",
            "133/133 [==============================] - 3s 22ms/step - loss: 0.7029 - accuracy: 0.8064 - val_loss: 3.5092 - val_accuracy: 0.5225\n",
            "Epoch 29/30\n",
            "133/133 [==============================] - 3s 22ms/step - loss: 0.7912 - accuracy: 0.7920 - val_loss: 2.2746 - val_accuracy: 0.5225\n",
            "Epoch 30/30\n",
            "133/133 [==============================] - 3s 22ms/step - loss: 0.8402 - accuracy: 0.7994 - val_loss: 2.9632 - val_accuracy: 0.5570\n"
          ]
        }
      ],
      "source": [
        "AlexNet_model_2.compile(optimizer='RMSprop',\n",
        "              loss=tf.keras.losses.SparseCategoricalCrossentropy(from_logits=True),\n",
        "              metrics=['accuracy'])\n",
        "\n",
        "AlexNet_history_2 = AlexNet_model_2.fit(x_train, y_train, epochs=30, batch_size=64,\n",
        "                    validation_data=(x_test, y_test))\n",
        "\n",
        "AlexNet_model_2.save('AlexNet_model_2.h5')"
      ]
    },
    {
      "cell_type": "markdown",
      "metadata": {
        "id": "NBZc7I_4FG5j"
      },
      "source": [
        "####VGG"
      ]
    },
    {
      "cell_type": "markdown",
      "metadata": {
        "id": "GaE-5r8LcYqL"
      },
      "source": [
        "* Πρώτη υλοποίηση VGG: optimizer='adam', epochs=20, batch_size=128"
      ]
    },
    {
      "cell_type": "code",
      "execution_count": 66,
      "metadata": {
        "colab": {
          "base_uri": "https://localhost:8080/"
        },
        "id": "i2idah_zOYi-",
        "outputId": "5ccc03fe-85c0-43db-d592-e8f31d4df9a0"
      },
      "outputs": [
        {
          "output_type": "stream",
          "name": "stdout",
          "text": [
            "Epoch 1/20\n",
            "67/67 [==============================] - 34s 31ms/step - loss: 2.9032 - accuracy: 0.0879 - val_loss: 2.8358 - val_accuracy: 0.1105\n",
            "Epoch 2/20\n",
            "67/67 [==============================] - 2s 27ms/step - loss: 2.5038 - accuracy: 0.1985 - val_loss: 2.2151 - val_accuracy: 0.2885\n",
            "Epoch 3/20\n",
            "67/67 [==============================] - 2s 27ms/step - loss: 2.1897 - accuracy: 0.3078 - val_loss: 2.0279 - val_accuracy: 0.3735\n",
            "Epoch 4/20\n",
            "67/67 [==============================] - 2s 27ms/step - loss: 1.8826 - accuracy: 0.4104 - val_loss: 1.7609 - val_accuracy: 0.4505\n",
            "Epoch 5/20\n",
            "67/67 [==============================] - 2s 27ms/step - loss: 1.6538 - accuracy: 0.4867 - val_loss: 1.6579 - val_accuracy: 0.4925\n",
            "Epoch 6/20\n",
            "67/67 [==============================] - 2s 27ms/step - loss: 1.4603 - accuracy: 0.5469 - val_loss: 1.5012 - val_accuracy: 0.5300\n",
            "Epoch 7/20\n",
            "67/67 [==============================] - 2s 27ms/step - loss: 1.2579 - accuracy: 0.6028 - val_loss: 1.4660 - val_accuracy: 0.5520\n",
            "Epoch 8/20\n",
            "67/67 [==============================] - 2s 27ms/step - loss: 1.1021 - accuracy: 0.6449 - val_loss: 1.4326 - val_accuracy: 0.5590\n",
            "Epoch 9/20\n",
            "67/67 [==============================] - 2s 27ms/step - loss: 0.9625 - accuracy: 0.6911 - val_loss: 1.4987 - val_accuracy: 0.5605\n",
            "Epoch 10/20\n",
            "67/67 [==============================] - 2s 28ms/step - loss: 0.7728 - accuracy: 0.7519 - val_loss: 1.4112 - val_accuracy: 0.5990\n",
            "Epoch 11/20\n",
            "67/67 [==============================] - 2s 27ms/step - loss: 0.6557 - accuracy: 0.7854 - val_loss: 1.5240 - val_accuracy: 0.5880\n",
            "Epoch 12/20\n",
            "67/67 [==============================] - 2s 27ms/step - loss: 0.5421 - accuracy: 0.8240 - val_loss: 1.5385 - val_accuracy: 0.6185\n",
            "Epoch 13/20\n",
            "67/67 [==============================] - 2s 28ms/step - loss: 0.4114 - accuracy: 0.8667 - val_loss: 1.7063 - val_accuracy: 0.6050\n",
            "Epoch 14/20\n",
            "67/67 [==============================] - 2s 27ms/step - loss: 0.3040 - accuracy: 0.9013 - val_loss: 1.7968 - val_accuracy: 0.5970\n",
            "Epoch 15/20\n",
            "67/67 [==============================] - 2s 27ms/step - loss: 0.2787 - accuracy: 0.9082 - val_loss: 1.7775 - val_accuracy: 0.6210\n",
            "Epoch 16/20\n",
            "67/67 [==============================] - 2s 28ms/step - loss: 0.2494 - accuracy: 0.9168 - val_loss: 1.8322 - val_accuracy: 0.6185\n",
            "Epoch 17/20\n",
            "67/67 [==============================] - 2s 28ms/step - loss: 0.2006 - accuracy: 0.9334 - val_loss: 2.0074 - val_accuracy: 0.5860\n",
            "Epoch 18/20\n",
            "67/67 [==============================] - 2s 28ms/step - loss: 0.1906 - accuracy: 0.9381 - val_loss: 2.0071 - val_accuracy: 0.6105\n",
            "Epoch 19/20\n",
            "67/67 [==============================] - 2s 28ms/step - loss: 0.1701 - accuracy: 0.9451 - val_loss: 2.1963 - val_accuracy: 0.6170\n",
            "Epoch 20/20\n",
            "67/67 [==============================] - 2s 27ms/step - loss: 0.1422 - accuracy: 0.9571 - val_loss: 2.2524 - val_accuracy: 0.6115\n"
          ]
        }
      ],
      "source": [
        "vgg_model_1.compile(optimizer='adam',\n",
        "              loss=tf.keras.losses.SparseCategoricalCrossentropy(from_logits=True),\n",
        "              metrics=['accuracy'])\n",
        "\n",
        "vgg_history_1 = vgg_model_1.fit(x_train, y_train, epochs=20, batch_size=128,\n",
        "                    validation_data=(x_test, y_test))\n",
        "\n",
        "vgg_model_1.save('vgg_model_1.h5')"
      ]
    },
    {
      "cell_type": "markdown",
      "metadata": {
        "id": "NoeY4msmdGn-"
      },
      "source": [
        "* Δεύτερη υλοποίηση VGG: optimizer='Nadam', epochs=20, batch_size=256"
      ]
    },
    {
      "cell_type": "code",
      "execution_count": 67,
      "metadata": {
        "colab": {
          "base_uri": "https://localhost:8080/"
        },
        "id": "aVM-4WbXcQOH",
        "outputId": "1a4c3889-c319-4fa0-ac38-e1e9813bfea8"
      },
      "outputs": [
        {
          "output_type": "stream",
          "name": "stdout",
          "text": [
            "Epoch 1/20\n",
            "34/34 [==============================] - 4s 72ms/step - loss: 3.1771 - accuracy: 0.0686 - val_loss: 2.9335 - val_accuracy: 0.0775\n",
            "Epoch 2/20\n",
            "34/34 [==============================] - 2s 64ms/step - loss: 2.9267 - accuracy: 0.1006 - val_loss: 2.8181 - val_accuracy: 0.1275\n",
            "Epoch 3/20\n",
            "34/34 [==============================] - 2s 64ms/step - loss: 2.8866 - accuracy: 0.1186 - val_loss: 3.7162 - val_accuracy: 0.0850\n",
            "Epoch 4/20\n",
            "34/34 [==============================] - 2s 64ms/step - loss: 2.9434 - accuracy: 0.1048 - val_loss: 2.7151 - val_accuracy: 0.1710\n",
            "Epoch 5/20\n",
            "34/34 [==============================] - 2s 64ms/step - loss: 2.8610 - accuracy: 0.1282 - val_loss: 2.7247 - val_accuracy: 0.1665\n",
            "Epoch 6/20\n",
            "34/34 [==============================] - 2s 64ms/step - loss: 2.6264 - accuracy: 0.2001 - val_loss: 2.5019 - val_accuracy: 0.2215\n",
            "Epoch 7/20\n",
            "34/34 [==============================] - 2s 64ms/step - loss: 2.4302 - accuracy: 0.2528 - val_loss: 2.3517 - val_accuracy: 0.2685\n",
            "Epoch 8/20\n",
            "34/34 [==============================] - 2s 64ms/step - loss: 2.2236 - accuracy: 0.3109 - val_loss: 2.1553 - val_accuracy: 0.3295\n",
            "Epoch 9/20\n",
            "34/34 [==============================] - 2s 64ms/step - loss: 2.0627 - accuracy: 0.3654 - val_loss: 2.2323 - val_accuracy: 0.3080\n",
            "Epoch 10/20\n",
            "34/34 [==============================] - 2s 66ms/step - loss: 1.9306 - accuracy: 0.4058 - val_loss: 1.9111 - val_accuracy: 0.4190\n",
            "Epoch 11/20\n",
            "34/34 [==============================] - 2s 64ms/step - loss: 1.7270 - accuracy: 0.4704 - val_loss: 2.0366 - val_accuracy: 0.3975\n",
            "Epoch 12/20\n",
            "34/34 [==============================] - 2s 65ms/step - loss: 1.5939 - accuracy: 0.5022 - val_loss: 1.8325 - val_accuracy: 0.4540\n",
            "Epoch 13/20\n",
            "34/34 [==============================] - 2s 64ms/step - loss: 1.4924 - accuracy: 0.5366 - val_loss: 1.7242 - val_accuracy: 0.4845\n",
            "Epoch 14/20\n",
            "34/34 [==============================] - 2s 66ms/step - loss: 1.3144 - accuracy: 0.5848 - val_loss: 1.7764 - val_accuracy: 0.4720\n",
            "Epoch 15/20\n",
            "34/34 [==============================] - 2s 64ms/step - loss: 1.1678 - accuracy: 0.6354 - val_loss: 1.7044 - val_accuracy: 0.4890\n",
            "Epoch 16/20\n",
            "34/34 [==============================] - 2s 65ms/step - loss: 1.0099 - accuracy: 0.6807 - val_loss: 1.8459 - val_accuracy: 0.4705\n",
            "Epoch 17/20\n",
            "34/34 [==============================] - 2s 65ms/step - loss: 0.8509 - accuracy: 0.7266 - val_loss: 1.7835 - val_accuracy: 0.5320\n",
            "Epoch 18/20\n",
            "34/34 [==============================] - 2s 64ms/step - loss: 0.6978 - accuracy: 0.7762 - val_loss: 1.7975 - val_accuracy: 0.5260\n",
            "Epoch 19/20\n",
            "34/34 [==============================] - 2s 65ms/step - loss: 0.5943 - accuracy: 0.8120 - val_loss: 1.8737 - val_accuracy: 0.5510\n",
            "Epoch 20/20\n",
            "34/34 [==============================] - 2s 65ms/step - loss: 0.4027 - accuracy: 0.8709 - val_loss: 2.1519 - val_accuracy: 0.5500\n"
          ]
        }
      ],
      "source": [
        "vgg_model_2.compile(optimizer='Nadam',\n",
        "              loss=tf.keras.losses.SparseCategoricalCrossentropy(from_logits=True),\n",
        "              metrics=['accuracy'])\n",
        "\n",
        "vgg_history_2 = vgg_model_2.fit(x_train, y_train, epochs=20, batch_size=256,\n",
        "                    validation_data=(x_test, y_test))\n",
        "\n",
        "vgg_model_2.save('vgg_model_2.h5')"
      ]
    },
    {
      "cell_type": "markdown",
      "metadata": {
        "id": "D0Zo9VxJMu4u"
      },
      "source": [
        "####MyCNN"
      ]
    },
    {
      "cell_type": "markdown",
      "metadata": {
        "id": "ymCCTBooQitj"
      },
      "source": [
        "* Πρώτη υλοποίηση MyCNN: optimizer='adam', epochs=30, batch_size=128"
      ]
    },
    {
      "cell_type": "code",
      "execution_count": 68,
      "metadata": {
        "colab": {
          "base_uri": "https://localhost:8080/"
        },
        "id": "qSi9SeJyMz7O",
        "outputId": "4c5b6499-f66d-42f1-ad70-e85d3b853c57"
      },
      "outputs": [
        {
          "output_type": "stream",
          "name": "stdout",
          "text": [
            "Epoch 1/30\n",
            "67/67 [==============================] - 12s 132ms/step - loss: 2.8741 - accuracy: 0.0894 - val_loss: 2.7286 - val_accuracy: 0.1355\n",
            "Epoch 2/30\n",
            "67/67 [==============================] - 7s 103ms/step - loss: 2.6201 - accuracy: 0.1596 - val_loss: 2.4500 - val_accuracy: 0.2100\n",
            "Epoch 3/30\n",
            "67/67 [==============================] - 7s 104ms/step - loss: 2.4245 - accuracy: 0.2302 - val_loss: 2.3344 - val_accuracy: 0.2700\n",
            "Epoch 4/30\n",
            "67/67 [==============================] - 7s 105ms/step - loss: 2.2533 - accuracy: 0.2880 - val_loss: 2.1436 - val_accuracy: 0.3330\n",
            "Epoch 5/30\n",
            "67/67 [==============================] - 7s 105ms/step - loss: 2.0662 - accuracy: 0.3521 - val_loss: 1.9950 - val_accuracy: 0.3815\n",
            "Epoch 6/30\n",
            "67/67 [==============================] - 7s 106ms/step - loss: 1.8831 - accuracy: 0.4116 - val_loss: 1.8041 - val_accuracy: 0.4535\n",
            "Epoch 7/30\n",
            "67/67 [==============================] - 7s 105ms/step - loss: 1.6964 - accuracy: 0.4745 - val_loss: 1.6620 - val_accuracy: 0.4920\n",
            "Epoch 8/30\n",
            "67/67 [==============================] - 7s 105ms/step - loss: 1.5551 - accuracy: 0.5178 - val_loss: 1.6882 - val_accuracy: 0.4985\n",
            "Epoch 9/30\n",
            "67/67 [==============================] - 7s 104ms/step - loss: 1.4223 - accuracy: 0.5546 - val_loss: 1.5393 - val_accuracy: 0.5500\n",
            "Epoch 10/30\n",
            "67/67 [==============================] - 7s 103ms/step - loss: 1.2587 - accuracy: 0.6040 - val_loss: 1.5089 - val_accuracy: 0.5465\n",
            "Epoch 11/30\n",
            "67/67 [==============================] - 7s 103ms/step - loss: 1.1429 - accuracy: 0.6351 - val_loss: 1.5900 - val_accuracy: 0.5210\n",
            "Epoch 12/30\n",
            "67/67 [==============================] - 7s 103ms/step - loss: 1.0353 - accuracy: 0.6679 - val_loss: 1.6025 - val_accuracy: 0.5425\n",
            "Epoch 13/30\n",
            "67/67 [==============================] - 7s 103ms/step - loss: 0.9262 - accuracy: 0.6989 - val_loss: 1.4855 - val_accuracy: 0.5740\n",
            "Epoch 14/30\n",
            "67/67 [==============================] - 7s 103ms/step - loss: 0.7924 - accuracy: 0.7386 - val_loss: 1.5729 - val_accuracy: 0.5720\n",
            "Epoch 15/30\n",
            "67/67 [==============================] - 7s 103ms/step - loss: 0.6934 - accuracy: 0.7713 - val_loss: 1.8041 - val_accuracy: 0.5290\n",
            "Epoch 16/30\n",
            "67/67 [==============================] - 7s 104ms/step - loss: 0.6004 - accuracy: 0.8027 - val_loss: 1.7583 - val_accuracy: 0.5725\n",
            "Epoch 17/30\n",
            "67/67 [==============================] - 7s 104ms/step - loss: 0.5162 - accuracy: 0.8291 - val_loss: 1.8102 - val_accuracy: 0.5890\n",
            "Epoch 18/30\n",
            "67/67 [==============================] - 7s 104ms/step - loss: 0.4859 - accuracy: 0.8386 - val_loss: 1.9109 - val_accuracy: 0.5640\n",
            "Epoch 19/30\n",
            "67/67 [==============================] - 7s 105ms/step - loss: 0.4660 - accuracy: 0.8478 - val_loss: 1.9892 - val_accuracy: 0.5455\n",
            "Epoch 20/30\n",
            "67/67 [==============================] - 7s 104ms/step - loss: 0.3352 - accuracy: 0.8885 - val_loss: 2.0531 - val_accuracy: 0.5835\n",
            "Epoch 21/30\n",
            "67/67 [==============================] - 7s 104ms/step - loss: 0.3125 - accuracy: 0.8934 - val_loss: 2.1574 - val_accuracy: 0.5835\n",
            "Epoch 22/30\n",
            "67/67 [==============================] - 7s 103ms/step - loss: 0.2886 - accuracy: 0.9048 - val_loss: 2.2409 - val_accuracy: 0.5845\n",
            "Epoch 23/30\n",
            "67/67 [==============================] - 7s 103ms/step - loss: 0.2533 - accuracy: 0.9162 - val_loss: 2.4068 - val_accuracy: 0.5745\n",
            "Epoch 24/30\n",
            "67/67 [==============================] - 7s 103ms/step - loss: 0.2790 - accuracy: 0.9093 - val_loss: 2.3647 - val_accuracy: 0.5735\n",
            "Epoch 25/30\n",
            "67/67 [==============================] - 7s 105ms/step - loss: 0.2112 - accuracy: 0.9291 - val_loss: 2.5704 - val_accuracy: 0.5805\n",
            "Epoch 26/30\n",
            "67/67 [==============================] - 7s 103ms/step - loss: 0.1597 - accuracy: 0.9471 - val_loss: 2.5795 - val_accuracy: 0.5740\n",
            "Epoch 27/30\n",
            "67/67 [==============================] - 7s 103ms/step - loss: 0.1683 - accuracy: 0.9458 - val_loss: 2.5717 - val_accuracy: 0.5810\n",
            "Epoch 28/30\n",
            "67/67 [==============================] - 7s 103ms/step - loss: 0.2431 - accuracy: 0.9219 - val_loss: 2.3903 - val_accuracy: 0.5755\n",
            "Epoch 29/30\n",
            "67/67 [==============================] - 7s 103ms/step - loss: 0.1346 - accuracy: 0.9565 - val_loss: 2.6403 - val_accuracy: 0.5885\n",
            "Epoch 30/30\n",
            "67/67 [==============================] - 7s 103ms/step - loss: 0.1830 - accuracy: 0.9416 - val_loss: 2.7193 - val_accuracy: 0.5580\n"
          ]
        }
      ],
      "source": [
        "MyCNN_model_1.compile(optimizer='adam',\n",
        "              loss=tf.keras.losses.SparseCategoricalCrossentropy(from_logits=True),\n",
        "              metrics=['accuracy'])\n",
        "\n",
        "MyCNN_history_1 = MyCNN_model_1.fit(x_train, y_train, epochs=30, batch_size=128,\n",
        "                    validation_data=(x_test, y_test))\n",
        "\n",
        "MyCNN_model_1.save('MyCNN_model_1.h5')"
      ]
    },
    {
      "cell_type": "markdown",
      "metadata": {
        "id": "JAXLCqyFQp7F"
      },
      "source": [
        "* Δεύτερη υλοποίηση MyCNN: optimizer='RMSprop', epochs=30, batch_size=64"
      ]
    },
    {
      "cell_type": "code",
      "execution_count": 69,
      "metadata": {
        "colab": {
          "base_uri": "https://localhost:8080/"
        },
        "id": "jfyrovg8N7iZ",
        "outputId": "e5ec5618-2025-4b38-9a7e-bbdbe2409d0e"
      },
      "outputs": [
        {
          "output_type": "stream",
          "name": "stdout",
          "text": [
            "Epoch 1/30\n",
            "133/133 [==============================] - 11s 67ms/step - loss: 5.7778 - accuracy: 0.0464 - val_loss: 2.9961 - val_accuracy: 0.0500\n",
            "Epoch 2/30\n",
            "133/133 [==============================] - 8s 64ms/step - loss: 3.0162 - accuracy: 0.0702 - val_loss: 2.8955 - val_accuracy: 0.0895\n",
            "Epoch 3/30\n",
            "133/133 [==============================] - 8s 63ms/step - loss: 2.9176 - accuracy: 0.0979 - val_loss: 2.7487 - val_accuracy: 0.1215\n",
            "Epoch 4/30\n",
            "133/133 [==============================] - 8s 64ms/step - loss: 2.7418 - accuracy: 0.1601 - val_loss: 2.5615 - val_accuracy: 0.2070\n",
            "Epoch 5/30\n",
            "133/133 [==============================] - 8s 64ms/step - loss: 2.5078 - accuracy: 0.2264 - val_loss: 2.2745 - val_accuracy: 0.2815\n",
            "Epoch 6/30\n",
            "133/133 [==============================] - 8s 64ms/step - loss: 2.2906 - accuracy: 0.2955 - val_loss: 2.2298 - val_accuracy: 0.3390\n",
            "Epoch 7/30\n",
            "133/133 [==============================] - 8s 63ms/step - loss: 2.1150 - accuracy: 0.3620 - val_loss: 1.9121 - val_accuracy: 0.4355\n",
            "Epoch 8/30\n",
            "133/133 [==============================] - 8s 64ms/step - loss: 1.9595 - accuracy: 0.4101 - val_loss: 1.8112 - val_accuracy: 0.4565\n",
            "Epoch 9/30\n",
            "133/133 [==============================] - 8s 63ms/step - loss: 1.7966 - accuracy: 0.4569 - val_loss: 1.6709 - val_accuracy: 0.4895\n",
            "Epoch 10/30\n",
            "133/133 [==============================] - 9s 64ms/step - loss: 1.6283 - accuracy: 0.5188 - val_loss: 1.9082 - val_accuracy: 0.4540\n",
            "Epoch 11/30\n",
            "133/133 [==============================] - 8s 63ms/step - loss: 1.4817 - accuracy: 0.5539 - val_loss: 1.6383 - val_accuracy: 0.5025\n",
            "Epoch 12/30\n",
            "133/133 [==============================] - 8s 63ms/step - loss: 1.3376 - accuracy: 0.5993 - val_loss: 1.7073 - val_accuracy: 0.5300\n",
            "Epoch 13/30\n",
            "133/133 [==============================] - 9s 69ms/step - loss: 1.2224 - accuracy: 0.6341 - val_loss: 1.6715 - val_accuracy: 0.5450\n",
            "Epoch 14/30\n",
            "133/133 [==============================] - 8s 64ms/step - loss: 1.1312 - accuracy: 0.6646 - val_loss: 1.5304 - val_accuracy: 0.5765\n",
            "Epoch 15/30\n",
            "133/133 [==============================] - 8s 63ms/step - loss: 1.0469 - accuracy: 0.6915 - val_loss: 1.5587 - val_accuracy: 0.5930\n",
            "Epoch 16/30\n",
            "133/133 [==============================] - 8s 63ms/step - loss: 0.9646 - accuracy: 0.7132 - val_loss: 1.9840 - val_accuracy: 0.5555\n",
            "Epoch 17/30\n",
            "133/133 [==============================] - 8s 64ms/step - loss: 0.9029 - accuracy: 0.7346 - val_loss: 1.8424 - val_accuracy: 0.5970\n",
            "Epoch 18/30\n",
            "133/133 [==============================] - 8s 64ms/step - loss: 0.8408 - accuracy: 0.7552 - val_loss: 1.8383 - val_accuracy: 0.5695\n",
            "Epoch 19/30\n",
            "133/133 [==============================] - 8s 63ms/step - loss: 0.8498 - accuracy: 0.7615 - val_loss: 2.6126 - val_accuracy: 0.5645\n",
            "Epoch 20/30\n",
            "133/133 [==============================] - 8s 64ms/step - loss: 0.8148 - accuracy: 0.7716 - val_loss: 2.3011 - val_accuracy: 0.6160\n",
            "Epoch 21/30\n",
            "133/133 [==============================] - 8s 63ms/step - loss: 0.7957 - accuracy: 0.7798 - val_loss: 3.2332 - val_accuracy: 0.5800\n",
            "Epoch 22/30\n",
            "133/133 [==============================] - 8s 64ms/step - loss: 0.7275 - accuracy: 0.7991 - val_loss: 1.9381 - val_accuracy: 0.5690\n",
            "Epoch 23/30\n",
            "133/133 [==============================] - 9s 64ms/step - loss: 0.7168 - accuracy: 0.8049 - val_loss: 2.1104 - val_accuracy: 0.5460\n",
            "Epoch 24/30\n",
            "133/133 [==============================] - 8s 63ms/step - loss: 0.7751 - accuracy: 0.7991 - val_loss: 3.1756 - val_accuracy: 0.6020\n",
            "Epoch 25/30\n",
            "133/133 [==============================] - 8s 63ms/step - loss: 0.7731 - accuracy: 0.8008 - val_loss: 1.9668 - val_accuracy: 0.5240\n",
            "Epoch 26/30\n",
            "133/133 [==============================] - 8s 63ms/step - loss: 0.7508 - accuracy: 0.8032 - val_loss: 2.0577 - val_accuracy: 0.5610\n",
            "Epoch 27/30\n",
            "133/133 [==============================] - 9s 65ms/step - loss: 0.8037 - accuracy: 0.8022 - val_loss: 1.7969 - val_accuracy: 0.5975\n",
            "Epoch 28/30\n",
            "133/133 [==============================] - 8s 63ms/step - loss: 0.8221 - accuracy: 0.8027 - val_loss: 2.5957 - val_accuracy: 0.5745\n",
            "Epoch 29/30\n",
            "133/133 [==============================] - 8s 64ms/step - loss: 0.7115 - accuracy: 0.8196 - val_loss: 2.7615 - val_accuracy: 0.6125\n",
            "Epoch 30/30\n",
            "133/133 [==============================] - 9s 65ms/step - loss: 0.7821 - accuracy: 0.8118 - val_loss: 2.5364 - val_accuracy: 0.5500\n"
          ]
        }
      ],
      "source": [
        "MyCNN_model_2.compile(optimizer='RMSprop',\n",
        "              loss=tf.keras.losses.SparseCategoricalCrossentropy(from_logits=True),\n",
        "              metrics=['accuracy'])\n",
        "\n",
        "MyCNN_history_2 = MyCNN_model_2.fit(x_train, y_train, epochs=30, batch_size=64,\n",
        "                    validation_data=(x_test, y_test))\n",
        "\n",
        "MyCNN_model_2.save('MyCNN_model_2.h5')"
      ]
    },
    {
      "cell_type": "markdown",
      "metadata": {
        "id": "2qonSMQpSoom"
      },
      "source": [
        "##Βήμα 2: Αξιολόγηση των μοντέλων\n"
      ]
    },
    {
      "cell_type": "code",
      "execution_count": 70,
      "metadata": {
        "id": "P9Tsw-GZT3UU"
      },
      "outputs": [],
      "source": [
        "# Define plot function\n",
        "def plot_accuracy_1(model_history):\n",
        "  epochs = range(1, len(model_history.history['accuracy']) + 1)             # get number of epochs\n",
        "  accuracy = model_history.history['accuracy']\n",
        "  val_accuracy = model_history.history['val_accuracy']\n",
        "  plt.figure(figsize=(10, 7))\n",
        "  plt.plot(epochs, accuracy, label='accuracy')\n",
        "  plt.plot(epochs, val_accuracy, label='val_accuracy')\n",
        "  plt.ylabel('Accuracy')\n",
        "  plt.xlabel('Epoch')\n",
        "  plt.ylim(0, 1)\n",
        "  plt.legend()"
      ]
    },
    {
      "cell_type": "code",
      "execution_count": 71,
      "metadata": {
        "id": "7i4chzPTn445"
      },
      "outputs": [],
      "source": [
        "# Define plot function\n",
        "def plot_accuracy(model_history_1, model_history_2, titles):\n",
        "\n",
        "  epochs_1 = range(1, len(model_history_1.history['accuracy']) + 1)             # get number of epochs\n",
        "  accuracy_1 = model_history_1.history['accuracy']\n",
        "  val_accuracy_1 = model_history_1.history['val_accuracy']\n",
        "\n",
        "  epochs_2 = range(1, len(model_history_2.history['accuracy']) + 1)\n",
        "  accuracy_2 = model_history_2.history['accuracy']\n",
        "  val_accuracy_2 = model_history_2.history['val_accuracy']\n",
        "\n",
        "\n",
        "  fig, ax = plt.subplots(1, 2, figsize=(20, 7))\n",
        "\n",
        "  ax[0].plot(epochs_1, accuracy_1, label='accuracy')\n",
        "  ax[0].plot(epochs_1, val_accuracy_1, label='val_accuracy')\n",
        "  ax[0].set_title(model_history_1)\n",
        "  ax[0].set_xlabel('Epoch')\n",
        "  ax[0].set_ylabel('Accuracy')\n",
        "  ax[0].set_ylim(0, 1)\n",
        "  ax[0].legend()\n",
        "  ax[0].set_title(titles[0])\n",
        "\n",
        "  ax[1].plot(epochs_2, accuracy_2, label='accuracy')\n",
        "  ax[1].plot(epochs_2, val_accuracy_2, label='val_accuracy')\n",
        "  ax[1].set_title(model_history_2)\n",
        "  ax[1].set_xlabel('Epoch')\n",
        "  ax[1].set_ylabel('Accuracy')\n",
        "  ax[1].set_ylim(0, 1)\n",
        "  ax[1].legend()\n",
        "  ax[1].set_title(titles[1])"
      ]
    },
    {
      "cell_type": "markdown",
      "metadata": {
        "id": "RF6SmgKAkzz0"
      },
      "source": [
        "####LeNet"
      ]
    },
    {
      "cell_type": "markdown",
      "metadata": {
        "id": "kPEBPL62vZw4"
      },
      "source": [
        "LeNet_model_1 optimizer: adam <br>\n",
        "LeNet_model_2 optimizer: Nadam"
      ]
    },
    {
      "cell_type": "code",
      "execution_count": 72,
      "metadata": {
        "colab": {
          "base_uri": "https://localhost:8080/",
          "height": 458
        },
        "id": "UvEOF1PdopYH",
        "outputId": "e9d1ad4d-df23-4829-83a7-0931523884db"
      },
      "outputs": [
        {
          "output_type": "display_data",
          "data": {
            "text/plain": [
              "<Figure size 1440x504 with 2 Axes>"
            ],
            "image/png": "[encoded data removed]"
          },
          "metadata": {
            "needs_background": "light"
          }
        }
      ],
      "source": [
        "plot_accuracy(LeNet_history_1, LeNet_history_2, ['LeNet Model 1', 'LeNet Model 2'])"
      ]
    },
    {
      "cell_type": "markdown",
      "metadata": {
        "id": "T3kaB-jt1hHQ"
      },
      "source": [
        "Επιλέγουμε το δεύτερο μοντέλο LeNet, καθώς έχει τόσο καλύτερο accuracy όσο και καλύτερο val_accuracy."
      ]
    },
    {
      "cell_type": "markdown",
      "metadata": {
        "id": "SHJOLnHNu6-h"
      },
      "source": [
        "####AlexNet"
      ]
    },
    {
      "cell_type": "markdown",
      "metadata": {
        "id": "Tv6EJ7WCv_PF"
      },
      "source": [
        "AlexNet_model_1 optimizer: adam <br>\n",
        "AlexNet_model_2 optimizer: RMSprop"
      ]
    },
    {
      "cell_type": "code",
      "execution_count": 73,
      "metadata": {
        "colab": {
          "base_uri": "https://localhost:8080/",
          "height": 458
        },
        "id": "cyqnTlJ2u4IO",
        "outputId": "4116f770-95ce-4cd8-a397-ff4b6a6cfb54"
      },
      "outputs": [
        {
          "output_type": "display_data",
          "data": {
            "text/plain": [
              "<Figure size 1440x504 with 2 Axes>"
            ],
            "image/png": "[encoded data removed]"
          },
          "metadata": {
            "needs_background": "light"
          }
        }
      ],
      "source": [
        "plot_accuracy(AlexNet_history_1, AlexNet_history_2, ['AlexNet Model 1', 'AlexNet Model 2'])"
      ]
    },
    {
      "cell_type": "markdown",
      "metadata": {
        "id": "z4Yl8kcPQu1b"
      },
      "source": [
        "Επιλέγουμε το δεύτερο μοντέλο AlexNet, καθώς έχει καλύτερο val_accuracy."
      ]
    },
    {
      "cell_type": "markdown",
      "metadata": {
        "id": "aFbt8yn_wK7f"
      },
      "source": [
        "####VGG"
      ]
    },
    {
      "cell_type": "markdown",
      "metadata": {
        "id": "7ICMXsCyxpG4"
      },
      "source": [
        "vgg_model_1 optimizer: adam <br>\n",
        "vgg_model_2 optimizer: Nadam"
      ]
    },
    {
      "cell_type": "code",
      "execution_count": 74,
      "metadata": {
        "colab": {
          "base_uri": "https://localhost:8080/",
          "height": 458
        },
        "id": "tfN54Bo3wM81",
        "outputId": "5529a521-c79d-4089-879f-94a74862c7f1"
      },
      "outputs": [
        {
          "output_type": "display_data",
          "data": {
            "text/plain": [
              "<Figure size 1440x504 with 2 Axes>"
            ],
            "image/png": "[encoded data removed]"
          },
          "metadata": {
            "needs_background": "light"
          }
        }
      ],
      "source": [
        "plot_accuracy(vgg_history_1, vgg_history_2, ['VGG Model 1', 'VGG Model 2'])"
      ]
    },
    {
      "cell_type": "markdown",
      "metadata": {
        "id": "bWIbn7D0Q6vF"
      },
      "source": [
        "Επιλέγουμε το πρώτο μοντέλο VGG, καθώς έχει τόσο καλύτερο accuracy όσο και καλύτερο val_accuracy."
      ]
    },
    {
      "cell_type": "markdown",
      "metadata": {
        "id": "C6l0MiWdwo5O"
      },
      "source": [
        "####MyCNN"
      ]
    },
    {
      "cell_type": "markdown",
      "metadata": {
        "id": "oBQeAMlJx-wk"
      },
      "source": [
        "MyCNN_model_1 optimizer: adam <br>\n",
        "MyCNN_model_2 optimizer: RMSprop"
      ]
    },
    {
      "cell_type": "code",
      "execution_count": 75,
      "metadata": {
        "colab": {
          "base_uri": "https://localhost:8080/",
          "height": 458
        },
        "id": "OZ1N4MREyLlP",
        "outputId": "fbaec7af-8e7a-4a89-8dab-dba892d0df64"
      },
      "outputs": [
        {
          "output_type": "display_data",
          "data": {
            "text/plain": [
              "<Figure size 1440x504 with 2 Axes>"
            ],
            "image/png": "[encoded data removed]"
          },
          "metadata": {
            "needs_background": "light"
          }
        }
      ],
      "source": [
        "plot_accuracy(MyCNN_history_1, MyCNN_history_2, ['MyCNN Model 1', 'MyCNN Model 2'])"
      ]
    },
    {
      "cell_type": "markdown",
      "metadata": {
        "id": "yBJMGzHpQ0or"
      },
      "source": [
        "Επιλέγουμε το πρώτο μοντέλο MyCNN, καθώς φαίνεται να έχει μικρότερη κυμάτωση και καλύτερο accuracy."
      ]
    },
    {
      "cell_type": "markdown",
      "metadata": {
        "id": "Z-Q0FIxHCmPs"
      },
      "source": [
        "####2. Κοινό διάγραμμα"
      ]
    },
    {
      "cell_type": "markdown",
      "metadata": {
        "id": "kAuyJctiC7En"
      },
      "source": [
        "Στο παρακάτω διάγραμμα απεικονίζονται η ακρίβεια εκπαίδευσης και η ακρίβεια επικύρωσης για τα 4 μοντέλα που επιλέξαμε."
      ]
    },
    {
      "cell_type": "code",
      "execution_count": 76,
      "metadata": {
        "id": "tXSQClHEDXvD"
      },
      "outputs": [],
      "source": [
        "def plot_all(model_histories, labels = None):\n",
        "\n",
        "  plt.figure(figsize = (20, 10))\n",
        "  color_arr = ['r','g','b','y']\n",
        "  plt.ylim(0, 1)\n",
        "  for i in range(len(model_histories)):\n",
        "    accuracy = model_histories[i].history['accuracy']\n",
        "    val_accuracy = model_histories[i].history['val_accuracy']\n",
        "\n",
        "    plt.plot(accuracy, color=color_arr[i], label=labels[i]+' accuracy')\n",
        "    plt.plot(val_accuracy, linestyle='dashed', color=color_arr[i], label=labels[i]+' val_accuracy')\n",
        "\n",
        "    plt.xlabel('Epoch')\n",
        "    plt.xlabel('Accuracy')\n",
        "\n",
        "    plt.title('Accuracy and val_accuracy of Neural Networks', fontsize=16)\n",
        "    plt.legend()"
      ]
    },
    {
      "cell_type": "code",
      "execution_count": 77,
      "metadata": {
        "colab": {
          "base_uri": "https://localhost:8080/",
          "height": 623
        },
        "id": "Owj3q9rEJAI9",
        "outputId": "60f3e80a-86a0-40ab-8294-e9a954b1e695"
      },
      "outputs": [
        {
          "output_type": "display_data",
          "data": {
            "text/plain": [
              "<Figure size 1440x720 with 1 Axes>"
            ],
            "image/png": "[encoded data removed]"
          },
          "metadata": {
            "needs_background": "light"
          }
        }
      ],
      "source": [
        "plot_all([LeNet_history_2, AlexNet_history_2, vgg_history_1, MyCNN_history_1], ['LeNet','AlexNet','VGG','MyCNN'])"
      ]
    },
    {
      "cell_type": "markdown",
      "metadata": {
        "id": "rAojnqT7hPj3"
      },
      "source": [
        "####3. Αξιολόγηση Αποτελεσμάτων\n"
      ]
    },
    {
      "cell_type": "markdown",
      "metadata": {
        "id": "-qt0YrWtho0W"
      },
      "source": [
        "- Επίδραση του πλήθους των δεδομένων/κλάσεων στην απόδοση του μοντέλου <br><br>\n",
        "Με την αύξηση των δεδομένων, όπως γνωρίζουμε από τη θεωρία, παίρνουμε καλύτερα αποτελέσματα τόσο για το accuracy όσο και για το val_accuracy. Με άλλα λόγια, το μεγάλο πλήθος εικόνων οδηγεί σε μεγαλύτερη ακρίβεια. Αντίθετα, όταν έχουμε μικρό set με training data, το μοντέλο είναι πιο ευάλωτο σε θόρυβο και ανεπιθύμητες λεπτομέρειες του συνόλου εκπαίδευσης με αποτέλεσμα να μειώνεται σημαντικά η απόδοσή του.<br>\n",
        "Επιπλέον, με την αύξηση του πλήθους των κλάσεων μειώνεται η ακρίβεια του μοντέλου. Αυτό οφείλεται στο ότι οι εικόνες έχουν πλέον περισσότερες κλάσεις στις οποίες είναι πιθανό να ταξινομηθούν και ενδεχομένως περισσότερες από τις κλάσεις αυτές να έχουν κοινά χαρακτηριστικά όσο αυξάνεται το πλήθος τους. Τέλος, σημειώνουμε πως με την προσθήκη περισσότερων κλάσεων, θα απαιτούνται περισσότερες λεπτομέρειες (επομένως και περισσότερα δείγματα στο training set) προκειμένου να έχουμε αποδεκτή ακρίβεια.<br><br>\n",
        "\n",
        "- Επίδραση του αλγόριθμου βελτιστοποίησης (optimizer) <br><br>\n",
        "Περιραματιστήκαμε με τους optimizers adam, Nadam και RMSprop. Σε γενικές γραμμές, ο optimizer adam δίνει καλύτερα αποτελέσματα σε σχέση με τους άλλους δύο αλγόριθμους βελτιστοποίησης. Πιο συγκεκριμένα, δίνει 5-10% καλύτερη ακρίβεια και χρειάζεται λιγότερο αριθμό εποχών για να φτάσει τα αποτελέσματα αυτά. Επιπρόσθετα, η ευθεία ορθότητας επικύρωσης (val_accuracy) με τη χρήση του optimizer adam παρουσιάζει πιο ομαλές μεταβολές και δεν έχει μεγάλη κυμάτωση, ενώ με τους Nadam και RMSprop παρουσιάζει μεγάλη κυμάτωση. Αξίζει να σημειωθεί, πως η ακρίβεια εκπαίδευσης (accuracy) με τη χρήση των τριών optimizer είναι εξίσου ομαλή, χωρίς δηλαδή ιδιαίτερες διακυμάνσεις. Τέλος, παρατηρούμε πως η καμπύλη ακρίβειας με την χρήση του optimizer adam έχει λογαριθμική μορφή.<br><br>\n",
        "\n",
        "- Επίδραση του μεγέθους δέσμης (batch size) <br><br>\n",
        "Το μέγεθος δέσμης (batch size) ορίζεται ως το πλήθος των δειγμάτων εκπαίδευσης σε ένα πέρασμα εμπρός/πίσω. Γενικά, για μεγαλύτερο batch size χρειαζόμαστε λιγότερες επαναλήψεις ανά εποχή για να διατρέξουμε όλα τα δείγματα του training set μας. Αυτό έχει ως αποτέλεσμα, να επιτυγχάνεται μεγαλύτερη ταχύτητα στην εκπαίδευση του νευρωνικού. Από την άλλη πλευρά, με μικρότερο batch size απαιτείται περισσότερη ώρα εκτέλεσης με μεγαλύτερη όμως ακρίβεια και πιο γρήγορη σύγκλιση σε μεγάλες τιμές ακρίβειας.<br><br>\n"
      ]
    },
    {
      "cell_type": "markdown",
      "metadata": {
        "id": "UU9-CPqb2uC8"
      },
      "source": [
        "##Βήμα 3: Αξιολόγηση ορθότητας\n"
      ]
    },
    {
      "cell_type": "markdown",
      "metadata": {
        "id": "nQ8BwZEYr7e8"
      },
      "source": [
        "Επιλέγουμε τα 4 από τα παραπάνω μοντέλα που κρίναμε ως καλύτερα από τις γραφικές παραστάσεις."
      ]
    },
    {
      "cell_type": "markdown",
      "metadata": {
        "id": "BkJtQMGCnYVG"
      },
      "source": [
        "####Αξιολόγηση LeNet"
      ]
    },
    {
      "cell_type": "code",
      "execution_count": 78,
      "metadata": {
        "colab": {
          "base_uri": "https://localhost:8080/"
        },
        "id": "1u41Tn-rpASu",
        "outputId": "8709b456-b313-4393-cfe3-45e7dbb4edac"
      },
      "outputs": [
        {
          "output_type": "stream",
          "name": "stdout",
          "text": [
            "63/63 - 0s - loss: 2.4637 - accuracy: 0.4375 - 354ms/epoch - 6ms/step\n",
            "LeNet model, accuracy: 43.75%\n"
          ]
        }
      ],
      "source": [
        "LeNet_2 = tf.keras.models.load_model('LeNet_model_2.h5')      # Load model\n",
        "\n",
        "loss, acc = LeNet_2.evaluate(x_test, y_test, verbose=2)\n",
        "print('LeNet model, accuracy: {:5.2f}%'.format(100 * acc))"
      ]
    },
    {
      "cell_type": "markdown",
      "metadata": {
        "id": "pDsJN6qyseeo"
      },
      "source": [
        "####Αξιολόγηση AlexNet"
      ]
    },
    {
      "cell_type": "code",
      "execution_count": 79,
      "metadata": {
        "colab": {
          "base_uri": "https://localhost:8080/"
        },
        "id": "yRHDA0pesl_9",
        "outputId": "8371f7de-3569-4b34-f1e6-9f22f1dbf0a0"
      },
      "outputs": [
        {
          "output_type": "stream",
          "name": "stdout",
          "text": [
            "63/63 - 1s - loss: 2.9632 - accuracy: 0.5570 - 623ms/epoch - 10ms/step\n",
            "AlexNet model, accuracy: 55.70%\n"
          ]
        }
      ],
      "source": [
        "AlexNet_2 = tf.keras.models.load_model('AlexNet_model_2.h5')\n",
        "\n",
        "loss, acc = AlexNet_2.evaluate(x_test, y_test, verbose=2)\n",
        "print('AlexNet model, accuracy: {:5.2f}%'.format(100 * acc))"
      ]
    },
    {
      "cell_type": "markdown",
      "metadata": {
        "id": "vh89X6SKsfMd"
      },
      "source": [
        "####Αξιολόγηση VGG"
      ]
    },
    {
      "cell_type": "code",
      "execution_count": 80,
      "metadata": {
        "colab": {
          "base_uri": "https://localhost:8080/"
        },
        "id": "hrFktr-Gsndx",
        "outputId": "2adbfa85-f168-4787-ddfc-f9e4d542c5db"
      },
      "outputs": [
        {
          "output_type": "stream",
          "name": "stdout",
          "text": [
            "63/63 - 1s - loss: 2.2524 - accuracy: 0.6115 - 504ms/epoch - 8ms/step\n",
            "VGG model, accuracy: 61.15%\n"
          ]
        }
      ],
      "source": [
        "VGG_1 = tf.keras.models.load_model('vgg_model_1.h5')\n",
        "\n",
        "loss, acc = VGG_1.evaluate(x_test, y_test, verbose=2)\n",
        "print('VGG model, accuracy: {:5.2f}%'.format(100 * acc))"
      ]
    },
    {
      "cell_type": "markdown",
      "metadata": {
        "id": "CSsGtHnJsf1D"
      },
      "source": [
        "####Αξιολόγηση MyCNN"
      ]
    },
    {
      "cell_type": "code",
      "execution_count": 81,
      "metadata": {
        "colab": {
          "base_uri": "https://localhost:8080/"
        },
        "id": "YhQ2MBKpsoJS",
        "outputId": "7b31b6f8-e35a-4216-9a6d-b9548314fc0e"
      },
      "outputs": [
        {
          "output_type": "stream",
          "name": "stdout",
          "text": [
            "63/63 - 1s - loss: 2.7193 - accuracy: 0.5580 - 1s/epoch - 18ms/step\n",
            "MyCNN model, accuracy: 55.80%\n"
          ]
        }
      ],
      "source": [
        "MyCNN_1 = tf.keras.models.load_model('MyCNN_model_1.h5')\n",
        "\n",
        "loss, acc = MyCNN_1.evaluate(x_test, y_test, verbose=2)\n",
        "print('MyCNN model, accuracy: {:5.2f}%'.format(100 * acc))"
      ]
    },
    {
      "cell_type": "markdown",
      "metadata": {
        "id": "p8_gsh8pSpZb"
      },
      "source": [
        "Παρατηρούμε πως για όλα τα μοντέλα, οι τιμές του accuracy για τα test data είναι πολύ κοντά στις τιμές του val_accuracy που είχαμε κατά την εκπαίδευση με τα train data. Από την άλλη, το accuracy που είχαμε στα training data είναι πολύ υψηλότερο, το οποίο είναι λογικό, αφού το κάθε μοντέλο αποκτά μια προκατάληψη για το συγκεκριμένο data set που του δίνουμε για εκπαίδευση. Επιπλέον, παρατηρούμε πως από το μέγεθος loss δεν μπορούμε να βγάλουμε ασφαλή συμπεράσματα για το accuracy και αντιστρόφως. Με άλλα λόγια, το accuracy φαίνεται να είναι ανεξάρτητο από το loss. Αυτές οι τιμές αποτελούν χαρακτηριστικά της εκάστοτε υλοποίησης του μοντέλου και των παραμέτρων batch size και εποχών. Τέλος, σημειώνουμε πως το μοντέλο VGG έχει το καλύτερο accuracy στο test data set, δηλαδή σε εικόνες που δεν έχει ξαναδεί το μοντέλο. Έπειτα ακολουθεί το δικό μας μοντέλο, το MyCNN και μετά με μικρή διαφορά το AlexNet. Τη χειρότερη ακρίβεια την έχει το LeNet, το οποίο έχει και τα λιγότερα layers και φίλτρα στις συνελίξεις οπότ αναμέναμε το αποτέλεσμα αυτό."
      ]
    },
    {
      "cell_type": "markdown",
      "metadata": {
        "id": "v8rhgSGOV5pm"
      },
      "source": [
        "\n",
        "## Ερώτημα 2\n",
        "---\n",
        "### Βήμα 1: Έλεγχος υπερεκπαίδευσης\n",
        "\n",
        "Για τον καλύτερο συνδυασμό που λάβατε από το Ερώτημα 1 για μοντέλο σας  (**MyCNN**) και μόνο, δοκιμάστε διάφορους συνδυασμούς των ακόλουθων τεχνικών για τον έλεγχο της υπερεκπαίδευσης (overfitting), όπως: \n",
        "- Πρόωρος τερματισμός (early stopping [tf.keras.callbacks.EarlyStopping](https://www.tensorflow.org/api_docs/python/tf/keras/callbacks/EarlyStoppinghttps://)) \n",
        "\n",
        "- Dropout ([Dropout](https://www.tensorflow.org/tutorials/images/classification#dropout))\n",
        "\n",
        "- Επαύξηση δεδομένων ([Data augmentation](https://www.tensorflow.org/tutorials/images/classification#data_augmentation), [ImageDataGenerator](https://www.tensorflow.org/api_docs/python/tf/keras/preprocessing/image/ImageDataGenerator#class_imagedatagenerator)) \n",
        "\n",
        "\\\\\n",
        ", ώστε το μοντέλο σας να γενικεύει καλύτερα.\n",
        "\n",
        "---\n",
        "### Βήμα 2: Αξιολόγηση\n",
        "Αξιολογήστε της ορθότητας για το validation και το test set σας."
      ]
    },
    {
      "cell_type": "markdown",
      "metadata": {
        "id": "jGb19GoNJ78O"
      },
      "source": [
        "##Βήμα 1: Ελεγχος υπερεκπαίδευσης\n"
      ]
    },
    {
      "cell_type": "markdown",
      "metadata": {
        "id": "0v0Y_eJSKLza"
      },
      "source": [
        "Για το μοντέλο MyCNN_k θα δοκιμάσουμε τις παρακάτω τεχνικές για να ελέγχξουμε την υπερεκπαίδευση (overfitting):"
      ]
    },
    {
      "cell_type": "markdown",
      "metadata": {
        "id": "FLqBUiXvKlV6"
      },
      "source": [
        "####Πρόωρος τερματισμός"
      ]
    },
    {
      "cell_type": "markdown",
      "metadata": {
        "id": "mVTmHDhzK7Gi"
      },
      "source": [
        "Η τεχνική αυτή έχει ως στόχο την ελαχιστοποίηση της τιμής loss, ετσι ώστε το μοντέλο να μπορεί να γενικεύει καλύτερα. Πιο συγκεκριμένα, εκτελώντας την tf.keras.callbacks.EarlyStopping, το όρισμα monitor θα είναι 'loss' και το mode θα είναι 'min'. Στο τέλος κάθε εποχής κατά την εκπαίδευση του μοντέλου θα παρατηρείται αν το loss μειώνεται, σε σχέση με τις προηγούμενες k τιμές, όπου το k είναι η τιμή του ορίσματος patience. Όταν το loss σταματήσει να μειώνεται, τότε η εκπαίδευση του μοντέλου σταματά και αποφεύγεται το ενδεχόμενο του overfitting.\n",
        "\n"
      ]
    },
    {
      "cell_type": "code",
      "execution_count": 88,
      "metadata": {
        "colab": {
          "base_uri": "https://localhost:8080/"
        },
        "id": "mJkT2uFzNNo8",
        "outputId": "824b6df0-d5fd-4c90-d5ce-77f9ae046b32"
      },
      "outputs": [
        {
          "output_type": "execute_result",
          "data": {
            "text/plain": [
              "<keras.callbacks.EarlyStopping at 0x7fa8550dc0d0>"
            ]
          },
          "metadata": {},
          "execution_count": 88
        }
      ],
      "source": [
        "# EarlyStopping function\n",
        "tf.keras.callbacks.EarlyStopping(\n",
        "    monitor='val_loss',\n",
        "    min_delta=0,\n",
        "    patience=0,\n",
        "    verbose=0,\n",
        "    mode='auto',\n",
        "    baseline=None,\n",
        "    restore_best_weights=False\n",
        ")"
      ]
    },
    {
      "cell_type": "markdown",
      "metadata": {
        "id": "8TR0J5QGNmZB"
      },
      "source": [
        "Καλούμε τη συνάρτηση για το val_loss και επιλέγουμε patience = 4, έτσι ώστε να μην είναι πολύ ευαίσθητο το μοντέλο στην τυχαιότητα του loss, αλλά να λαμβάνεται έγκαιρα υπόψη πότε σταματάει να μειώνεται. (Σημείωση: Θα μπορούσαμε να έχουμε χρησιμοποιήσει και το 'loss' για monitor, όμως από το MYCNN μοντέλο φαίνεται θα έτρεχε για περισσότερες εποχές με τον τρόπο αυτό και η Google θα μας έκανε πάλι ban από τη χρήση GPU xd)."
      ]
    },
    {
      "cell_type": "code",
      "execution_count": 89,
      "metadata": {
        "id": "iSTA2gWuNewt"
      },
      "outputs": [],
      "source": [
        "callback = tf.keras.callbacks.EarlyStopping(monitor='val_loss', patience=4)"
      ]
    },
    {
      "cell_type": "code",
      "execution_count": 90,
      "metadata": {
        "colab": {
          "base_uri": "https://localhost:8080/"
        },
        "id": "BsNmRE8IWnI7",
        "outputId": "5e35a333-baf0-4528-f887-e1b1cbf2c8e5"
      },
      "outputs": [
        {
          "output_type": "stream",
          "name": "stdout",
          "text": [
            "Model: \"sequential_113\"\n",
            "_________________________________________________________________\n",
            " Layer (type)                Output Shape              Param #   \n",
            "=================================================================\n",
            " conv2d_160 (Conv2D)         (1, 30, 30, 128)          3584      \n",
            "                                                                 \n",
            " conv2d_161 (Conv2D)         (1, 30, 30, 256)          819456    \n",
            "                                                                 \n",
            " max_pooling2d_102 (MaxPooli  (1, 14, 14, 256)         0         \n",
            " ng2D)                                                           \n",
            "                                                                 \n",
            " dropout_67 (Dropout)        (1, 14, 14, 256)          0         \n",
            "                                                                 \n",
            " conv2d_162 (Conv2D)         (1, 14, 14, 512)          1180160   \n",
            "                                                                 \n",
            " max_pooling2d_103 (MaxPooli  (1, 6, 6, 512)           0         \n",
            " ng2D)                                                           \n",
            "                                                                 \n",
            " dropout_68 (Dropout)        (1, 6, 6, 512)            0         \n",
            "                                                                 \n",
            " conv2d_163 (Conv2D)         (1, 6, 6, 512)            2359808   \n",
            "                                                                 \n",
            " conv2d_164 (Conv2D)         (1, 6, 6, 256)            1179904   \n",
            "                                                                 \n",
            " max_pooling2d_104 (MaxPooli  (1, 2, 2, 256)           0         \n",
            " ng2D)                                                           \n",
            "                                                                 \n",
            " dropout_69 (Dropout)        (1, 2, 2, 256)            0         \n",
            "                                                                 \n",
            " flatten_35 (Flatten)        (1, 1024)                 0         \n",
            "                                                                 \n",
            " dense_105 (Dense)           (1, 4096)                 4198400   \n",
            "                                                                 \n",
            " dropout_70 (Dropout)        (1, 4096)                 0         \n",
            "                                                                 \n",
            " dense_106 (Dense)           (1, 4096)                 16781312  \n",
            "                                                                 \n",
            " dropout_71 (Dropout)        (1, 4096)                 0         \n",
            "                                                                 \n",
            " dense_107 (Dense)           (1, 20)                   81940     \n",
            "                                                                 \n",
            "=================================================================\n",
            "Total params: 26,604,564\n",
            "Trainable params: 26,604,564\n",
            "Non-trainable params: 0\n",
            "_________________________________________________________________\n",
            "Epoch 1/30\n",
            "67/67 [==============================] - 8s 106ms/step - loss: 2.9441 - accuracy: 0.0680 - val_loss: 2.8250 - val_accuracy: 0.1005\n",
            "Epoch 2/30\n",
            "67/67 [==============================] - 7s 104ms/step - loss: 2.7174 - accuracy: 0.1315 - val_loss: 2.6054 - val_accuracy: 0.1760\n",
            "Epoch 3/30\n",
            "67/67 [==============================] - 7s 105ms/step - loss: 2.5206 - accuracy: 0.1978 - val_loss: 2.4334 - val_accuracy: 0.2285\n",
            "Epoch 4/30\n",
            "67/67 [==============================] - 7s 106ms/step - loss: 2.3821 - accuracy: 0.2486 - val_loss: 2.3303 - val_accuracy: 0.2805\n",
            "Epoch 5/30\n",
            "67/67 [==============================] - 7s 107ms/step - loss: 2.2487 - accuracy: 0.2907 - val_loss: 2.1687 - val_accuracy: 0.3450\n",
            "Epoch 6/30\n",
            "67/67 [==============================] - 7s 109ms/step - loss: 2.1378 - accuracy: 0.3239 - val_loss: 2.0048 - val_accuracy: 0.3940\n",
            "Epoch 7/30\n",
            "67/67 [==============================] - 7s 109ms/step - loss: 1.9576 - accuracy: 0.3892 - val_loss: 1.8768 - val_accuracy: 0.4365\n",
            "Epoch 8/30\n",
            "67/67 [==============================] - 7s 107ms/step - loss: 1.8707 - accuracy: 0.4198 - val_loss: 1.9115 - val_accuracy: 0.4120\n",
            "Epoch 9/30\n",
            "67/67 [==============================] - 7s 105ms/step - loss: 1.7133 - accuracy: 0.4665 - val_loss: 1.7760 - val_accuracy: 0.4545\n",
            "Epoch 10/30\n",
            "67/67 [==============================] - 7s 105ms/step - loss: 1.6119 - accuracy: 0.4934 - val_loss: 1.6747 - val_accuracy: 0.4830\n",
            "Epoch 11/30\n",
            "67/67 [==============================] - 7s 105ms/step - loss: 1.4755 - accuracy: 0.5324 - val_loss: 1.6420 - val_accuracy: 0.4920\n",
            "Epoch 12/30\n",
            "67/67 [==============================] - 7s 104ms/step - loss: 1.3591 - accuracy: 0.5699 - val_loss: 1.6829 - val_accuracy: 0.5020\n",
            "Epoch 13/30\n",
            "67/67 [==============================] - 7s 104ms/step - loss: 1.2670 - accuracy: 0.5904 - val_loss: 1.6136 - val_accuracy: 0.5190\n",
            "Epoch 14/30\n",
            "67/67 [==============================] - 7s 104ms/step - loss: 1.1961 - accuracy: 0.6184 - val_loss: 1.5377 - val_accuracy: 0.5310\n",
            "Epoch 15/30\n",
            "67/67 [==============================] - 7s 106ms/step - loss: 1.0841 - accuracy: 0.6515 - val_loss: 1.5797 - val_accuracy: 0.5370\n",
            "Epoch 16/30\n",
            "67/67 [==============================] - 7s 105ms/step - loss: 1.0151 - accuracy: 0.6705 - val_loss: 1.5640 - val_accuracy: 0.5575\n",
            "Epoch 17/30\n",
            "67/67 [==============================] - 7s 105ms/step - loss: 0.9476 - accuracy: 0.6884 - val_loss: 1.5704 - val_accuracy: 0.5575\n",
            "Epoch 18/30\n",
            "67/67 [==============================] - 7s 106ms/step - loss: 0.8729 - accuracy: 0.7186 - val_loss: 1.6297 - val_accuracy: 0.5655\n"
          ]
        }
      ],
      "source": [
        "# build MyCNN_model_final similar to MyCNN_model_1\n",
        "\n",
        "MyCNN_one = MyCNN()\n",
        "MyCNN_one.build((1, 32, 32, 3))\n",
        "MyCNN_one.summary()\n",
        "\n",
        "MyCNN_one.compile(optimizer='adam', loss=tf.keras.losses.SparseCategoricalCrossentropy(from_logits=True), metrics=['accuracy'])\n",
        "\n",
        "history_early = MyCNN_one.fit(x_train, y_train, epochs=30, batch_size=128, validation_data=(x_test, y_test), callbacks=callback)\n",
        "\n",
        "MyCNN_one.save('MyCNN_early.h5')"
      ]
    },
    {
      "cell_type": "code",
      "execution_count": 91,
      "metadata": {
        "colab": {
          "base_uri": "https://localhost:8080/"
        },
        "id": "l1gnblXZZRJ1",
        "outputId": "006bf32d-5df1-4d3b-fc60-19dd32c7d369"
      },
      "outputs": [
        {
          "output_type": "stream",
          "name": "stdout",
          "text": [
            "63/63 - 1s - loss: 1.6297 - accuracy: 0.5655 - 834ms/epoch - 13ms/step\n",
            "MyCNN model with early stop, accuracy: 56.55%\n"
          ]
        }
      ],
      "source": [
        "MyCNN_temp = tf.keras.models.load_model('MyCNN_early.h5')\n",
        "\n",
        "loss, acc = MyCNN_temp.evaluate(x_test, y_test, verbose=2)\n",
        "print('MyCNN model with early stop, accuracy: {:5.2f}%'.format(100 * acc))"
      ]
    },
    {
      "cell_type": "markdown",
      "metadata": {
        "id": "oCNJdnwfJi8h"
      },
      "source": [
        "Με τη χρήση της τεχνικής αυτής, η εκπαίδευση του μοντέλου σταματά στην 18η εποχή. Η ακρίβεια αυξήθηκε κατά 0.75% (από το 55.8% που ήταν προηγουμένως πήγε στο 56.55%) και επιπλέον γλιτώσαμε 12 εποχές εκπαίδευσης, οι οποίες τελικά δεν επέφεραν καμία βελτίωση. "
      ]
    },
    {
      "cell_type": "markdown",
      "metadata": {
        "id": "BlKv7MGJQE6L"
      },
      "source": [
        "####Dropout"
      ]
    },
    {
      "cell_type": "markdown",
      "metadata": {
        "id": "qV__ojE1KuTp"
      },
      "source": [
        "Η τεχνική dropout χρησιμοποιείται για την αντιμετώπιση της υπερεκπαίδευσης. Η κεντρική ιδέα του dropout είναι η απενεργοποίηση τυχαίων νευρώνων του δικτύου κατά την εκπαίδευση του μοντέλου. Πιο συγκεκριμένα, όταν εφαρμόζουμε την τεχνική αυτή σε ένα στρώμα του μοντέλου, κάποιοι νευρώνες επιλέγονται τυχαία και μηδενίζεται η έξοδός τους. Αυτό έχει ως αποτέλεσμα, να αποτρέπεται η ανάπτυξη αλληλεξαρτησίας μεταξύ γειτονικών νευρώνων, χωρίς όμως να περιορίζεται η ισχύς του καθενός ξεχωριστά.<br><br>\n",
        "\n",
        "Σχεδιάζουμε το MyCNN_model_1 με dropout αυτή τη φορά:"
      ]
    },
    {
      "cell_type": "code",
      "execution_count": 92,
      "metadata": {
        "id": "Bk0l1B2kOn3-"
      },
      "outputs": [],
      "source": [
        "def MyCNN():\n",
        "        return tf.keras.models.Sequential([\n",
        "        tf.keras.layers.Conv2D(filters=128, kernel_size=3, activation='relu'),\n",
        "        tf.keras.layers.Conv2D(filters=256, kernel_size=5, padding='same', activation='relu'),\n",
        "        tf.keras.layers.MaxPool2D(pool_size=3, strides=2),\n",
        "        layers.Dropout(0.05),\n",
        "        tf.keras.layers.Conv2D(filters=512, kernel_size=3, padding='same', activation='relu'),\n",
        "        tf.keras.layers.MaxPool2D(pool_size=3, strides=2),\n",
        "        layers.Dropout(0.05),\n",
        "        tf.keras.layers.Conv2D(filters=512, kernel_size=3, padding='same', activation='relu'),\n",
        "        tf.keras.layers.Conv2D(filters=256, kernel_size=3, padding='same', activation='relu'),\n",
        "        tf.keras.layers.MaxPool2D(pool_size=3, strides=2),\n",
        "        layers.Dropout(0.05),\n",
        "        tf.keras.layers.Flatten(),\n",
        "        tf.keras.layers.Dense(4096, activation='relu'),\n",
        "        tf.keras.layers.Dropout(0.5),\n",
        "        tf.keras.layers.Dense(4096, activation='relu'),\n",
        "        tf.keras.layers.Dropout(0.5),\n",
        "        tf.keras.layers.Dense(20)\n",
        "    ])"
      ]
    },
    {
      "cell_type": "code",
      "execution_count": 93,
      "metadata": {
        "colab": {
          "base_uri": "https://localhost:8080/"
        },
        "id": "SnbGIU9BP36f",
        "outputId": "c7f5efbe-bf37-4344-f3bd-3033c86a5f8e"
      },
      "outputs": [
        {
          "output_type": "stream",
          "name": "stdout",
          "text": [
            "Model: \"sequential_114\"\n",
            "_________________________________________________________________\n",
            " Layer (type)                Output Shape              Param #   \n",
            "=================================================================\n",
            " conv2d_165 (Conv2D)         (1, 30, 30, 128)          3584      \n",
            "                                                                 \n",
            " conv2d_166 (Conv2D)         (1, 30, 30, 256)          819456    \n",
            "                                                                 \n",
            " max_pooling2d_105 (MaxPooli  (1, 14, 14, 256)         0         \n",
            " ng2D)                                                           \n",
            "                                                                 \n",
            " dropout_72 (Dropout)        (1, 14, 14, 256)          0         \n",
            "                                                                 \n",
            " conv2d_167 (Conv2D)         (1, 14, 14, 512)          1180160   \n",
            "                                                                 \n",
            " max_pooling2d_106 (MaxPooli  (1, 6, 6, 512)           0         \n",
            " ng2D)                                                           \n",
            "                                                                 \n",
            " dropout_73 (Dropout)        (1, 6, 6, 512)            0         \n",
            "                                                                 \n",
            " conv2d_168 (Conv2D)         (1, 6, 6, 512)            2359808   \n",
            "                                                                 \n",
            " conv2d_169 (Conv2D)         (1, 6, 6, 256)            1179904   \n",
            "                                                                 \n",
            " max_pooling2d_107 (MaxPooli  (1, 2, 2, 256)           0         \n",
            " ng2D)                                                           \n",
            "                                                                 \n",
            " dropout_74 (Dropout)        (1, 2, 2, 256)            0         \n",
            "                                                                 \n",
            " flatten_36 (Flatten)        (1, 1024)                 0         \n",
            "                                                                 \n",
            " dense_108 (Dense)           (1, 4096)                 4198400   \n",
            "                                                                 \n",
            " dropout_75 (Dropout)        (1, 4096)                 0         \n",
            "                                                                 \n",
            " dense_109 (Dense)           (1, 4096)                 16781312  \n",
            "                                                                 \n",
            " dropout_76 (Dropout)        (1, 4096)                 0         \n",
            "                                                                 \n",
            " dense_110 (Dense)           (1, 20)                   81940     \n",
            "                                                                 \n",
            "=================================================================\n",
            "Total params: 26,604,564\n",
            "Trainable params: 26,604,564\n",
            "Non-trainable params: 0\n",
            "_________________________________________________________________\n",
            "Epoch 1/20\n",
            "67/67 [==============================] - 8s 107ms/step - loss: 2.9647 - accuracy: 0.0685 - val_loss: 2.8178 - val_accuracy: 0.1020\n",
            "Epoch 2/20\n",
            "67/67 [==============================] - 7s 105ms/step - loss: 2.6962 - accuracy: 0.1511 - val_loss: 2.5552 - val_accuracy: 0.1845\n",
            "Epoch 3/20\n",
            "67/67 [==============================] - 7s 105ms/step - loss: 2.4957 - accuracy: 0.2119 - val_loss: 2.4585 - val_accuracy: 0.2220\n",
            "Epoch 4/20\n",
            "67/67 [==============================] - 7s 108ms/step - loss: 2.3519 - accuracy: 0.2633 - val_loss: 2.3235 - val_accuracy: 0.2820\n",
            "Epoch 5/20\n",
            "67/67 [==============================] - 7s 107ms/step - loss: 2.2372 - accuracy: 0.3065 - val_loss: 2.1971 - val_accuracy: 0.3280\n",
            "Epoch 6/20\n",
            "67/67 [==============================] - 7s 108ms/step - loss: 2.0697 - accuracy: 0.3533 - val_loss: 2.0404 - val_accuracy: 0.3815\n",
            "Epoch 7/20\n",
            "67/67 [==============================] - 7s 107ms/step - loss: 1.8828 - accuracy: 0.4140 - val_loss: 1.9910 - val_accuracy: 0.4030\n",
            "Epoch 8/20\n",
            "67/67 [==============================] - 7s 106ms/step - loss: 1.7915 - accuracy: 0.4418 - val_loss: 1.7746 - val_accuracy: 0.4545\n",
            "Epoch 9/20\n",
            "67/67 [==============================] - 7s 105ms/step - loss: 1.6410 - accuracy: 0.4811 - val_loss: 1.7609 - val_accuracy: 0.4560\n",
            "Epoch 10/20\n",
            "67/67 [==============================] - 7s 105ms/step - loss: 1.5285 - accuracy: 0.5156 - val_loss: 1.6864 - val_accuracy: 0.4835\n",
            "Epoch 11/20\n",
            "67/67 [==============================] - 7s 105ms/step - loss: 1.4719 - accuracy: 0.5378 - val_loss: 1.5822 - val_accuracy: 0.5065\n",
            "Epoch 12/20\n",
            "67/67 [==============================] - 7s 105ms/step - loss: 1.3105 - accuracy: 0.5808 - val_loss: 1.6522 - val_accuracy: 0.4995\n",
            "Epoch 13/20\n",
            "67/67 [==============================] - 7s 104ms/step - loss: 1.2064 - accuracy: 0.6081 - val_loss: 1.5854 - val_accuracy: 0.5245\n",
            "Epoch 14/20\n",
            "67/67 [==============================] - 7s 105ms/step - loss: 1.1050 - accuracy: 0.6461 - val_loss: 1.6092 - val_accuracy: 0.5405\n",
            "Epoch 15/20\n",
            "67/67 [==============================] - 7s 105ms/step - loss: 1.0234 - accuracy: 0.6696 - val_loss: 1.6200 - val_accuracy: 0.5305\n",
            "Epoch 16/20\n",
            "67/67 [==============================] - 7s 106ms/step - loss: 0.9454 - accuracy: 0.6944 - val_loss: 1.5779 - val_accuracy: 0.5485\n",
            "Epoch 17/20\n",
            "67/67 [==============================] - 7s 106ms/step - loss: 0.8609 - accuracy: 0.7198 - val_loss: 1.6079 - val_accuracy: 0.5490\n",
            "Epoch 18/20\n",
            "67/67 [==============================] - 7s 106ms/step - loss: 0.7585 - accuracy: 0.7455 - val_loss: 1.6967 - val_accuracy: 0.5535\n",
            "Epoch 19/20\n",
            "67/67 [==============================] - 7s 105ms/step - loss: 0.6943 - accuracy: 0.7784 - val_loss: 1.7103 - val_accuracy: 0.5490\n",
            "Epoch 20/20\n",
            "67/67 [==============================] - 7s 106ms/step - loss: 0.6372 - accuracy: 0.7934 - val_loss: 1.8017 - val_accuracy: 0.5670\n"
          ]
        }
      ],
      "source": [
        "MyCNN_two = MyCNN()\n",
        "MyCNN_two.build((1, 32, 32, 3))\n",
        "MyCNN_two.summary()\n",
        "\n",
        "MyCNN_two.compile(optimizer='adam', loss=tf.keras.losses.SparseCategoricalCrossentropy(from_logits=True), metrics=['accuracy'])\n",
        "\n",
        "history_drop = MyCNN_two.fit(x_train, y_train, epochs=20, batch_size=128, validation_data=(x_test, y_test))\n",
        "\n",
        "MyCNN_two.save('MyCNN_drop.h5')"
      ]
    },
    {
      "cell_type": "code",
      "execution_count": 94,
      "metadata": {
        "colab": {
          "base_uri": "https://localhost:8080/"
        },
        "id": "GPMBfNqkRQpk",
        "outputId": "4c97be5f-fd19-4d3c-fea3-a9a056fdb5b5"
      },
      "outputs": [
        {
          "output_type": "stream",
          "name": "stdout",
          "text": [
            "63/63 - 1s - loss: 1.8017 - accuracy: 0.5670 - 861ms/epoch - 14ms/step\n",
            "MyCNN model with dropout, accuracy: 56.70%\n"
          ]
        }
      ],
      "source": [
        "MyCNN_temp = tf.keras.models.load_model('MyCNN_drop.h5')\n",
        "\n",
        "loss, acc = MyCNN_temp.evaluate(x_test, y_test, verbose=2)\n",
        "print('MyCNN model with dropout, accuracy: {:5.2f}%'.format(100 * acc))"
      ]
    },
    {
      "cell_type": "markdown",
      "metadata": {
        "id": "vxRpyr7nufO5"
      },
      "source": [
        "Έχουμε αύξηση της ακρίβειας κατά 0.9%."
      ]
    },
    {
      "cell_type": "markdown",
      "metadata": {
        "id": "kONP6QrXSjk9"
      },
      "source": [
        "####Data Augmentation"
      ]
    },
    {
      "cell_type": "markdown",
      "metadata": {
        "id": "eOIUgxlpSqjs"
      },
      "source": [
        "Η υπερεκπαίδευση συνήθως συμβαίνει όταν έχουμε λίγα δεδομένα για την εκπαίδευση του μοντέλου μας. Η βασική ιδέα της τεχνικής data augmentation, είναι η παραγωγή επιπλέον δεδομένων εκπαίδευσης με την εφαρμογή τυχαίων μετασχηματισμών στα ήδη υπάρχοντα δεδομένα εκπαίδευσης. Αυτό έχει ως αποτέλεσμα, την έκθεση του μοντέλου σε περισσότερα δεδομένα εκπαίδευσης τη στιγμή που ο αριθμός των κλάσεων παραμένει σταθερός. Συνεπώς, αυξάνεται η ακρίβεια του μοντέλου. "
      ]
    },
    {
      "cell_type": "markdown",
      "source": [
        "Στα παρακάτω παραδείγματα χρησιμοποιούμε data augmentation σε συνδυασμό με τις δύο παραπάνω τεχνικές για καλύτερα αποτελέσματα."
      ],
      "metadata": {
        "id": "_16S-6YIlV_8"
      }
    },
    {
      "cell_type": "markdown",
      "source": [
        "* Data Augmentation και Early Stop"
      ],
      "metadata": {
        "id": "kjq9ULaCnygD"
      }
    },
    {
      "cell_type": "code",
      "source": [
        "def MyCNN_Improved_1():\n",
        "\n",
        "  # define a data_augmentation layer that transforms input data\n",
        "  data_augmentation = tf.keras.Sequential(\n",
        "    [\n",
        "      layers.RandomFlip(\"horizontal\", input_shape=(32, 32, 3)),\n",
        "      layers.RandomRotation(0.1),\n",
        "      layers.RandomZoom(0.1)\n",
        "    ]\n",
        "  )\n",
        "\n",
        "  return tf.keras.models.Sequential([\n",
        "    data_augmentation,                            \n",
        "    tf.keras.layers.Conv2D(filters=32, kernel_size=3, activation='relu'),\n",
        "    tf.keras.layers.MaxPool2D(pool_size=2),\n",
        "    tf.keras.layers.Conv2D(filters=64, kernel_size=3, padding='same', activation='relu'),\n",
        "    tf.keras.layers.MaxPool2D(pool_size=2),\n",
        "    tf.keras.layers.Conv2D(filters=128, kernel_size=3, padding='same', activation='relu'),\n",
        "    tf.keras.layers.MaxPool2D(pool_size=2),\n",
        "    tf.keras.layers.Conv2D(filters=128, kernel_size=3, padding='same', activation='relu'),\n",
        "    tf.keras.layers.MaxPool2D(pool_size=2),\n",
        "    tf.keras.layers.Flatten(),\n",
        "    tf.keras.layers.Dense(64, activation='relu'),\n",
        "    tf.keras.layers.Dropout(0.15),\n",
        "    tf.keras.layers.Dense(64, activation='relu'),\n",
        "    tf.keras.layers.Dropout(0.15),\n",
        "    tf.keras.layers.Dense(20)\n",
        "  ])"
      ],
      "metadata": {
        "id": "kNhQRYq-lRAI"
      },
      "execution_count": 95,
      "outputs": []
    },
    {
      "cell_type": "code",
      "source": [
        "callback = tf.keras.callbacks.EarlyStopping(monitor='val_loss', patience=5)\n",
        "\n",
        "MyCNN_three = MyCNN_Improved_1()\n",
        "\n",
        "MyCNN_three.compile(optimizer='adam',\n",
        "              loss=tf.keras.losses.SparseCategoricalCrossentropy(from_logits=True),\n",
        "              metrics=['accuracy'])\n",
        "\n",
        "history_improved_1 = MyCNN_three.fit(x_train, y_train, epochs=50, batch_size=64, callbacks = [callback], validation_data=(x_val, y_val))\n",
        "\n",
        "MyCNN_three.save('MyCNN_imp1.h5')"
      ],
      "metadata": {
        "colab": {
          "base_uri": "https://localhost:8080/"
        },
        "id": "0xJ3lwrUmyk6",
        "outputId": "dc463357-956a-4c36-f549-26acec3a2264"
      },
      "execution_count": 96,
      "outputs": [
        {
          "output_type": "stream",
          "name": "stdout",
          "text": [
            "Epoch 1/50\n",
            "133/133 [==============================] - 3s 10ms/step - loss: 2.8959 - accuracy: 0.0907 - val_loss: 2.7089 - val_accuracy: 0.1547\n",
            "Epoch 2/50\n",
            "133/133 [==============================] - 1s 8ms/step - loss: 2.6183 - accuracy: 0.1804 - val_loss: 2.4229 - val_accuracy: 0.2367\n",
            "Epoch 3/50\n",
            "133/133 [==============================] - 1s 7ms/step - loss: 2.4352 - accuracy: 0.2388 - val_loss: 2.3004 - val_accuracy: 0.2793\n",
            "Epoch 4/50\n",
            "133/133 [==============================] - 1s 8ms/step - loss: 2.2904 - accuracy: 0.2802 - val_loss: 2.1509 - val_accuracy: 0.3320\n",
            "Epoch 5/50\n",
            "133/133 [==============================] - 1s 8ms/step - loss: 2.1958 - accuracy: 0.3126 - val_loss: 2.0439 - val_accuracy: 0.3687\n",
            "Epoch 6/50\n",
            "133/133 [==============================] - 1s 8ms/step - loss: 2.1262 - accuracy: 0.3425 - val_loss: 2.0354 - val_accuracy: 0.3513\n",
            "Epoch 7/50\n",
            "133/133 [==============================] - 1s 8ms/step - loss: 2.0346 - accuracy: 0.3736 - val_loss: 1.9230 - val_accuracy: 0.4060\n",
            "Epoch 8/50\n",
            "133/133 [==============================] - 1s 7ms/step - loss: 1.9621 - accuracy: 0.4011 - val_loss: 1.8547 - val_accuracy: 0.4187\n",
            "Epoch 9/50\n",
            "133/133 [==============================] - 1s 7ms/step - loss: 1.8903 - accuracy: 0.4193 - val_loss: 1.8703 - val_accuracy: 0.4160\n",
            "Epoch 10/50\n",
            "133/133 [==============================] - 1s 7ms/step - loss: 1.8262 - accuracy: 0.4391 - val_loss: 1.7329 - val_accuracy: 0.4600\n",
            "Epoch 11/50\n",
            "133/133 [==============================] - 1s 8ms/step - loss: 1.7958 - accuracy: 0.4475 - val_loss: 1.7986 - val_accuracy: 0.4513\n",
            "Epoch 12/50\n",
            "133/133 [==============================] - 1s 8ms/step - loss: 1.7310 - accuracy: 0.4712 - val_loss: 1.6287 - val_accuracy: 0.5033\n",
            "Epoch 13/50\n",
            "133/133 [==============================] - 1s 8ms/step - loss: 1.6967 - accuracy: 0.4806 - val_loss: 1.7188 - val_accuracy: 0.4887\n",
            "Epoch 14/50\n",
            "133/133 [==============================] - 1s 8ms/step - loss: 1.6302 - accuracy: 0.5028 - val_loss: 1.7177 - val_accuracy: 0.4807\n",
            "Epoch 15/50\n",
            "133/133 [==============================] - 1s 7ms/step - loss: 1.6135 - accuracy: 0.5080 - val_loss: 1.5499 - val_accuracy: 0.5267\n",
            "Epoch 16/50\n",
            "133/133 [==============================] - 1s 8ms/step - loss: 1.5571 - accuracy: 0.5254 - val_loss: 1.5113 - val_accuracy: 0.5333\n",
            "Epoch 17/50\n",
            "133/133 [==============================] - 1s 8ms/step - loss: 1.5194 - accuracy: 0.5298 - val_loss: 1.5925 - val_accuracy: 0.5167\n",
            "Epoch 18/50\n",
            "133/133 [==============================] - 1s 8ms/step - loss: 1.5039 - accuracy: 0.5456 - val_loss: 1.6058 - val_accuracy: 0.5027\n",
            "Epoch 19/50\n",
            "133/133 [==============================] - 1s 7ms/step - loss: 1.4747 - accuracy: 0.5526 - val_loss: 1.4633 - val_accuracy: 0.5567\n",
            "Epoch 20/50\n",
            "133/133 [==============================] - 1s 7ms/step - loss: 1.4133 - accuracy: 0.5704 - val_loss: 1.5099 - val_accuracy: 0.5287\n",
            "Epoch 21/50\n",
            "133/133 [==============================] - 1s 8ms/step - loss: 1.3970 - accuracy: 0.5687 - val_loss: 1.4661 - val_accuracy: 0.5653\n",
            "Epoch 22/50\n",
            "133/133 [==============================] - 1s 8ms/step - loss: 1.3943 - accuracy: 0.5705 - val_loss: 1.4613 - val_accuracy: 0.5580\n",
            "Epoch 23/50\n",
            "133/133 [==============================] - 1s 7ms/step - loss: 1.3418 - accuracy: 0.5846 - val_loss: 1.4514 - val_accuracy: 0.5627\n",
            "Epoch 24/50\n",
            "133/133 [==============================] - 1s 7ms/step - loss: 1.3179 - accuracy: 0.5984 - val_loss: 1.4093 - val_accuracy: 0.5767\n",
            "Epoch 25/50\n",
            "133/133 [==============================] - 1s 7ms/step - loss: 1.2885 - accuracy: 0.6076 - val_loss: 1.4572 - val_accuracy: 0.5767\n",
            "Epoch 26/50\n",
            "133/133 [==============================] - 1s 8ms/step - loss: 1.2610 - accuracy: 0.6124 - val_loss: 1.3722 - val_accuracy: 0.5853\n",
            "Epoch 27/50\n",
            "133/133 [==============================] - 1s 7ms/step - loss: 1.2262 - accuracy: 0.6215 - val_loss: 1.4390 - val_accuracy: 0.5793\n",
            "Epoch 28/50\n",
            "133/133 [==============================] - 1s 7ms/step - loss: 1.2260 - accuracy: 0.6239 - val_loss: 1.4002 - val_accuracy: 0.5753\n",
            "Epoch 29/50\n",
            "133/133 [==============================] - 1s 8ms/step - loss: 1.1936 - accuracy: 0.6345 - val_loss: 1.4322 - val_accuracy: 0.5673\n",
            "Epoch 30/50\n",
            "133/133 [==============================] - 1s 8ms/step - loss: 1.1948 - accuracy: 0.6339 - val_loss: 1.3608 - val_accuracy: 0.5927\n",
            "Epoch 31/50\n",
            "133/133 [==============================] - 1s 8ms/step - loss: 1.1711 - accuracy: 0.6340 - val_loss: 1.3829 - val_accuracy: 0.5933\n",
            "Epoch 32/50\n",
            "133/133 [==============================] - 1s 8ms/step - loss: 1.1394 - accuracy: 0.6508 - val_loss: 1.4011 - val_accuracy: 0.5773\n",
            "Epoch 33/50\n",
            "133/133 [==============================] - 1s 7ms/step - loss: 1.1284 - accuracy: 0.6525 - val_loss: 1.3941 - val_accuracy: 0.5813\n",
            "Epoch 34/50\n",
            "133/133 [==============================] - 1s 7ms/step - loss: 1.0949 - accuracy: 0.6646 - val_loss: 1.3538 - val_accuracy: 0.5880\n",
            "Epoch 35/50\n",
            "133/133 [==============================] - 1s 8ms/step - loss: 1.0832 - accuracy: 0.6620 - val_loss: 1.3703 - val_accuracy: 0.6007\n",
            "Epoch 36/50\n",
            "133/133 [==============================] - 1s 8ms/step - loss: 1.0763 - accuracy: 0.6667 - val_loss: 1.4021 - val_accuracy: 0.6047\n",
            "Epoch 37/50\n",
            "133/133 [==============================] - 1s 8ms/step - loss: 1.0330 - accuracy: 0.6844 - val_loss: 1.3888 - val_accuracy: 0.5860\n",
            "Epoch 38/50\n",
            "133/133 [==============================] - 1s 8ms/step - loss: 1.0322 - accuracy: 0.6826 - val_loss: 1.4151 - val_accuracy: 0.5980\n",
            "Epoch 39/50\n",
            "133/133 [==============================] - 1s 7ms/step - loss: 1.0314 - accuracy: 0.6791 - val_loss: 1.4300 - val_accuracy: 0.6000\n"
          ]
        }
      ]
    },
    {
      "cell_type": "markdown",
      "source": [
        "* Data Augmentation, Early Stop και Dropout"
      ],
      "metadata": {
        "id": "2pa40x8Wors7"
      }
    },
    {
      "cell_type": "code",
      "source": [
        "def MyCNN_Improved_2():\n",
        "\n",
        "  # define a data_augmentation layer that transforms input data\n",
        "  data_augmentation = tf.keras.Sequential(\n",
        "    [\n",
        "      layers.RandomFlip(\"horizontal\", input_shape=(32, 32, 3)),\n",
        "      layers.RandomRotation(0.1),\n",
        "      layers.RandomZoom(0.1)\n",
        "    ]\n",
        "  )\n",
        "\n",
        "  return tf.keras.models.Sequential([\n",
        "    data_augmentation,                            \n",
        "    tf.keras.layers.Conv2D(filters=32, kernel_size=3, activation='relu'),\n",
        "    tf.keras.layers.MaxPool2D(pool_size=2),\n",
        "    tf.keras.layers.Conv2D(filters=64, kernel_size=3, padding='same', activation='relu'),\n",
        "    tf.keras.layers.MaxPool2D(pool_size=2),\n",
        "    layers.Dropout(0.02),\n",
        "    tf.keras.layers.Conv2D(filters=128, kernel_size=3, padding='same', activation='relu'),\n",
        "    tf.keras.layers.MaxPool2D(pool_size=2),\n",
        "    tf.keras.layers.Conv2D(filters=128, kernel_size=3, padding='same', activation='relu'),\n",
        "    tf.keras.layers.MaxPool2D(pool_size=2),\n",
        "    layers.Dropout(0.02),\n",
        "    tf.keras.layers.Flatten(),\n",
        "    tf.keras.layers.Dense(64, activation='relu'),\n",
        "    tf.keras.layers.Dropout(0.15),\n",
        "    tf.keras.layers.Dense(64, activation='relu'),\n",
        "    tf.keras.layers.Dropout(0.15),\n",
        "    tf.keras.layers.Dense(20)\n",
        "  ])\n",
        "\n",
        "MyCNN_four = MyCNN_Improved_2()\n",
        "MyCNN_four.summary()"
      ],
      "metadata": {
        "colab": {
          "base_uri": "https://localhost:8080/"
        },
        "id": "LJ3DbS11orT7",
        "outputId": "981eec8b-506c-4d50-952c-d55e8b458048"
      },
      "execution_count": 97,
      "outputs": [
        {
          "output_type": "stream",
          "name": "stdout",
          "text": [
            "Model: \"sequential_118\"\n",
            "_________________________________________________________________\n",
            " Layer (type)                Output Shape              Param #   \n",
            "=================================================================\n",
            " sequential_117 (Sequential)  (None, 32, 32, 3)        0         \n",
            "                                                                 \n",
            " conv2d_174 (Conv2D)         (None, 30, 30, 32)        896       \n",
            "                                                                 \n",
            " max_pooling2d_112 (MaxPooli  (None, 15, 15, 32)       0         \n",
            " ng2D)                                                           \n",
            "                                                                 \n",
            " conv2d_175 (Conv2D)         (None, 15, 15, 64)        18496     \n",
            "                                                                 \n",
            " max_pooling2d_113 (MaxPooli  (None, 7, 7, 64)         0         \n",
            " ng2D)                                                           \n",
            "                                                                 \n",
            " dropout_79 (Dropout)        (None, 7, 7, 64)          0         \n",
            "                                                                 \n",
            " conv2d_176 (Conv2D)         (None, 7, 7, 128)         73856     \n",
            "                                                                 \n",
            " max_pooling2d_114 (MaxPooli  (None, 3, 3, 128)        0         \n",
            " ng2D)                                                           \n",
            "                                                                 \n",
            " conv2d_177 (Conv2D)         (None, 3, 3, 128)         147584    \n",
            "                                                                 \n",
            " max_pooling2d_115 (MaxPooli  (None, 1, 1, 128)        0         \n",
            " ng2D)                                                           \n",
            "                                                                 \n",
            " dropout_80 (Dropout)        (None, 1, 1, 128)         0         \n",
            "                                                                 \n",
            " flatten_38 (Flatten)        (None, 128)               0         \n",
            "                                                                 \n",
            " dense_114 (Dense)           (None, 64)                8256      \n",
            "                                                                 \n",
            " dropout_81 (Dropout)        (None, 64)                0         \n",
            "                                                                 \n",
            " dense_115 (Dense)           (None, 64)                4160      \n",
            "                                                                 \n",
            " dropout_82 (Dropout)        (None, 64)                0         \n",
            "                                                                 \n",
            " dense_116 (Dense)           (None, 20)                1300      \n",
            "                                                                 \n",
            "=================================================================\n",
            "Total params: 254,548\n",
            "Trainable params: 254,548\n",
            "Non-trainable params: 0\n",
            "_________________________________________________________________\n"
          ]
        }
      ]
    },
    {
      "cell_type": "code",
      "source": [
        "callback = tf.keras.callbacks.EarlyStopping(monitor='val_loss', patience=5)\n",
        "\n",
        "MyCNN_four.compile(optimizer='adam',\n",
        "              loss=tf.keras.losses.SparseCategoricalCrossentropy(from_logits=True),\n",
        "              metrics=['accuracy'])\n",
        "\n",
        "history_improved_2 = MyCNN_four.fit(x_train, y_train, epochs=50, batch_size=64, callbacks = [callback], validation_data=(x_val, y_val))\n",
        "\n",
        "MyCNN_four.save('MyCNN_imp2.h5')"
      ],
      "metadata": {
        "colab": {
          "base_uri": "https://localhost:8080/"
        },
        "id": "WUAyG91dpL6Q",
        "outputId": "720b3873-e649-48f0-d364-ce819bb87715"
      },
      "execution_count": 98,
      "outputs": [
        {
          "output_type": "stream",
          "name": "stdout",
          "text": [
            "Epoch 1/50\n",
            "133/133 [==============================] - 2s 10ms/step - loss: 2.8902 - accuracy: 0.0941 - val_loss: 2.8533 - val_accuracy: 0.0993\n",
            "Epoch 2/50\n",
            "133/133 [==============================] - 1s 8ms/step - loss: 2.6336 - accuracy: 0.1675 - val_loss: 2.5470 - val_accuracy: 0.2093\n",
            "Epoch 3/50\n",
            "133/133 [==============================] - 1s 8ms/step - loss: 2.4609 - accuracy: 0.2313 - val_loss: 2.3974 - val_accuracy: 0.2407\n",
            "Epoch 4/50\n",
            "133/133 [==============================] - 1s 8ms/step - loss: 2.3417 - accuracy: 0.2615 - val_loss: 2.2517 - val_accuracy: 0.3007\n",
            "Epoch 5/50\n",
            "133/133 [==============================] - 1s 8ms/step - loss: 2.2400 - accuracy: 0.2976 - val_loss: 2.1894 - val_accuracy: 0.3253\n",
            "Epoch 6/50\n",
            "133/133 [==============================] - 1s 8ms/step - loss: 2.1283 - accuracy: 0.3382 - val_loss: 2.0455 - val_accuracy: 0.3807\n",
            "Epoch 7/50\n",
            "133/133 [==============================] - 1s 8ms/step - loss: 2.0325 - accuracy: 0.3768 - val_loss: 1.9545 - val_accuracy: 0.4107\n",
            "Epoch 8/50\n",
            "133/133 [==============================] - 1s 8ms/step - loss: 1.9598 - accuracy: 0.4019 - val_loss: 1.9319 - val_accuracy: 0.4080\n",
            "Epoch 9/50\n",
            "133/133 [==============================] - 1s 8ms/step - loss: 1.8947 - accuracy: 0.4139 - val_loss: 1.8515 - val_accuracy: 0.4393\n",
            "Epoch 10/50\n",
            "133/133 [==============================] - 1s 8ms/step - loss: 1.8435 - accuracy: 0.4373 - val_loss: 1.8178 - val_accuracy: 0.4360\n",
            "Epoch 11/50\n",
            "133/133 [==============================] - 1s 8ms/step - loss: 1.7867 - accuracy: 0.4545 - val_loss: 1.7251 - val_accuracy: 0.4780\n",
            "Epoch 12/50\n",
            "133/133 [==============================] - 1s 8ms/step - loss: 1.7176 - accuracy: 0.4766 - val_loss: 1.7072 - val_accuracy: 0.4840\n",
            "Epoch 13/50\n",
            "133/133 [==============================] - 1s 8ms/step - loss: 1.6773 - accuracy: 0.4894 - val_loss: 1.6630 - val_accuracy: 0.4940\n",
            "Epoch 14/50\n",
            "133/133 [==============================] - 1s 8ms/step - loss: 1.6311 - accuracy: 0.4971 - val_loss: 1.5965 - val_accuracy: 0.4953\n",
            "Epoch 15/50\n",
            "133/133 [==============================] - 1s 8ms/step - loss: 1.5790 - accuracy: 0.5147 - val_loss: 1.5490 - val_accuracy: 0.5220\n",
            "Epoch 16/50\n",
            "133/133 [==============================] - 1s 8ms/step - loss: 1.5726 - accuracy: 0.5155 - val_loss: 1.5326 - val_accuracy: 0.5387\n",
            "Epoch 17/50\n",
            "133/133 [==============================] - 1s 8ms/step - loss: 1.5075 - accuracy: 0.5404 - val_loss: 1.5338 - val_accuracy: 0.5453\n",
            "Epoch 18/50\n",
            "133/133 [==============================] - 1s 8ms/step - loss: 1.4485 - accuracy: 0.5640 - val_loss: 1.5309 - val_accuracy: 0.5440\n",
            "Epoch 19/50\n",
            "133/133 [==============================] - 1s 7ms/step - loss: 1.4409 - accuracy: 0.5612 - val_loss: 1.5547 - val_accuracy: 0.5227\n",
            "Epoch 20/50\n",
            "133/133 [==============================] - 1s 8ms/step - loss: 1.4188 - accuracy: 0.5642 - val_loss: 1.5259 - val_accuracy: 0.5520\n",
            "Epoch 21/50\n",
            "133/133 [==============================] - 1s 8ms/step - loss: 1.3934 - accuracy: 0.5755 - val_loss: 1.4923 - val_accuracy: 0.5540\n",
            "Epoch 22/50\n",
            "133/133 [==============================] - 1s 8ms/step - loss: 1.3333 - accuracy: 0.5981 - val_loss: 1.4758 - val_accuracy: 0.5620\n",
            "Epoch 23/50\n",
            "133/133 [==============================] - 1s 7ms/step - loss: 1.3087 - accuracy: 0.5982 - val_loss: 1.3952 - val_accuracy: 0.5807\n",
            "Epoch 24/50\n",
            "133/133 [==============================] - 1s 8ms/step - loss: 1.3200 - accuracy: 0.5968 - val_loss: 1.4822 - val_accuracy: 0.5587\n",
            "Epoch 25/50\n",
            "133/133 [==============================] - 1s 8ms/step - loss: 1.2652 - accuracy: 0.6044 - val_loss: 1.4107 - val_accuracy: 0.5787\n",
            "Epoch 26/50\n",
            "133/133 [==============================] - 1s 8ms/step - loss: 1.2671 - accuracy: 0.6095 - val_loss: 1.4449 - val_accuracy: 0.5833\n",
            "Epoch 27/50\n",
            "133/133 [==============================] - 1s 7ms/step - loss: 1.2345 - accuracy: 0.6168 - val_loss: 1.4890 - val_accuracy: 0.5707\n",
            "Epoch 28/50\n",
            "133/133 [==============================] - 1s 7ms/step - loss: 1.2107 - accuracy: 0.6256 - val_loss: 1.4627 - val_accuracy: 0.5660\n"
          ]
        }
      ]
    },
    {
      "cell_type": "markdown",
      "source": [
        "##Βήμα 2: Αξιολόγηση"
      ],
      "metadata": {
        "id": "K1kex6znrj_2"
      }
    },
    {
      "cell_type": "markdown",
      "source": [
        "Παρακάτω έχουμε τα αποτελέσματα των 2 υλοποιήσεων του MyCNN με τη χρήση των παραπάνω τεχνικών. Αριστερά πλοτάρουμε το διάγραμμα για το MyCNN και χρήση data augmentation και eraly stop, ενώ δεξιά πλοτάρουμε το MyCNN με χρήση data augmentation, early stop και dropout."
      ],
      "metadata": {
        "id": "MY5_RuwGrtZy"
      }
    },
    {
      "cell_type": "code",
      "source": [
        "plot_accuracy(history_improved_1, history_improved_2, ['1','2'])"
      ],
      "metadata": {
        "colab": {
          "base_uri": "https://localhost:8080/",
          "height": 458
        },
        "id": "RUyKgNEHryfV",
        "outputId": "c91c0116-3d82-4137-950d-2ed1137929e6"
      },
      "execution_count": 99,
      "outputs": [
        {
          "output_type": "display_data",
          "data": {
            "text/plain": [
              "<Figure size 1440x504 with 2 Axes>"
            ],
            "image/png": "[encoded data removed]"
          },
          "metadata": {
            "needs_background": "light"
          }
        }
      ]
    },
    {
      "cell_type": "markdown",
      "source": [
        "Η ακρίβεια του original MyCNN είναι 55.8%"
      ],
      "metadata": {
        "id": "gpm6Jlg3u-9C"
      }
    },
    {
      "cell_type": "code",
      "source": [
        "# Data augmentation and early stop\n",
        "MyCNN_temp = tf.keras.models.load_model('MyCNN_imp1.h5')\n",
        "\n",
        "loss, acc = MyCNN_temp.evaluate(x_test, y_test, verbose=2)\n",
        "print('MyCNN model with data augmentation and early stop, accuracy: {:5.2f}%'.format(100 * acc))"
      ],
      "metadata": {
        "colab": {
          "base_uri": "https://localhost:8080/"
        },
        "id": "IUU6zqhbngEQ",
        "outputId": "9b017b61-99d2-4960-8541-09c18d3b7740"
      },
      "execution_count": 100,
      "outputs": [
        {
          "output_type": "stream",
          "name": "stdout",
          "text": [
            "63/63 - 0s - loss: 1.3755 - accuracy: 0.6240 - 465ms/epoch - 7ms/step\n",
            "MyCNN model with data augmentation and early stop, accuracy: 62.40%\n"
          ]
        }
      ]
    },
    {
      "cell_type": "markdown",
      "source": [
        "Σε σχέση με την αρχική υλοποίηση έχουμε αύξηση της ακρίβειας κατά 6.6%."
      ],
      "metadata": {
        "id": "oVwNxqwtojUj"
      }
    },
    {
      "cell_type": "code",
      "source": [
        "# Data augmentation, early stop and dropout\n",
        "\n",
        "MyCNN_temp = tf.keras.models.load_model('MyCNN_imp2.h5')\n",
        "\n",
        "loss, acc = MyCNN_temp.evaluate(x_test, y_test, verbose=2)\n",
        "print('MyCNN model with data augmentation, early stop and dropout, accuracy: {:5.2f}%'.format(100 * acc))"
      ],
      "metadata": {
        "colab": {
          "base_uri": "https://localhost:8080/"
        },
        "id": "tKecmSD7p1Rd",
        "outputId": "b1e1372e-8202-45f6-a998-163b3bbf0d9e"
      },
      "execution_count": 101,
      "outputs": [
        {
          "output_type": "stream",
          "name": "stdout",
          "text": [
            "63/63 - 0s - loss: 1.3242 - accuracy: 0.5955 - 311ms/epoch - 5ms/step\n",
            "MyCNN model with data augmentation, early stop and dropout, accuracy: 59.55%\n"
          ]
        }
      ]
    },
    {
      "cell_type": "markdown",
      "source": [
        "Σε σχέση με την αρχική υλοποίηση έχουμε αύξηση της ακρίβειας κατά 3.75%."
      ],
      "metadata": {
        "id": "rMU7ziNhrQgH"
      }
    },
    {
      "cell_type": "markdown",
      "source": [
        "Παρατηρούμε αύξηση του accuracy για τα test data, οπότε συμπεραίνουμε πως μειώνεται το overfitting του μοντέλου από τη στιγμή που μπορεί και γενικεύει καλύτερα, δηλαδή κατηγοριοποιεί καλύτερα εικόνες που δεν έχει ξαναδεί. Με πολλές δοκιμές και αλλαγές στις παραμέτρους ενδεχομένως να έχουμε ακόμα μεγαλύτερες τιμές ακρίβειας. Στα δικά μας παραδείγματα η αύξηση της ακρίβειας είναι της τάξης του 5%, το οποίο είναι ικανοποιητικό ποσοστό αν ληφθεί υπόψη πως στην ουσία το μέγεθος του training set μας παρέμεινε το ίδιο. "
      ],
      "metadata": {
        "id": "y8p_boUVvbLS"
      }
    },
    {
      "cell_type": "markdown",
      "metadata": {
        "id": "jTxKRNEHWfGs"
      },
      "source": [
        "## Ερώτημα 3\n",
        "---\n",
        "### Βήμα 1: Μεταφορά γνώσης\n",
        "Εφαρμόστε μεταφορά γνώσης (transfer learning) στο δικό σας μοντέλο (**MyCNN**), που αξιολογήσατε ως καλύτερο προς την ορθότητα στην αντιμετώπιση της υπερεκπαίδεσης. \n",
        "\n",
        "Για το transfer learning, επιλέξτε το [VGG16](https://www.tensorflow.org/api_docs/python/tf/keras/applications/vgg16) για μεταφορά μάθησης.\n",
        "\n",
        "1. \"Παγώστε\" τη συνελικτική βάση και εκπαιδεύστε την κεφαλή ταξινόμησης (classification head - σημαία trainable = False).  \n",
        "\n",
        "2. Εκπαιδέστε μόνο ένα ποσοστό των επιπέδων, το οποίο βρίσκεται προς την έξοδο του δικτύου. Οι σημαίες trainable εδώ θα πρέπει να οριστούν ανά επίπεδο.\n",
        "\n",
        "3. Αξιολογήστε τα αποτελέσματά σας, βάσει της ορθότητας του validation set και του test set σας."
      ]
    },
    {
      "cell_type": "markdown",
      "source": [
        "####1. VGG16 χωρίς trainable layers"
      ],
      "metadata": {
        "id": "_V8TUSdlGTMv"
      }
    },
    {
      "cell_type": "code",
      "source": [
        "# Instantiate the VGG16 model\n",
        "pretrained_model = tf.keras.applications.vgg16.VGG16(\n",
        "                        include_top=False,\n",
        "                        weights='imagenet',\n",
        "                        input_tensor=None,\n",
        "                        input_shape=(32, 32, 3),\n",
        "                        pooling=None,\n",
        "                        classes=20,\n",
        "                        classifier_activation='softmax'\n",
        "                    )\n",
        "\n",
        "# freeze\n",
        "pretrained_model.trainable = False "
      ],
      "metadata": {
        "id": "3Xc_ZyziGlIV",
        "colab": {
          "base_uri": "https://localhost:8080/"
        },
        "outputId": "56787ec5-e038-4cae-8007-771c80d4a646"
      },
      "execution_count": 102,
      "outputs": [
        {
          "output_type": "stream",
          "name": "stdout",
          "text": [
            "Downloading data from https://storage.googleapis.com/tensorflow/keras-applications/vgg16/vgg16_weights_tf_dim_ordering_tf_kernels_notop.h5\n",
            "58892288/58889256 [==============================] - 0s 0us/step\n",
            "58900480/58889256 [==============================] - 0s 0us/step\n"
          ]
        }
      ]
    },
    {
      "cell_type": "code",
      "source": [
        "pretrained_model.summary()"
      ],
      "metadata": {
        "colab": {
          "base_uri": "https://localhost:8080/"
        },
        "id": "2ZJRR5zAJmGz",
        "outputId": "dee5116e-f957-4aaf-9108-2f6c0c9ee83e"
      },
      "execution_count": 103,
      "outputs": [
        {
          "output_type": "stream",
          "name": "stdout",
          "text": [
            "Model: \"vgg16\"\n",
            "_________________________________________________________________\n",
            " Layer (type)                Output Shape              Param #   \n",
            "=================================================================\n",
            " input_1 (InputLayer)        [(None, 32, 32, 3)]       0         \n",
            "                                                                 \n",
            " block1_conv1 (Conv2D)       (None, 32, 32, 64)        1792      \n",
            "                                                                 \n",
            " block1_conv2 (Conv2D)       (None, 32, 32, 64)        36928     \n",
            "                                                                 \n",
            " block1_pool (MaxPooling2D)  (None, 16, 16, 64)        0         \n",
            "                                                                 \n",
            " block2_conv1 (Conv2D)       (None, 16, 16, 128)       73856     \n",
            "                                                                 \n",
            " block2_conv2 (Conv2D)       (None, 16, 16, 128)       147584    \n",
            "                                                                 \n",
            " block2_pool (MaxPooling2D)  (None, 8, 8, 128)         0         \n",
            "                                                                 \n",
            " block3_conv1 (Conv2D)       (None, 8, 8, 256)         295168    \n",
            "                                                                 \n",
            " block3_conv2 (Conv2D)       (None, 8, 8, 256)         590080    \n",
            "                                                                 \n",
            " block3_conv3 (Conv2D)       (None, 8, 8, 256)         590080    \n",
            "                                                                 \n",
            " block3_pool (MaxPooling2D)  (None, 4, 4, 256)         0         \n",
            "                                                                 \n",
            " block4_conv1 (Conv2D)       (None, 4, 4, 512)         1180160   \n",
            "                                                                 \n",
            " block4_conv2 (Conv2D)       (None, 4, 4, 512)         2359808   \n",
            "                                                                 \n",
            " block4_conv3 (Conv2D)       (None, 4, 4, 512)         2359808   \n",
            "                                                                 \n",
            " block4_pool (MaxPooling2D)  (None, 2, 2, 512)         0         \n",
            "                                                                 \n",
            " block5_conv1 (Conv2D)       (None, 2, 2, 512)         2359808   \n",
            "                                                                 \n",
            " block5_conv2 (Conv2D)       (None, 2, 2, 512)         2359808   \n",
            "                                                                 \n",
            " block5_conv3 (Conv2D)       (None, 2, 2, 512)         2359808   \n",
            "                                                                 \n",
            " block5_pool (MaxPooling2D)  (None, 1, 1, 512)         0         \n",
            "                                                                 \n",
            "=================================================================\n",
            "Total params: 14,714,688\n",
            "Trainable params: 0\n",
            "Non-trainable params: 14,714,688\n",
            "_________________________________________________________________\n"
          ]
        }
      ]
    },
    {
      "cell_type": "markdown",
      "source": [
        "Επαληθεύουμε πως έχουμε \"παγώσει\" τη συνελικτική βάση, αφού το Trainable params είναι 0, όπως φαίνεται στο summary() του μοντέλου μας."
      ],
      "metadata": {
        "id": "LAazby1bVqP2"
      }
    },
    {
      "cell_type": "code",
      "source": [
        "def MyCNN_pre():\n",
        "  return tf.keras.models.Sequential([\n",
        "    pretrained_model,\n",
        "    tf.keras.layers.Flatten(),\n",
        "    tf.keras.layers.Dense(1024, activation='relu'),\n",
        "    tf.keras.layers.Dense(200, activation='relu'),\n",
        "    tf.keras.layers.Dense(20)\n",
        "  ])"
      ],
      "metadata": {
        "id": "bk7RqoDGKS1M"
      },
      "execution_count": 112,
      "outputs": []
    },
    {
      "cell_type": "code",
      "source": [
        "mycnn_pre = MyCNN_pre()\n",
        "mycnn_pre.summary()\n",
        "\n",
        "mycnn_pre.compile(optimizer='adam',\n",
        "              loss=tf.keras.losses.SparseCategoricalCrossentropy(from_logits=True),\n",
        "              metrics=['accuracy'])"
      ],
      "metadata": {
        "colab": {
          "base_uri": "https://localhost:8080/"
        },
        "id": "QHgaHcfFLI3s",
        "outputId": "1680d95c-bd50-4a1c-8869-5afd1083fb89"
      },
      "execution_count": 113,
      "outputs": [
        {
          "output_type": "stream",
          "name": "stdout",
          "text": [
            "Model: \"sequential_121\"\n",
            "_________________________________________________________________\n",
            " Layer (type)                Output Shape              Param #   \n",
            "=================================================================\n",
            " vgg16 (Functional)          (None, 1, 1, 512)         14714688  \n",
            "                                                                 \n",
            " flatten_41 (Flatten)        (None, 512)               0         \n",
            "                                                                 \n",
            " dense_123 (Dense)           (None, 1024)              525312    \n",
            "                                                                 \n",
            " dense_124 (Dense)           (None, 200)               205000    \n",
            "                                                                 \n",
            " dense_125 (Dense)           (None, 20)                4020      \n",
            "                                                                 \n",
            "=================================================================\n",
            "Total params: 15,449,020\n",
            "Trainable params: 734,332\n",
            "Non-trainable params: 14,714,688\n",
            "_________________________________________________________________\n"
          ]
        }
      ]
    },
    {
      "cell_type": "code",
      "source": [
        "# early stop\n",
        "callback = tf.keras.callbacks.EarlyStopping(monitor='val_loss', patience=4)\n",
        "\n",
        "history_mycnn_pre = mycnn_pre.fit(x_train, y_train, epochs=20, batch_size=64, validation_data=(x_val, y_val), callbacks = callback)\n",
        "\n",
        "mycnn_pre.save('MyCNN_pre.h5')"
      ],
      "metadata": {
        "colab": {
          "base_uri": "https://localhost:8080/"
        },
        "id": "no3AYamAL_P6",
        "outputId": "9f5fbd81-7eae-4d76-f79c-641f82c8ac46"
      },
      "execution_count": 114,
      "outputs": [
        {
          "output_type": "stream",
          "name": "stdout",
          "text": [
            "Epoch 1/20\n",
            "133/133 [==============================] - 3s 18ms/step - loss: 1.9077 - accuracy: 0.4141 - val_loss: 1.6699 - val_accuracy: 0.4880\n",
            "Epoch 2/20\n",
            "133/133 [==============================] - 2s 16ms/step - loss: 1.4545 - accuracy: 0.5415 - val_loss: 1.5967 - val_accuracy: 0.4907\n",
            "Epoch 3/20\n",
            "133/133 [==============================] - 2s 16ms/step - loss: 1.2803 - accuracy: 0.5956 - val_loss: 1.4845 - val_accuracy: 0.5400\n",
            "Epoch 4/20\n",
            "133/133 [==============================] - 2s 16ms/step - loss: 1.1544 - accuracy: 0.6307 - val_loss: 1.4678 - val_accuracy: 0.5447\n",
            "Epoch 5/20\n",
            "133/133 [==============================] - 2s 16ms/step - loss: 1.0461 - accuracy: 0.6607 - val_loss: 1.4815 - val_accuracy: 0.5573\n",
            "Epoch 6/20\n",
            "133/133 [==============================] - 2s 16ms/step - loss: 0.9528 - accuracy: 0.6901 - val_loss: 1.4187 - val_accuracy: 0.5740\n",
            "Epoch 7/20\n",
            "133/133 [==============================] - 2s 16ms/step - loss: 0.8423 - accuracy: 0.7286 - val_loss: 1.4940 - val_accuracy: 0.5633\n",
            "Epoch 8/20\n",
            "133/133 [==============================] - 2s 17ms/step - loss: 0.7555 - accuracy: 0.7554 - val_loss: 1.5190 - val_accuracy: 0.5647\n",
            "Epoch 9/20\n",
            "133/133 [==============================] - 2s 17ms/step - loss: 0.6753 - accuracy: 0.7845 - val_loss: 1.5807 - val_accuracy: 0.5573\n",
            "Epoch 10/20\n",
            "133/133 [==============================] - 2s 16ms/step - loss: 0.5988 - accuracy: 0.8108 - val_loss: 1.6250 - val_accuracy: 0.5547\n"
          ]
        }
      ]
    },
    {
      "cell_type": "code",
      "source": [
        "MyCNN_temp = tf.keras.models.load_model('MyCNN_pre.h5')\n",
        "\n",
        "loss, acc = MyCNN_temp.evaluate(x_test, y_test, verbose=2)\n",
        "print('Pretrained VGG16 model, accuracy: {:5.2f}%'.format(100 * acc))"
      ],
      "metadata": {
        "colab": {
          "base_uri": "https://localhost:8080/"
        },
        "id": "hxEa99N1NKR2",
        "outputId": "6af8af66-f746-464f-dc51-e4e793aa7999"
      },
      "execution_count": 115,
      "outputs": [
        {
          "output_type": "stream",
          "name": "stdout",
          "text": [
            "63/63 - 1s - loss: 1.5586 - accuracy: 0.5895 - 849ms/epoch - 13ms/step\n",
            "Pretrained VGG16 model, accuracy: 58.95%\n"
          ]
        }
      ]
    },
    {
      "cell_type": "markdown",
      "source": [
        "Παρατηρούμε πως έχουμε πολύ γρήγορη σύγκλιση του μοντέλου. Δηλαδή με την χρήση της τεχνικές early stop, απαιούνται μόνο 10 εποχές για την εκπαίδευση του μοντέλου. Το αποτέλεσμα αυτό είναι λογικό από τη στιγμή που έχουμε ένα ήδη εκπαιδευμένο μοντέλο."
      ],
      "metadata": {
        "id": "Ei403bGJNidE"
      }
    },
    {
      "cell_type": "markdown",
      "source": [
        "####2. VGG16 με trainable layers"
      ],
      "metadata": {
        "id": "f1_lG6orPIoA"
      }
    },
    {
      "cell_type": "code",
      "source": [
        "pretrained_model_2 = tf.keras.applications.vgg16.VGG16(\n",
        "                        include_top=False,\n",
        "                        weights='imagenet',\n",
        "                        input_tensor=None,\n",
        "                        input_shape=(32, 32, 3),\n",
        "                        pooling=None,\n",
        "                        classes=20,\n",
        "                        classifier_activation='softmax'\n",
        "                    )\n",
        "\n",
        "# get number of layers\n",
        "num_of_layers = len(pretrained_model_2.layers)\n",
        "\n",
        "# freeze all layers except the last 4\n",
        "offset = 4\n",
        "for layer in pretrained_model_2.layers[:(num_of_layers - offset)]:\n",
        "  layer.trainable = False\n",
        "pretrained_model_2.summary()"
      ],
      "metadata": {
        "colab": {
          "base_uri": "https://localhost:8080/"
        },
        "id": "gqhp4brGQO-T",
        "outputId": "c6679eb0-d846-46ea-f651-39741c5ca0b7"
      },
      "execution_count": 116,
      "outputs": [
        {
          "output_type": "stream",
          "name": "stdout",
          "text": [
            "Model: \"vgg16\"\n",
            "_________________________________________________________________\n",
            " Layer (type)                Output Shape              Param #   \n",
            "=================================================================\n",
            " input_2 (InputLayer)        [(None, 32, 32, 3)]       0         \n",
            "                                                                 \n",
            " block1_conv1 (Conv2D)       (None, 32, 32, 64)        1792      \n",
            "                                                                 \n",
            " block1_conv2 (Conv2D)       (None, 32, 32, 64)        36928     \n",
            "                                                                 \n",
            " block1_pool (MaxPooling2D)  (None, 16, 16, 64)        0         \n",
            "                                                                 \n",
            " block2_conv1 (Conv2D)       (None, 16, 16, 128)       73856     \n",
            "                                                                 \n",
            " block2_conv2 (Conv2D)       (None, 16, 16, 128)       147584    \n",
            "                                                                 \n",
            " block2_pool (MaxPooling2D)  (None, 8, 8, 128)         0         \n",
            "                                                                 \n",
            " block3_conv1 (Conv2D)       (None, 8, 8, 256)         295168    \n",
            "                                                                 \n",
            " block3_conv2 (Conv2D)       (None, 8, 8, 256)         590080    \n",
            "                                                                 \n",
            " block3_conv3 (Conv2D)       (None, 8, 8, 256)         590080    \n",
            "                                                                 \n",
            " block3_pool (MaxPooling2D)  (None, 4, 4, 256)         0         \n",
            "                                                                 \n",
            " block4_conv1 (Conv2D)       (None, 4, 4, 512)         1180160   \n",
            "                                                                 \n",
            " block4_conv2 (Conv2D)       (None, 4, 4, 512)         2359808   \n",
            "                                                                 \n",
            " block4_conv3 (Conv2D)       (None, 4, 4, 512)         2359808   \n",
            "                                                                 \n",
            " block4_pool (MaxPooling2D)  (None, 2, 2, 512)         0         \n",
            "                                                                 \n",
            " block5_conv1 (Conv2D)       (None, 2, 2, 512)         2359808   \n",
            "                                                                 \n",
            " block5_conv2 (Conv2D)       (None, 2, 2, 512)         2359808   \n",
            "                                                                 \n",
            " block5_conv3 (Conv2D)       (None, 2, 2, 512)         2359808   \n",
            "                                                                 \n",
            " block5_pool (MaxPooling2D)  (None, 1, 1, 512)         0         \n",
            "                                                                 \n",
            "=================================================================\n",
            "Total params: 14,714,688\n",
            "Trainable params: 7,079,424\n",
            "Non-trainable params: 7,635,264\n",
            "_________________________________________________________________\n"
          ]
        }
      ]
    },
    {
      "cell_type": "markdown",
      "source": [
        "Εδώ βλέπουμε από το summary πως έχουμε και κάποιες trainable παράμετρους."
      ],
      "metadata": {
        "id": "KYegagqIZuwf"
      }
    },
    {
      "cell_type": "code",
      "source": [
        "def MyCNN_pre():\n",
        "  return tf.keras.models.Sequential([\n",
        "    pretrained_model_2,\n",
        "    tf.keras.layers.Flatten(),\n",
        "    tf.keras.layers.Dense(1024, activation='relu'),\n",
        "    tf.keras.layers.Dense(200, activation='relu'),\n",
        "    tf.keras.layers.Dense(20)\n",
        "  ])"
      ],
      "metadata": {
        "id": "R3vfN10bVOP0"
      },
      "execution_count": 117,
      "outputs": []
    },
    {
      "cell_type": "code",
      "source": [
        "mycnn_pre = MyCNN_pre()\n",
        "mycnn_pre.summary()\n",
        "\n",
        "mycnn_pre.compile(optimizer='adam',\n",
        "              loss=tf.keras.losses.SparseCategoricalCrossentropy(from_logits=True),\n",
        "              metrics=['accuracy'])"
      ],
      "metadata": {
        "colab": {
          "base_uri": "https://localhost:8080/"
        },
        "id": "7H_haEDhVZ73",
        "outputId": "5b61278b-d5bf-4b93-8a7c-8ed1c88f338c"
      },
      "execution_count": 118,
      "outputs": [
        {
          "output_type": "stream",
          "name": "stdout",
          "text": [
            "Model: \"sequential_122\"\n",
            "_________________________________________________________________\n",
            " Layer (type)                Output Shape              Param #   \n",
            "=================================================================\n",
            " vgg16 (Functional)          (None, 1, 1, 512)         14714688  \n",
            "                                                                 \n",
            " flatten_42 (Flatten)        (None, 512)               0         \n",
            "                                                                 \n",
            " dense_126 (Dense)           (None, 1024)              525312    \n",
            "                                                                 \n",
            " dense_127 (Dense)           (None, 200)               205000    \n",
            "                                                                 \n",
            " dense_128 (Dense)           (None, 20)                4020      \n",
            "                                                                 \n",
            "=================================================================\n",
            "Total params: 15,449,020\n",
            "Trainable params: 7,813,756\n",
            "Non-trainable params: 7,635,264\n",
            "_________________________________________________________________\n"
          ]
        }
      ]
    },
    {
      "cell_type": "code",
      "source": [
        "# early stop\n",
        "callback = tf.keras.callbacks.EarlyStopping(monitor='val_loss', patience=3)\n",
        "\n",
        "history_mycnn_pre2 = mycnn_pre.fit(x_train, y_train, epochs=20, batch_size=64, validation_data=(x_val, y_val), callbacks = callback)\n",
        "\n",
        "mycnn_pre.save('MyCNN_pre2.h5')"
      ],
      "metadata": {
        "colab": {
          "base_uri": "https://localhost:8080/"
        },
        "id": "a_y_igwnX7HF",
        "outputId": "22f413cb-ac4d-444b-e5d8-fc0c8cff3ef9"
      },
      "execution_count": 119,
      "outputs": [
        {
          "output_type": "stream",
          "name": "stdout",
          "text": [
            "Epoch 1/20\n",
            "133/133 [==============================] - 4s 24ms/step - loss: 2.0005 - accuracy: 0.3592 - val_loss: 1.5058 - val_accuracy: 0.5353\n",
            "Epoch 2/20\n",
            "133/133 [==============================] - 3s 22ms/step - loss: 1.3254 - accuracy: 0.5821 - val_loss: 1.3661 - val_accuracy: 0.6087\n",
            "Epoch 3/20\n",
            "133/133 [==============================] - 3s 22ms/step - loss: 1.0593 - accuracy: 0.6667 - val_loss: 1.2718 - val_accuracy: 0.6207\n",
            "Epoch 4/20\n",
            "133/133 [==============================] - 3s 23ms/step - loss: 0.8684 - accuracy: 0.7318 - val_loss: 1.3153 - val_accuracy: 0.6280\n",
            "Epoch 5/20\n",
            "133/133 [==============================] - 3s 23ms/step - loss: 0.7409 - accuracy: 0.7684 - val_loss: 1.2849 - val_accuracy: 0.6587\n",
            "Epoch 6/20\n",
            "133/133 [==============================] - 3s 23ms/step - loss: 0.6145 - accuracy: 0.8060 - val_loss: 1.2152 - val_accuracy: 0.6733\n",
            "Epoch 7/20\n",
            "133/133 [==============================] - 3s 23ms/step - loss: 0.4873 - accuracy: 0.8491 - val_loss: 1.3141 - val_accuracy: 0.6620\n",
            "Epoch 8/20\n",
            "133/133 [==============================] - 3s 23ms/step - loss: 0.4521 - accuracy: 0.8595 - val_loss: 1.3390 - val_accuracy: 0.6640\n",
            "Epoch 9/20\n",
            "133/133 [==============================] - 3s 23ms/step - loss: 0.3818 - accuracy: 0.8809 - val_loss: 1.6099 - val_accuracy: 0.6440\n"
          ]
        }
      ]
    },
    {
      "cell_type": "code",
      "source": [
        "MyCNN_temp = tf.keras.models.load_model('MyCNN_pre2.h5')\n",
        "\n",
        "loss, acc = MyCNN_temp.evaluate(x_test, y_test, verbose=2)\n",
        "print('Pretrained VGG16 model with 4 trainable layers, accuracy: {:5.2f}%'.format(100 * acc))"
      ],
      "metadata": {
        "colab": {
          "base_uri": "https://localhost:8080/"
        },
        "id": "6lPoynSwX__d",
        "outputId": "8dfd3075-801c-41f6-dd98-c6a97227d1d0"
      },
      "execution_count": 120,
      "outputs": [
        {
          "output_type": "stream",
          "name": "stdout",
          "text": [
            "63/63 - 1s - loss: 1.6084 - accuracy: 0.6565 - 781ms/epoch - 12ms/step\n",
            "Pretrained VGG16 model with 4 trainable layers, accuracy: 65.65%\n"
          ]
        }
      ]
    },
    {
      "cell_type": "markdown",
      "source": [
        "Εδώ, στη περίπτωση του VGG16 με trainable layers έχουμε εξίσου γρήγορη σύγκλιση με 9 εποχές να απαιτούνται για την εκπαίδευση (με χρήση early stopping). Επιπλέον, έχουμε ακόμα μεγαλύτερη ακρίβεια του μοντέλου, το οποίο είναι λογικό από τη στιγμή που αφήνουμε κάποια layers να γίνουν train."
      ],
      "metadata": {
        "id": "hXeAMZN9ade9"
      }
    },
    {
      "cell_type": "markdown",
      "source": [
        "####3. Αξιολόγηση"
      ],
      "metadata": {
        "id": "9m-WrswRbCXz"
      }
    },
    {
      "cell_type": "code",
      "source": [
        "plot_accuracy(history_mycnn_pre, history_mycnn_pre2, ['VGG16 without trainable layers', 'VGG16 with trainable layers'])"
      ],
      "metadata": {
        "colab": {
          "base_uri": "https://localhost:8080/",
          "height": 458
        },
        "id": "UqZRMbr1baJx",
        "outputId": "86d88619-1e72-4186-8c79-c3e8daf571aa"
      },
      "execution_count": 121,
      "outputs": [
        {
          "output_type": "display_data",
          "data": {
            "text/plain": [
              "<Figure size 1440x504 with 2 Axes>"
            ],
            "image/png": "[encoded data removed]"
          },
          "metadata": {
            "needs_background": "light"
          }
        }
      ]
    },
    {
      "cell_type": "code",
      "source": [
        "# VGG16 model without trainable layers - Left diagram\n",
        "MyCNN_temp = tf.keras.models.load_model('MyCNN_pre.h5')\n",
        "\n",
        "loss, acc = MyCNN_temp.evaluate(x_test, y_test, verbose=2)\n",
        "print('Pretrained VGG16 model without trainable layers, test set accuracy: {:5.2f}%'.format(100 * acc))\n",
        "print('\\n')\n",
        "loss, acc = MyCNN_temp.evaluate(x_val, y_val, verbose=2)\n",
        "print('Pretrained VGG16 model without trainable layers, val set accuracy: {:5.2f}%'.format(100 * acc))"
      ],
      "metadata": {
        "colab": {
          "base_uri": "https://localhost:8080/"
        },
        "id": "DwT7yaN-cKOM",
        "outputId": "957f1fe0-406d-4ced-d9b9-c31b72f8dd14"
      },
      "execution_count": 122,
      "outputs": [
        {
          "output_type": "stream",
          "name": "stdout",
          "text": [
            "63/63 - 1s - loss: 1.5586 - accuracy: 0.5895 - 839ms/epoch - 13ms/step\n",
            "Pretrained VGG16 model without trainable layers, test set accuracy: 58.95%\n",
            "\n",
            "\n",
            "47/47 - 0s - loss: 1.6250 - accuracy: 0.5547 - 431ms/epoch - 9ms/step\n",
            "Pretrained VGG16 model without trainable layers, val set accuracy: 55.47%\n"
          ]
        }
      ]
    },
    {
      "cell_type": "code",
      "source": [
        "# VGG16 model with trainable layers - Right diagram\n",
        "MyCNN_temp = tf.keras.models.load_model('MyCNN_pre2.h5')\n",
        "\n",
        "loss, acc = MyCNN_temp.evaluate(x_test, y_test, verbose=2)\n",
        "print('Pretrained VGG16 model with trainable layers, test set accuracy: {:5.2f}%'.format(100 * acc))\n",
        "print('\\n')\n",
        "loss, acc = MyCNN_temp.evaluate(x_val, y_val, verbose=2)\n",
        "print('Pretrained VGG16 model with trainable layers, val set accuracy: {:5.2f}%'.format(100 * acc))"
      ],
      "metadata": {
        "colab": {
          "base_uri": "https://localhost:8080/"
        },
        "id": "-UM0vplTcte1",
        "outputId": "b6ff75ff-2e9e-4055-a699-a08cdc292223"
      },
      "execution_count": 123,
      "outputs": [
        {
          "output_type": "stream",
          "name": "stdout",
          "text": [
            "63/63 - 1s - loss: 1.6084 - accuracy: 0.6565 - 760ms/epoch - 12ms/step\n",
            "Pretrained VGG16 model with trainable layers, test set accuracy: 65.65%\n",
            "\n",
            "\n",
            "47/47 - 0s - loss: 1.6099 - accuracy: 0.6440 - 442ms/epoch - 9ms/step\n",
            "Pretrained VGG16 model with trainable layers, val set accuracy: 64.40%\n"
          ]
        }
      ]
    },
    {
      "cell_type": "markdown",
      "source": [
        "Συμπεραίνουμε πως το pretrained model έχει γενικά καλές τιμές accuracy τόσο στα training όσο και στα validation data. Βέβαια η ακρίβεια αυξάνεται σημαντικά όταν αφήνουμε κάποια από τα layers να είναι trainable. Αυτό σε συνδιασμό με το early stopping για τη μείωση της υπερεκπαίδευσης μας δίνει ακρίβεια 65-66%, το οποίο είναι καλύτερο από όλες τις προηγούμενες μεθόδους που δοκιμάσαμε. Τέλος, αξίζει να σημειωθεί πως η εκπαίδευση του pretrained model γενικά χρειάστηκε πολύ λίγες εποχές. Οπότε, έχουμε τελικά ένα μοντέλο που εκπαιδέυεται με μικρό αριθμό εποχών και έχει πολύ καλή ακρίβεια.  "
      ],
      "metadata": {
        "id": "9iBqvwkrczvu"
      }
    },
    {
      "cell_type": "markdown",
      "metadata": {
        "id": "M_T6Y9EJDuOu"
      },
      "source": [
        "## Διαχείριση μνήμης (TFRecord)\n",
        "Η φόρτωση δεδομένων με τον τρόπο που το κάναμε παραπάνω στο απλό παράδειγμα υλοποίησης είναι πολύ βολική αλλά δεν είναι αποτελεσματική ως προς τη διαχείριση της μνήμης. Συγκεκριμένα, με τον τρόπο αυτό, τα δεδομένα αποθηκεύονται απευθείας σε μεταβλητές, οι οποίες όλες μαζί καταλαμβάνουν τη RAM της CPU ή της GPU, κάτι που κάνει αδύνατη τη διαχείριση μεγάλων datasets ή τον μεταχηματισμό των δεδομένων όπως όταν κάνουμε αύξηση δεδομένων (data augmentation).\n",
        "\n",
        "Για να παρακαμφθεί αυτό το πρόβλημα, υπάρχει η δυνατότητα της σειριοποίησης των δεδομένων (serialization) και της αποθήκευσής τους σε αρχεία μεσαίου μεγέθους (κάποιων MB) τα οποία μπορούν να αναγνωστούν γραμμικά.\n",
        "\n",
        "Το φορμάτ TFRecord είναι ένα φορμάτ που επιτρέπει την αποθήκευση σειράς δυαδικών εγγραφών. Διαβάστε σχετικά για το [TFRecord and tf.Example](https://www.tensorflow.org/tutorials/load_data/tfrecord) και [tf.data: Build TensorFlow input pipelines](https://www.tensorflow.org/guide/data). \n",
        "\n",
        "Σημειώστε ότι με τη μέθοδο αυτή θα πρέπει να γίνει import η `tensorflow_datasets` και να χρησιμοποιήσουμε την `tfds.load` ώστε να αποθηκευθεί το σύνολο δεδομένων σε αρχεία tfrecord στο δίσκο (δείτε [εδώ](https://colab.research.google.com/github/tensorflow/datasets/blob/master/docs/overview.ipynb) ένα παράδειγμα). Φυσικά μπορούμε να μετατρέψουμε και τα πρωτογενή δεδομένα (raw data) του dataset όπως αρχεία jpg σε φορματ tfrecord όπως [εδώ](https://towardsdatascience.com/working-with-tfrecords-and-tf-train-example-36d111b3ff4d).\n"
      ]
    }
  ],
  "metadata": {
    "colab": {
      "collapsed_sections": [
        "DfEMjsB4Yurm"
      ],
      "name": "Image_Lab_2.ipynb",
      "provenance": []
    },
    "kernelspec": {
      "display_name": "Python 3",
      "name": "python3"
    },
    "accelerator": "GPU"
  },
  "nbformat": 4,
  "nbformat_minor": 0
}