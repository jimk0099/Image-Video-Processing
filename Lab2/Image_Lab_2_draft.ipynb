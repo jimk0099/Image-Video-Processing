{
  "cells": [
    {
      "cell_type": "markdown",
      "metadata": {
        "id": "LpnEVMCYYlnD"
      },
      "source": [
        "#2η ομαδική εργασία στη Τεχνολογία και Ανάλυση Εικόνων και Βίντεο"
      ]
    },
    {
      "cell_type": "markdown",
      "metadata": {
        "id": "agnyP3gR--gE"
      },
      "source": [
        "Παράδοση: 26/5/2022<br>\n",
        "Ομάδα 9: Δημήτριος Καλέμης - el18152"
      ]
    },
    {
      "cell_type": "markdown",
      "metadata": {
        "id": "DfEMjsB4Yurm"
      },
      "source": [
        "## Εισαγωγή και επισκόπηση του συνόλου δεδομένων"
      ]
    },
    {
      "cell_type": "code",
      "execution_count": 1,
      "metadata": {
        "id": "STXQMBuN3nZ6"
      },
      "outputs": [],
      "source": [
        "from __future__ import absolute_import, division, print_function, unicode_literals # legacy compatibility\n",
        "\n",
        "import numpy as np\n",
        "import pandas as pd\n",
        "import matplotlib.pyplot as plt"
      ]
    },
    {
      "cell_type": "code",
      "execution_count": 2,
      "metadata": {
        "id": "2WSEGPI9Q7tW"
      },
      "outputs": [],
      "source": [
        "# helper functions\n",
        "\n",
        "# select from from_list elements with index in index_list\n",
        "def select_from_list(from_list, index_list):\n",
        "  filtered_list= [from_list[i] for i in index_list]\n",
        "  return(filtered_list)\n",
        "\n",
        "# append in filtered_list the index of each element of unfiltered_list if it exists in in target_list\n",
        "def get_ds_index(unfiltered_list, target_list):\n",
        "  index = 0\n",
        "  filtered_list=[]\n",
        "  for i_ in unfiltered_list:\n",
        "    if i_[0] in target_list:\n",
        "      filtered_list.append(index)\n",
        "    index += 1\n",
        "  return(filtered_list)\n"
      ]
    },
    {
      "cell_type": "code",
      "execution_count": 3,
      "metadata": {
        "colab": {
          "base_uri": "https://localhost:8080/"
        },
        "id": "OCW71UaGzz0Q",
        "outputId": "332e3d94-25f9-408a-fbad-b1d9b95c98b0"
      },
      "outputs": [
        {
          "output_type": "stream",
          "name": "stdout",
          "text": [
            "Downloading data from https://www.cs.toronto.edu/~kriz/cifar-100-python.tar.gz\n",
            "169009152/169001437 [==============================] - 2s 0us/step\n",
            "169017344/169001437 [==============================] - 2s 0us/step\n"
          ]
        }
      ],
      "source": [
        "# load the entire dataset\n",
        "import tensorflow as tf\n",
        "from tensorflow.keras import datasets, layers, models\n",
        "\n",
        "(x_train_all, y_train_all), (x_test_all, y_test_all) = tf.keras.datasets.cifar100.load_data(label_mode='fine')"
      ]
    },
    {
      "cell_type": "code",
      "execution_count": 4,
      "metadata": {
        "id": "kGKYHffEE1do",
        "colab": {
          "base_uri": "https://localhost:8080/"
        },
        "outputId": "fb1ec800-46e2-4902-c592-69fbcf115899"
      },
      "outputs": [
        {
          "output_type": "stream",
          "name": "stdout",
          "text": [
            "(50000, 32, 32, 3)\n"
          ]
        }
      ],
      "source": [
        "print(x_train_all.shape)"
      ]
    },
    {
      "cell_type": "markdown",
      "metadata": {
        "id": "9PO9wIwYUf0R"
      },
      "source": [
        "Η κάθε ομάδα θα δουλέψει με διαφορετικό υποσύνολο του dataset.\n",
        "Στο επόμενο κελί, αντικαταστήστε την τιμή της μεταβλητής `team_seed` με τον αριθμό που αντιστοιχεί στην ομάδας σας. "
      ]
    },
    {
      "cell_type": "code",
      "execution_count": 5,
      "metadata": {
        "id": "NN0kEze7uZ_G"
      },
      "outputs": [],
      "source": [
        "# REPLACE WITH YOUR TEAM NUMBER\n",
        "team_seed = 9"
      ]
    },
    {
      "cell_type": "code",
      "execution_count": 6,
      "metadata": {
        "id": "RhbZJW6PxUDJ"
      },
      "outputs": [],
      "source": [
        "# select from CIFAR100 20 classes\n",
        "cifar100_classes_url = \"https://pastebin.com/raw/nzE1n98V\""
      ]
    },
    {
      "cell_type": "markdown",
      "metadata": {
        "id": "yO9f6wb0Wi0H"
      },
      "source": [
        "Δημιουργούμε το μοναδικό dataset της ομάδας μας:"
      ]
    },
    {
      "cell_type": "code",
      "execution_count": 7,
      "metadata": {
        "id": "PgIN2h_KuCp_"
      },
      "outputs": [],
      "source": [
        "team_classes = pd.read_csv(cifar100_classes_url, sep=',', header=None)\n",
        "CIFAR100_LABELS_LIST = pd.read_csv('https://pastebin.com/raw/qgDaNggt', sep=',', header=None).astype(str).values.tolist()[0]\n",
        "\n",
        "our_index = team_classes.iloc[team_seed,:].values.tolist()\n",
        "our_classes = select_from_list(CIFAR100_LABELS_LIST, our_index)\n",
        "train_index = get_ds_index(y_train_all, our_index)\n",
        "test_index = get_ds_index(y_test_all, our_index)\n",
        "\n",
        "x_train_ds = np.asarray(select_from_list(x_train_all, train_index))\n",
        "y_train_ds = np.asarray(select_from_list(y_train_all, train_index))\n",
        "x_test_ds = np.asarray(select_from_list(x_test_all, test_index))\n",
        "y_test_ds = np.asarray(select_from_list(y_test_all, test_index))"
      ]
    },
    {
      "cell_type": "code",
      "execution_count": 8,
      "metadata": {
        "id": "zhrklfVVJ3Pn",
        "colab": {
          "base_uri": "https://localhost:8080/",
          "height": 283
        },
        "outputId": "24dd27ad-aad7-4eb6-ee68-04b0f5fd3f32"
      },
      "outputs": [
        {
          "output_type": "stream",
          "name": "stdout",
          "text": [
            "[28]\n"
          ]
        },
        {
          "output_type": "display_data",
          "data": {
            "text/plain": [
              "<Figure size 432x288 with 1 Axes>"
            ],
            "image/png": "[encoded data removed]"
          },
          "metadata": {
            "needs_background": "light"
          }
        }
      ],
      "source": [
        "#print(our_index)\n",
        "plt.imshow(x_train_ds[0])\n",
        "print(y_train_ds[0])"
      ]
    },
    {
      "cell_type": "code",
      "execution_count": 9,
      "metadata": {
        "id": "_B4-tvVOQq3j",
        "colab": {
          "base_uri": "https://localhost:8080/"
        },
        "outputId": "b9c0e6d2-eb2f-441a-f1f9-317e49bb13fb"
      },
      "outputs": [
        {
          "output_type": "stream",
          "name": "stdout",
          "text": [
            "[' beaver', ' bed', ' camel', ' can', ' caterpillar', ' crab', ' cup', ' forest', ' kangaroo', ' leopard', ' mushroom', ' orchid', ' sea', ' skyscraper', ' streetcar', ' table', ' tiger', ' trout', ' tulip', ' wardrobe']\n",
            "[4, 5, 15, 16, 18, 26, 28, 33, 38, 42, 51, 54, 71, 76, 81, 84, 88, 91, 92, 94]\n",
            "[[28]\n",
            " [71]\n",
            " [71]\n",
            " ...\n",
            " [26]\n",
            " [16]\n",
            " [33]]\n"
          ]
        }
      ],
      "source": [
        "# print our classes\n",
        "print(our_classes)\n",
        "print(our_index)\n",
        "print((y_train_ds))"
      ]
    },
    {
      "cell_type": "code",
      "execution_count": 10,
      "metadata": {
        "id": "bk5wy0u7GGMj",
        "colab": {
          "base_uri": "https://localhost:8080/"
        },
        "outputId": "04f4ae02-4a92-4677-aee1-c9aaade58f82"
      },
      "outputs": [
        {
          "output_type": "stream",
          "name": "stdout",
          "text": [
            "(10000, 32, 32, 3)\n"
          ]
        }
      ],
      "source": [
        "print(x_train_ds.shape)"
      ]
    },
    {
      "cell_type": "code",
      "execution_count": 11,
      "metadata": {
        "id": "uy02lbN0W1Yg",
        "colab": {
          "base_uri": "https://localhost:8080/"
        },
        "outputId": "fea75a6c-631e-4a76-a1ea-91dc6cde598e"
      },
      "outputs": [
        {
          "output_type": "stream",
          "name": "stdout",
          "text": [
            "{4: 0, 5: 1, 15: 2, 16: 3, 18: 4, 26: 5, 28: 6, 33: 7, 38: 8, 42: 9, 51: 10, 54: 11, 71: 12, 76: 13, 81: 14, 84: 15, 88: 16, 91: 17, 92: 18, 94: 19}\n"
          ]
        }
      ],
      "source": [
        "# fix mapping [0, numclasses-1] -> [0, 19]\n",
        "d = {}\n",
        "for i in range(20):\n",
        "  d[our_index[i]] = i # new key, so add\n",
        "print(d)"
      ]
    },
    {
      "cell_type": "code",
      "execution_count": 12,
      "metadata": {
        "id": "azt3DG3xaghl"
      },
      "outputs": [],
      "source": [
        "# apply mapping to y_train_ds and make the z_train_ds matrix\n",
        "\n",
        "z_train_ds = y_train_ds.copy()\n",
        "z_test_ds = y_test_ds.copy()\n",
        "\n",
        "for k in range(len(y_train_ds)):\n",
        "  z_train_ds[k][0] = d[y_train_ds[k][0]]\n",
        "\n",
        "for k in range(len(y_test_ds)):\n",
        "  z_test_ds[k][0] = d[y_test_ds[k][0]]\n"
      ]
    },
    {
      "cell_type": "code",
      "execution_count": 13,
      "metadata": {
        "id": "QpGXgTs_5ZCk",
        "colab": {
          "base_uri": "https://localhost:8080/",
          "height": 483
        },
        "outputId": "3b53f404-1f55-448f-c5e2-db6102bbfbee"
      },
      "outputs": [
        {
          "output_type": "stream",
          "name": "stdout",
          "text": [
            "Train: X=(8500, 32, 32, 3), y=(8500, 1)\n",
            "Validation: X=(1500, 32, 32, 3), y=(1500, 1)\n",
            "Test: X=(2000, 32, 32, 3), y=(2000, 1)\n"
          ]
        },
        {
          "output_type": "display_data",
          "data": {
            "text/plain": [
              "<Figure size 432x504 with 9 Axes>"
            ],
            "image/png": "[encoded data removed]"
          },
          "metadata": {
            "needs_background": "light"
          }
        }
      ],
      "source": [
        "# get (train) dataset dimensions\n",
        "data_size, img_rows, img_cols, img_channels = x_train_ds.shape\n",
        "\n",
        "# set validation set percentage (wrt the training set size)\n",
        "validation_percentage = 0.15\n",
        "val_size = round(validation_percentage * data_size)\n",
        "\n",
        "# Reserve val_size samples for validation and normalize all values\n",
        "x_val = x_train_ds[-val_size:]/255\n",
        "y_val = z_train_ds[-val_size:]\n",
        "x_train = x_train_ds[:-val_size]/255\n",
        "y_train = z_train_ds[:-val_size]\n",
        "x_test = x_test_ds/255\n",
        "y_test = z_test_ds\n",
        "\n",
        "# summarize loaded dataset\n",
        "print('Train: X=%s, y=%s' % (x_train.shape, y_train.shape))\n",
        "print('Validation: X=%s, y=%s' % (x_val.shape, y_val.shape))\n",
        "print('Test: X=%s, y=%s' % (x_test.shape, y_test.shape))\n",
        "\n",
        "# get class label from class index\n",
        "def class_label_from_index(fine_category):\n",
        "  return(CIFAR100_LABELS_LIST[fine_category.item(0)])\n",
        "\n",
        "# plot first few images\n",
        "plt.figure(figsize=(6, 7))\n",
        "for i in range(9):\n",
        "\t# define subplot\n",
        "  plt.subplot(330 + 1 + i).set_title(class_label_from_index(y_train_ds[i]))\n",
        "\t# plot raw pixel data\n",
        "  plt.imshow(x_train[i], cmap=plt.get_cmap('gray'))\n",
        "  #show the figure\n",
        "plt.show()"
      ]
    },
    {
      "cell_type": "markdown",
      "metadata": {
        "id": "iAgowxR8oJH7"
      },
      "source": [
        "## Ερώτημα 1\n",
        "---\n",
        "#### Βήμα 1: Σχεδίαση, μεταγλώττιση και εκπαίδευση των μοντέλων\n",
        "\n",
        " 1. Σχεδίαστε, μεταγλωττίστε και εκπαιδεύστε τα μοντέλα  **LeNet, AlexNet και  VGG**, καθώς και ένα δικό σας μοντέλο (ονομάστε το π.χ. **MyCNN**) χρησιμοποιώντας διαφορετικούς συνδυασμούς (τουλάχιστον 2 ανά μοντέλο) για [optimizer](https://keras.io/api/optimizers/), [loss](https://keras.io/api/losses/), batch size και epoch.  Για [metrics](https://keras.io/api/metrics/) να χρησιμοποιήσετε την ορθότητα (όπως στο Lab8.1).\n",
        "---\n",
        "  \n",
        "#### Βήμα 2: Αξιολόγηση των μοντέλων\n",
        "\n",
        "1. Για κάθε ένα από τα μοντέλα που εκπαιδεύσατε, απεικονίστε σε κοινό διάγραμμα την ορθότητα εκπαίδευσης και την ορθότητα επικύρωσης στο σύνολο των εποχών, για κάθε διαφορετικό συνδυασμό του βήματος 1 και επιλέξτε αυτό με την καλύτερη ορθότητα από κάθε μοντέλο (ένα από κάθε αρχιτεκτονική, συνολικά 4).\n",
        "2. Για κάθε ένα από τα μοντέλα με την καλύτερη ορθότητα (συνολικά **4**), απεικονίστε σε κοινό διάγραμμα την ορθότητα εκπαίδευσης και την ορθότητα επικύρωσης στο σύνολο των εποχών.\n",
        "3. Αξιολογήστε, αναλυτικά, τα αποτελέσματά σας ως προς τα εξής:\n",
        " - Επίδραση του πλήθους των δεδομένων/κλάσεων στην απόδοση του μοντέλου\n",
        " - Επίδραση του αλγόριθμου βελτιστοποίησης (optimizer)\n",
        " - Επίδραση του μεγέθους δέσμης (batch size)\n",
        " \n",
        "---\n",
        "\n",
        "#### Βήμα 3: Αξιολόγηση ορθότητας\n",
        "Αξιολογήστε την ορθότητα για το test set σας.\n"
      ]
    },
    {
      "cell_type": "markdown",
      "metadata": {
        "id": "pb8g46J9wQaI"
      },
      "source": [
        "##Βήμα 1: Σχεδίαση, μεταγλώττιση και εκπαίδευση των μοντέλων\n"
      ]
    },
    {
      "cell_type": "markdown",
      "metadata": {
        "id": "daDqu-8gw7od"
      },
      "source": [
        "###Σχεδίαση Μοντέλων"
      ]
    },
    {
      "cell_type": "code",
      "execution_count": 14,
      "metadata": {
        "id": "8yOQ2eLuOXZC",
        "colab": {
          "base_uri": "https://localhost:8080/",
          "height": 0
        },
        "outputId": "ab4e2117-e03b-4c35-cf70-c9f8b405a9db"
      },
      "outputs": [
        {
          "output_type": "stream",
          "name": "stdout",
          "text": [
            "Looking in indexes: https://pypi.org/simple, https://us-python.pkg.dev/colab-wheels/public/simple/\n",
            "Collecting d2l\n",
            "  Downloading d2l-0.17.5-py3-none-any.whl (82 kB)\n",
            "\u001b[K     |████████████████████████████████| 82 kB 637 kB/s \n",
            "\u001b[?25hCollecting pandas==1.2.4\n",
            "  Downloading pandas-1.2.4-cp37-cp37m-manylinux1_x86_64.whl (9.9 MB)\n",
            "\u001b[K     |████████████████████████████████| 9.9 MB 16.5 MB/s \n",
            "\u001b[?25hCollecting matplotlib==3.5.1\n",
            "  Downloading matplotlib-3.5.1-cp37-cp37m-manylinux_2_5_x86_64.manylinux1_x86_64.whl (11.2 MB)\n",
            "\u001b[K     |████████████████████████████████| 11.2 MB 65.6 MB/s \n",
            "\u001b[?25hCollecting numpy==1.21.5\n",
            "  Downloading numpy-1.21.5-cp37-cp37m-manylinux_2_12_x86_64.manylinux2010_x86_64.whl (15.7 MB)\n",
            "\u001b[K     |████████████████████████████████| 15.7 MB 55.9 MB/s \n",
            "\u001b[?25hRequirement already satisfied: jupyter==1.0.0 in /usr/local/lib/python3.7/dist-packages (from d2l) (1.0.0)\n",
            "Collecting requests==2.25.1\n",
            "  Downloading requests-2.25.1-py2.py3-none-any.whl (61 kB)\n",
            "\u001b[K     |████████████████████████████████| 61 kB 2.5 MB/s \n",
            "\u001b[?25hRequirement already satisfied: jupyter-console in /usr/local/lib/python3.7/dist-packages (from jupyter==1.0.0->d2l) (5.2.0)\n",
            "Requirement already satisfied: nbconvert in /usr/local/lib/python3.7/dist-packages (from jupyter==1.0.0->d2l) (5.6.1)\n",
            "Requirement already satisfied: ipywidgets in /usr/local/lib/python3.7/dist-packages (from jupyter==1.0.0->d2l) (7.7.0)\n",
            "Requirement already satisfied: qtconsole in /usr/local/lib/python3.7/dist-packages (from jupyter==1.0.0->d2l) (5.3.0)\n",
            "Requirement already satisfied: notebook in /usr/local/lib/python3.7/dist-packages (from jupyter==1.0.0->d2l) (5.3.1)\n",
            "Requirement already satisfied: ipykernel in /usr/local/lib/python3.7/dist-packages (from jupyter==1.0.0->d2l) (4.10.1)\n",
            "Requirement already satisfied: kiwisolver>=1.0.1 in /usr/local/lib/python3.7/dist-packages (from matplotlib==3.5.1->d2l) (1.4.2)\n",
            "Requirement already satisfied: cycler>=0.10 in /usr/local/lib/python3.7/dist-packages (from matplotlib==3.5.1->d2l) (0.11.0)\n",
            "Requirement already satisfied: packaging>=20.0 in /usr/local/lib/python3.7/dist-packages (from matplotlib==3.5.1->d2l) (21.3)\n",
            "Requirement already satisfied: python-dateutil>=2.7 in /usr/local/lib/python3.7/dist-packages (from matplotlib==3.5.1->d2l) (2.8.2)\n",
            "Requirement already satisfied: pyparsing>=2.2.1 in /usr/local/lib/python3.7/dist-packages (from matplotlib==3.5.1->d2l) (3.0.9)\n",
            "Requirement already satisfied: pillow>=6.2.0 in /usr/local/lib/python3.7/dist-packages (from matplotlib==3.5.1->d2l) (7.1.2)\n",
            "Collecting fonttools>=4.22.0\n",
            "  Downloading fonttools-4.33.3-py3-none-any.whl (930 kB)\n",
            "\u001b[K     |████████████████████████████████| 930 kB 58.1 MB/s \n",
            "\u001b[?25hRequirement already satisfied: pytz>=2017.3 in /usr/local/lib/python3.7/dist-packages (from pandas==1.2.4->d2l) (2022.1)\n",
            "Requirement already satisfied: chardet<5,>=3.0.2 in /usr/local/lib/python3.7/dist-packages (from requests==2.25.1->d2l) (3.0.4)\n",
            "Requirement already satisfied: urllib3<1.27,>=1.21.1 in /usr/local/lib/python3.7/dist-packages (from requests==2.25.1->d2l) (1.24.3)\n",
            "Requirement already satisfied: idna<3,>=2.5 in /usr/local/lib/python3.7/dist-packages (from requests==2.25.1->d2l) (2.10)\n",
            "Requirement already satisfied: certifi>=2017.4.17 in /usr/local/lib/python3.7/dist-packages (from requests==2.25.1->d2l) (2022.5.18.1)\n",
            "Requirement already satisfied: typing-extensions in /usr/local/lib/python3.7/dist-packages (from kiwisolver>=1.0.1->matplotlib==3.5.1->d2l) (4.2.0)\n",
            "Requirement already satisfied: six>=1.5 in /usr/local/lib/python3.7/dist-packages (from python-dateutil>=2.7->matplotlib==3.5.1->d2l) (1.15.0)\n",
            "Requirement already satisfied: ipython>=4.0.0 in /usr/local/lib/python3.7/dist-packages (from ipykernel->jupyter==1.0.0->d2l) (5.5.0)\n",
            "Requirement already satisfied: tornado>=4.0 in /usr/local/lib/python3.7/dist-packages (from ipykernel->jupyter==1.0.0->d2l) (5.1.1)\n",
            "Requirement already satisfied: traitlets>=4.1.0 in /usr/local/lib/python3.7/dist-packages (from ipykernel->jupyter==1.0.0->d2l) (5.1.1)\n",
            "Requirement already satisfied: jupyter-client in /usr/local/lib/python3.7/dist-packages (from ipykernel->jupyter==1.0.0->d2l) (5.3.5)\n",
            "Requirement already satisfied: setuptools>=18.5 in /usr/local/lib/python3.7/dist-packages (from ipython>=4.0.0->ipykernel->jupyter==1.0.0->d2l) (57.4.0)\n",
            "Requirement already satisfied: simplegeneric>0.8 in /usr/local/lib/python3.7/dist-packages (from ipython>=4.0.0->ipykernel->jupyter==1.0.0->d2l) (0.8.1)\n",
            "Requirement already satisfied: pexpect in /usr/local/lib/python3.7/dist-packages (from ipython>=4.0.0->ipykernel->jupyter==1.0.0->d2l) (4.8.0)\n",
            "Requirement already satisfied: decorator in /usr/local/lib/python3.7/dist-packages (from ipython>=4.0.0->ipykernel->jupyter==1.0.0->d2l) (4.4.2)\n",
            "Requirement already satisfied: pygments in /usr/local/lib/python3.7/dist-packages (from ipython>=4.0.0->ipykernel->jupyter==1.0.0->d2l) (2.6.1)\n",
            "Requirement already satisfied: pickleshare in /usr/local/lib/python3.7/dist-packages (from ipython>=4.0.0->ipykernel->jupyter==1.0.0->d2l) (0.7.5)\n",
            "Requirement already satisfied: prompt-toolkit<2.0.0,>=1.0.4 in /usr/local/lib/python3.7/dist-packages (from ipython>=4.0.0->ipykernel->jupyter==1.0.0->d2l) (1.0.18)\n",
            "Requirement already satisfied: wcwidth in /usr/local/lib/python3.7/dist-packages (from prompt-toolkit<2.0.0,>=1.0.4->ipython>=4.0.0->ipykernel->jupyter==1.0.0->d2l) (0.2.5)\n",
            "Requirement already satisfied: nbformat>=4.2.0 in /usr/local/lib/python3.7/dist-packages (from ipywidgets->jupyter==1.0.0->d2l) (5.4.0)\n",
            "Requirement already satisfied: ipython-genutils~=0.2.0 in /usr/local/lib/python3.7/dist-packages (from ipywidgets->jupyter==1.0.0->d2l) (0.2.0)\n",
            "Requirement already satisfied: widgetsnbextension~=3.6.0 in /usr/local/lib/python3.7/dist-packages (from ipywidgets->jupyter==1.0.0->d2l) (3.6.0)\n",
            "Requirement already satisfied: jupyterlab-widgets>=1.0.0 in /usr/local/lib/python3.7/dist-packages (from ipywidgets->jupyter==1.0.0->d2l) (1.1.0)\n",
            "Requirement already satisfied: jsonschema>=2.6 in /usr/local/lib/python3.7/dist-packages (from nbformat>=4.2.0->ipywidgets->jupyter==1.0.0->d2l) (4.3.3)\n",
            "Requirement already satisfied: fastjsonschema in /usr/local/lib/python3.7/dist-packages (from nbformat>=4.2.0->ipywidgets->jupyter==1.0.0->d2l) (2.15.3)\n",
            "Requirement already satisfied: jupyter-core in /usr/local/lib/python3.7/dist-packages (from nbformat>=4.2.0->ipywidgets->jupyter==1.0.0->d2l) (4.10.0)\n",
            "Requirement already satisfied: attrs>=17.4.0 in /usr/local/lib/python3.7/dist-packages (from jsonschema>=2.6->nbformat>=4.2.0->ipywidgets->jupyter==1.0.0->d2l) (21.4.0)\n",
            "Requirement already satisfied: pyrsistent!=0.17.0,!=0.17.1,!=0.17.2,>=0.14.0 in /usr/local/lib/python3.7/dist-packages (from jsonschema>=2.6->nbformat>=4.2.0->ipywidgets->jupyter==1.0.0->d2l) (0.18.1)\n",
            "Requirement already satisfied: importlib-metadata in /usr/local/lib/python3.7/dist-packages (from jsonschema>=2.6->nbformat>=4.2.0->ipywidgets->jupyter==1.0.0->d2l) (4.11.3)\n",
            "Requirement already satisfied: importlib-resources>=1.4.0 in /usr/local/lib/python3.7/dist-packages (from jsonschema>=2.6->nbformat>=4.2.0->ipywidgets->jupyter==1.0.0->d2l) (5.7.1)\n",
            "Requirement already satisfied: zipp>=3.1.0 in /usr/local/lib/python3.7/dist-packages (from importlib-resources>=1.4.0->jsonschema>=2.6->nbformat>=4.2.0->ipywidgets->jupyter==1.0.0->d2l) (3.8.0)\n",
            "Requirement already satisfied: terminado>=0.8.1 in /usr/local/lib/python3.7/dist-packages (from notebook->jupyter==1.0.0->d2l) (0.13.3)\n",
            "Requirement already satisfied: Send2Trash in /usr/local/lib/python3.7/dist-packages (from notebook->jupyter==1.0.0->d2l) (1.8.0)\n",
            "Requirement already satisfied: jinja2 in /usr/local/lib/python3.7/dist-packages (from notebook->jupyter==1.0.0->d2l) (2.11.3)\n",
            "Requirement already satisfied: pyzmq>=13 in /usr/local/lib/python3.7/dist-packages (from jupyter-client->ipykernel->jupyter==1.0.0->d2l) (23.0.0)\n",
            "Requirement already satisfied: ptyprocess in /usr/local/lib/python3.7/dist-packages (from terminado>=0.8.1->notebook->jupyter==1.0.0->d2l) (0.7.0)\n",
            "Requirement already satisfied: MarkupSafe>=0.23 in /usr/local/lib/python3.7/dist-packages (from jinja2->notebook->jupyter==1.0.0->d2l) (2.0.1)\n",
            "Requirement already satisfied: testpath in /usr/local/lib/python3.7/dist-packages (from nbconvert->jupyter==1.0.0->d2l) (0.6.0)\n",
            "Requirement already satisfied: entrypoints>=0.2.2 in /usr/local/lib/python3.7/dist-packages (from nbconvert->jupyter==1.0.0->d2l) (0.4)\n",
            "Requirement already satisfied: defusedxml in /usr/local/lib/python3.7/dist-packages (from nbconvert->jupyter==1.0.0->d2l) (0.7.1)\n",
            "Requirement already satisfied: mistune<2,>=0.8.1 in /usr/local/lib/python3.7/dist-packages (from nbconvert->jupyter==1.0.0->d2l) (0.8.4)\n",
            "Requirement already satisfied: bleach in /usr/local/lib/python3.7/dist-packages (from nbconvert->jupyter==1.0.0->d2l) (5.0.0)\n",
            "Requirement already satisfied: pandocfilters>=1.4.1 in /usr/local/lib/python3.7/dist-packages (from nbconvert->jupyter==1.0.0->d2l) (1.5.0)\n",
            "Requirement already satisfied: webencodings in /usr/local/lib/python3.7/dist-packages (from bleach->nbconvert->jupyter==1.0.0->d2l) (0.5.1)\n",
            "Requirement already satisfied: qtpy>=2.0.1 in /usr/local/lib/python3.7/dist-packages (from qtconsole->jupyter==1.0.0->d2l) (2.1.0)\n",
            "Installing collected packages: numpy, fonttools, requests, pandas, matplotlib, d2l\n",
            "  Attempting uninstall: numpy\n",
            "    Found existing installation: numpy 1.21.6\n",
            "    Uninstalling numpy-1.21.6:\n",
            "      Successfully uninstalled numpy-1.21.6\n",
            "  Attempting uninstall: requests\n",
            "    Found existing installation: requests 2.23.0\n",
            "    Uninstalling requests-2.23.0:\n",
            "      Successfully uninstalled requests-2.23.0\n",
            "  Attempting uninstall: pandas\n",
            "    Found existing installation: pandas 1.3.5\n",
            "    Uninstalling pandas-1.3.5:\n",
            "      Successfully uninstalled pandas-1.3.5\n",
            "  Attempting uninstall: matplotlib\n",
            "    Found existing installation: matplotlib 3.2.2\n",
            "    Uninstalling matplotlib-3.2.2:\n",
            "      Successfully uninstalled matplotlib-3.2.2\n",
            "\u001b[31mERROR: pip's dependency resolver does not currently take into account all the packages that are installed. This behaviour is the source of the following dependency conflicts.\n",
            "tensorflow 2.8.0+zzzcolab20220506162203 requires tf-estimator-nightly==2.8.0.dev2021122109, which is not installed.\n",
            "google-colab 1.0.0 requires requests~=2.23.0, but you have requests 2.25.1 which is incompatible.\n",
            "datascience 0.10.6 requires folium==0.2.1, but you have folium 0.8.3 which is incompatible.\n",
            "albumentations 0.1.12 requires imgaug<0.2.7,>=0.2.5, but you have imgaug 0.2.9 which is incompatible.\u001b[0m\n",
            "Successfully installed d2l-0.17.5 fonttools-4.33.3 matplotlib-3.5.1 numpy-1.21.5 pandas-1.2.4 requests-2.25.1\n"
          ]
        },
        {
          "output_type": "display_data",
          "data": {
            "application/vnd.colab-display-data+json": {
              "pip_warning": {
                "packages": [
                  "matplotlib",
                  "mpl_toolkits",
                  "numpy",
                  "pandas",
                  "requests"
                ]
              }
            }
          },
          "metadata": {}
        }
      ],
      "source": [
        "!pip install d2l"
      ]
    },
    {
      "cell_type": "code",
      "execution_count": 15,
      "metadata": {
        "id": "12hIGerVy2iu"
      },
      "outputs": [],
      "source": [
        "import tensorflow as tf\n",
        "from d2l import tensorflow as d2l"
      ]
    },
    {
      "cell_type": "markdown",
      "metadata": {
        "id": "mGsT2fK2bCRs"
      },
      "source": [
        "####LeNet"
      ]
    },
    {
      "cell_type": "markdown",
      "metadata": {
        "id": "0Sg7FfmwQPWd"
      },
      "source": [
        "Αλλάζουμε το τελευταίο layers.Dense σε 20, επειδή έχουμε 20 κατηγορίες αντικειμένων."
      ]
    },
    {
      "cell_type": "code",
      "execution_count": null,
      "metadata": {
        "id": "tBZkPy6xOPHz"
      },
      "outputs": [],
      "source": [
        "# Code from Dive into Deep Learning - 6.6. Convolutional Neural Networks\n",
        "# Our LeNet model: images 32x32x3 and 20 categories \n",
        "\n",
        "def LeNet():\n",
        "    return tf.keras.models.Sequential([\n",
        "        tf.keras.layers.Conv2D(filters=6, kernel_size=5, activation='sigmoid',\n",
        "                               padding='same'),\n",
        "        tf.keras.layers.AvgPool2D(pool_size=2, strides=2),\n",
        "        tf.keras.layers.Conv2D(filters=16, kernel_size=5,\n",
        "                               activation='sigmoid'),\n",
        "        tf.keras.layers.AvgPool2D(pool_size=2, strides=2),\n",
        "        tf.keras.layers.Flatten(),\n",
        "        tf.keras.layers.Dense(120, activation='sigmoid'),\n",
        "        tf.keras.layers.Dense(84, activation='sigmoid'),\n",
        "        tf.keras.layers.Dense(20)])\n",
        "\n",
        "\n",
        "# === Original LeNet model ===\n",
        "#def LeNet_original():\n",
        "#    return tf.keras.models.Sequential([\n",
        "#        tf.keras.layers.Conv2D(filters=6, kernel_size=5, activation='sigmoid',\n",
        "#                               padding='same'),\n",
        "#        tf.keras.layers.AvgPool2D(pool_size=2, strides=2),\n",
        "#        tf.keras.layers.Conv2D(filters=16, kernel_size=5,\n",
        "#                               activation='sigmoid'),\n",
        "#        tf.keras.layers.AvgPool2D(pool_size=2, strides=2),\n",
        "#        tf.keras.layers.Flatten(),\n",
        "#        tf.keras.layers.Dense(120, activation='sigmoid'),\n",
        "#        tf.keras.layers.Dense(84, activation='sigmoid'),\n",
        "#        tf.keras.layers.Dense(10)])"
      ]
    },
    {
      "cell_type": "code",
      "execution_count": null,
      "metadata": {
        "colab": {
          "base_uri": "https://localhost:8080/"
        },
        "id": "nIrIDDnpUCQB",
        "outputId": "2f5e0140-7e02-40e7-a7b5-bf59320bcfdb"
      },
      "outputs": [
        {
          "name": "stdout",
          "output_type": "stream",
          "text": [
            "Conv2D output shape: \t (1, 32, 32, 6)\n",
            "AveragePooling2D output shape: \t (1, 16, 16, 6)\n",
            "Conv2D output shape: \t (1, 12, 12, 16)\n",
            "AveragePooling2D output shape: \t (1, 6, 6, 16)\n",
            "Flatten output shape: \t (1, 576)\n",
            "Dense output shape: \t (1, 120)\n",
            "Dense output shape: \t (1, 84)\n",
            "Dense output shape: \t (1, 20)\n",
            "Model: \"sequential_1\"\n",
            "_________________________________________________________________\n",
            " Layer (type)                Output Shape              Param #   \n",
            "=================================================================\n",
            " conv2d_2 (Conv2D)           (1, 32, 32, 6)            456       \n",
            "                                                                 \n",
            " average_pooling2d_2 (Averag  (1, 16, 16, 6)           0         \n",
            " ePooling2D)                                                     \n",
            "                                                                 \n",
            " conv2d_3 (Conv2D)           (1, 12, 12, 16)           2416      \n",
            "                                                                 \n",
            " average_pooling2d_3 (Averag  (1, 6, 6, 16)            0         \n",
            " ePooling2D)                                                     \n",
            "                                                                 \n",
            " flatten_1 (Flatten)         (1, 576)                  0         \n",
            "                                                                 \n",
            " dense_3 (Dense)             (1, 120)                  69240     \n",
            "                                                                 \n",
            " dense_4 (Dense)             (1, 84)                   10164     \n",
            "                                                                 \n",
            " dense_5 (Dense)             (1, 20)                   1700      \n",
            "                                                                 \n",
            "=================================================================\n",
            "Total params: 83,976\n",
            "Trainable params: 83,976\n",
            "Non-trainable params: 0\n",
            "_________________________________________________________________\n"
          ]
        }
      ],
      "source": [
        "# Build the model and get the summary for LeNet\n",
        "\n",
        "X = tf.random.uniform((1, 32, 32, 3))\n",
        "for layer in LeNet().layers:\n",
        "    X = layer(X)\n",
        "    print(layer.__class__.__name__, 'output shape: \\t', X.shape)\n",
        "\n",
        "LeNet_model_1 = LeNet()\n",
        "LeNet_model_1.build((1, 32, 32, 3))           # each image is size 32x32 and has 3 channels (rgb)\n",
        "\n",
        "LeNet_model_2 = LeNet()\n",
        "LeNet_model_2.build((1, 32, 32, 3)) \n",
        "\n",
        "LeNet_model_1.summary()"
      ]
    },
    {
      "cell_type": "markdown",
      "metadata": {
        "id": "xVkoOzKZySsf"
      },
      "source": [
        "####AlexNet"
      ]
    },
    {
      "cell_type": "markdown",
      "metadata": {
        "id": "6W0udTNeQd1H"
      },
      "source": [
        "Αλλάζουμε το τελευταίο layers.Dense σε 20, επειδή έχουμε 20 κατηγορίες αντικειμένων. Επιπλέον, από τη στιγμή που οι εικόνες μας έχουν διαστάσεις 32x32x3, γίνονται οι κατάλληλες προσαρμογές στη πρώτη συνέλιξη έτσι ώστε να μη μικρύνουν υπερβολικά οι εικόνες μας. Πιο συγκεκριμένα, βάζουμε kernel_size=3 χωρίς padding  και strides=2, οπότε μειώνεται η διάσταση της εικόνας αλλά όχι σε υπερβολικό βαθμό. Στην αρχική υλοποίηση του AlexNet, επειδή οι εικόνες εισόδου έχουν πολύ μεγαλύτερο μέγεθος, η συνέλιξη έχει αρκετά διαφορετικές παραμέτρους."
      ]
    },
    {
      "cell_type": "code",
      "execution_count": null,
      "metadata": {
        "id": "7WGfsJMoyYzn"
      },
      "outputs": [],
      "source": [
        "# Code from Dive into Deep Learning - 7.1. Deep Convolutional Neural Networks (AlexNet)\n",
        "# Our AlexNet model: images 32x32x3 and 20 categories\n",
        "\n",
        "def AlexNet():\n",
        "    return tf.keras.models.Sequential([\n",
        "        tf.keras.layers.Conv2D(filters=96, kernel_size=3, strides=2,\n",
        "                               activation='relu'),\n",
        "        tf.keras.layers.MaxPool2D(pool_size=3, strides=2),\n",
        "        tf.keras.layers.Conv2D(filters=256, kernel_size=5, padding='same',\n",
        "                               activation='relu'),\n",
        "        tf.keras.layers.MaxPool2D(pool_size=3, strides=2),\n",
        "        tf.keras.layers.Conv2D(filters=384, kernel_size=3, padding='same',\n",
        "                               activation='relu'),\n",
        "        tf.keras.layers.Conv2D(filters=384, kernel_size=3, padding='same',\n",
        "                               activation='relu'),\n",
        "        tf.keras.layers.Conv2D(filters=256, kernel_size=3, padding='same',\n",
        "                               activation='relu'),\n",
        "        tf.keras.layers.MaxPool2D(pool_size=3, strides=2),\n",
        "        tf.keras.layers.Flatten(),\n",
        "        tf.keras.layers.Dense(4096, activation='relu'),\n",
        "        tf.keras.layers.Dropout(0.5),\n",
        "        tf.keras.layers.Dense(4096, activation='relu'),\n",
        "        tf.keras.layers.Dropout(0.5),\n",
        "        tf.keras.layers.Dense(20)\n",
        "    ])\n",
        "\n",
        "\n",
        "# === Original AlexNet model ===\n",
        "#def AlexNet_original():\n",
        "#    return tf.keras.models.Sequential([\n",
        "#        tf.keras.layers.Conv2D(filters=96, kernel_size=11, strides=4,\n",
        "#                               activation='relu'),\n",
        "#        tf.keras.layers.MaxPool2D(pool_size=3, strides=2),\n",
        "#        tf.keras.layers.Conv2D(filters=256, kernel_size=5, padding='same',\n",
        "#                               activation='relu'),\n",
        "#        tf.keras.layers.MaxPool2D(pool_size=3, strides=2),\n",
        "#        tf.keras.layers.Conv2D(filters=384, kernel_size=3, padding='same',\n",
        "#                               activation='relu'),\n",
        "#        tf.keras.layers.Conv2D(filters=384, kernel_size=3, padding='same',\n",
        "#                               activation='relu'),\n",
        "#        tf.keras.layers.Conv2D(filters=256, kernel_size=3, padding='same',\n",
        "#                               activation='relu'),\n",
        "#        tf.keras.layers.MaxPool2D(pool_size=3, strides=2),\n",
        "#        tf.keras.layers.Flatten(),\n",
        "#        tf.keras.layers.Dense(4096, activation='relu'),\n",
        "#        tf.keras.layers.Dropout(0.5),\n",
        "#        tf.keras.layers.Dense(4096, activation='relu'),\n",
        "#        tf.keras.layers.Dropout(0.5),\n",
        "#        tf.keras.layers.Dense(1000)\n",
        "#    ])"
      ]
    },
    {
      "cell_type": "code",
      "execution_count": null,
      "metadata": {
        "colab": {
          "base_uri": "https://localhost:8080/"
        },
        "id": "tCcv5dtH-mkD",
        "outputId": "5c3ed7c3-23f8-4404-a3d6-44b24218f94c"
      },
      "outputs": [
        {
          "name": "stdout",
          "output_type": "stream",
          "text": [
            "Conv2D output shape:\t (1, 15, 15, 96)\n",
            "MaxPooling2D output shape:\t (1, 7, 7, 96)\n",
            "Conv2D output shape:\t (1, 7, 7, 256)\n",
            "MaxPooling2D output shape:\t (1, 3, 3, 256)\n",
            "Conv2D output shape:\t (1, 3, 3, 384)\n",
            "Conv2D output shape:\t (1, 3, 3, 384)\n",
            "Conv2D output shape:\t (1, 3, 3, 256)\n",
            "MaxPooling2D output shape:\t (1, 1, 1, 256)\n",
            "Flatten output shape:\t (1, 256)\n",
            "Dense output shape:\t (1, 4096)\n",
            "Dropout output shape:\t (1, 4096)\n",
            "Dense output shape:\t (1, 4096)\n",
            "Dropout output shape:\t (1, 4096)\n",
            "Dense output shape:\t (1, 20)\n",
            "Model: \"sequential_4\"\n",
            "_________________________________________________________________\n",
            " Layer (type)                Output Shape              Param #   \n",
            "=================================================================\n",
            " conv2d_11 (Conv2D)          (1, 15, 15, 96)           2688      \n",
            "                                                                 \n",
            " max_pooling2d_3 (MaxPooling  (1, 7, 7, 96)            0         \n",
            " 2D)                                                             \n",
            "                                                                 \n",
            " conv2d_12 (Conv2D)          (1, 7, 7, 256)            614656    \n",
            "                                                                 \n",
            " max_pooling2d_4 (MaxPooling  (1, 3, 3, 256)           0         \n",
            " 2D)                                                             \n",
            "                                                                 \n",
            " conv2d_13 (Conv2D)          (1, 3, 3, 384)            885120    \n",
            "                                                                 \n",
            " conv2d_14 (Conv2D)          (1, 3, 3, 384)            1327488   \n",
            "                                                                 \n",
            " conv2d_15 (Conv2D)          (1, 3, 3, 256)            884992    \n",
            "                                                                 \n",
            " max_pooling2d_5 (MaxPooling  (1, 1, 1, 256)           0         \n",
            " 2D)                                                             \n",
            "                                                                 \n",
            " flatten_4 (Flatten)         (1, 256)                  0         \n",
            "                                                                 \n",
            " dense_12 (Dense)            (1, 4096)                 1052672   \n",
            "                                                                 \n",
            " dropout_2 (Dropout)         (1, 4096)                 0         \n",
            "                                                                 \n",
            " dense_13 (Dense)            (1, 4096)                 16781312  \n",
            "                                                                 \n",
            " dropout_3 (Dropout)         (1, 4096)                 0         \n",
            "                                                                 \n",
            " dense_14 (Dense)            (1, 20)                   81940     \n",
            "                                                                 \n",
            "=================================================================\n",
            "Total params: 21,630,868\n",
            "Trainable params: 21,630,868\n",
            "Non-trainable params: 0\n",
            "_________________________________________________________________\n"
          ]
        }
      ],
      "source": [
        "# Build the model and get the summary for AlexNet\n",
        "\n",
        "X = tf.random.uniform((1, 32, 32, 3))\n",
        "for layer in AlexNet().layers:\n",
        "    X = layer(X)\n",
        "    print(layer.__class__.__name__, 'output shape:\\t', X.shape)\n",
        "\n",
        "AlexNet_model_1 = AlexNet()\n",
        "AlexNet_model_1.build((1, 32, 32, 3))           # each image is size 32x32 and has 3 channels (rgb)\n",
        "\n",
        "AlexNet_model_2 = AlexNet()\n",
        "AlexNet_model_2.build((1, 32, 32, 3)) \n",
        "\n",
        "AlexNet_model_1.summary()"
      ]
    },
    {
      "cell_type": "markdown",
      "metadata": {
        "id": "o1g3NV0uECLu"
      },
      "source": [
        "####VGG"
      ]
    },
    {
      "cell_type": "markdown",
      "metadata": {
        "id": "LM-ADE_LUhk4"
      },
      "source": [
        "Αλλάζουμε το τελευταίο layers.Dense σε 20, επειδή έχουμε 20 κατηγορίες αντικειμένων. Επιπλέον, γίνεται χρήση λιγότερων vgg blocks από όσα έχει η υλοποίηση του άρθρου (δηλαδή λιγότερα layers), έτσι ώστε να μην μειώνονται υπερβολικά οι διαστάσεις της εξόδου. Πιο συγκεκριμένα, η custom υλοποίησή μας έχει 3 vgg blocks σε αντίθεση με την original υλοποίηση η οποία έχει 5. "
      ]
    },
    {
      "cell_type": "code",
      "execution_count": null,
      "metadata": {
        "id": "JkF8YfUSKShV"
      },
      "outputs": [],
      "source": [
        "def vgg_block(num_convs, num_channels):\n",
        "    blk = tf.keras.models.Sequential()\n",
        "    for _ in range(num_convs):\n",
        "        blk.add(tf.keras.layers.Conv2D(num_channels,kernel_size=3,\n",
        "                                    padding='same',activation='relu'))\n",
        "    blk.add(tf.keras.layers.MaxPool2D(pool_size=2, strides=2))\n",
        "    return blk"
      ]
    },
    {
      "cell_type": "code",
      "execution_count": null,
      "metadata": {
        "id": "OIbo4DTGF9Vb"
      },
      "outputs": [],
      "source": [
        "# Code from Dive into Deep Learning - 7.2. Networks Using Blocks (VGG)\n",
        "# Our VGG model: images 32x32x3 and 20 categories\n",
        "\n",
        "def vgg(conv_arch):\n",
        "    net = tf.keras.models.Sequential()\n",
        "    # The convulational part\n",
        "    for (num_convs, num_channels) in conv_arch:\n",
        "        net.add(vgg_block(num_convs, num_channels))\n",
        "    # The fully-connected part\n",
        "    net.add(tf.keras.models.Sequential([\n",
        "        tf.keras.layers.Flatten(),\n",
        "        tf.keras.layers.Dense(4096, activation='relu'),\n",
        "        tf.keras.layers.Dropout(0.5),\n",
        "        tf.keras.layers.Dense(4096, activation='relu'),\n",
        "        tf.keras.layers.Dropout(0.5),\n",
        "        tf.keras.layers.Dense(20)]))\n",
        "    return net\n",
        "\n",
        "\n",
        "# === Original VGG model ===\n",
        "#def vgg_original(conv_arch):\n",
        "#    net = tf.keras.models.Sequential()\n",
        "#    for (num_convs, num_channels) in conv_arch:\n",
        "#        net.add(vgg_block(num_convs, num_channels))\n",
        "#    net.add(tf.keras.models.Sequential([\n",
        "#        tf.keras.layers.Flatten(),\n",
        "#        tf.keras.layers.Dense(4096, activation='relu'),\n",
        "#        tf.keras.layers.Dropout(0.5),\n",
        "#        tf.keras.layers.Dense(4096, activation='relu'),\n",
        "#        tf.keras.layers.Dropout(0.5),\n",
        "#        tf.keras.layers.Dense(10)]))\n",
        "#    return net\n",
        "\n",
        "#conv_arch = ((1, 64), (1, 128), (2, 256), (2, 512), (2, 512))\n"
      ]
    },
    {
      "cell_type": "code",
      "execution_count": null,
      "metadata": {
        "colab": {
          "base_uri": "https://localhost:8080/"
        },
        "id": "lPTah9phMSb4",
        "outputId": "2f086a5f-222c-478a-beca-cb8267f3c026"
      },
      "outputs": [
        {
          "name": "stdout",
          "output_type": "stream",
          "text": [
            "Sequential output shape:\t (1, 16, 16, 64)\n",
            "Sequential output shape:\t (1, 8, 8, 128)\n",
            "Sequential output shape:\t (1, 4, 4, 256)\n",
            "Sequential output shape:\t (1, 20)\n",
            "Model: \"sequential_11\"\n",
            "_________________________________________________________________\n",
            " Layer (type)                Output Shape              Param #   \n",
            "=================================================================\n",
            " sequential_12 (Sequential)  (1, 16, 16, 64)           1792      \n",
            "                                                                 \n",
            " sequential_13 (Sequential)  (1, 8, 8, 128)            73856     \n",
            "                                                                 \n",
            " sequential_14 (Sequential)  (1, 4, 4, 256)            885248    \n",
            "                                                                 \n",
            " sequential_15 (Sequential)  (1, 20)                   33644564  \n",
            "                                                                 \n",
            "=================================================================\n",
            "Total params: 34,605,460\n",
            "Trainable params: 34,605,460\n",
            "Non-trainable params: 0\n",
            "_________________________________________________________________\n"
          ]
        }
      ],
      "source": [
        "# Build the model and get the summary for VGG\n",
        "\n",
        "conv_arch = ((1, 64), (1, 128), (2, 256))\n",
        "X = tf.random.uniform((1, 32, 32, 3))\n",
        "for blk in vgg(conv_arch).layers:\n",
        "    X = blk(X)\n",
        "    print(blk.__class__.__name__,'output shape:\\t', X.shape)\n",
        "\n",
        "vgg_model_1 = vgg(conv_arch)\n",
        "vgg_model_1.build((1, 32, 32, 3))\n",
        "\n",
        "vgg_model_2 = vgg(conv_arch)\n",
        "vgg_model_2.build((1, 32, 32, 3))\n",
        "\n",
        "vgg_model_1.summary()"
      ]
    },
    {
      "cell_type": "markdown",
      "metadata": {
        "id": "rR9ma6ExIACn"
      },
      "source": [
        "####MyCNN"
      ]
    },
    {
      "cell_type": "markdown",
      "metadata": {
        "id": "YD7Vz1-XQ9GB"
      },
      "source": [
        "Για το μοντέλο MyCNN επιλέγουμε να κάνουμε 5 συνελίξες εκ των οποίων η πρώτη γίνεται χωρίς padding και οι υπόλοιπες γίνονται με padding. Επιλέγουμε σχετικά υψηλή τιμή filters στις συνελίξεις, με αποτέλεσμα να παίρνει περισσότερο χρόνο η εκπαίδευση του νευρωνικού, καθώς πραγματοποιούνται περισσότερες πράξεις. Επιπλέον, έχουμε τρεις MaxPool2d, οι οποίες κάνουν downsampling ενδιάμεσα από τις συνελίξεις. Τέλος, όπως και στα παραπάνω νευρωνικά δίκτυα επιλέγουμε 3 dense layers. Το τελευταίο dense layer εχει output 20, όσες δηλαδή και οι κατηγορίες μας."
      ]
    },
    {
      "cell_type": "code",
      "execution_count": null,
      "metadata": {
        "id": "UeS4E-otH9qS"
      },
      "outputs": [],
      "source": [
        "def MyCNN():\n",
        "        return tf.keras.models.Sequential([\n",
        "        tf.keras.layers.Conv2D(filters=128, kernel_size=3, activation='relu'),\n",
        "        tf.keras.layers.Conv2D(filters=256, kernel_size=5, padding='same', activation='relu'),\n",
        "        tf.keras.layers.MaxPool2D(pool_size=3, strides=2),\n",
        "        tf.keras.layers.Conv2D(filters=512, kernel_size=3, padding='same', activation='relu'),\n",
        "        tf.keras.layers.MaxPool2D(pool_size=3, strides=2),\n",
        "        tf.keras.layers.Conv2D(filters=512, kernel_size=3, padding='same', activation='relu'),\n",
        "        tf.keras.layers.Conv2D(filters=256, kernel_size=3, padding='same', activation='relu'),\n",
        "        tf.keras.layers.MaxPool2D(pool_size=3, strides=2),\n",
        "        tf.keras.layers.Flatten(),\n",
        "        tf.keras.layers.Dense(4096, activation='relu'),\n",
        "        tf.keras.layers.Dropout(0.5),\n",
        "        tf.keras.layers.Dense(4096, activation='relu'),\n",
        "        tf.keras.layers.Dropout(0.5),\n",
        "        tf.keras.layers.Dense(20)\n",
        "    ])"
      ]
    },
    {
      "cell_type": "code",
      "execution_count": null,
      "metadata": {
        "colab": {
          "base_uri": "https://localhost:8080/"
        },
        "id": "rnnxaFx4KCHf",
        "outputId": "8e3770a7-cf17-4cc9-d0b1-7bf1c0aefdcd"
      },
      "outputs": [
        {
          "name": "stdout",
          "output_type": "stream",
          "text": [
            "Conv2D output shape:\t (1, 30, 30, 128)\n",
            "Conv2D output shape:\t (1, 30, 30, 256)\n",
            "MaxPooling2D output shape:\t (1, 14, 14, 256)\n",
            "Conv2D output shape:\t (1, 14, 14, 512)\n",
            "MaxPooling2D output shape:\t (1, 6, 6, 512)\n",
            "Conv2D output shape:\t (1, 6, 6, 512)\n",
            "Conv2D output shape:\t (1, 6, 6, 256)\n",
            "MaxPooling2D output shape:\t (1, 2, 2, 256)\n",
            "Flatten output shape:\t (1, 1024)\n",
            "Dense output shape:\t (1, 4096)\n",
            "Dropout output shape:\t (1, 4096)\n",
            "Dense output shape:\t (1, 4096)\n",
            "Dropout output shape:\t (1, 4096)\n",
            "Dense output shape:\t (1, 20)\n",
            "Model: \"sequential_4\"\n",
            "_________________________________________________________________\n",
            " Layer (type)                Output Shape              Param #   \n",
            "=================================================================\n",
            " conv2d_20 (Conv2D)          (1, 30, 30, 128)          3584      \n",
            "                                                                 \n",
            " conv2d_21 (Conv2D)          (1, 30, 30, 256)          819456    \n",
            "                                                                 \n",
            " max_pooling2d_12 (MaxPoolin  (1, 14, 14, 256)         0         \n",
            " g2D)                                                            \n",
            "                                                                 \n",
            " conv2d_22 (Conv2D)          (1, 14, 14, 512)          1180160   \n",
            "                                                                 \n",
            " max_pooling2d_13 (MaxPoolin  (1, 6, 6, 512)           0         \n",
            " g2D)                                                            \n",
            "                                                                 \n",
            " conv2d_23 (Conv2D)          (1, 6, 6, 512)            2359808   \n",
            "                                                                 \n",
            " conv2d_24 (Conv2D)          (1, 6, 6, 256)            1179904   \n",
            "                                                                 \n",
            " max_pooling2d_14 (MaxPoolin  (1, 2, 2, 256)           0         \n",
            " g2D)                                                            \n",
            "                                                                 \n",
            " flatten_4 (Flatten)         (1, 1024)                 0         \n",
            "                                                                 \n",
            " dense_12 (Dense)            (1, 4096)                 4198400   \n",
            "                                                                 \n",
            " dropout_17 (Dropout)        (1, 4096)                 0         \n",
            "                                                                 \n",
            " dense_13 (Dense)            (1, 4096)                 16781312  \n",
            "                                                                 \n",
            " dropout_18 (Dropout)        (1, 4096)                 0         \n",
            "                                                                 \n",
            " dense_14 (Dense)            (1, 20)                   81940     \n",
            "                                                                 \n",
            "=================================================================\n",
            "Total params: 26,604,564\n",
            "Trainable params: 26,604,564\n",
            "Non-trainable params: 0\n",
            "_________________________________________________________________\n"
          ]
        }
      ],
      "source": [
        "X = tf.random.uniform((1, 32, 32, 3))\n",
        "for layer in MyCNN().layers:\n",
        "    X = layer(X)\n",
        "    print(layer.__class__.__name__, 'output shape:\\t', X.shape)\n",
        "\n",
        "MyCNN_model_1 = MyCNN()\n",
        "MyCNN_model_1.build((1, 32, 32, 3))           # each image is size 32x32 and has 3 channels (rgb) \n",
        "\n",
        "MyCNN_model_2 = MyCNN()\n",
        "MyCNN_model_2.build((1, 32, 32, 3))\n",
        "\n",
        "MyCNN_model_1.summary()"
      ]
    },
    {
      "cell_type": "markdown",
      "metadata": {
        "id": "lBpMJLtcyA-l"
      },
      "source": [
        "###Μεταγλώττιση και εκπαίδευση μοντέλων"
      ]
    },
    {
      "cell_type": "markdown",
      "metadata": {
        "id": "SHaH4iTqDKJV"
      },
      "source": [
        "####LeNet"
      ]
    },
    {
      "cell_type": "markdown",
      "metadata": {
        "id": "kJ5eQuXRXF2m"
      },
      "source": [
        "* Πρώτη υλοποίηση LeNet: optimizer='adam', epochs=50, batch_size=256"
      ]
    },
    {
      "cell_type": "code",
      "execution_count": null,
      "metadata": {
        "colab": {
          "base_uri": "https://localhost:8080/"
        },
        "id": "otQAPRWckNXi",
        "outputId": "09104392-9165-49a2-8810-d2020b0fe309"
      },
      "outputs": [
        {
          "name": "stdout",
          "output_type": "stream",
          "text": [
            "Epoch 1/50\n",
            "34/34 [==============================] - 6s 42ms/step - loss: 3.0320 - accuracy: 0.0459 - val_loss: 3.0005 - val_accuracy: 0.0500\n",
            "Epoch 2/50\n",
            "34/34 [==============================] - 1s 22ms/step - loss: 3.0000 - accuracy: 0.0502 - val_loss: 2.9999 - val_accuracy: 0.0500\n",
            "Epoch 3/50\n",
            "34/34 [==============================] - 1s 22ms/step - loss: 3.0013 - accuracy: 0.0475 - val_loss: 2.9982 - val_accuracy: 0.0500\n",
            "Epoch 4/50\n",
            "34/34 [==============================] - 1s 16ms/step - loss: 2.9987 - accuracy: 0.0514 - val_loss: 2.9967 - val_accuracy: 0.0500\n",
            "Epoch 5/50\n",
            "34/34 [==============================] - 0s 14ms/step - loss: 2.9895 - accuracy: 0.0648 - val_loss: 2.9676 - val_accuracy: 0.0605\n",
            "Epoch 6/50\n",
            "34/34 [==============================] - 0s 13ms/step - loss: 2.9238 - accuracy: 0.0984 - val_loss: 2.8703 - val_accuracy: 0.1060\n",
            "Epoch 7/50\n",
            "34/34 [==============================] - 0s 13ms/step - loss: 2.8396 - accuracy: 0.1134 - val_loss: 2.8045 - val_accuracy: 0.1180\n",
            "Epoch 8/50\n",
            "34/34 [==============================] - 0s 13ms/step - loss: 2.7854 - accuracy: 0.1324 - val_loss: 2.7736 - val_accuracy: 0.1345\n",
            "Epoch 9/50\n",
            "34/34 [==============================] - 0s 13ms/step - loss: 2.7418 - accuracy: 0.1428 - val_loss: 2.7301 - val_accuracy: 0.1605\n",
            "Epoch 10/50\n",
            "34/34 [==============================] - 0s 13ms/step - loss: 2.7111 - accuracy: 0.1541 - val_loss: 2.7077 - val_accuracy: 0.1745\n",
            "Epoch 11/50\n",
            "34/34 [==============================] - 0s 12ms/step - loss: 2.6851 - accuracy: 0.1735 - val_loss: 2.6731 - val_accuracy: 0.1935\n",
            "Epoch 12/50\n",
            "34/34 [==============================] - 0s 14ms/step - loss: 2.6610 - accuracy: 0.1833 - val_loss: 2.6555 - val_accuracy: 0.1915\n",
            "Epoch 13/50\n",
            "34/34 [==============================] - 1s 18ms/step - loss: 2.6413 - accuracy: 0.1896 - val_loss: 2.6464 - val_accuracy: 0.1775\n",
            "Epoch 14/50\n",
            "34/34 [==============================] - 0s 14ms/step - loss: 2.6282 - accuracy: 0.1904 - val_loss: 2.6229 - val_accuracy: 0.1990\n",
            "Epoch 15/50\n",
            "34/34 [==============================] - 0s 13ms/step - loss: 2.6107 - accuracy: 0.1958 - val_loss: 2.6130 - val_accuracy: 0.2085\n",
            "Epoch 16/50\n",
            "34/34 [==============================] - 0s 13ms/step - loss: 2.5995 - accuracy: 0.2061 - val_loss: 2.5965 - val_accuracy: 0.2155\n",
            "Epoch 17/50\n",
            "34/34 [==============================] - 0s 13ms/step - loss: 2.5786 - accuracy: 0.2145 - val_loss: 2.5850 - val_accuracy: 0.2245\n",
            "Epoch 18/50\n",
            "34/34 [==============================] - 0s 13ms/step - loss: 2.5675 - accuracy: 0.2194 - val_loss: 2.5728 - val_accuracy: 0.2235\n",
            "Epoch 19/50\n",
            "34/34 [==============================] - 0s 13ms/step - loss: 2.5496 - accuracy: 0.2225 - val_loss: 2.5640 - val_accuracy: 0.2270\n",
            "Epoch 20/50\n",
            "34/34 [==============================] - 0s 13ms/step - loss: 2.5362 - accuracy: 0.2332 - val_loss: 2.5463 - val_accuracy: 0.2300\n",
            "Epoch 21/50\n",
            "34/34 [==============================] - 0s 12ms/step - loss: 2.5239 - accuracy: 0.2294 - val_loss: 2.5415 - val_accuracy: 0.2380\n",
            "Epoch 22/50\n",
            "34/34 [==============================] - 0s 13ms/step - loss: 2.5146 - accuracy: 0.2332 - val_loss: 2.5251 - val_accuracy: 0.2505\n",
            "Epoch 23/50\n",
            "34/34 [==============================] - 0s 13ms/step - loss: 2.4972 - accuracy: 0.2421 - val_loss: 2.5172 - val_accuracy: 0.2440\n",
            "Epoch 24/50\n",
            "34/34 [==============================] - 0s 13ms/step - loss: 2.4864 - accuracy: 0.2465 - val_loss: 2.5069 - val_accuracy: 0.2480\n",
            "Epoch 25/50\n",
            "34/34 [==============================] - 0s 13ms/step - loss: 2.4778 - accuracy: 0.2492 - val_loss: 2.5012 - val_accuracy: 0.2545\n",
            "Epoch 26/50\n",
            "34/34 [==============================] - 0s 13ms/step - loss: 2.4702 - accuracy: 0.2442 - val_loss: 2.4893 - val_accuracy: 0.2520\n",
            "Epoch 27/50\n",
            "34/34 [==============================] - 0s 13ms/step - loss: 2.4537 - accuracy: 0.2580 - val_loss: 2.4776 - val_accuracy: 0.2600\n",
            "Epoch 28/50\n",
            "34/34 [==============================] - 0s 13ms/step - loss: 2.4396 - accuracy: 0.2632 - val_loss: 2.4603 - val_accuracy: 0.2675\n",
            "Epoch 29/50\n",
            "34/34 [==============================] - 0s 14ms/step - loss: 2.4249 - accuracy: 0.2636 - val_loss: 2.4636 - val_accuracy: 0.2525\n",
            "Epoch 30/50\n",
            "34/34 [==============================] - 0s 14ms/step - loss: 2.4147 - accuracy: 0.2667 - val_loss: 2.4371 - val_accuracy: 0.2680\n",
            "Epoch 31/50\n",
            "34/34 [==============================] - 0s 13ms/step - loss: 2.3991 - accuracy: 0.2700 - val_loss: 2.4263 - val_accuracy: 0.2735\n",
            "Epoch 32/50\n",
            "34/34 [==============================] - 0s 14ms/step - loss: 2.3816 - accuracy: 0.2851 - val_loss: 2.4189 - val_accuracy: 0.2785\n",
            "Epoch 33/50\n",
            "34/34 [==============================] - 0s 13ms/step - loss: 2.3668 - accuracy: 0.2839 - val_loss: 2.4009 - val_accuracy: 0.2885\n",
            "Epoch 34/50\n",
            "34/34 [==============================] - 0s 13ms/step - loss: 2.3471 - accuracy: 0.2895 - val_loss: 2.3702 - val_accuracy: 0.2840\n",
            "Epoch 35/50\n",
            "34/34 [==============================] - 0s 12ms/step - loss: 2.3209 - accuracy: 0.2992 - val_loss: 2.3407 - val_accuracy: 0.2935\n",
            "Epoch 36/50\n",
            "34/34 [==============================] - 0s 13ms/step - loss: 2.3045 - accuracy: 0.3014 - val_loss: 2.3348 - val_accuracy: 0.2980\n",
            "Epoch 37/50\n",
            "34/34 [==============================] - 0s 13ms/step - loss: 2.2818 - accuracy: 0.3071 - val_loss: 2.3046 - val_accuracy: 0.3135\n",
            "Epoch 38/50\n",
            "34/34 [==============================] - 0s 13ms/step - loss: 2.2623 - accuracy: 0.3118 - val_loss: 2.2842 - val_accuracy: 0.3205\n",
            "Epoch 39/50\n",
            "34/34 [==============================] - 0s 13ms/step - loss: 2.2467 - accuracy: 0.3194 - val_loss: 2.2720 - val_accuracy: 0.3160\n",
            "Epoch 40/50\n",
            "34/34 [==============================] - 0s 13ms/step - loss: 2.2247 - accuracy: 0.3255 - val_loss: 2.2569 - val_accuracy: 0.3350\n",
            "Epoch 41/50\n",
            "34/34 [==============================] - 0s 12ms/step - loss: 2.2124 - accuracy: 0.3322 - val_loss: 2.2551 - val_accuracy: 0.3265\n",
            "Epoch 42/50\n",
            "34/34 [==============================] - 0s 13ms/step - loss: 2.1990 - accuracy: 0.3354 - val_loss: 2.2273 - val_accuracy: 0.3395\n",
            "Epoch 43/50\n",
            "34/34 [==============================] - 0s 13ms/step - loss: 2.1796 - accuracy: 0.3434 - val_loss: 2.2172 - val_accuracy: 0.3435\n",
            "Epoch 44/50\n",
            "34/34 [==============================] - 0s 12ms/step - loss: 2.1652 - accuracy: 0.3476 - val_loss: 2.2108 - val_accuracy: 0.3550\n",
            "Epoch 45/50\n",
            "34/34 [==============================] - 0s 13ms/step - loss: 2.1551 - accuracy: 0.3460 - val_loss: 2.2074 - val_accuracy: 0.3400\n",
            "Epoch 46/50\n",
            "34/34 [==============================] - 0s 13ms/step - loss: 2.1398 - accuracy: 0.3511 - val_loss: 2.1827 - val_accuracy: 0.3525\n",
            "Epoch 47/50\n",
            "34/34 [==============================] - 0s 12ms/step - loss: 2.1280 - accuracy: 0.3540 - val_loss: 2.1807 - val_accuracy: 0.3465\n",
            "Epoch 48/50\n",
            "34/34 [==============================] - 0s 12ms/step - loss: 2.1101 - accuracy: 0.3627 - val_loss: 2.1712 - val_accuracy: 0.3485\n",
            "Epoch 49/50\n",
            "34/34 [==============================] - 0s 13ms/step - loss: 2.1143 - accuracy: 0.3585 - val_loss: 2.1557 - val_accuracy: 0.3525\n",
            "Epoch 50/50\n",
            "34/34 [==============================] - 0s 13ms/step - loss: 2.0870 - accuracy: 0.3695 - val_loss: 2.1413 - val_accuracy: 0.3595\n"
          ]
        }
      ],
      "source": [
        "LeNet_model_1.compile(optimizer='adam',\n",
        "              loss=tf.keras.losses.SparseCategoricalCrossentropy(from_logits=True),\n",
        "              metrics=['accuracy'])\n",
        "\n",
        "LeNet_history_1 = LeNet_model_1.fit(x_train, y_train, epochs=50, batch_size=256,\n",
        "                    validation_data=(x_test, y_test))\n",
        "\n",
        "LeNet_model_1.save('LeNet_model_1.h5')"
      ]
    },
    {
      "cell_type": "markdown",
      "metadata": {
        "id": "Tczes1NwXrw_"
      },
      "source": [
        "* Δεύτερη υλοποίηση LeNet: optimizer='Nadam', epochs=50, batch_size=10"
      ]
    },
    {
      "cell_type": "code",
      "execution_count": null,
      "metadata": {
        "colab": {
          "base_uri": "https://localhost:8080/"
        },
        "id": "sJK5sqaVW4v-",
        "outputId": "7179dcfb-add1-482d-8e06-ad3e15cc493e"
      },
      "outputs": [
        {
          "name": "stdout",
          "output_type": "stream",
          "text": [
            "Epoch 1/50\n",
            "850/850 [==============================] - 7s 7ms/step - loss: 2.9241 - accuracy: 0.0865 - val_loss: 2.7676 - val_accuracy: 0.1235\n",
            "Epoch 2/50\n",
            "850/850 [==============================] - 5s 6ms/step - loss: 2.7257 - accuracy: 0.1445 - val_loss: 2.6944 - val_accuracy: 0.1650\n",
            "Epoch 3/50\n",
            "850/850 [==============================] - 6s 6ms/step - loss: 2.6396 - accuracy: 0.1798 - val_loss: 2.6055 - val_accuracy: 0.1940\n",
            "Epoch 4/50\n",
            "850/850 [==============================] - 7s 8ms/step - loss: 2.5355 - accuracy: 0.2116 - val_loss: 2.4792 - val_accuracy: 0.2565\n",
            "Epoch 5/50\n",
            "850/850 [==============================] - 6s 7ms/step - loss: 2.4275 - accuracy: 0.2491 - val_loss: 2.3802 - val_accuracy: 0.2910\n",
            "Epoch 6/50\n",
            "850/850 [==============================] - 5s 6ms/step - loss: 2.3452 - accuracy: 0.2742 - val_loss: 2.3450 - val_accuracy: 0.2790\n",
            "Epoch 7/50\n",
            "850/850 [==============================] - 5s 6ms/step - loss: 2.2818 - accuracy: 0.2899 - val_loss: 2.2858 - val_accuracy: 0.2995\n",
            "Epoch 8/50\n",
            "850/850 [==============================] - 6s 7ms/step - loss: 2.2377 - accuracy: 0.3040 - val_loss: 2.2575 - val_accuracy: 0.3070\n",
            "Epoch 9/50\n",
            "850/850 [==============================] - 6s 7ms/step - loss: 2.1909 - accuracy: 0.3211 - val_loss: 2.2608 - val_accuracy: 0.3085\n",
            "Epoch 10/50\n",
            "850/850 [==============================] - 7s 8ms/step - loss: 2.1486 - accuracy: 0.3309 - val_loss: 2.2018 - val_accuracy: 0.3320\n",
            "Epoch 11/50\n",
            "850/850 [==============================] - 6s 7ms/step - loss: 2.1075 - accuracy: 0.3461 - val_loss: 2.1495 - val_accuracy: 0.3515\n",
            "Epoch 12/50\n",
            "850/850 [==============================] - 6s 7ms/step - loss: 2.0657 - accuracy: 0.3551 - val_loss: 2.1508 - val_accuracy: 0.3550\n",
            "Epoch 13/50\n",
            "850/850 [==============================] - 6s 7ms/step - loss: 2.0257 - accuracy: 0.3667 - val_loss: 2.0993 - val_accuracy: 0.3775\n",
            "Epoch 14/50\n",
            "850/850 [==============================] - 6s 7ms/step - loss: 1.9823 - accuracy: 0.3819 - val_loss: 2.0660 - val_accuracy: 0.3870\n",
            "Epoch 15/50\n",
            "850/850 [==============================] - 6s 7ms/step - loss: 1.9425 - accuracy: 0.4013 - val_loss: 2.0648 - val_accuracy: 0.3775\n",
            "Epoch 16/50\n",
            "850/850 [==============================] - 6s 7ms/step - loss: 1.9025 - accuracy: 0.4091 - val_loss: 2.0357 - val_accuracy: 0.3930\n",
            "Epoch 17/50\n",
            "850/850 [==============================] - 6s 7ms/step - loss: 1.8607 - accuracy: 0.4191 - val_loss: 2.0720 - val_accuracy: 0.3690\n",
            "Epoch 18/50\n",
            "850/850 [==============================] - 6s 7ms/step - loss: 1.8219 - accuracy: 0.4331 - val_loss: 1.9948 - val_accuracy: 0.4010\n",
            "Epoch 19/50\n",
            "850/850 [==============================] - 6s 7ms/step - loss: 1.7886 - accuracy: 0.4375 - val_loss: 1.9922 - val_accuracy: 0.3980\n",
            "Epoch 20/50\n",
            "850/850 [==============================] - 6s 7ms/step - loss: 1.7524 - accuracy: 0.4515 - val_loss: 1.9720 - val_accuracy: 0.4050\n",
            "Epoch 21/50\n",
            "850/850 [==============================] - 6s 7ms/step - loss: 1.7216 - accuracy: 0.4605 - val_loss: 1.9478 - val_accuracy: 0.4195\n",
            "Epoch 22/50\n",
            "850/850 [==============================] - 6s 7ms/step - loss: 1.6842 - accuracy: 0.4754 - val_loss: 1.9691 - val_accuracy: 0.4130\n",
            "Epoch 23/50\n",
            "850/850 [==============================] - 7s 8ms/step - loss: 1.6520 - accuracy: 0.4831 - val_loss: 1.9457 - val_accuracy: 0.4105\n",
            "Epoch 24/50\n",
            "850/850 [==============================] - 11s 13ms/step - loss: 1.6172 - accuracy: 0.4922 - val_loss: 1.9316 - val_accuracy: 0.4245\n",
            "Epoch 25/50\n",
            "850/850 [==============================] - 10s 12ms/step - loss: 1.5863 - accuracy: 0.5053 - val_loss: 1.9313 - val_accuracy: 0.4175\n",
            "Epoch 26/50\n",
            "850/850 [==============================] - 10s 11ms/step - loss: 1.5482 - accuracy: 0.5156 - val_loss: 1.9328 - val_accuracy: 0.4280\n",
            "Epoch 27/50\n",
            "850/850 [==============================] - 9s 11ms/step - loss: 1.5173 - accuracy: 0.5215 - val_loss: 1.9375 - val_accuracy: 0.4210\n",
            "Epoch 28/50\n",
            "850/850 [==============================] - 6s 6ms/step - loss: 1.4842 - accuracy: 0.5352 - val_loss: 1.9103 - val_accuracy: 0.4350\n",
            "Epoch 29/50\n",
            "850/850 [==============================] - 6s 7ms/step - loss: 1.4539 - accuracy: 0.5455 - val_loss: 1.9286 - val_accuracy: 0.4240\n",
            "Epoch 30/50\n",
            "850/850 [==============================] - 6s 7ms/step - loss: 1.4218 - accuracy: 0.5546 - val_loss: 1.9279 - val_accuracy: 0.4220\n",
            "Epoch 31/50\n",
            "850/850 [==============================] - 6s 7ms/step - loss: 1.3895 - accuracy: 0.5633 - val_loss: 1.9100 - val_accuracy: 0.4335\n",
            "Epoch 32/50\n",
            "850/850 [==============================] - 9s 10ms/step - loss: 1.3564 - accuracy: 0.5784 - val_loss: 1.9045 - val_accuracy: 0.4385\n",
            "Epoch 33/50\n",
            "850/850 [==============================] - 6s 7ms/step - loss: 1.3220 - accuracy: 0.5832 - val_loss: 1.9517 - val_accuracy: 0.4320\n",
            "Epoch 34/50\n",
            "850/850 [==============================] - 6s 7ms/step - loss: 1.2877 - accuracy: 0.5929 - val_loss: 1.9347 - val_accuracy: 0.4325\n",
            "Epoch 35/50\n",
            "850/850 [==============================] - 6s 7ms/step - loss: 1.2547 - accuracy: 0.6062 - val_loss: 1.9686 - val_accuracy: 0.4355\n",
            "Epoch 36/50\n",
            "850/850 [==============================] - 6s 7ms/step - loss: 1.2210 - accuracy: 0.6204 - val_loss: 1.9649 - val_accuracy: 0.4385\n",
            "Epoch 37/50\n",
            "850/850 [==============================] - 6s 7ms/step - loss: 1.1883 - accuracy: 0.6324 - val_loss: 1.9952 - val_accuracy: 0.4280\n",
            "Epoch 38/50\n",
            "850/850 [==============================] - 6s 7ms/step - loss: 1.1586 - accuracy: 0.6378 - val_loss: 1.9905 - val_accuracy: 0.4350\n",
            "Epoch 39/50\n",
            "850/850 [==============================] - 6s 7ms/step - loss: 1.1273 - accuracy: 0.6427 - val_loss: 1.9966 - val_accuracy: 0.4390\n",
            "Epoch 40/50\n",
            "850/850 [==============================] - 6s 6ms/step - loss: 1.0909 - accuracy: 0.6584 - val_loss: 2.0249 - val_accuracy: 0.4325\n",
            "Epoch 41/50\n",
            "850/850 [==============================] - 6s 7ms/step - loss: 1.0580 - accuracy: 0.6726 - val_loss: 2.0100 - val_accuracy: 0.4420\n",
            "Epoch 42/50\n",
            "850/850 [==============================] - 6s 7ms/step - loss: 1.0356 - accuracy: 0.6805 - val_loss: 2.0727 - val_accuracy: 0.4350\n",
            "Epoch 43/50\n",
            "850/850 [==============================] - 6s 7ms/step - loss: 0.9991 - accuracy: 0.6881 - val_loss: 2.1097 - val_accuracy: 0.4230\n",
            "Epoch 44/50\n",
            "850/850 [==============================] - 6s 7ms/step - loss: 0.9650 - accuracy: 0.7011 - val_loss: 2.0660 - val_accuracy: 0.4465\n",
            "Epoch 45/50\n",
            "850/850 [==============================] - 6s 6ms/step - loss: 0.9296 - accuracy: 0.7111 - val_loss: 2.1287 - val_accuracy: 0.4375\n",
            "Epoch 46/50\n",
            "850/850 [==============================] - 6s 7ms/step - loss: 0.9059 - accuracy: 0.7185 - val_loss: 2.1484 - val_accuracy: 0.4265\n",
            "Epoch 47/50\n",
            "850/850 [==============================] - 6s 7ms/step - loss: 0.8689 - accuracy: 0.7358 - val_loss: 2.1608 - val_accuracy: 0.4280\n",
            "Epoch 48/50\n",
            "850/850 [==============================] - 6s 7ms/step - loss: 0.8407 - accuracy: 0.7407 - val_loss: 2.1718 - val_accuracy: 0.4300\n",
            "Epoch 49/50\n",
            "850/850 [==============================] - 6s 7ms/step - loss: 0.8122 - accuracy: 0.7494 - val_loss: 2.2116 - val_accuracy: 0.4395\n",
            "Epoch 50/50\n",
            "850/850 [==============================] - 8s 9ms/step - loss: 0.7825 - accuracy: 0.7607 - val_loss: 2.2609 - val_accuracy: 0.4290\n"
          ]
        }
      ],
      "source": [
        "LeNet_model_2.compile(optimizer='Nadam',\n",
        "              loss=tf.keras.losses.SparseCategoricalCrossentropy(from_logits=True),\n",
        "              metrics=['accuracy'])\n",
        "\n",
        "LeNet_history_2 = LeNet_model_2.fit(x_train, y_train, epochs=50, batch_size=10,\n",
        "                    validation_data=(x_test, y_test))\n",
        "\n",
        "LeNet_model_2.save('LeNet_model_2.h5')"
      ]
    },
    {
      "cell_type": "markdown",
      "metadata": {
        "id": "ig6NNn2FDN0k"
      },
      "source": [
        "####AlexNet"
      ]
    },
    {
      "cell_type": "markdown",
      "metadata": {
        "id": "JoFhK4v5ddOx"
      },
      "source": [
        "* Πρώτη υλοποίηση AlexNet: optimizer='adam', epochs=30, batch_size=128"
      ]
    },
    {
      "cell_type": "code",
      "execution_count": null,
      "metadata": {
        "colab": {
          "base_uri": "https://localhost:8080/"
        },
        "id": "hf1EEK3dVrHV",
        "outputId": "099d4213-8905-4ac0-841a-2ff053a57c0c"
      },
      "outputs": [
        {
          "name": "stdout",
          "output_type": "stream",
          "text": [
            "Epoch 1/30\n",
            "67/67 [==============================] - 6s 69ms/step - loss: 2.9969 - accuracy: 0.0532 - val_loss: 2.9912 - val_accuracy: 0.0510\n",
            "Epoch 2/30\n",
            "67/67 [==============================] - 4s 54ms/step - loss: 2.8871 - accuracy: 0.0944 - val_loss: 2.7611 - val_accuracy: 0.1210\n",
            "Epoch 3/30\n",
            "67/67 [==============================] - 4s 54ms/step - loss: 2.7271 - accuracy: 0.1258 - val_loss: 2.6365 - val_accuracy: 0.1575\n",
            "Epoch 4/30\n",
            "67/67 [==============================] - 4s 54ms/step - loss: 2.6353 - accuracy: 0.1500 - val_loss: 2.6462 - val_accuracy: 0.1495\n",
            "Epoch 5/30\n",
            "67/67 [==============================] - 4s 55ms/step - loss: 2.6014 - accuracy: 0.1520 - val_loss: 2.5495 - val_accuracy: 0.1880\n",
            "Epoch 6/30\n",
            "67/67 [==============================] - 4s 57ms/step - loss: 2.5392 - accuracy: 0.1865 - val_loss: 2.4844 - val_accuracy: 0.2130\n",
            "Epoch 7/30\n",
            "67/67 [==============================] - 4s 55ms/step - loss: 2.4300 - accuracy: 0.2271 - val_loss: 2.3865 - val_accuracy: 0.2350\n",
            "Epoch 8/30\n",
            "67/67 [==============================] - 4s 54ms/step - loss: 2.3275 - accuracy: 0.2596 - val_loss: 2.2794 - val_accuracy: 0.2695\n",
            "Epoch 9/30\n",
            "67/67 [==============================] - 4s 54ms/step - loss: 2.2274 - accuracy: 0.2842 - val_loss: 2.1978 - val_accuracy: 0.3190\n",
            "Epoch 10/30\n",
            "67/67 [==============================] - 4s 54ms/step - loss: 2.0971 - accuracy: 0.3344 - val_loss: 2.0162 - val_accuracy: 0.3675\n",
            "Epoch 11/30\n",
            "67/67 [==============================] - 4s 54ms/step - loss: 1.9600 - accuracy: 0.3785 - val_loss: 1.9444 - val_accuracy: 0.3925\n",
            "Epoch 12/30\n",
            "67/67 [==============================] - 4s 54ms/step - loss: 1.8613 - accuracy: 0.4064 - val_loss: 1.8891 - val_accuracy: 0.4190\n",
            "Epoch 13/30\n",
            "67/67 [==============================] - 4s 55ms/step - loss: 1.7569 - accuracy: 0.4441 - val_loss: 2.0536 - val_accuracy: 0.3795\n",
            "Epoch 14/30\n",
            "67/67 [==============================] - 4s 54ms/step - loss: 1.6720 - accuracy: 0.4676 - val_loss: 1.8434 - val_accuracy: 0.4330\n",
            "Epoch 15/30\n",
            "67/67 [==============================] - 4s 54ms/step - loss: 1.5942 - accuracy: 0.4946 - val_loss: 1.9353 - val_accuracy: 0.4275\n",
            "Epoch 16/30\n",
            "67/67 [==============================] - 4s 53ms/step - loss: 1.5245 - accuracy: 0.5180 - val_loss: 1.7959 - val_accuracy: 0.4625\n",
            "Epoch 17/30\n",
            "67/67 [==============================] - 4s 54ms/step - loss: 1.4252 - accuracy: 0.5420 - val_loss: 1.8212 - val_accuracy: 0.4705\n",
            "Epoch 18/30\n",
            "67/67 [==============================] - 4s 54ms/step - loss: 1.4148 - accuracy: 0.5476 - val_loss: 1.7670 - val_accuracy: 0.4695\n",
            "Epoch 19/30\n",
            "67/67 [==============================] - 4s 57ms/step - loss: 1.3011 - accuracy: 0.5804 - val_loss: 1.8274 - val_accuracy: 0.4600\n",
            "Epoch 20/30\n",
            "67/67 [==============================] - 4s 60ms/step - loss: 1.2148 - accuracy: 0.6062 - val_loss: 1.8804 - val_accuracy: 0.4690\n",
            "Epoch 21/30\n",
            "67/67 [==============================] - 4s 54ms/step - loss: 1.1440 - accuracy: 0.6286 - val_loss: 1.7886 - val_accuracy: 0.4665\n",
            "Epoch 22/30\n",
            "67/67 [==============================] - 4s 55ms/step - loss: 1.1034 - accuracy: 0.6451 - val_loss: 1.8139 - val_accuracy: 0.4945\n",
            "Epoch 23/30\n",
            "67/67 [==============================] - 4s 54ms/step - loss: 0.9962 - accuracy: 0.6825 - val_loss: 1.9256 - val_accuracy: 0.4975\n",
            "Epoch 24/30\n",
            "67/67 [==============================] - 4s 54ms/step - loss: 0.9614 - accuracy: 0.6936 - val_loss: 1.9732 - val_accuracy: 0.4900\n",
            "Epoch 25/30\n",
            "67/67 [==============================] - 4s 55ms/step - loss: 0.8788 - accuracy: 0.7151 - val_loss: 2.0118 - val_accuracy: 0.4995\n",
            "Epoch 26/30\n",
            "67/67 [==============================] - 4s 54ms/step - loss: 0.7992 - accuracy: 0.7395 - val_loss: 1.9912 - val_accuracy: 0.5005\n",
            "Epoch 27/30\n",
            "67/67 [==============================] - 4s 54ms/step - loss: 0.7561 - accuracy: 0.7591 - val_loss: 2.1734 - val_accuracy: 0.4830\n",
            "Epoch 28/30\n",
            "67/67 [==============================] - 4s 54ms/step - loss: 0.6896 - accuracy: 0.7752 - val_loss: 2.1536 - val_accuracy: 0.5120\n",
            "Epoch 29/30\n",
            "67/67 [==============================] - 4s 54ms/step - loss: 0.6415 - accuracy: 0.7929 - val_loss: 2.2141 - val_accuracy: 0.5170\n",
            "Epoch 30/30\n",
            "67/67 [==============================] - 4s 55ms/step - loss: 0.6285 - accuracy: 0.7994 - val_loss: 2.3192 - val_accuracy: 0.5025\n"
          ]
        }
      ],
      "source": [
        "AlexNet_model_1.compile(optimizer='adam',\n",
        "              loss=tf.keras.losses.SparseCategoricalCrossentropy(from_logits=True),\n",
        "              metrics=['accuracy'])\n",
        "\n",
        "AlexNet_history_1 = AlexNet_model_1.fit(x_train, y_train, epochs=30, batch_size=128,\n",
        "                    validation_data=(x_test, y_test))\n",
        "\n",
        "AlexNet_model_1.save('AlexNet_model_1.h5')"
      ]
    },
    {
      "cell_type": "markdown",
      "metadata": {
        "id": "kkgVn6YCdhnL"
      },
      "source": [
        "* Δεύτερη υλοποίηση AlexNet: optimizer='RMSprop', epochs=25, batch_size=64"
      ]
    },
    {
      "cell_type": "code",
      "execution_count": null,
      "metadata": {
        "colab": {
          "base_uri": "https://localhost:8080/"
        },
        "id": "xSUEq-kkdO8g",
        "outputId": "d452e9d3-5a49-4c81-a40b-6e7cfa823864"
      },
      "outputs": [
        {
          "name": "stdout",
          "output_type": "stream",
          "text": [
            "Epoch 1/30\n",
            "133/133 [==============================] - 8s 48ms/step - loss: 3.5264 - accuracy: 0.0681 - val_loss: 2.8205 - val_accuracy: 0.1075\n",
            "Epoch 2/30\n",
            "133/133 [==============================] - 6s 45ms/step - loss: 2.8479 - accuracy: 0.1098 - val_loss: 2.7277 - val_accuracy: 0.1125\n",
            "Epoch 3/30\n",
            "133/133 [==============================] - 6s 45ms/step - loss: 2.7420 - accuracy: 0.1293 - val_loss: 2.6296 - val_accuracy: 0.1575\n",
            "Epoch 4/30\n",
            "133/133 [==============================] - 6s 45ms/step - loss: 2.6549 - accuracy: 0.1527 - val_loss: 2.5549 - val_accuracy: 0.1805\n",
            "Epoch 5/30\n",
            "133/133 [==============================] - 6s 45ms/step - loss: 2.5449 - accuracy: 0.2088 - val_loss: 2.3231 - val_accuracy: 0.2880\n",
            "Epoch 6/30\n",
            "133/133 [==============================] - 6s 46ms/step - loss: 2.3365 - accuracy: 0.2827 - val_loss: 2.1661 - val_accuracy: 0.3405\n",
            "Epoch 7/30\n",
            "133/133 [==============================] - 6s 45ms/step - loss: 2.1715 - accuracy: 0.3324 - val_loss: 2.3741 - val_accuracy: 0.2935\n",
            "Epoch 8/30\n",
            "133/133 [==============================] - 6s 45ms/step - loss: 2.0602 - accuracy: 0.3726 - val_loss: 1.9825 - val_accuracy: 0.3855\n",
            "Epoch 9/30\n",
            "133/133 [==============================] - 6s 45ms/step - loss: 1.8962 - accuracy: 0.4251 - val_loss: 1.9552 - val_accuracy: 0.4115\n",
            "Epoch 10/30\n",
            "133/133 [==============================] - 6s 45ms/step - loss: 1.7986 - accuracy: 0.4624 - val_loss: 2.0547 - val_accuracy: 0.3985\n",
            "Epoch 11/30\n",
            "133/133 [==============================] - 6s 48ms/step - loss: 1.6864 - accuracy: 0.4907 - val_loss: 2.2226 - val_accuracy: 0.3905\n",
            "Epoch 12/30\n",
            "133/133 [==============================] - 6s 45ms/step - loss: 1.5934 - accuracy: 0.5180 - val_loss: 1.9782 - val_accuracy: 0.4495\n",
            "Epoch 13/30\n",
            "133/133 [==============================] - 6s 45ms/step - loss: 1.4577 - accuracy: 0.5621 - val_loss: 1.8622 - val_accuracy: 0.4630\n",
            "Epoch 14/30\n",
            "133/133 [==============================] - 6s 45ms/step - loss: 1.3903 - accuracy: 0.5787 - val_loss: 2.1292 - val_accuracy: 0.4525\n",
            "Epoch 15/30\n",
            "133/133 [==============================] - 6s 45ms/step - loss: 1.2967 - accuracy: 0.6127 - val_loss: 1.9154 - val_accuracy: 0.4770\n",
            "Epoch 16/30\n",
            "133/133 [==============================] - 6s 47ms/step - loss: 1.2500 - accuracy: 0.6321 - val_loss: 2.7092 - val_accuracy: 0.4760\n",
            "Epoch 17/30\n",
            "133/133 [==============================] - 6s 45ms/step - loss: 1.1484 - accuracy: 0.6507 - val_loss: 1.9780 - val_accuracy: 0.5075\n",
            "Epoch 18/30\n",
            "133/133 [==============================] - 6s 45ms/step - loss: 1.0925 - accuracy: 0.6767 - val_loss: 2.7373 - val_accuracy: 0.4905\n",
            "Epoch 19/30\n",
            "133/133 [==============================] - 6s 47ms/step - loss: 1.0323 - accuracy: 0.6947 - val_loss: 1.9658 - val_accuracy: 0.5290\n",
            "Epoch 20/30\n",
            "133/133 [==============================] - 6s 45ms/step - loss: 0.9772 - accuracy: 0.7180 - val_loss: 3.2057 - val_accuracy: 0.4865\n",
            "Epoch 21/30\n",
            "133/133 [==============================] - 6s 45ms/step - loss: 0.9257 - accuracy: 0.7264 - val_loss: 2.8317 - val_accuracy: 0.4885\n",
            "Epoch 22/30\n",
            "133/133 [==============================] - 6s 47ms/step - loss: 0.9504 - accuracy: 0.7302 - val_loss: 2.1907 - val_accuracy: 0.5310\n",
            "Epoch 23/30\n",
            "133/133 [==============================] - 6s 47ms/step - loss: 0.8669 - accuracy: 0.7535 - val_loss: 2.4327 - val_accuracy: 0.5145\n",
            "Epoch 24/30\n",
            "133/133 [==============================] - 6s 45ms/step - loss: 0.9714 - accuracy: 0.7446 - val_loss: 2.0060 - val_accuracy: 0.5520\n",
            "Epoch 25/30\n",
            "133/133 [==============================] - 6s 47ms/step - loss: 0.7696 - accuracy: 0.7759 - val_loss: 3.0107 - val_accuracy: 0.5440\n",
            "Epoch 26/30\n",
            "133/133 [==============================] - 6s 45ms/step - loss: 0.8481 - accuracy: 0.7691 - val_loss: 2.6432 - val_accuracy: 0.4045\n",
            "Epoch 27/30\n",
            "133/133 [==============================] - 6s 45ms/step - loss: 0.7525 - accuracy: 0.7924 - val_loss: 3.3675 - val_accuracy: 0.5300\n",
            "Epoch 28/30\n",
            "133/133 [==============================] - 6s 45ms/step - loss: 0.7542 - accuracy: 0.7962 - val_loss: 2.3784 - val_accuracy: 0.4785\n",
            "Epoch 29/30\n",
            "133/133 [==============================] - 6s 45ms/step - loss: 0.7647 - accuracy: 0.7968 - val_loss: 2.8878 - val_accuracy: 0.5460\n",
            "Epoch 30/30\n",
            "133/133 [==============================] - 6s 45ms/step - loss: 0.7278 - accuracy: 0.8072 - val_loss: 3.1035 - val_accuracy: 0.5270\n"
          ]
        }
      ],
      "source": [
        "AlexNet_model_2.compile(optimizer='RMSprop',\n",
        "              loss=tf.keras.losses.SparseCategoricalCrossentropy(from_logits=True),\n",
        "              metrics=['accuracy'])\n",
        "\n",
        "AlexNet_history_2 = AlexNet_model_2.fit(x_train, y_train, epochs=30, batch_size=64,\n",
        "                    validation_data=(x_test, y_test))\n",
        "\n",
        "AlexNet_model_2.save('AlexNet_model_2.h5')"
      ]
    },
    {
      "cell_type": "markdown",
      "metadata": {
        "id": "NBZc7I_4FG5j"
      },
      "source": [
        "####VGG"
      ]
    },
    {
      "cell_type": "markdown",
      "metadata": {
        "id": "GaE-5r8LcYqL"
      },
      "source": [
        "* Πρώτη υλοποίηση VGG: optimizer='adam', epochs=15, batch_size=128"
      ]
    },
    {
      "cell_type": "code",
      "execution_count": null,
      "metadata": {
        "colab": {
          "base_uri": "https://localhost:8080/"
        },
        "id": "i2idah_zOYi-",
        "outputId": "e5c949e8-fa1e-4819-ec14-3fe3c278f383"
      },
      "outputs": [
        {
          "name": "stdout",
          "output_type": "stream",
          "text": [
            "Epoch 1/20\n",
            "67/67 [==============================] - 6s 68ms/step - loss: 2.8437 - accuracy: 0.1098 - val_loss: 2.5987 - val_accuracy: 0.1835\n",
            "Epoch 2/20\n",
            "67/67 [==============================] - 4s 59ms/step - loss: 2.4627 - accuracy: 0.2201 - val_loss: 2.2672 - val_accuracy: 0.3085\n",
            "Epoch 3/20\n",
            "67/67 [==============================] - 4s 59ms/step - loss: 2.2111 - accuracy: 0.3094 - val_loss: 2.0009 - val_accuracy: 0.3990\n",
            "Epoch 4/20\n",
            "67/67 [==============================] - 4s 60ms/step - loss: 1.9184 - accuracy: 0.4128 - val_loss: 1.8055 - val_accuracy: 0.4500\n",
            "Epoch 5/20\n",
            "67/67 [==============================] - 4s 59ms/step - loss: 1.7200 - accuracy: 0.4684 - val_loss: 1.6814 - val_accuracy: 0.4770\n",
            "Epoch 6/20\n",
            "67/67 [==============================] - 4s 60ms/step - loss: 1.5115 - accuracy: 0.5380 - val_loss: 1.5422 - val_accuracy: 0.5380\n",
            "Epoch 7/20\n",
            "67/67 [==============================] - 4s 60ms/step - loss: 1.3032 - accuracy: 0.5958 - val_loss: 1.5168 - val_accuracy: 0.5395\n",
            "Epoch 8/20\n",
            "67/67 [==============================] - 4s 59ms/step - loss: 1.1440 - accuracy: 0.6401 - val_loss: 1.5301 - val_accuracy: 0.5380\n",
            "Epoch 9/20\n",
            "67/67 [==============================] - 4s 60ms/step - loss: 1.0044 - accuracy: 0.6794 - val_loss: 1.4282 - val_accuracy: 0.5890\n",
            "Epoch 10/20\n",
            "67/67 [==============================] - 4s 59ms/step - loss: 0.8087 - accuracy: 0.7400 - val_loss: 1.4817 - val_accuracy: 0.5920\n",
            "Epoch 11/20\n",
            "67/67 [==============================] - 4s 59ms/step - loss: 0.6831 - accuracy: 0.7852 - val_loss: 1.5200 - val_accuracy: 0.5960\n",
            "Epoch 12/20\n",
            "67/67 [==============================] - 4s 59ms/step - loss: 0.5748 - accuracy: 0.8100 - val_loss: 1.5606 - val_accuracy: 0.6120\n",
            "Epoch 13/20\n",
            "67/67 [==============================] - 4s 59ms/step - loss: 0.4443 - accuracy: 0.8571 - val_loss: 1.6152 - val_accuracy: 0.6205\n",
            "Epoch 14/20\n",
            "67/67 [==============================] - 4s 59ms/step - loss: 0.3529 - accuracy: 0.8852 - val_loss: 1.6859 - val_accuracy: 0.5955\n",
            "Epoch 15/20\n",
            "67/67 [==============================] - 4s 59ms/step - loss: 0.2935 - accuracy: 0.9032 - val_loss: 1.8227 - val_accuracy: 0.6155\n",
            "Epoch 16/20\n",
            "67/67 [==============================] - 4s 59ms/step - loss: 0.2496 - accuracy: 0.9198 - val_loss: 1.8341 - val_accuracy: 0.6260\n",
            "Epoch 17/20\n",
            "67/67 [==============================] - 4s 60ms/step - loss: 0.2081 - accuracy: 0.9348 - val_loss: 1.9777 - val_accuracy: 0.6125\n",
            "Epoch 18/20\n",
            "67/67 [==============================] - 4s 60ms/step - loss: 0.1827 - accuracy: 0.9424 - val_loss: 2.1299 - val_accuracy: 0.6075\n",
            "Epoch 19/20\n",
            "67/67 [==============================] - 4s 59ms/step - loss: 0.1513 - accuracy: 0.9493 - val_loss: 2.3592 - val_accuracy: 0.5985\n",
            "Epoch 20/20\n",
            "67/67 [==============================] - 4s 59ms/step - loss: 0.1536 - accuracy: 0.9522 - val_loss: 2.0593 - val_accuracy: 0.6275\n"
          ]
        }
      ],
      "source": [
        "vgg_model_1.compile(optimizer='adam',\n",
        "              loss=tf.keras.losses.SparseCategoricalCrossentropy(from_logits=True),\n",
        "              metrics=['accuracy'])\n",
        "\n",
        "vgg_history_1 = vgg_model_1.fit(x_train, y_train, epochs=20, batch_size=128,\n",
        "                    validation_data=(x_test, y_test))\n",
        "\n",
        "vgg_model_1.save('vgg_model_1.h5')"
      ]
    },
    {
      "cell_type": "markdown",
      "metadata": {
        "id": "NoeY4msmdGn-"
      },
      "source": [
        "* Δεύτερη υλοποίηση VGG: optimizer='Nadam', epochs=15, batch_size=256"
      ]
    },
    {
      "cell_type": "code",
      "execution_count": null,
      "metadata": {
        "colab": {
          "base_uri": "https://localhost:8080/"
        },
        "id": "aVM-4WbXcQOH",
        "outputId": "6b914be5-0ef0-4a87-8729-38c182dd03c8"
      },
      "outputs": [
        {
          "name": "stdout",
          "output_type": "stream",
          "text": [
            "Epoch 1/20\n",
            "34/34 [==============================] - 7s 144ms/step - loss: 3.0324 - accuracy: 0.0595 - val_loss: 2.9922 - val_accuracy: 0.0510\n",
            "Epoch 2/20\n",
            "34/34 [==============================] - 4s 124ms/step - loss: 2.9956 - accuracy: 0.0578 - val_loss: 3.7909 - val_accuracy: 0.0500\n",
            "Epoch 3/20\n",
            "34/34 [==============================] - 4s 125ms/step - loss: 3.0253 - accuracy: 0.0689 - val_loss: 2.9815 - val_accuracy: 0.0660\n",
            "Epoch 4/20\n",
            "34/34 [==============================] - 4s 124ms/step - loss: 3.1176 - accuracy: 0.0554 - val_loss: 2.9916 - val_accuracy: 0.0730\n",
            "Epoch 5/20\n",
            "34/34 [==============================] - 4s 125ms/step - loss: 2.9778 - accuracy: 0.0671 - val_loss: 2.9480 - val_accuracy: 0.0845\n",
            "Epoch 6/20\n",
            "34/34 [==============================] - 4s 124ms/step - loss: 2.9516 - accuracy: 0.0824 - val_loss: 2.8778 - val_accuracy: 0.1095\n",
            "Epoch 7/20\n",
            "34/34 [==============================] - 4s 124ms/step - loss: 2.9822 - accuracy: 0.1005 - val_loss: 2.8934 - val_accuracy: 0.1100\n",
            "Epoch 8/20\n",
            "34/34 [==============================] - 4s 124ms/step - loss: 2.8680 - accuracy: 0.1154 - val_loss: 2.7612 - val_accuracy: 0.1500\n",
            "Epoch 9/20\n",
            "34/34 [==============================] - 4s 127ms/step - loss: 2.9500 - accuracy: 0.1038 - val_loss: 2.7337 - val_accuracy: 0.1590\n",
            "Epoch 10/20\n",
            "34/34 [==============================] - 4s 124ms/step - loss: 2.7797 - accuracy: 0.1385 - val_loss: 2.6513 - val_accuracy: 0.1900\n",
            "Epoch 11/20\n",
            "34/34 [==============================] - 4s 125ms/step - loss: 2.6413 - accuracy: 0.1745 - val_loss: 2.6077 - val_accuracy: 0.1770\n",
            "Epoch 12/20\n",
            "34/34 [==============================] - 4s 124ms/step - loss: 2.5494 - accuracy: 0.2106 - val_loss: 2.6007 - val_accuracy: 0.1815\n",
            "Epoch 13/20\n",
            "34/34 [==============================] - 4s 127ms/step - loss: 2.3758 - accuracy: 0.2651 - val_loss: 2.2290 - val_accuracy: 0.3265\n",
            "Epoch 14/20\n",
            "34/34 [==============================] - 4s 124ms/step - loss: 2.3308 - accuracy: 0.2835 - val_loss: 2.4983 - val_accuracy: 0.2580\n",
            "Epoch 15/20\n",
            "34/34 [==============================] - 4s 124ms/step - loss: 2.1493 - accuracy: 0.3384 - val_loss: 2.0842 - val_accuracy: 0.3625\n",
            "Epoch 16/20\n",
            "34/34 [==============================] - 4s 125ms/step - loss: 1.9708 - accuracy: 0.3913 - val_loss: 2.1684 - val_accuracy: 0.3520\n",
            "Epoch 17/20\n",
            "34/34 [==============================] - 4s 126ms/step - loss: 1.8370 - accuracy: 0.4358 - val_loss: 1.9584 - val_accuracy: 0.4125\n",
            "Epoch 18/20\n",
            "34/34 [==============================] - 4s 125ms/step - loss: 1.6829 - accuracy: 0.4800 - val_loss: 1.8243 - val_accuracy: 0.4480\n",
            "Epoch 19/20\n",
            "34/34 [==============================] - 4s 126ms/step - loss: 1.5151 - accuracy: 0.5366 - val_loss: 1.8994 - val_accuracy: 0.4445\n",
            "Epoch 20/20\n",
            "34/34 [==============================] - 4s 126ms/step - loss: 1.4680 - accuracy: 0.5436 - val_loss: 1.7329 - val_accuracy: 0.4865\n"
          ]
        }
      ],
      "source": [
        "vgg_model_2.compile(optimizer='Nadam',\n",
        "              loss=tf.keras.losses.SparseCategoricalCrossentropy(from_logits=True),\n",
        "              metrics=['accuracy'])\n",
        "\n",
        "vgg_history_2 = vgg_model_2.fit(x_train, y_train, epochs=20, batch_size=256,\n",
        "                    validation_data=(x_test, y_test))\n",
        "\n",
        "vgg_model_2.save('vgg_model_2.h5')"
      ]
    },
    {
      "cell_type": "markdown",
      "metadata": {
        "id": "D0Zo9VxJMu4u"
      },
      "source": [
        "####MyCNN"
      ]
    },
    {
      "cell_type": "markdown",
      "metadata": {
        "id": "ymCCTBooQitj"
      },
      "source": [
        "* Πρώτη υλοποίηση MyCNN: optimizer='adam', epochs=25, batch_size=128"
      ]
    },
    {
      "cell_type": "code",
      "execution_count": null,
      "metadata": {
        "colab": {
          "base_uri": "https://localhost:8080/"
        },
        "id": "qSi9SeJyMz7O",
        "outputId": "9af7ccb9-8504-4457-e1a4-4026e84620eb"
      },
      "outputs": [
        {
          "name": "stdout",
          "output_type": "stream",
          "text": [
            "Epoch 1/30\n",
            "67/67 [==============================] - 21s 249ms/step - loss: 2.9977 - accuracy: 0.0480 - val_loss: 2.9961 - val_accuracy: 0.0500\n",
            "Epoch 2/30\n",
            "67/67 [==============================] - 14s 214ms/step - loss: 2.9941 - accuracy: 0.0529 - val_loss: 2.9932 - val_accuracy: 0.0730\n",
            "Epoch 3/30\n",
            "67/67 [==============================] - 14s 214ms/step - loss: 2.7906 - accuracy: 0.1249 - val_loss: 2.6561 - val_accuracy: 0.1510\n",
            "Epoch 4/30\n",
            "67/67 [==============================] - 14s 213ms/step - loss: 2.5589 - accuracy: 0.1838 - val_loss: 2.5082 - val_accuracy: 0.2160\n",
            "Epoch 5/30\n",
            "67/67 [==============================] - 14s 216ms/step - loss: 2.4381 - accuracy: 0.2227 - val_loss: 2.3766 - val_accuracy: 0.2540\n",
            "Epoch 6/30\n",
            "67/67 [==============================] - 14s 213ms/step - loss: 2.3373 - accuracy: 0.2586 - val_loss: 2.2146 - val_accuracy: 0.3050\n",
            "Epoch 7/30\n",
            "67/67 [==============================] - 15s 217ms/step - loss: 2.2095 - accuracy: 0.3012 - val_loss: 2.1814 - val_accuracy: 0.3110\n",
            "Epoch 8/30\n",
            "67/67 [==============================] - 14s 214ms/step - loss: 2.0867 - accuracy: 0.3424 - val_loss: 2.0836 - val_accuracy: 0.3580\n",
            "Epoch 9/30\n",
            "67/67 [==============================] - 15s 218ms/step - loss: 1.9424 - accuracy: 0.3960 - val_loss: 1.9480 - val_accuracy: 0.3995\n",
            "Epoch 10/30\n",
            "67/67 [==============================] - 15s 218ms/step - loss: 1.8332 - accuracy: 0.4262 - val_loss: 1.7908 - val_accuracy: 0.4530\n",
            "Epoch 11/30\n",
            "67/67 [==============================] - 14s 216ms/step - loss: 1.6782 - accuracy: 0.4720 - val_loss: 1.7281 - val_accuracy: 0.4720\n",
            "Epoch 12/30\n",
            "67/67 [==============================] - 15s 218ms/step - loss: 1.5974 - accuracy: 0.4973 - val_loss: 1.6681 - val_accuracy: 0.4870\n",
            "Epoch 13/30\n",
            "67/67 [==============================] - 15s 221ms/step - loss: 1.4738 - accuracy: 0.5346 - val_loss: 1.6229 - val_accuracy: 0.5005\n",
            "Epoch 14/30\n",
            "67/67 [==============================] - 14s 215ms/step - loss: 1.3657 - accuracy: 0.5689 - val_loss: 1.6087 - val_accuracy: 0.5160\n",
            "Epoch 15/30\n",
            "67/67 [==============================] - 14s 213ms/step - loss: 1.2796 - accuracy: 0.5980 - val_loss: 1.6101 - val_accuracy: 0.5205\n",
            "Epoch 16/30\n",
            "67/67 [==============================] - 14s 213ms/step - loss: 1.1833 - accuracy: 0.6241 - val_loss: 1.5559 - val_accuracy: 0.5275\n",
            "Epoch 17/30\n",
            "67/67 [==============================] - 14s 213ms/step - loss: 1.1242 - accuracy: 0.6431 - val_loss: 1.5325 - val_accuracy: 0.5485\n",
            "Epoch 18/30\n",
            "67/67 [==============================] - 14s 213ms/step - loss: 1.0283 - accuracy: 0.6702 - val_loss: 1.5694 - val_accuracy: 0.5460\n",
            "Epoch 19/30\n",
            "67/67 [==============================] - 14s 213ms/step - loss: 0.9375 - accuracy: 0.6976 - val_loss: 1.6409 - val_accuracy: 0.5445\n",
            "Epoch 20/30\n",
            "67/67 [==============================] - 14s 213ms/step - loss: 0.8444 - accuracy: 0.7281 - val_loss: 1.5953 - val_accuracy: 0.5595\n",
            "Epoch 21/30\n",
            "67/67 [==============================] - 14s 214ms/step - loss: 0.7428 - accuracy: 0.7598 - val_loss: 1.7765 - val_accuracy: 0.5570\n",
            "Epoch 22/30\n",
            "67/67 [==============================] - 14s 216ms/step - loss: 0.6997 - accuracy: 0.7724 - val_loss: 1.7645 - val_accuracy: 0.5725\n",
            "Epoch 23/30\n",
            "67/67 [==============================] - 14s 213ms/step - loss: 0.6721 - accuracy: 0.7824 - val_loss: 1.7783 - val_accuracy: 0.5510\n",
            "Epoch 24/30\n",
            "67/67 [==============================] - 14s 213ms/step - loss: 0.6018 - accuracy: 0.8072 - val_loss: 1.8257 - val_accuracy: 0.5740\n",
            "Epoch 25/30\n",
            "67/67 [==============================] - 14s 213ms/step - loss: 0.5065 - accuracy: 0.8346 - val_loss: 1.8679 - val_accuracy: 0.5590\n",
            "Epoch 26/30\n",
            "67/67 [==============================] - 14s 213ms/step - loss: 0.4696 - accuracy: 0.8458 - val_loss: 2.1040 - val_accuracy: 0.5600\n",
            "Epoch 27/30\n",
            "67/67 [==============================] - 14s 214ms/step - loss: 0.4033 - accuracy: 0.8653 - val_loss: 2.0616 - val_accuracy: 0.5650\n",
            "Epoch 28/30\n",
            "67/67 [==============================] - 14s 213ms/step - loss: 0.3858 - accuracy: 0.8722 - val_loss: 2.1364 - val_accuracy: 0.5365\n",
            "Epoch 29/30\n",
            "67/67 [==============================] - 14s 213ms/step - loss: 0.4116 - accuracy: 0.8646 - val_loss: 2.1013 - val_accuracy: 0.5650\n",
            "Epoch 30/30\n",
            "67/67 [==============================] - 14s 213ms/step - loss: 0.3799 - accuracy: 0.8734 - val_loss: 2.2362 - val_accuracy: 0.5600\n"
          ]
        }
      ],
      "source": [
        "MyCNN_model_1.compile(optimizer='adam',\n",
        "              loss=tf.keras.losses.SparseCategoricalCrossentropy(from_logits=True),\n",
        "              metrics=['accuracy'])\n",
        "\n",
        "MyCNN_history_1 = MyCNN_model_1.fit(x_train, y_train, epochs=30, batch_size=128,\n",
        "                    validation_data=(x_test, y_test))\n",
        "\n",
        "MyCNN_model_1.save('MyCNN_model_1.h5')"
      ]
    },
    {
      "cell_type": "markdown",
      "metadata": {
        "id": "JAXLCqyFQp7F"
      },
      "source": [
        "* Δεύτερη υλοποίηση MyCNN: optimizer='RMSprop', epochs=25, batch_size=64"
      ]
    },
    {
      "cell_type": "code",
      "execution_count": null,
      "metadata": {
        "colab": {
          "base_uri": "https://localhost:8080/"
        },
        "id": "jfyrovg8N7iZ",
        "outputId": "8d0d8b2f-2146-4208-cb45-10d10567ee76"
      },
      "outputs": [
        {
          "name": "stdout",
          "output_type": "stream",
          "text": [
            "Epoch 1/30\n",
            "133/133 [==============================] - 21s 137ms/step - loss: 5.7921 - accuracy: 0.0531 - val_loss: 2.9955 - val_accuracy: 0.0500\n",
            "Epoch 2/30\n",
            "133/133 [==============================] - 18s 132ms/step - loss: 3.0822 - accuracy: 0.0704 - val_loss: 2.8975 - val_accuracy: 0.0790\n",
            "Epoch 3/30\n",
            "133/133 [==============================] - 18s 133ms/step - loss: 2.9160 - accuracy: 0.0951 - val_loss: 2.7731 - val_accuracy: 0.1130\n",
            "Epoch 4/30\n",
            "133/133 [==============================] - 18s 135ms/step - loss: 2.7505 - accuracy: 0.1495 - val_loss: 2.5135 - val_accuracy: 0.2435\n",
            "Epoch 5/30\n",
            "133/133 [==============================] - 18s 133ms/step - loss: 2.5616 - accuracy: 0.2172 - val_loss: 2.3117 - val_accuracy: 0.2980\n",
            "Epoch 6/30\n",
            "133/133 [==============================] - 18s 133ms/step - loss: 2.3527 - accuracy: 0.2839 - val_loss: 2.1444 - val_accuracy: 0.3405\n",
            "Epoch 7/30\n",
            "133/133 [==============================] - 18s 133ms/step - loss: 2.1311 - accuracy: 0.3574 - val_loss: 3.4026 - val_accuracy: 0.2480\n",
            "Epoch 8/30\n",
            "133/133 [==============================] - 18s 133ms/step - loss: 1.9737 - accuracy: 0.4119 - val_loss: 1.9608 - val_accuracy: 0.4135\n",
            "Epoch 9/30\n",
            "133/133 [==============================] - 18s 133ms/step - loss: 1.7895 - accuracy: 0.4647 - val_loss: 1.6558 - val_accuracy: 0.5030\n",
            "Epoch 10/30\n",
            "133/133 [==============================] - 18s 133ms/step - loss: 1.6341 - accuracy: 0.5173 - val_loss: 1.8174 - val_accuracy: 0.4535\n",
            "Epoch 11/30\n",
            "133/133 [==============================] - 18s 133ms/step - loss: 1.4659 - accuracy: 0.5560 - val_loss: 1.9820 - val_accuracy: 0.4620\n",
            "Epoch 12/30\n",
            "133/133 [==============================] - 18s 133ms/step - loss: 1.3639 - accuracy: 0.5920 - val_loss: 1.7036 - val_accuracy: 0.5400\n",
            "Epoch 13/30\n",
            "133/133 [==============================] - 18s 134ms/step - loss: 1.2224 - accuracy: 0.6400 - val_loss: 1.5569 - val_accuracy: 0.5865\n",
            "Epoch 14/30\n",
            "133/133 [==============================] - 18s 133ms/step - loss: 1.1342 - accuracy: 0.6664 - val_loss: 2.8508 - val_accuracy: 0.3540\n",
            "Epoch 15/30\n",
            "133/133 [==============================] - 18s 133ms/step - loss: 1.0374 - accuracy: 0.6954 - val_loss: 1.7596 - val_accuracy: 0.5745\n",
            "Epoch 16/30\n",
            "133/133 [==============================] - 18s 133ms/step - loss: 0.9573 - accuracy: 0.7218 - val_loss: 1.7415 - val_accuracy: 0.5755\n",
            "Epoch 17/30\n",
            "133/133 [==============================] - 18s 133ms/step - loss: 0.8589 - accuracy: 0.7505 - val_loss: 1.7082 - val_accuracy: 0.5615\n",
            "Epoch 18/30\n",
            "133/133 [==============================] - 18s 133ms/step - loss: 0.8752 - accuracy: 0.7555 - val_loss: 1.8648 - val_accuracy: 0.5835\n",
            "Epoch 19/30\n",
            "133/133 [==============================] - 18s 133ms/step - loss: 0.7952 - accuracy: 0.7747 - val_loss: 2.2091 - val_accuracy: 0.5185\n",
            "Epoch 20/30\n",
            "133/133 [==============================] - 18s 134ms/step - loss: 0.8329 - accuracy: 0.7726 - val_loss: 2.1587 - val_accuracy: 0.5920\n",
            "Epoch 21/30\n",
            "133/133 [==============================] - 18s 134ms/step - loss: 0.7910 - accuracy: 0.7914 - val_loss: 1.7619 - val_accuracy: 0.6065\n",
            "Epoch 22/30\n",
            "133/133 [==============================] - 18s 133ms/step - loss: 0.7315 - accuracy: 0.8033 - val_loss: 2.6874 - val_accuracy: 0.5675\n",
            "Epoch 23/30\n",
            "133/133 [==============================] - 18s 135ms/step - loss: 0.7464 - accuracy: 0.8053 - val_loss: 1.7022 - val_accuracy: 0.5605\n",
            "Epoch 24/30\n",
            "133/133 [==============================] - 18s 135ms/step - loss: 0.7579 - accuracy: 0.7991 - val_loss: 2.3330 - val_accuracy: 0.6115\n",
            "Epoch 25/30\n",
            "133/133 [==============================] - 18s 134ms/step - loss: 0.7047 - accuracy: 0.8154 - val_loss: 2.3277 - val_accuracy: 0.5545\n",
            "Epoch 26/30\n",
            "133/133 [==============================] - 18s 133ms/step - loss: 0.7351 - accuracy: 0.8187 - val_loss: 3.2037 - val_accuracy: 0.5725\n",
            "Epoch 27/30\n",
            "133/133 [==============================] - 18s 134ms/step - loss: 0.7707 - accuracy: 0.8072 - val_loss: 1.9888 - val_accuracy: 0.6030\n",
            "Epoch 28/30\n",
            "133/133 [==============================] - 18s 136ms/step - loss: 0.7776 - accuracy: 0.8132 - val_loss: 2.1995 - val_accuracy: 0.6035\n",
            "Epoch 29/30\n",
            "133/133 [==============================] - 18s 134ms/step - loss: 0.7639 - accuracy: 0.8114 - val_loss: 1.8572 - val_accuracy: 0.5465\n",
            "Epoch 30/30\n",
            "133/133 [==============================] - 18s 135ms/step - loss: 0.8071 - accuracy: 0.8066 - val_loss: 2.3462 - val_accuracy: 0.5900\n"
          ]
        }
      ],
      "source": [
        "MyCNN_model_2.compile(optimizer='RMSprop',\n",
        "              loss=tf.keras.losses.SparseCategoricalCrossentropy(from_logits=True),\n",
        "              metrics=['accuracy'])\n",
        "\n",
        "MyCNN_history_2 = MyCNN_model_2.fit(x_train, y_train, epochs=30, batch_size=64,\n",
        "                    validation_data=(x_test, y_test))\n",
        "\n",
        "MyCNN_model_2.save('MyCNN_model_2.h5')"
      ]
    },
    {
      "cell_type": "markdown",
      "metadata": {
        "id": "2qonSMQpSoom"
      },
      "source": [
        "##Βήμα 2: Αξιολόγηση των μοντέλων\n"
      ]
    },
    {
      "cell_type": "code",
      "execution_count": null,
      "metadata": {
        "id": "P9Tsw-GZT3UU"
      },
      "outputs": [],
      "source": [
        "# Define plot function\n",
        "def plot_accuracy_1(model_history):\n",
        "  epochs = range(1, len(model_history.history['accuracy']) + 1)             # get number of epochs\n",
        "  accuracy = model_history.history['accuracy']\n",
        "  val_accuracy = model_history.history['val_accuracy']\n",
        "  plt.figure(figsize=(10, 7))\n",
        "  plt.plot(epochs, accuracy, label='accuracy')\n",
        "  plt.plot(epochs, val_accuracy, label='val_accuracy')\n",
        "  plt.ylabel('Accuracy')\n",
        "  plt.xlabel('Epoch')\n",
        "  plt.ylim(0, 1)\n",
        "  plt.legend()"
      ]
    },
    {
      "cell_type": "code",
      "execution_count": 139,
      "metadata": {
        "id": "7i4chzPTn445"
      },
      "outputs": [],
      "source": [
        "# Define plot function\n",
        "def plot_accuracy(model_history_1, model_history_2, titles):\n",
        "\n",
        "  epochs_1 = range(1, len(model_history_1.history['accuracy']) + 1)             # get number of epochs\n",
        "  accuracy_1 = model_history_1.history['accuracy']\n",
        "  val_accuracy_1 = model_history_1.history['val_accuracy']\n",
        "\n",
        "  epochs_2 = range(1, len(model_history_2.history['accuracy']) + 1)\n",
        "  accuracy_2 = model_history_2.history['accuracy']\n",
        "  val_accuracy_2 = model_history_2.history['val_accuracy']\n",
        "\n",
        "\n",
        "  fig, ax = plt.subplots(1, 2, figsize=(20, 7))\n",
        "\n",
        "  ax[0].plot(epochs_1, accuracy_1, label='accuracy')\n",
        "  ax[0].plot(epochs_1, val_accuracy_1, label='val_accuracy')\n",
        "  ax[0].set_title(model_history_1)\n",
        "  ax[0].set_xlabel('Epoch')\n",
        "  ax[0].set_ylabel('Accuracy')\n",
        "  ax[0].set_ylim(0, 1)\n",
        "  ax[0].legend()\n",
        "  ax[0].set_title(titles[0])\n",
        "\n",
        "  ax[1].plot(epochs_2, accuracy_2, label='accuracy')\n",
        "  ax[1].plot(epochs_2, val_accuracy_2, label='val_accuracy')\n",
        "  ax[1].set_title(model_history_2)\n",
        "  ax[1].set_xlabel('Epoch')\n",
        "  ax[1].set_ylabel('Accuracy')\n",
        "  ax[1].set_ylim(0, 1)\n",
        "  ax[1].legend()\n",
        "  ax[1].set_title(titles[1])"
      ]
    },
    {
      "cell_type": "markdown",
      "metadata": {
        "id": "RF6SmgKAkzz0"
      },
      "source": [
        "####LeNet"
      ]
    },
    {
      "cell_type": "markdown",
      "metadata": {
        "id": "kPEBPL62vZw4"
      },
      "source": [
        "LeNet_model_1 optimizer: adam <br>\n",
        "LeNet_model_2 optimizer: Nadam"
      ]
    },
    {
      "cell_type": "code",
      "execution_count": null,
      "metadata": {
        "colab": {
          "base_uri": "https://localhost:8080/",
          "height": 458
        },
        "id": "UvEOF1PdopYH",
        "outputId": "7ff490e7-920d-4077-a39c-fa25cdcdbbb3"
      },
      "outputs": [
        {
          "data": {
            "image/png": "[encoded data removed]",
            "text/plain": [
              "<Figure size 1440x504 with 2 Axes>"
            ]
          },
          "metadata": {},
          "output_type": "display_data"
        }
      ],
      "source": [
        "plot_accuracy(LeNet_history_1, LeNet_history_2, ['LeNet Model 1', 'LeNet Model 2'])"
      ]
    },
    {
      "cell_type": "markdown",
      "metadata": {
        "id": "T3kaB-jt1hHQ"
      },
      "source": [
        "Επιλέγουμε το δεύτερο μοντέλο LeNet, καθώς έχει τόσο καλύτερο accuracy όσο και καλύτερο val_accuracy."
      ]
    },
    {
      "cell_type": "markdown",
      "metadata": {
        "id": "SHJOLnHNu6-h"
      },
      "source": [
        "####AlexNet"
      ]
    },
    {
      "cell_type": "markdown",
      "metadata": {
        "id": "Tv6EJ7WCv_PF"
      },
      "source": [
        "AlexNet_model_1 optimizer: adam <br>\n",
        "AlexNet_model_2 optimizer: RMSprop"
      ]
    },
    {
      "cell_type": "code",
      "execution_count": null,
      "metadata": {
        "colab": {
          "base_uri": "https://localhost:8080/",
          "height": 458
        },
        "id": "cyqnTlJ2u4IO",
        "outputId": "5ca153dc-6d5a-4687-9884-736b5bc1a517"
      },
      "outputs": [
        {
          "data": {
            "image/png": "[encoded data removed]",
            "text/plain": [
              "<Figure size 1440x504 with 2 Axes>"
            ]
          },
          "metadata": {},
          "output_type": "display_data"
        }
      ],
      "source": [
        "plot_accuracy(AlexNet_history_1, AlexNet_history_2, ['AlexNet Model 1', 'AlexNet Model 2'])"
      ]
    },
    {
      "cell_type": "markdown",
      "metadata": {
        "id": "z4Yl8kcPQu1b"
      },
      "source": [
        "Επιλέγουμε το δεύτερο μοντέλο AlexNet, καθώς έχει τόσο καλύτερο accuracy όσο και καλύτερο val_accuracy."
      ]
    },
    {
      "cell_type": "markdown",
      "metadata": {
        "id": "aFbt8yn_wK7f"
      },
      "source": [
        "####VGG"
      ]
    },
    {
      "cell_type": "markdown",
      "metadata": {
        "id": "7ICMXsCyxpG4"
      },
      "source": [
        "vgg_model_1 optimizer: adam <br>\n",
        "vgg_model_2 optimizer: Nadam"
      ]
    },
    {
      "cell_type": "code",
      "execution_count": null,
      "metadata": {
        "colab": {
          "base_uri": "https://localhost:8080/",
          "height": 458
        },
        "id": "tfN54Bo3wM81",
        "outputId": "be942be9-ca29-446e-89c0-11951b11bfd7"
      },
      "outputs": [
        {
          "data": {
            "image/png": "[encoded data removed]",
            "text/plain": [
              "<Figure size 1440x504 with 2 Axes>"
            ]
          },
          "metadata": {},
          "output_type": "display_data"
        }
      ],
      "source": [
        "plot_accuracy(vgg_history_1, vgg_history_2, ['VGG Model 1', 'VGG Model 2'])"
      ]
    },
    {
      "cell_type": "markdown",
      "metadata": {
        "id": "bWIbn7D0Q6vF"
      },
      "source": [
        "Επιλέγουμε το πρώτο μοντέλο VGG, καθώς έχει τόσο καλύτερο accuracy όσο και καλύτερο val_accuracy."
      ]
    },
    {
      "cell_type": "markdown",
      "metadata": {
        "id": "C6l0MiWdwo5O"
      },
      "source": [
        "####MyCNN"
      ]
    },
    {
      "cell_type": "markdown",
      "metadata": {
        "id": "oBQeAMlJx-wk"
      },
      "source": [
        "MyCNN_model_1 optimizer: adam <br>\n",
        "MyCNN_model_2 optimizer: RMSprop"
      ]
    },
    {
      "cell_type": "code",
      "execution_count": null,
      "metadata": {
        "colab": {
          "base_uri": "https://localhost:8080/",
          "height": 458
        },
        "id": "OZ1N4MREyLlP",
        "outputId": "38e0acfe-7204-4931-8c74-decd28211982"
      },
      "outputs": [
        {
          "data": {
            "image/png": "[encoded data removed]",
            "text/plain": [
              "<Figure size 1440x504 with 2 Axes>"
            ]
          },
          "metadata": {},
          "output_type": "display_data"
        }
      ],
      "source": [
        "plot_accuracy(MyCNN_history_1, MyCNN_history_2, ['MyCNN Model 1', 'MyCNN Model 2'])"
      ]
    },
    {
      "cell_type": "markdown",
      "metadata": {
        "id": "yBJMGzHpQ0or"
      },
      "source": [
        "Επιλέγουμε το πρώτο μοντέλο MyCNN, καθώς φαίνεται να έχει μικρότερη κυμάτωση και καλύτερο accuracy."
      ]
    },
    {
      "cell_type": "markdown",
      "metadata": {
        "id": "Z-Q0FIxHCmPs"
      },
      "source": [
        "####2. Κοινό διάγραμμα"
      ]
    },
    {
      "cell_type": "markdown",
      "metadata": {
        "id": "kAuyJctiC7En"
      },
      "source": [
        "Στο παρακάτω διάγραμμα απεικονίζονται η ακρίβεια εκπαίδευσης και η ακρίβεια επικύρωσης για τα 4 μοντέλα που επιλέξαμε."
      ]
    },
    {
      "cell_type": "code",
      "execution_count": null,
      "metadata": {
        "id": "tXSQClHEDXvD"
      },
      "outputs": [],
      "source": [
        "def plot_all(model_histories, labels = None):\n",
        "\n",
        "  plt.figure(figsize = (20, 10))\n",
        "  color_arr = ['r','g','b','y']\n",
        "  plt.ylim(0, 1)\n",
        "  for i in range(len(model_histories)):\n",
        "    accuracy = model_histories[i].history['accuracy']\n",
        "    val_accuracy = model_histories[i].history['val_accuracy']\n",
        "\n",
        "    plt.plot(accuracy, color=color_arr[i], label=labels[i]+' accuracy')\n",
        "    plt.plot(val_accuracy, linestyle='dashed', color=color_arr[i], label=labels[i]+' val_accuracy')\n",
        "\n",
        "    plt.xlabel('Epoch')\n",
        "    plt.xlabel('Accuracy')\n",
        "\n",
        "    plt.title('Accuracy and val_accuracy of Neural Networks', fontsize=16)\n",
        "    plt.legend()"
      ]
    },
    {
      "cell_type": "code",
      "execution_count": null,
      "metadata": {
        "colab": {
          "base_uri": "https://localhost:8080/"
        },
        "id": "Owj3q9rEJAI9",
        "outputId": "6ec32cc9-8d18-4503-dee5-c6e0f700868e"
      },
      "outputs": [
        {
          "data": {
            "image/png": "[encoded data removed]",
            "text/plain": [
              "<Figure size 1440x720 with 1 Axes>"
            ]
          },
          "metadata": {},
          "output_type": "display_data"
        }
      ],
      "source": [
        "plot_all([LeNet_history_2, AlexNet_history_2, vgg_history_1, MyCNN_history_1], ['LeNet','AlexNet','VGG','MyCNN'])"
      ]
    },
    {
      "cell_type": "markdown",
      "metadata": {
        "id": "rAojnqT7hPj3"
      },
      "source": [
        "####3. Αξιολόγηση Αποτελεσμάτων\n"
      ]
    },
    {
      "cell_type": "markdown",
      "metadata": {
        "id": "-qt0YrWtho0W"
      },
      "source": [
        "- Επίδραση του πλήθους των δεδομένων/κλάσεων στην απόδοση του μοντέλου <br><br>\n",
        "Με την αύξηση των δεδομένων, όπως γνωρίζουμε από τη θεωρία, παίρνουμε καλύτερα αποτελέσματα τόσο για το accuracy όσο και για το val_accuracy. Με άλλα λόγια, το μεγάλο πλήθος εικόνων οδηγεί σε μεγαλύτερη ακρίβεια. Αντίθετα, όταν έχουμε μικρό set με training data, το μοντέλο είναι πιο ευάλωτο σε θόρυβο και ανεπιθύμητες λεπτομέρειες του συνόλου εκπαίδευσης με αποτέλεσμα να μειώνεται σημαντικά η απόδοσή του.<br>\n",
        "Επιπλέον, με την αύξηση του πλήθους των κλάσεων μειώνεται η ακρίβεια του μοντέλου. Αυτό οφείλεται στο ότι οι εικόνες έχουν πλέον περισσότερες κλάσεις στις οποίες είναι πιθανό να ταξινομηθούν και ενδεχομένως περισσότερες από τις κλάσεις αυτές να έχουν κοινά χαρακτηριστικά όσο αυξάνεται το πλήθος τους. Τέλος, σημειώνουμε πως με την προσθήκη περισσότερων κλάσεων, θα απαιτούνται περισσότερες λεπτομέρειες (επομένως και περισσότερα δείγματα στο training set) προκειμένου να έχουμε αποδεκτή ακρίβεια.<br><br>\n",
        "\n",
        "- Επίδραση του αλγόριθμου βελτιστοποίησης (optimizer) <br><br>\n",
        "Περιραματιστήκαμε με τους optimizers adam, Nadam και RMSprop. Σε γενικές γραμμές, ο optimizer adam δίνει καλύτερα αποτελέσματα σε σχέση με τους άλλους δύο αλγόριθμους βελτιστοποίησης. Πιο συγκεκριμένα, δίνει 5-10% καλύτερη ακρίβεια και χρειάζεται λιγότερο αριθμό εποχών για να φτάσει τα αποτελέσματα αυτά. Επιπρόσθετα, η ευθεία ορθότητας επικύρωσης (val_accuracy) με τη χρήση του optimizer adam παρουσιάζει πιο ομαλές μεταβολές και δεν έχει μεγάλη κυμάτωση, ενώ με τους Nadam και RMSprop παρουσιάζει μεγάλη κυμάτωση. Αξίζει να σημειωθεί, πως η ακρίβεια εκπαίδευσης (accuracy) με τη χρήση των τριών optimizer είναι εξίσου ομαλή, χωρίς δηλαδή ιδιαίτερες διακυμάνσεις. Τέλος, παρατηρούμε πως η καμπύλη ακρίβειας με την χρήση του optimizer adam έχει λογαριθμική μορφή.<br><br>\n",
        "\n",
        "- Επίδραση του μεγέθους δέσμης (batch size) <br><br>\n",
        "Το μέγεθος δέσμης (batch size) ορίζεται ως το πλήθος των δειγμάτων εκπαίδευσης σε ένα πέρασμα εμπρός/πίσω. Γενικά, για μεγαλύτερο batch size χρειαζόμαστε λιγότερες επαναλήψεις ανά εποχή για να διατρέξουμε όλα τα δείγματα του training set μας. Αυτό έχει ως αποτέλεσμα, να επιτυγχάνεται μεγαλύτερη ταχύτητα στην εκπαίδευση του νευρωνικού. Από την άλλη πλευρά, με μικρότερο batch size απαιτείται περισσότερη ώρα εκτέλεσης με μεγαλύτερη όμως ακρίβεια και πιο γρήγορη σύγκλιση σε μεγάλες τιμές ακρίβειας.<br><br>\n"
      ]
    },
    {
      "cell_type": "markdown",
      "metadata": {
        "id": "UU9-CPqb2uC8"
      },
      "source": [
        "##Βήμα 3: Αξιολόγηση ορθότητας\n"
      ]
    },
    {
      "cell_type": "markdown",
      "metadata": {
        "id": "nQ8BwZEYr7e8"
      },
      "source": [
        "Επιλέγουμε τα 4 από τα παραπάνω μοντέλα που κρίναμε ως καλύτερα από τις γραφικές παραστάσεις."
      ]
    },
    {
      "cell_type": "markdown",
      "metadata": {
        "id": "BkJtQMGCnYVG"
      },
      "source": [
        "####Αξιολόγηση LeNet"
      ]
    },
    {
      "cell_type": "code",
      "execution_count": null,
      "metadata": {
        "colab": {
          "base_uri": "https://localhost:8080/"
        },
        "id": "1u41Tn-rpASu",
        "outputId": "483e0288-6d03-49f0-adbd-2178ddec0159"
      },
      "outputs": [
        {
          "name": "stdout",
          "output_type": "stream",
          "text": [
            "63/63 - 1s - loss: 2.2609 - accuracy: 0.4290 - 590ms/epoch - 9ms/step\n",
            "LeNet model, accuracy: 42.90%\n"
          ]
        }
      ],
      "source": [
        "LeNet_2 = tf.keras.models.load_model('LeNet_model_2.h5')      # Load model\n",
        "\n",
        "loss, acc = LeNet_2.evaluate(x_test, y_test, verbose=2)\n",
        "print('LeNet model, accuracy: {:5.2f}%'.format(100 * acc))"
      ]
    },
    {
      "cell_type": "markdown",
      "metadata": {
        "id": "pDsJN6qyseeo"
      },
      "source": [
        "####Αξιολόγηση AlexNet"
      ]
    },
    {
      "cell_type": "code",
      "execution_count": null,
      "metadata": {
        "colab": {
          "base_uri": "https://localhost:8080/"
        },
        "id": "yRHDA0pesl_9",
        "outputId": "d0a89fe3-17c8-4477-e1fa-35df2fde2d71"
      },
      "outputs": [
        {
          "name": "stdout",
          "output_type": "stream",
          "text": [
            "63/63 - 1s - loss: 3.1035 - accuracy: 0.5270 - 1s/epoch - 17ms/step\n",
            "AlexNet model, accuracy: 52.70%\n"
          ]
        }
      ],
      "source": [
        "AlexNet_2 = tf.keras.models.load_model('AlexNet_model_2.h5')\n",
        "\n",
        "loss, acc = AlexNet_2.evaluate(x_test, y_test, verbose=2)\n",
        "print('AlexNet model, accuracy: {:5.2f}%'.format(100 * acc))"
      ]
    },
    {
      "cell_type": "markdown",
      "metadata": {
        "id": "vh89X6SKsfMd"
      },
      "source": [
        "####Αξιολόγηση VGG"
      ]
    },
    {
      "cell_type": "code",
      "execution_count": null,
      "metadata": {
        "colab": {
          "base_uri": "https://localhost:8080/"
        },
        "id": "hrFktr-Gsndx",
        "outputId": "e18cda29-62f8-4de1-a3ce-dfcec385ac82"
      },
      "outputs": [
        {
          "name": "stdout",
          "output_type": "stream",
          "text": [
            "63/63 - 1s - loss: 2.0593 - accuracy: 0.6275 - 947ms/epoch - 15ms/step\n",
            "VGG model, accuracy: 62.75%\n"
          ]
        }
      ],
      "source": [
        "VGG_1 = tf.keras.models.load_model('vgg_model_1.h5')\n",
        "\n",
        "loss, acc = VGG_1.evaluate(x_test, y_test, verbose=2)\n",
        "print('VGG model, accuracy: {:5.2f}%'.format(100 * acc))"
      ]
    },
    {
      "cell_type": "markdown",
      "metadata": {
        "id": "CSsGtHnJsf1D"
      },
      "source": [
        "####Αξιολόγηση MyCNN"
      ]
    },
    {
      "cell_type": "code",
      "execution_count": null,
      "metadata": {
        "colab": {
          "base_uri": "https://localhost:8080/"
        },
        "id": "YhQ2MBKpsoJS",
        "outputId": "7bb9664e-53a4-4ee9-8b85-04581172d95f"
      },
      "outputs": [
        {
          "name": "stdout",
          "output_type": "stream",
          "text": [
            "63/63 - 2s - loss: 2.2362 - accuracy: 0.5600 - 2s/epoch - 33ms/step\n",
            "MyCNN model, accuracy: 56.00%\n"
          ]
        }
      ],
      "source": [
        "MyCNN_1 = tf.keras.models.load_model('MyCNN_model_1.h5')\n",
        "\n",
        "loss, acc = MyCNN_1.evaluate(x_test, y_test, verbose=2)\n",
        "print('MyCNN model, accuracy: {:5.2f}%'.format(100 * acc))"
      ]
    },
    {
      "cell_type": "markdown",
      "metadata": {
        "id": "p8_gsh8pSpZb"
      },
      "source": [
        "Παρατηρούμε πως για όλα τα μοντέλα, οι τιμές του accuracy για τα test data είναι πολύ κοντά στις τιμές του val_accuracy που είχαμε κατά την εκπαίδευση με τα train data. Από την άλλη, το accuracy που είχαμε στα training data είναι πολύ υψηλότερο, το οποίο είναι λογικό, αφού το κάθε μοντέλο αποκτά μια προκατάληψη για το συγκεκριμένο data set που του δίνουμε για εκπαίδευση. Επιπλέον, παρατηρούμε πως από το μέγεθος loss δεν μπορούμε να βγάλουμε ασφαλή συμπεράσματα για το accuracy και αντιστρόφως. Με άλλα λόγια, το accuracy φαίνεται να είναι ανεξάρτητο από το loss. Αυτές οι τιμές αποτελούν χαρακτηριστικά της εκάστοτε υλοποίησης του μοντέλου και των παραμέτρων batch size και εποχών. Τέλος, σημειώνουμε πως το μοντέλο VGG έχει το καλύτερο accuracy στο test data set, δηλαδή σε εικόνες που δεν έχει ξαναδεί το μοντέλο. Έπειτα ακολουθεί το δικό μας μοντέλο, το MyCNN και μετά με μικρή διαφορά το AlexNet. Τη χειρότερη ακρίβεια την έχει το AlexNet, το οποίο έχει και τα λιγότερα layers και φίλτρα στις συνελίξεις οπότ αναμέναμε το αποτέλεσμα αυτό."
      ]
    },
    {
      "cell_type": "markdown",
      "metadata": {
        "id": "v8rhgSGOV5pm"
      },
      "source": [
        "\n",
        "## Ερώτημα 2\n",
        "---\n",
        "### Βήμα 1: Έλεγχος υπερεκπαίδευσης\n",
        "\n",
        "Για τον καλύτερο συνδυασμό που λάβατε από το Ερώτημα 1 για μοντέλο σας  (**MyCNN**) και μόνο, δοκιμάστε διάφορους συνδυασμούς των ακόλουθων τεχνικών για τον έλεγχο της υπερεκπαίδευσης (overfitting), όπως: \n",
        "- Πρόωρος τερματισμός (early stopping [tf.keras.callbacks.EarlyStopping](https://www.tensorflow.org/api_docs/python/tf/keras/callbacks/EarlyStoppinghttps://)) \n",
        "\n",
        "- Dropout ([Dropout](https://www.tensorflow.org/tutorials/images/classification#dropout))\n",
        "\n",
        "- Επαύξηση δεδομένων ([Data augmentation](https://www.tensorflow.org/tutorials/images/classification#data_augmentation), [ImageDataGenerator](https://www.tensorflow.org/api_docs/python/tf/keras/preprocessing/image/ImageDataGenerator#class_imagedatagenerator)) \n",
        "\n",
        "\\\\\n",
        ", ώστε το μοντέλο σας να γενικεύει καλύτερα.\n",
        "\n",
        "---\n",
        "### Βήμα 2: Αξιολόγηση\n",
        "Αξιολογήστε της ορθότητας για το validation και το test set σας."
      ]
    },
    {
      "cell_type": "markdown",
      "metadata": {
        "id": "jGb19GoNJ78O"
      },
      "source": [
        "##Βήμα 1: Ελεγχος υπερεκπαίδευσης\n"
      ]
    },
    {
      "cell_type": "markdown",
      "metadata": {
        "id": "0v0Y_eJSKLza"
      },
      "source": [
        "Για το μοντέλο MyCNN_k θα δοκιμάσουμε τις παρακάτω τεχνικές για να ελέγχξουμε την υπερεκπαίδευση (overfitting):"
      ]
    },
    {
      "cell_type": "markdown",
      "metadata": {
        "id": "FLqBUiXvKlV6"
      },
      "source": [
        "####Πρόωρος τερματισμός"
      ]
    },
    {
      "cell_type": "markdown",
      "metadata": {
        "id": "mVTmHDhzK7Gi"
      },
      "source": [
        "Η τεχνική αυτή έχει ως στόχο την ελαχιστοποίηση της τιμής loss, ετσι ώστε το μοντέλο να μπορεί να γενικεύει καλύτερα. Πιο συγκεκριμένα, εκτελώντας την tf.keras.callbacks.EarlyStopping, το όρισμα monitor θα είναι 'loss' και το mode θα είναι 'min'. Στο τέλος κάθε εποχής κατά την εκπαίδευση του μοντέλου θα παρατηρείται αν το loss μειώνεται, σε σχέση με τις προηγούμενες k τιμές, όπου το k είναι η τιμή του ορίσματος patience. Όταν το loss σταματήσει να μειώνεται, τότε η εκπαίδευση του μοντέλου σταματά και αποφεύγεται το ενδεχόμενο του overfitting.\n",
        "\n"
      ]
    },
    {
      "cell_type": "code",
      "execution_count": null,
      "metadata": {
        "colab": {
          "base_uri": "https://localhost:8080/"
        },
        "id": "mJkT2uFzNNo8",
        "outputId": "5ff34caa-9cb4-415b-b474-ece6092661bb"
      },
      "outputs": [
        {
          "data": {
            "text/plain": [
              "<keras.callbacks.EarlyStopping at 0x7f40c2beb7d0>"
            ]
          },
          "execution_count": 28,
          "metadata": {},
          "output_type": "execute_result"
        }
      ],
      "source": [
        "# EarlyStopping function\n",
        "tf.keras.callbacks.EarlyStopping(\n",
        "    monitor='val_loss',\n",
        "    min_delta=0,\n",
        "    patience=0,\n",
        "    verbose=0,\n",
        "    mode='auto',\n",
        "    baseline=None,\n",
        "    restore_best_weights=False\n",
        ")"
      ]
    },
    {
      "cell_type": "markdown",
      "metadata": {
        "id": "8TR0J5QGNmZB"
      },
      "source": [
        "Καλούμε τη συνάρτηση για το val_loss και επιλέγουμε patience = 4, έτσι ώστε να μην είναι πολύ ευαίσθητο το μοντέλο στην τυχαιότητα του loss, αλλά να λαμβάνεται έγκαιρα υπόψη πότε σταματάει να μειώνεται. (Σημείωση: Θα μπορούσαμε να έχουμε χρησιμοποιήσει και το 'loss' για monitor, όμως από το MYCNN μοντέλο φαίνεται θα έτρεχε για περισσότερες εποχές με τον τρόπο αυτό και η Google θα μας έκανε πάλι ban από τη χρήση GPU xd)."
      ]
    },
    {
      "cell_type": "code",
      "execution_count": null,
      "metadata": {
        "id": "iSTA2gWuNewt"
      },
      "outputs": [],
      "source": [
        "callback = tf.keras.callbacks.EarlyStopping(monitor='val_loss', patience=4)"
      ]
    },
    {
      "cell_type": "code",
      "execution_count": null,
      "metadata": {
        "colab": {
          "base_uri": "https://localhost:8080/"
        },
        "id": "BsNmRE8IWnI7",
        "outputId": "1713db9d-9ab0-4efd-c87b-58f8c2f7f91e"
      },
      "outputs": [
        {
          "name": "stdout",
          "output_type": "stream",
          "text": [
            "Model: \"sequential_10\"\n",
            "_________________________________________________________________\n",
            " Layer (type)                Output Shape              Param #   \n",
            "=================================================================\n",
            " conv2d_50 (Conv2D)          (1, 30, 30, 128)          3584      \n",
            "                                                                 \n",
            " conv2d_51 (Conv2D)          (1, 30, 30, 256)          819456    \n",
            "                                                                 \n",
            " max_pooling2d_30 (MaxPoolin  (1, 14, 14, 256)         0         \n",
            " g2D)                                                            \n",
            "                                                                 \n",
            " conv2d_52 (Conv2D)          (1, 14, 14, 512)          1180160   \n",
            "                                                                 \n",
            " max_pooling2d_31 (MaxPoolin  (1, 6, 6, 512)           0         \n",
            " g2D)                                                            \n",
            "                                                                 \n",
            " conv2d_53 (Conv2D)          (1, 6, 6, 512)            2359808   \n",
            "                                                                 \n",
            " conv2d_54 (Conv2D)          (1, 6, 6, 256)            1179904   \n",
            "                                                                 \n",
            " max_pooling2d_32 (MaxPoolin  (1, 2, 2, 256)           0         \n",
            " g2D)                                                            \n",
            "                                                                 \n",
            " flatten_10 (Flatten)        (1, 1024)                 0         \n",
            "                                                                 \n",
            " dense_30 (Dense)            (1, 4096)                 4198400   \n",
            "                                                                 \n",
            " dropout_32 (Dropout)        (1, 4096)                 0         \n",
            "                                                                 \n",
            " dense_31 (Dense)            (1, 4096)                 16781312  \n",
            "                                                                 \n",
            " dropout_33 (Dropout)        (1, 4096)                 0         \n",
            "                                                                 \n",
            " dense_32 (Dense)            (1, 20)                   81940     \n",
            "                                                                 \n",
            "=================================================================\n",
            "Total params: 26,604,564\n",
            "Trainable params: 26,604,564\n",
            "Non-trainable params: 0\n",
            "_________________________________________________________________\n",
            "Epoch 1/30\n",
            "67/67 [==============================] - 47s 697ms/step - loss: 2.9784 - accuracy: 0.0621 - val_loss: 2.8122 - val_accuracy: 0.1305\n",
            "Epoch 2/30\n",
            "67/67 [==============================] - 13s 201ms/step - loss: 2.7390 - accuracy: 0.1335 - val_loss: 2.5709 - val_accuracy: 0.1920\n",
            "Epoch 3/30\n",
            "67/67 [==============================] - 13s 201ms/step - loss: 2.5249 - accuracy: 0.1992 - val_loss: 2.4228 - val_accuracy: 0.2330\n",
            "Epoch 4/30\n",
            "67/67 [==============================] - 13s 201ms/step - loss: 2.3826 - accuracy: 0.2440 - val_loss: 2.2908 - val_accuracy: 0.2960\n",
            "Epoch 5/30\n",
            "67/67 [==============================] - 14s 202ms/step - loss: 2.2013 - accuracy: 0.3139 - val_loss: 2.0751 - val_accuracy: 0.3545\n",
            "Epoch 6/30\n",
            "67/67 [==============================] - 14s 207ms/step - loss: 2.0838 - accuracy: 0.3496 - val_loss: 1.9775 - val_accuracy: 0.3870\n",
            "Epoch 7/30\n",
            "67/67 [==============================] - 14s 204ms/step - loss: 1.8728 - accuracy: 0.4212 - val_loss: 1.7999 - val_accuracy: 0.4525\n",
            "Epoch 8/30\n",
            "67/67 [==============================] - 14s 203ms/step - loss: 1.7293 - accuracy: 0.4628 - val_loss: 1.7669 - val_accuracy: 0.4590\n",
            "Epoch 9/30\n",
            "67/67 [==============================] - 14s 204ms/step - loss: 1.6174 - accuracy: 0.4976 - val_loss: 1.6149 - val_accuracy: 0.5040\n",
            "Epoch 10/30\n",
            "67/67 [==============================] - 14s 203ms/step - loss: 1.4822 - accuracy: 0.5358 - val_loss: 1.5460 - val_accuracy: 0.5270\n",
            "Epoch 11/30\n",
            "67/67 [==============================] - 14s 203ms/step - loss: 1.3678 - accuracy: 0.5701 - val_loss: 1.5436 - val_accuracy: 0.5180\n",
            "Epoch 12/30\n",
            "67/67 [==============================] - 14s 203ms/step - loss: 1.2416 - accuracy: 0.6051 - val_loss: 1.4891 - val_accuracy: 0.5500\n",
            "Epoch 13/30\n",
            "67/67 [==============================] - 14s 203ms/step - loss: 1.1094 - accuracy: 0.6468 - val_loss: 1.4840 - val_accuracy: 0.5690\n",
            "Epoch 14/30\n",
            "67/67 [==============================] - 14s 203ms/step - loss: 1.0458 - accuracy: 0.6686 - val_loss: 1.4412 - val_accuracy: 0.5790\n",
            "Epoch 15/30\n",
            "67/67 [==============================] - 14s 203ms/step - loss: 0.8946 - accuracy: 0.7079 - val_loss: 1.4908 - val_accuracy: 0.5700\n",
            "Epoch 16/30\n",
            "67/67 [==============================] - 14s 203ms/step - loss: 0.8322 - accuracy: 0.7333 - val_loss: 1.5639 - val_accuracy: 0.5640\n",
            "Epoch 17/30\n",
            "67/67 [==============================] - 14s 203ms/step - loss: 0.7202 - accuracy: 0.7662 - val_loss: 1.6257 - val_accuracy: 0.5665\n",
            "Epoch 18/30\n",
            "67/67 [==============================] - 14s 203ms/step - loss: 0.6363 - accuracy: 0.7946 - val_loss: 1.6051 - val_accuracy: 0.5845\n"
          ]
        }
      ],
      "source": [
        "# build MyCNN_model_final similar to MyCNN_model_1\n",
        "\n",
        "MyCNN_one = MyCNN()\n",
        "MyCNN_one.build((1, 32, 32, 3))\n",
        "MyCNN_one.summary()\n",
        "\n",
        "MyCNN_one.compile(optimizer='adam', loss=tf.keras.losses.SparseCategoricalCrossentropy(from_logits=True), metrics=['accuracy'])\n",
        "\n",
        "history_early = MyCNN_one.fit(x_train, y_train, epochs=30, batch_size=128, validation_data=(x_test, y_test), callbacks=callback)\n",
        "\n",
        "MyCNN_one.save('MyCNN_early.h5')"
      ]
    },
    {
      "cell_type": "code",
      "execution_count": null,
      "metadata": {
        "colab": {
          "base_uri": "https://localhost:8080/"
        },
        "id": "l1gnblXZZRJ1",
        "outputId": "7044e704-e6ec-4cee-8d99-6942e15a1ff3"
      },
      "outputs": [
        {
          "name": "stdout",
          "output_type": "stream",
          "text": [
            "63/63 - 2s - loss: 1.6050 - accuracy: 0.5845 - 2s/epoch - 27ms/step\n",
            "MyCNN model with early stop, accuracy: 58.45%\n"
          ]
        }
      ],
      "source": [
        "MyCNN_temp = tf.keras.models.load_model('MyCNN_early.h5')\n",
        "\n",
        "loss, acc = MyCNN_temp.evaluate(x_test, y_test, verbose=2)\n",
        "print('MyCNN model with early stop, accuracy: {:5.2f}%'.format(100 * acc))"
      ]
    },
    {
      "cell_type": "markdown",
      "metadata": {
        "id": "oCNJdnwfJi8h"
      },
      "source": [
        "Με τη χρήση της τεχνικής αυτής, η εκπαίδευση του μοντέλου σταματά στην 18η εποχή. Η ακρίβεια αυξήθηκε κατά 2.45% (από το 56% που ήταν προηγουμένως πήγε στο 58.45%) και επιπλέον γλιτώσαμε 12 εποχές εκπαίδευσης, οι οποίες τελικά δεν επέφεραν καμία βελτίωση. "
      ]
    },
    {
      "cell_type": "markdown",
      "metadata": {
        "id": "BlKv7MGJQE6L"
      },
      "source": [
        "####Dropout"
      ]
    },
    {
      "cell_type": "markdown",
      "metadata": {
        "id": "qV__ojE1KuTp"
      },
      "source": [
        "Η τεχνική dropout χρησιμοποιείται για την αντιμετώπιση της υπερεκπαίδευσης. Η κεντρική ιδέα του dropout είναι η απενεργοποίηση τυχαίων νευρώνων του δικτύου κατά την εκπαίδευση του μοντέλου. Πιο συγκεκριμένα, όταν εφαρμόζουμε την τεχνική αυτή σε ένα στρώμα του μοντέλου, κάποιοι νευρώνες επιλέγονται τυχαία και μηδενίζεται η έξοδός τους. Αυτό έχει ως αποτέλεσμα, να αποτρέπεται η ανάπτυξη αλληλεξαρτησίας μεταξύ γειτονικών νευρώνων, χωρίς όμως να περιορίζεται η ισχύς του καθενός ξεχωριστά.<br><br>\n",
        "\n",
        "Σχεδιάζουμε το MyCNN_model_1 με dropout αυτή τη φορά:"
      ]
    },
    {
      "cell_type": "code",
      "execution_count": null,
      "metadata": {
        "id": "Bk0l1B2kOn3-"
      },
      "outputs": [],
      "source": [
        "def MyCNN():\n",
        "        return tf.keras.models.Sequential([\n",
        "        tf.keras.layers.Conv2D(filters=128, kernel_size=3, activation='relu'),\n",
        "        tf.keras.layers.Conv2D(filters=256, kernel_size=5, padding='same', activation='relu'),\n",
        "        tf.keras.layers.MaxPool2D(pool_size=3, strides=2),\n",
        "        layers.Dropout(0.05),\n",
        "        tf.keras.layers.Conv2D(filters=512, kernel_size=3, padding='same', activation='relu'),\n",
        "        tf.keras.layers.MaxPool2D(pool_size=3, strides=2),\n",
        "        layers.Dropout(0.05),\n",
        "        tf.keras.layers.Conv2D(filters=512, kernel_size=3, padding='same', activation='relu'),\n",
        "        tf.keras.layers.Conv2D(filters=256, kernel_size=3, padding='same', activation='relu'),\n",
        "        tf.keras.layers.MaxPool2D(pool_size=3, strides=2),\n",
        "        layers.Dropout(0.05),\n",
        "        tf.keras.layers.Flatten(),\n",
        "        tf.keras.layers.Dense(4096, activation='relu'),\n",
        "        tf.keras.layers.Dropout(0.5),\n",
        "        tf.keras.layers.Dense(4096, activation='relu'),\n",
        "        tf.keras.layers.Dropout(0.5),\n",
        "        tf.keras.layers.Dense(20)\n",
        "    ])"
      ]
    },
    {
      "cell_type": "code",
      "execution_count": null,
      "metadata": {
        "colab": {
          "base_uri": "https://localhost:8080/"
        },
        "id": "SnbGIU9BP36f",
        "outputId": "d89209b2-d337-4631-a96c-36a4ad273b6f"
      },
      "outputs": [
        {
          "output_type": "stream",
          "name": "stdout",
          "text": [
            "Model: \"sequential_13\"\n",
            "_________________________________________________________________\n",
            " Layer (type)                Output Shape              Param #   \n",
            "=================================================================\n",
            " conv2d_55 (Conv2D)          (1, 30, 30, 128)          3584      \n",
            "                                                                 \n",
            " conv2d_56 (Conv2D)          (1, 30, 30, 256)          819456    \n",
            "                                                                 \n",
            " max_pooling2d_33 (MaxPoolin  (1, 14, 14, 256)         0         \n",
            " g2D)                                                            \n",
            "                                                                 \n",
            " dropout_50 (Dropout)        (1, 14, 14, 256)          0         \n",
            "                                                                 \n",
            " conv2d_57 (Conv2D)          (1, 14, 14, 512)          1180160   \n",
            "                                                                 \n",
            " max_pooling2d_34 (MaxPoolin  (1, 6, 6, 512)           0         \n",
            " g2D)                                                            \n",
            "                                                                 \n",
            " dropout_51 (Dropout)        (1, 6, 6, 512)            0         \n",
            "                                                                 \n",
            " conv2d_58 (Conv2D)          (1, 6, 6, 512)            2359808   \n",
            "                                                                 \n",
            " conv2d_59 (Conv2D)          (1, 6, 6, 256)            1179904   \n",
            "                                                                 \n",
            " max_pooling2d_35 (MaxPoolin  (1, 2, 2, 256)           0         \n",
            " g2D)                                                            \n",
            "                                                                 \n",
            " dropout_52 (Dropout)        (1, 2, 2, 256)            0         \n",
            "                                                                 \n",
            " flatten_11 (Flatten)        (1, 1024)                 0         \n",
            "                                                                 \n",
            " dense_32 (Dense)            (1, 4096)                 4198400   \n",
            "                                                                 \n",
            " dropout_53 (Dropout)        (1, 4096)                 0         \n",
            "                                                                 \n",
            " dense_33 (Dense)            (1, 4096)                 16781312  \n",
            "                                                                 \n",
            " dropout_54 (Dropout)        (1, 4096)                 0         \n",
            "                                                                 \n",
            " dense_34 (Dense)            (1, 20)                   81940     \n",
            "                                                                 \n",
            "=================================================================\n",
            "Total params: 26,604,564\n",
            "Trainable params: 26,604,564\n",
            "Non-trainable params: 0\n",
            "_________________________________________________________________\n",
            "Epoch 1/20\n",
            "67/67 [==============================] - 17s 236ms/step - loss: 3.0166 - accuracy: 0.0472 - val_loss: 2.9631 - val_accuracy: 0.0545\n",
            "Epoch 2/20\n",
            "67/67 [==============================] - 15s 220ms/step - loss: 2.9627 - accuracy: 0.0654 - val_loss: 2.8974 - val_accuracy: 0.0745\n",
            "Epoch 3/20\n",
            "67/67 [==============================] - 15s 219ms/step - loss: 2.8084 - accuracy: 0.1132 - val_loss: 2.6920 - val_accuracy: 0.1410\n",
            "Epoch 4/20\n",
            "67/67 [==============================] - 15s 219ms/step - loss: 2.6609 - accuracy: 0.1480 - val_loss: 2.5839 - val_accuracy: 0.1840\n",
            "Epoch 5/20\n",
            "67/67 [==============================] - 15s 220ms/step - loss: 2.5024 - accuracy: 0.2038 - val_loss: 2.5511 - val_accuracy: 0.2110\n",
            "Epoch 6/20\n",
            "67/67 [==============================] - 15s 222ms/step - loss: 2.3437 - accuracy: 0.2542 - val_loss: 2.3493 - val_accuracy: 0.2675\n",
            "Epoch 7/20\n",
            "67/67 [==============================] - 15s 220ms/step - loss: 2.2168 - accuracy: 0.2942 - val_loss: 2.0711 - val_accuracy: 0.3495\n",
            "Epoch 8/20\n",
            "67/67 [==============================] - 15s 219ms/step - loss: 2.0437 - accuracy: 0.3429 - val_loss: 1.9654 - val_accuracy: 0.3780\n",
            "Epoch 9/20\n",
            "67/67 [==============================] - 15s 220ms/step - loss: 1.9319 - accuracy: 0.3964 - val_loss: 1.8840 - val_accuracy: 0.4215\n",
            "Epoch 10/20\n",
            "67/67 [==============================] - 15s 220ms/step - loss: 1.7595 - accuracy: 0.4487 - val_loss: 1.7296 - val_accuracy: 0.4765\n",
            "Epoch 11/20\n",
            "67/67 [==============================] - 15s 223ms/step - loss: 1.6618 - accuracy: 0.4801 - val_loss: 1.6887 - val_accuracy: 0.4725\n",
            "Epoch 12/20\n",
            "67/67 [==============================] - 15s 220ms/step - loss: 1.5531 - accuracy: 0.5116 - val_loss: 1.6991 - val_accuracy: 0.4805\n",
            "Epoch 13/20\n",
            "67/67 [==============================] - 15s 219ms/step - loss: 1.4671 - accuracy: 0.5354 - val_loss: 1.6087 - val_accuracy: 0.5015\n",
            "Epoch 14/20\n",
            "67/67 [==============================] - 15s 219ms/step - loss: 1.3301 - accuracy: 0.5818 - val_loss: 1.6067 - val_accuracy: 0.5105\n",
            "Epoch 15/20\n",
            "67/67 [==============================] - 15s 220ms/step - loss: 1.2686 - accuracy: 0.5989 - val_loss: 1.5513 - val_accuracy: 0.5405\n",
            "Epoch 16/20\n",
            "67/67 [==============================] - 15s 220ms/step - loss: 1.1512 - accuracy: 0.6338 - val_loss: 1.6113 - val_accuracy: 0.5280\n",
            "Epoch 17/20\n",
            "67/67 [==============================] - 15s 222ms/step - loss: 1.0760 - accuracy: 0.6554 - val_loss: 1.5045 - val_accuracy: 0.5640\n",
            "Epoch 18/20\n",
            "67/67 [==============================] - 15s 223ms/step - loss: 0.9842 - accuracy: 0.6799 - val_loss: 1.5796 - val_accuracy: 0.5640\n",
            "Epoch 19/20\n",
            "67/67 [==============================] - 15s 220ms/step - loss: 0.9192 - accuracy: 0.7053 - val_loss: 1.5758 - val_accuracy: 0.5580\n",
            "Epoch 20/20\n",
            "67/67 [==============================] - 15s 219ms/step - loss: 0.8701 - accuracy: 0.7224 - val_loss: 1.5385 - val_accuracy: 0.5690\n"
          ]
        }
      ],
      "source": [
        "MyCNN_two = MyCNN()\n",
        "MyCNN_two.build((1, 32, 32, 3))\n",
        "MyCNN_two.summary()\n",
        "\n",
        "MyCNN_two.compile(optimizer='adam', loss=tf.keras.losses.SparseCategoricalCrossentropy(from_logits=True), metrics=['accuracy'])\n",
        "\n",
        "history_drop = MyCNN_two.fit(x_train, y_train, epochs=20, batch_size=128, validation_data=(x_test, y_test))\n",
        "\n",
        "MyCNN_two.save('MyCNN_drop.h5')"
      ]
    },
    {
      "cell_type": "code",
      "execution_count": null,
      "metadata": {
        "colab": {
          "base_uri": "https://localhost:8080/"
        },
        "id": "GPMBfNqkRQpk",
        "outputId": "0d489c2c-6cff-4410-9337-66b3534eb1d6"
      },
      "outputs": [
        {
          "output_type": "stream",
          "name": "stdout",
          "text": [
            "63/63 - 2s - loss: 1.5385 - accuracy: 0.5690 - 2s/epoch - 38ms/step\n",
            "MyCNN model with dropout, accuracy: 56.90%\n"
          ]
        }
      ],
      "source": [
        "MyCNN_temp = tf.keras.models.load_model('MyCNN_drop.h5')\n",
        "\n",
        "loss, acc = MyCNN_temp.evaluate(x_test, y_test, verbose=2)\n",
        "print('MyCNN model with dropout, accuracy: {:5.2f}%'.format(100 * acc))"
      ]
    },
    {
      "cell_type": "markdown",
      "metadata": {
        "id": "vxRpyr7nufO5"
      },
      "source": [
        "Έχουμε αύξηση της ακρίβειας κατά 0.9%."
      ]
    },
    {
      "cell_type": "markdown",
      "metadata": {
        "id": "kONP6QrXSjk9"
      },
      "source": [
        "####Data Augmentation"
      ]
    },
    {
      "cell_type": "markdown",
      "metadata": {
        "id": "eOIUgxlpSqjs"
      },
      "source": [
        "Η υπερεκπαίδευση συνήθως συμβαίνει όταν έχουμε λίγα δεδομένα για την εκπαίδευση του μοντέλου μας. Η βασική ιδέα της τεχνικής data augmentation, είναι η παραγωγή επιπλέον δεδομένων εκπαίδευσης με την εφαρμογή τυχαίων μετασχηματισμών στα ήδη υπάρχοντα δεδομένα εκπαίδευσης. Αυτό έχει ως αποτέλεσμα, την έκθεση του μοντέλου σε περισσότερα δεδομένα εκπαίδευσης τη στιγμή που ο αριθμός των κλάσεων παραμένει σταθερός. Συνεπώς, αυξάνεται η ακρίβεια του μοντέλου. "
      ]
    },
    {
      "cell_type": "markdown",
      "source": [
        "Στα παρακάτω παραδείγματα χρησιμοποιούμε data augmentation σε συνδυασμό με τις δύο παραπάνω τεχνικές για καλύτερα αποτελέσματα."
      ],
      "metadata": {
        "id": "_16S-6YIlV_8"
      }
    },
    {
      "cell_type": "markdown",
      "source": [
        "* Data Augmentation και Early Stop"
      ],
      "metadata": {
        "id": "kjq9ULaCnygD"
      }
    },
    {
      "cell_type": "code",
      "source": [
        "def MyCNN_Improved_1():\n",
        "\n",
        "  # define a data_augmentation layer that transforms input data\n",
        "  data_augmentation = tf.keras.Sequential(\n",
        "    [\n",
        "      layers.RandomFlip(\"horizontal\", input_shape=(32, 32, 3)),\n",
        "      layers.RandomRotation(0.1),\n",
        "      layers.RandomZoom(0.1)\n",
        "    ]\n",
        "  )\n",
        "\n",
        "  return tf.keras.models.Sequential([\n",
        "    data_augmentation,                            \n",
        "    tf.keras.layers.Conv2D(filters=32, kernel_size=3, activation='relu'),\n",
        "    tf.keras.layers.MaxPool2D(pool_size=2),\n",
        "    tf.keras.layers.Conv2D(filters=64, kernel_size=3, padding='same', activation='relu'),\n",
        "    tf.keras.layers.MaxPool2D(pool_size=2),\n",
        "    tf.keras.layers.Conv2D(filters=128, kernel_size=3, padding='same', activation='relu'),\n",
        "    tf.keras.layers.MaxPool2D(pool_size=2),\n",
        "    tf.keras.layers.Conv2D(filters=128, kernel_size=3, padding='same', activation='relu'),\n",
        "    tf.keras.layers.MaxPool2D(pool_size=2),\n",
        "    tf.keras.layers.Flatten(),\n",
        "    tf.keras.layers.Dense(64, activation='relu'),\n",
        "    tf.keras.layers.Dropout(0.15),\n",
        "    tf.keras.layers.Dense(64, activation='relu'),\n",
        "    tf.keras.layers.Dropout(0.15),\n",
        "    tf.keras.layers.Dense(20)\n",
        "  ])"
      ],
      "metadata": {
        "id": "kNhQRYq-lRAI"
      },
      "execution_count": null,
      "outputs": []
    },
    {
      "cell_type": "code",
      "source": [
        "callback = tf.keras.callbacks.EarlyStopping(monitor='val_loss', patience=5)\n",
        "\n",
        "MyCNN_three = MyCNN_Improved_1()\n",
        "\n",
        "MyCNN_three.compile(optimizer='adam',\n",
        "              loss=tf.keras.losses.SparseCategoricalCrossentropy(from_logits=True),\n",
        "              metrics=['accuracy'])\n",
        "\n",
        "history_improved_1 = MyCNN_three.fit(x_train, y_train, epochs=50, batch_size=64, callbacks = [callback], validation_data=(x_val, y_val))\n",
        "\n",
        "MyCNN_three.save('MyCNN_imp1.h5')"
      ],
      "metadata": {
        "colab": {
          "base_uri": "https://localhost:8080/"
        },
        "id": "0xJ3lwrUmyk6",
        "outputId": "460bb266-c849-4626-b63b-d716852f69fa"
      },
      "execution_count": null,
      "outputs": [
        {
          "output_type": "stream",
          "name": "stdout",
          "text": [
            "Epoch 1/50\n",
            "133/133 [==============================] - 8s 31ms/step - loss: 2.8563 - accuracy: 0.1054 - val_loss: 2.6648 - val_accuracy: 0.1753\n",
            "Epoch 2/50\n",
            "133/133 [==============================] - 3s 25ms/step - loss: 2.5817 - accuracy: 0.1885 - val_loss: 2.4563 - val_accuracy: 0.2187\n",
            "Epoch 3/50\n",
            "133/133 [==============================] - 3s 25ms/step - loss: 2.4268 - accuracy: 0.2353 - val_loss: 2.3105 - val_accuracy: 0.3040\n",
            "Epoch 4/50\n",
            "133/133 [==============================] - 3s 25ms/step - loss: 2.3190 - accuracy: 0.2739 - val_loss: 2.3135 - val_accuracy: 0.2967\n",
            "Epoch 5/50\n",
            "133/133 [==============================] - 3s 25ms/step - loss: 2.2078 - accuracy: 0.3129 - val_loss: 2.1274 - val_accuracy: 0.3393\n",
            "Epoch 6/50\n",
            "133/133 [==============================] - 3s 25ms/step - loss: 2.1218 - accuracy: 0.3434 - val_loss: 2.2577 - val_accuracy: 0.3147\n",
            "Epoch 7/50\n",
            "133/133 [==============================] - 3s 23ms/step - loss: 2.0320 - accuracy: 0.3706 - val_loss: 1.9755 - val_accuracy: 0.3993\n",
            "Epoch 8/50\n",
            "133/133 [==============================] - 3s 23ms/step - loss: 1.9620 - accuracy: 0.3935 - val_loss: 1.9095 - val_accuracy: 0.4067\n",
            "Epoch 9/50\n",
            "133/133 [==============================] - 3s 20ms/step - loss: 1.8803 - accuracy: 0.4286 - val_loss: 1.8593 - val_accuracy: 0.4287\n",
            "Epoch 10/50\n",
            "133/133 [==============================] - 2s 17ms/step - loss: 1.8197 - accuracy: 0.4419 - val_loss: 1.8143 - val_accuracy: 0.4393\n",
            "Epoch 11/50\n",
            "133/133 [==============================] - 2s 18ms/step - loss: 1.7646 - accuracy: 0.4588 - val_loss: 1.8470 - val_accuracy: 0.4207\n",
            "Epoch 12/50\n",
            "133/133 [==============================] - 2s 18ms/step - loss: 1.7073 - accuracy: 0.4755 - val_loss: 1.7156 - val_accuracy: 0.4707\n",
            "Epoch 13/50\n",
            "133/133 [==============================] - 2s 18ms/step - loss: 1.6785 - accuracy: 0.4871 - val_loss: 1.6319 - val_accuracy: 0.4947\n",
            "Epoch 14/50\n",
            "133/133 [==============================] - 2s 18ms/step - loss: 1.6132 - accuracy: 0.5041 - val_loss: 1.6055 - val_accuracy: 0.5033\n",
            "Epoch 15/50\n",
            "133/133 [==============================] - 3s 19ms/step - loss: 1.5784 - accuracy: 0.5106 - val_loss: 1.5716 - val_accuracy: 0.5147\n",
            "Epoch 16/50\n",
            "133/133 [==============================] - 2s 18ms/step - loss: 1.5295 - accuracy: 0.5306 - val_loss: 1.5314 - val_accuracy: 0.5240\n",
            "Epoch 17/50\n",
            "133/133 [==============================] - 2s 18ms/step - loss: 1.4934 - accuracy: 0.5440 - val_loss: 1.6149 - val_accuracy: 0.5020\n",
            "Epoch 18/50\n",
            "133/133 [==============================] - 2s 18ms/step - loss: 1.4509 - accuracy: 0.5562 - val_loss: 1.5916 - val_accuracy: 0.5087\n",
            "Epoch 19/50\n",
            "133/133 [==============================] - 2s 17ms/step - loss: 1.4361 - accuracy: 0.5594 - val_loss: 1.4763 - val_accuracy: 0.5453\n",
            "Epoch 20/50\n",
            "133/133 [==============================] - 2s 17ms/step - loss: 1.3908 - accuracy: 0.5738 - val_loss: 1.5869 - val_accuracy: 0.5187\n",
            "Epoch 21/50\n",
            "133/133 [==============================] - 2s 18ms/step - loss: 1.3723 - accuracy: 0.5793 - val_loss: 1.5130 - val_accuracy: 0.5373\n",
            "Epoch 22/50\n",
            "133/133 [==============================] - 2s 18ms/step - loss: 1.3462 - accuracy: 0.5895 - val_loss: 1.4851 - val_accuracy: 0.5447\n",
            "Epoch 23/50\n",
            "133/133 [==============================] - 2s 18ms/step - loss: 1.3036 - accuracy: 0.6014 - val_loss: 1.4072 - val_accuracy: 0.5747\n",
            "Epoch 24/50\n",
            "133/133 [==============================] - 2s 18ms/step - loss: 1.2703 - accuracy: 0.6142 - val_loss: 1.4068 - val_accuracy: 0.5833\n",
            "Epoch 25/50\n",
            "133/133 [==============================] - 3s 19ms/step - loss: 1.2427 - accuracy: 0.6125 - val_loss: 1.4080 - val_accuracy: 0.5787\n",
            "Epoch 26/50\n",
            "133/133 [==============================] - 2s 18ms/step - loss: 1.2491 - accuracy: 0.6136 - val_loss: 1.4524 - val_accuracy: 0.5673\n",
            "Epoch 27/50\n",
            "133/133 [==============================] - 2s 18ms/step - loss: 1.2007 - accuracy: 0.6293 - val_loss: 1.4585 - val_accuracy: 0.5627\n",
            "Epoch 28/50\n",
            "133/133 [==============================] - 2s 18ms/step - loss: 1.1823 - accuracy: 0.6342 - val_loss: 1.4557 - val_accuracy: 0.5727\n",
            "Epoch 29/50\n",
            "133/133 [==============================] - 2s 18ms/step - loss: 1.1621 - accuracy: 0.6384 - val_loss: 1.3925 - val_accuracy: 0.5860\n",
            "Epoch 30/50\n",
            "133/133 [==============================] - 2s 18ms/step - loss: 1.1426 - accuracy: 0.6478 - val_loss: 1.4905 - val_accuracy: 0.5647\n",
            "Epoch 31/50\n",
            "133/133 [==============================] - 2s 18ms/step - loss: 1.1120 - accuracy: 0.6584 - val_loss: 1.3932 - val_accuracy: 0.5893\n",
            "Epoch 32/50\n",
            "133/133 [==============================] - 2s 18ms/step - loss: 1.0813 - accuracy: 0.6651 - val_loss: 1.4180 - val_accuracy: 0.5893\n",
            "Epoch 33/50\n",
            "133/133 [==============================] - 2s 18ms/step - loss: 1.0688 - accuracy: 0.6669 - val_loss: 1.4591 - val_accuracy: 0.5787\n",
            "Epoch 34/50\n",
            "133/133 [==============================] - 2s 18ms/step - loss: 1.0777 - accuracy: 0.6632 - val_loss: 1.3874 - val_accuracy: 0.5940\n",
            "Epoch 35/50\n",
            "133/133 [==============================] - 2s 18ms/step - loss: 1.0527 - accuracy: 0.6715 - val_loss: 1.4400 - val_accuracy: 0.5867\n",
            "Epoch 36/50\n",
            "133/133 [==============================] - 2s 18ms/step - loss: 1.0471 - accuracy: 0.6764 - val_loss: 1.4134 - val_accuracy: 0.5820\n",
            "Epoch 37/50\n",
            "133/133 [==============================] - 2s 18ms/step - loss: 1.0190 - accuracy: 0.6829 - val_loss: 1.4103 - val_accuracy: 0.5967\n",
            "Epoch 38/50\n",
            "133/133 [==============================] - 2s 18ms/step - loss: 1.0126 - accuracy: 0.6856 - val_loss: 1.3524 - val_accuracy: 0.6220\n",
            "Epoch 39/50\n",
            "133/133 [==============================] - 3s 21ms/step - loss: 0.9757 - accuracy: 0.7004 - val_loss: 1.4556 - val_accuracy: 0.5927\n",
            "Epoch 40/50\n",
            "133/133 [==============================] - 2s 18ms/step - loss: 0.9818 - accuracy: 0.6898 - val_loss: 1.3872 - val_accuracy: 0.6100\n",
            "Epoch 41/50\n",
            "133/133 [==============================] - 2s 18ms/step - loss: 0.9581 - accuracy: 0.6988 - val_loss: 1.5174 - val_accuracy: 0.5893\n",
            "Epoch 42/50\n",
            "133/133 [==============================] - 2s 18ms/step - loss: 0.9264 - accuracy: 0.7160 - val_loss: 1.4391 - val_accuracy: 0.5933\n",
            "Epoch 43/50\n",
            "133/133 [==============================] - 2s 18ms/step - loss: 0.9338 - accuracy: 0.7098 - val_loss: 1.4703 - val_accuracy: 0.5853\n"
          ]
        }
      ]
    },
    {
      "cell_type": "markdown",
      "source": [
        "* Data Augmentation, Early Stop και Dropout"
      ],
      "metadata": {
        "id": "2pa40x8Wors7"
      }
    },
    {
      "cell_type": "code",
      "source": [
        "def MyCNN_Improved_2():\n",
        "\n",
        "  # define a data_augmentation layer that transforms input data\n",
        "  data_augmentation = tf.keras.Sequential(\n",
        "    [\n",
        "      layers.RandomFlip(\"horizontal\", input_shape=(32, 32, 3)),\n",
        "      layers.RandomRotation(0.1),\n",
        "      layers.RandomZoom(0.1)\n",
        "    ]\n",
        "  )\n",
        "\n",
        "  return tf.keras.models.Sequential([\n",
        "    data_augmentation,                            \n",
        "    tf.keras.layers.Conv2D(filters=32, kernel_size=3, activation='relu'),\n",
        "    tf.keras.layers.MaxPool2D(pool_size=2),\n",
        "    tf.keras.layers.Conv2D(filters=64, kernel_size=3, padding='same', activation='relu'),\n",
        "    tf.keras.layers.MaxPool2D(pool_size=2),\n",
        "    layers.Dropout(0.02),\n",
        "    tf.keras.layers.Conv2D(filters=128, kernel_size=3, padding='same', activation='relu'),\n",
        "    tf.keras.layers.MaxPool2D(pool_size=2),\n",
        "    tf.keras.layers.Conv2D(filters=128, kernel_size=3, padding='same', activation='relu'),\n",
        "    tf.keras.layers.MaxPool2D(pool_size=2),\n",
        "    layers.Dropout(0.02),\n",
        "    tf.keras.layers.Flatten(),\n",
        "    tf.keras.layers.Dense(64, activation='relu'),\n",
        "    tf.keras.layers.Dropout(0.15),\n",
        "    tf.keras.layers.Dense(64, activation='relu'),\n",
        "    tf.keras.layers.Dropout(0.15),\n",
        "    tf.keras.layers.Dense(20)\n",
        "  ])\n",
        "\n",
        "MyCNN_four = MyCNN_Improved_2()\n",
        "MyCNN_four.summary()"
      ],
      "metadata": {
        "colab": {
          "base_uri": "https://localhost:8080/"
        },
        "id": "LJ3DbS11orT7",
        "outputId": "60ef14cd-d86f-4ece-92fa-7a102705692c"
      },
      "execution_count": null,
      "outputs": [
        {
          "output_type": "stream",
          "name": "stdout",
          "text": [
            "Model: \"sequential_7\"\n",
            "_________________________________________________________________\n",
            " Layer (type)                Output Shape              Param #   \n",
            "=================================================================\n",
            " sequential_6 (Sequential)   (None, 32, 32, 3)         0         \n",
            "                                                                 \n",
            " conv2d_12 (Conv2D)          (None, 30, 30, 32)        896       \n",
            "                                                                 \n",
            " max_pooling2d_12 (MaxPoolin  (None, 15, 15, 32)       0         \n",
            " g2D)                                                            \n",
            "                                                                 \n",
            " conv2d_13 (Conv2D)          (None, 15, 15, 64)        18496     \n",
            "                                                                 \n",
            " max_pooling2d_13 (MaxPoolin  (None, 7, 7, 64)         0         \n",
            " g2D)                                                            \n",
            "                                                                 \n",
            " dropout_8 (Dropout)         (None, 7, 7, 64)          0         \n",
            "                                                                 \n",
            " conv2d_14 (Conv2D)          (None, 7, 7, 128)         73856     \n",
            "                                                                 \n",
            " max_pooling2d_14 (MaxPoolin  (None, 3, 3, 128)        0         \n",
            " g2D)                                                            \n",
            "                                                                 \n",
            " conv2d_15 (Conv2D)          (None, 3, 3, 128)         147584    \n",
            "                                                                 \n",
            " max_pooling2d_15 (MaxPoolin  (None, 1, 1, 128)        0         \n",
            " g2D)                                                            \n",
            "                                                                 \n",
            " dropout_9 (Dropout)         (None, 1, 1, 128)         0         \n",
            "                                                                 \n",
            " flatten_3 (Flatten)         (None, 128)               0         \n",
            "                                                                 \n",
            " dense_9 (Dense)             (None, 64)                8256      \n",
            "                                                                 \n",
            " dropout_10 (Dropout)        (None, 64)                0         \n",
            "                                                                 \n",
            " dense_10 (Dense)            (None, 64)                4160      \n",
            "                                                                 \n",
            " dropout_11 (Dropout)        (None, 64)                0         \n",
            "                                                                 \n",
            " dense_11 (Dense)            (None, 20)                1300      \n",
            "                                                                 \n",
            "=================================================================\n",
            "Total params: 254,548\n",
            "Trainable params: 254,548\n",
            "Non-trainable params: 0\n",
            "_________________________________________________________________\n"
          ]
        }
      ]
    },
    {
      "cell_type": "code",
      "source": [
        "callback = tf.keras.callbacks.EarlyStopping(monitor='val_loss', patience=5)\n",
        "\n",
        "MyCNN_four.compile(optimizer='adam',\n",
        "              loss=tf.keras.losses.SparseCategoricalCrossentropy(from_logits=True),\n",
        "              metrics=['accuracy'])\n",
        "\n",
        "history_improved_2 = MyCNN_four.fit(x_train, y_train, epochs=50, batch_size=64, callbacks = [callback], validation_data=(x_val, y_val))\n",
        "\n",
        "MyCNN_four.save('MyCNN_imp2.h5')"
      ],
      "metadata": {
        "colab": {
          "base_uri": "https://localhost:8080/"
        },
        "id": "WUAyG91dpL6Q",
        "outputId": "e4f83bbd-69e2-42ab-83cd-96e88a2fed79"
      },
      "execution_count": null,
      "outputs": [
        {
          "output_type": "stream",
          "name": "stdout",
          "text": [
            "Epoch 1/50\n",
            "133/133 [==============================] - 4s 20ms/step - loss: 2.8980 - accuracy: 0.0896 - val_loss: 2.7980 - val_accuracy: 0.1160\n",
            "Epoch 2/50\n",
            "133/133 [==============================] - 2s 19ms/step - loss: 2.7158 - accuracy: 0.1471 - val_loss: 2.6137 - val_accuracy: 0.1627\n",
            "Epoch 3/50\n",
            "133/133 [==============================] - 2s 18ms/step - loss: 2.5343 - accuracy: 0.2012 - val_loss: 2.6001 - val_accuracy: 0.1927\n",
            "Epoch 4/50\n",
            "133/133 [==============================] - 2s 18ms/step - loss: 2.4044 - accuracy: 0.2420 - val_loss: 2.3107 - val_accuracy: 0.2873\n",
            "Epoch 5/50\n",
            "133/133 [==============================] - 2s 18ms/step - loss: 2.2994 - accuracy: 0.2773 - val_loss: 2.2080 - val_accuracy: 0.3033\n",
            "Epoch 6/50\n",
            "133/133 [==============================] - 2s 18ms/step - loss: 2.2267 - accuracy: 0.3048 - val_loss: 2.1035 - val_accuracy: 0.3580\n",
            "Epoch 7/50\n",
            "133/133 [==============================] - 3s 20ms/step - loss: 2.1332 - accuracy: 0.3374 - val_loss: 2.2007 - val_accuracy: 0.3240\n",
            "Epoch 8/50\n",
            "133/133 [==============================] - 3s 20ms/step - loss: 2.0620 - accuracy: 0.3609 - val_loss: 2.0824 - val_accuracy: 0.3627\n",
            "Epoch 9/50\n",
            "133/133 [==============================] - 2s 18ms/step - loss: 1.9791 - accuracy: 0.3962 - val_loss: 1.9890 - val_accuracy: 0.3860\n",
            "Epoch 10/50\n",
            "133/133 [==============================] - 2s 18ms/step - loss: 1.9227 - accuracy: 0.4145 - val_loss: 1.8279 - val_accuracy: 0.4413\n",
            "Epoch 11/50\n",
            "133/133 [==============================] - 2s 18ms/step - loss: 1.8509 - accuracy: 0.4339 - val_loss: 1.8422 - val_accuracy: 0.4267\n",
            "Epoch 12/50\n",
            "133/133 [==============================] - 2s 18ms/step - loss: 1.8180 - accuracy: 0.4491 - val_loss: 1.7499 - val_accuracy: 0.4507\n",
            "Epoch 13/50\n",
            "133/133 [==============================] - 2s 18ms/step - loss: 1.7694 - accuracy: 0.4613 - val_loss: 1.8750 - val_accuracy: 0.4207\n",
            "Epoch 14/50\n",
            "133/133 [==============================] - 2s 18ms/step - loss: 1.7122 - accuracy: 0.4794 - val_loss: 1.7144 - val_accuracy: 0.4767\n",
            "Epoch 15/50\n",
            "133/133 [==============================] - 2s 18ms/step - loss: 1.6642 - accuracy: 0.4935 - val_loss: 1.7760 - val_accuracy: 0.4587\n",
            "Epoch 16/50\n",
            "133/133 [==============================] - 2s 18ms/step - loss: 1.6190 - accuracy: 0.5068 - val_loss: 1.7161 - val_accuracy: 0.4853\n",
            "Epoch 17/50\n",
            "133/133 [==============================] - 2s 18ms/step - loss: 1.5878 - accuracy: 0.5193 - val_loss: 1.6112 - val_accuracy: 0.5060\n",
            "Epoch 18/50\n",
            "133/133 [==============================] - 2s 18ms/step - loss: 1.5468 - accuracy: 0.5242 - val_loss: 1.5555 - val_accuracy: 0.5213\n",
            "Epoch 19/50\n",
            "133/133 [==============================] - 2s 18ms/step - loss: 1.4992 - accuracy: 0.5440 - val_loss: 1.6124 - val_accuracy: 0.5227\n",
            "Epoch 20/50\n",
            "133/133 [==============================] - 2s 18ms/step - loss: 1.4715 - accuracy: 0.5504 - val_loss: 1.5362 - val_accuracy: 0.5460\n",
            "Epoch 21/50\n",
            "133/133 [==============================] - 2s 18ms/step - loss: 1.4225 - accuracy: 0.5694 - val_loss: 1.5420 - val_accuracy: 0.5340\n",
            "Epoch 22/50\n",
            "133/133 [==============================] - 2s 18ms/step - loss: 1.3900 - accuracy: 0.5785 - val_loss: 1.5057 - val_accuracy: 0.5520\n",
            "Epoch 23/50\n",
            "133/133 [==============================] - 2s 18ms/step - loss: 1.3463 - accuracy: 0.5882 - val_loss: 1.5124 - val_accuracy: 0.5653\n",
            "Epoch 24/50\n",
            "133/133 [==============================] - 3s 26ms/step - loss: 1.3388 - accuracy: 0.5899 - val_loss: 1.5163 - val_accuracy: 0.5460\n",
            "Epoch 25/50\n",
            "133/133 [==============================] - 3s 19ms/step - loss: 1.3352 - accuracy: 0.5945 - val_loss: 1.4814 - val_accuracy: 0.5613\n",
            "Epoch 26/50\n",
            "133/133 [==============================] - 3s 19ms/step - loss: 1.3006 - accuracy: 0.6008 - val_loss: 1.5367 - val_accuracy: 0.5460\n",
            "Epoch 27/50\n",
            "133/133 [==============================] - 2s 18ms/step - loss: 1.2874 - accuracy: 0.6039 - val_loss: 1.4142 - val_accuracy: 0.5807\n",
            "Epoch 28/50\n",
            "133/133 [==============================] - 2s 18ms/step - loss: 1.2342 - accuracy: 0.6248 - val_loss: 1.5314 - val_accuracy: 0.5513\n",
            "Epoch 29/50\n",
            "133/133 [==============================] - 2s 18ms/step - loss: 1.2369 - accuracy: 0.6214 - val_loss: 1.4982 - val_accuracy: 0.5627\n",
            "Epoch 30/50\n",
            "133/133 [==============================] - 3s 20ms/step - loss: 1.1731 - accuracy: 0.6435 - val_loss: 1.4322 - val_accuracy: 0.5860\n",
            "Epoch 31/50\n",
            "133/133 [==============================] - 3s 22ms/step - loss: 1.1675 - accuracy: 0.6435 - val_loss: 1.4458 - val_accuracy: 0.5807\n",
            "Epoch 32/50\n",
            "133/133 [==============================] - 3s 25ms/step - loss: 1.1433 - accuracy: 0.6462 - val_loss: 1.4082 - val_accuracy: 0.5853\n",
            "Epoch 33/50\n",
            "133/133 [==============================] - 4s 27ms/step - loss: 1.1374 - accuracy: 0.6529 - val_loss: 1.4789 - val_accuracy: 0.5713\n",
            "Epoch 34/50\n",
            "133/133 [==============================] - 3s 21ms/step - loss: 1.1047 - accuracy: 0.6556 - val_loss: 1.4835 - val_accuracy: 0.5733\n",
            "Epoch 35/50\n",
            "133/133 [==============================] - 3s 19ms/step - loss: 1.0946 - accuracy: 0.6602 - val_loss: 1.4883 - val_accuracy: 0.5720\n",
            "Epoch 36/50\n",
            "133/133 [==============================] - 3s 20ms/step - loss: 1.1167 - accuracy: 0.6546 - val_loss: 1.4769 - val_accuracy: 0.5687\n",
            "Epoch 37/50\n",
            "133/133 [==============================] - 3s 22ms/step - loss: 1.0730 - accuracy: 0.6682 - val_loss: 1.5062 - val_accuracy: 0.5793\n"
          ]
        }
      ]
    },
    {
      "cell_type": "markdown",
      "source": [
        "##Βήμα 2: Αξιολόγηση"
      ],
      "metadata": {
        "id": "K1kex6znrj_2"
      }
    },
    {
      "cell_type": "markdown",
      "source": [
        "Παρακάτω έχουμε τα αποτελέσματα των 2 υλοποιήσεων του MyCNN με τη χρήση των παραπάνω τεχνικών. Αριστερά πλοτάρουμε το διάγραμμα για το MyCNN και χρήση data augmentation και eraly stop, ενώ δεξιά πλοτάρουμε το MyCNN με χρήση data augmentation, early stop και dropout."
      ],
      "metadata": {
        "id": "MY5_RuwGrtZy"
      }
    },
    {
      "cell_type": "code",
      "source": [
        "plot_accuracy(history_improved_1, history_improved_2, ['1','2'])"
      ],
      "metadata": {
        "colab": {
          "base_uri": "https://localhost:8080/",
          "height": 458
        },
        "id": "RUyKgNEHryfV",
        "outputId": "cc486f2b-18d3-4c5e-8490-f5d9175d6b02"
      },
      "execution_count": null,
      "outputs": [
        {
          "output_type": "display_data",
          "data": {
            "text/plain": [
              "<Figure size 1440x504 with 2 Axes>"
            ],
            "image/png": "[encoded data removed]"
          },
          "metadata": {
            "needs_background": "light"
          }
        }
      ]
    },
    {
      "cell_type": "markdown",
      "source": [
        "Η ακρίβεια του original MyCNN είναι 56%"
      ],
      "metadata": {
        "id": "gpm6Jlg3u-9C"
      }
    },
    {
      "cell_type": "code",
      "source": [
        "# Data augmentation and early stop\n",
        "MyCNN_temp = tf.keras.models.load_model('MyCNN_imp1.h5')\n",
        "\n",
        "loss, acc = MyCNN_temp.evaluate(x_test, y_test, verbose=2)\n",
        "print('MyCNN model with data augmentation and early stop, accuracy: {:5.2f}%'.format(100 * acc))"
      ],
      "metadata": {
        "colab": {
          "base_uri": "https://localhost:8080/"
        },
        "id": "IUU6zqhbngEQ",
        "outputId": "2c5d7f18-b71c-4f6d-9170-2de8788a405c"
      },
      "execution_count": null,
      "outputs": [
        {
          "output_type": "stream",
          "name": "stdout",
          "text": [
            "63/63 - 25s - loss: 1.3517 - accuracy: 0.6285 - 25s/epoch - 399ms/step\n",
            "MyCNN model with data augmentation and early stop, accuracy: 62.85%\n"
          ]
        }
      ]
    },
    {
      "cell_type": "markdown",
      "source": [
        "Σε σχέση με την αρχική υλοποίηση έχουμε αύξηση της ακρίβειας κατά 6.85%."
      ],
      "metadata": {
        "id": "oVwNxqwtojUj"
      }
    },
    {
      "cell_type": "code",
      "source": [
        "# Data augmentation, early stop and dropout\n",
        "\n",
        "MyCNN_temp = tf.keras.models.load_model('MyCNN_imp2.h5')\n",
        "\n",
        "loss, acc = MyCNN_temp.evaluate(x_test, y_test, verbose=2)\n",
        "print('MyCNN model with data augmentation, early stop and dropout, accuracy: {:5.2f}%'.format(100 * acc))"
      ],
      "metadata": {
        "colab": {
          "base_uri": "https://localhost:8080/"
        },
        "id": "tKecmSD7p1Rd",
        "outputId": "0d133e22-74c5-4870-ba69-08336eb834bb"
      },
      "execution_count": null,
      "outputs": [
        {
          "output_type": "stream",
          "name": "stdout",
          "text": [
            "63/63 - 0s - loss: 1.3861 - accuracy: 0.6035 - 429ms/epoch - 7ms/step\n",
            "MyCNN model with data augmentation, early stop and dropout, accuracy: 60.35%\n"
          ]
        }
      ]
    },
    {
      "cell_type": "markdown",
      "source": [
        "Σε σχέση με την αρχική υλοποίηση έχουμε αύξηση της ακρίβειας κατά 4.35%."
      ],
      "metadata": {
        "id": "rMU7ziNhrQgH"
      }
    },
    {
      "cell_type": "markdown",
      "source": [
        "Παρατηρούμε αύξηση του accuracy για τα test data, οπότε συμπεραίνουμε πως μειώνεται το overfitting του μοντέλου από τη στιγμή που μπορεί και γενικεύει καλύτερα, δηλαδή κατηγοριοποιεί καλύτερα εικόνες που δεν έχει ξαναδεί. Με πολλές δοκιμές και αλλαγές στις παραμέτρους ενδεχομένως να έχουμε ακόμα μεγαλύτερες τιμές ακρίβειας. Στα δικά μας παραδείγματα η αύξηση της ακρίβειας είναι της τάξης του 5%, το οποίο είναι ικανοποιητικό ποσοστό αν ληφθεί υπόψη πως στην ουσία το μέγεθος του training set μας παρέμεινε το ίδιο. "
      ],
      "metadata": {
        "id": "y8p_boUVvbLS"
      }
    },
    {
      "cell_type": "markdown",
      "metadata": {
        "id": "jTxKRNEHWfGs"
      },
      "source": [
        "## Ερώτημα 3\n",
        "---\n",
        "### Βήμα 1: Μεταφορά γνώσης\n",
        "Εφαρμόστε μεταφορά γνώσης (transfer learning) στο δικό σας μοντέλο (**MyCNN**), που αξιολογήσατε ως καλύτερο προς την ορθότητα στην αντιμετώπιση της υπερεκπαίδεσης. \n",
        "\n",
        "Για το transfer learning, επιλέξτε το [VGG16](https://www.tensorflow.org/api_docs/python/tf/keras/applications/vgg16) για μεταφορά μάθησης.\n",
        "\n",
        "1. \"Παγώστε\" τη συνελικτική βάση και εκπαιδεύστε την κεφαλή ταξινόμησης (classification head - σημαία trainable = False).  \n",
        "\n",
        "2. Εκπαιδέστε μόνο ένα ποσοστό των επιπέδων, το οποίο βρίσκεται προς την έξοδο του δικτύου. Οι σημαίες trainable εδώ θα πρέπει να οριστούν ανά επίπεδο.\n",
        "\n",
        "3. Αξιολογήστε τα αποτελέσματά σας, βάσει της ορθότητας του validation set και του test set σας."
      ]
    },
    {
      "cell_type": "markdown",
      "source": [
        "####1. VGG16 χωρίς trainable layers"
      ],
      "metadata": {
        "id": "_V8TUSdlGTMv"
      }
    },
    {
      "cell_type": "code",
      "source": [
        "# Instantiate the VGG16 model\n",
        "pretrained_model = tf.keras.applications.vgg16.VGG16(\n",
        "                        include_top=False,\n",
        "                        weights='imagenet',\n",
        "                        input_tensor=None,\n",
        "                        input_shape=(32, 32, 3),\n",
        "                        pooling=None,\n",
        "                        classes=20,\n",
        "                        classifier_activation='softmax'\n",
        "                    )\n",
        "\n",
        "# freeze\n",
        "pretrained_model.trainable = False "
      ],
      "metadata": {
        "id": "3Xc_ZyziGlIV"
      },
      "execution_count": 128,
      "outputs": []
    },
    {
      "cell_type": "code",
      "source": [
        "pretrained_model.summary()"
      ],
      "metadata": {
        "colab": {
          "base_uri": "https://localhost:8080/"
        },
        "id": "2ZJRR5zAJmGz",
        "outputId": "75e6f0cc-817f-4cf7-d60e-f1ffc3b03ef9"
      },
      "execution_count": 129,
      "outputs": [
        {
          "output_type": "stream",
          "name": "stdout",
          "text": [
            "Model: \"vgg16\"\n",
            "_________________________________________________________________\n",
            " Layer (type)                Output Shape              Param #   \n",
            "=================================================================\n",
            " input_30 (InputLayer)       [(None, 32, 32, 3)]       0         \n",
            "                                                                 \n",
            " block1_conv1 (Conv2D)       (None, 32, 32, 64)        1792      \n",
            "                                                                 \n",
            " block1_conv2 (Conv2D)       (None, 32, 32, 64)        36928     \n",
            "                                                                 \n",
            " block1_pool (MaxPooling2D)  (None, 16, 16, 64)        0         \n",
            "                                                                 \n",
            " block2_conv1 (Conv2D)       (None, 16, 16, 128)       73856     \n",
            "                                                                 \n",
            " block2_conv2 (Conv2D)       (None, 16, 16, 128)       147584    \n",
            "                                                                 \n",
            " block2_pool (MaxPooling2D)  (None, 8, 8, 128)         0         \n",
            "                                                                 \n",
            " block3_conv1 (Conv2D)       (None, 8, 8, 256)         295168    \n",
            "                                                                 \n",
            " block3_conv2 (Conv2D)       (None, 8, 8, 256)         590080    \n",
            "                                                                 \n",
            " block3_conv3 (Conv2D)       (None, 8, 8, 256)         590080    \n",
            "                                                                 \n",
            " block3_pool (MaxPooling2D)  (None, 4, 4, 256)         0         \n",
            "                                                                 \n",
            " block4_conv1 (Conv2D)       (None, 4, 4, 512)         1180160   \n",
            "                                                                 \n",
            " block4_conv2 (Conv2D)       (None, 4, 4, 512)         2359808   \n",
            "                                                                 \n",
            " block4_conv3 (Conv2D)       (None, 4, 4, 512)         2359808   \n",
            "                                                                 \n",
            " block4_pool (MaxPooling2D)  (None, 2, 2, 512)         0         \n",
            "                                                                 \n",
            " block5_conv1 (Conv2D)       (None, 2, 2, 512)         2359808   \n",
            "                                                                 \n",
            " block5_conv2 (Conv2D)       (None, 2, 2, 512)         2359808   \n",
            "                                                                 \n",
            " block5_conv3 (Conv2D)       (None, 2, 2, 512)         2359808   \n",
            "                                                                 \n",
            " block5_pool (MaxPooling2D)  (None, 1, 1, 512)         0         \n",
            "                                                                 \n",
            "=================================================================\n",
            "Total params: 14,714,688\n",
            "Trainable params: 0\n",
            "Non-trainable params: 14,714,688\n",
            "_________________________________________________________________\n"
          ]
        }
      ]
    },
    {
      "cell_type": "markdown",
      "source": [
        "Επαληθεύουμε πως έχουμε \"παγώσει\" τη συνελικτική βάση, αφού το Trainable params είναι 0, όπως φαίνεται στο summary() του μοντέλου μας."
      ],
      "metadata": {
        "id": "LAazby1bVqP2"
      }
    },
    {
      "cell_type": "code",
      "source": [
        "def MyCNN_pre():\n",
        "  return tf.keras.models.Sequential([\n",
        "    pretrained_model,\n",
        "    tf.keras.layers.Flatten(),\n",
        "    tf.keras.layers.Dense(1024, activation='relu'),\n",
        "    tf.keras.layers.Dense(200, activation='relu'),\n",
        "    tf.keras.layers.Dense(20)\n",
        "  ])"
      ],
      "metadata": {
        "id": "bk7RqoDGKS1M"
      },
      "execution_count": 130,
      "outputs": []
    },
    {
      "cell_type": "code",
      "source": [
        "mycnn_pre = MyCNN_pre()\n",
        "mycnn_pre.summary()\n",
        "\n",
        "mycnn_pre.compile(optimizer='adam',\n",
        "              loss=tf.keras.losses.SparseCategoricalCrossentropy(from_logits=True),\n",
        "              metrics=['accuracy'])"
      ],
      "metadata": {
        "colab": {
          "base_uri": "https://localhost:8080/"
        },
        "id": "QHgaHcfFLI3s",
        "outputId": "b7ec7f7b-0483-4f24-f001-6c3dd6bf355a"
      },
      "execution_count": 131,
      "outputs": [
        {
          "output_type": "stream",
          "name": "stdout",
          "text": [
            "Model: \"sequential_16\"\n",
            "_________________________________________________________________\n",
            " Layer (type)                Output Shape              Param #   \n",
            "=================================================================\n",
            " vgg16 (Functional)          (None, 1, 1, 512)         14714688  \n",
            "                                                                 \n",
            " flatten_16 (Flatten)        (None, 512)               0         \n",
            "                                                                 \n",
            " dense_48 (Dense)            (None, 1024)              525312    \n",
            "                                                                 \n",
            " dense_49 (Dense)            (None, 200)               205000    \n",
            "                                                                 \n",
            " dense_50 (Dense)            (None, 20)                4020      \n",
            "                                                                 \n",
            "=================================================================\n",
            "Total params: 15,449,020\n",
            "Trainable params: 734,332\n",
            "Non-trainable params: 14,714,688\n",
            "_________________________________________________________________\n"
          ]
        }
      ]
    },
    {
      "cell_type": "code",
      "source": [
        "# early stop\n",
        "callback = tf.keras.callbacks.EarlyStopping(monitor='val_loss', patience=3)\n",
        "\n",
        "history_mycnn_pre = mycnn_pre.fit(x_train, y_train, epochs=20, batch_size=64, validation_data=(x_val, y_val), callbacks = callback)\n",
        "\n",
        "mycnn_pre.save('MyCNN_pre.h5')"
      ],
      "metadata": {
        "colab": {
          "base_uri": "https://localhost:8080/"
        },
        "id": "no3AYamAL_P6",
        "outputId": "de3238c7-be40-4f30-c2ab-64428f560362"
      },
      "execution_count": 132,
      "outputs": [
        {
          "output_type": "stream",
          "name": "stdout",
          "text": [
            "Epoch 1/20\n",
            "133/133 [==============================] - 3s 18ms/step - loss: 1.9391 - accuracy: 0.4066 - val_loss: 1.6293 - val_accuracy: 0.4980\n",
            "Epoch 2/20\n",
            "133/133 [==============================] - 2s 15ms/step - loss: 1.4636 - accuracy: 0.5380 - val_loss: 1.5131 - val_accuracy: 0.5273\n",
            "Epoch 3/20\n",
            "133/133 [==============================] - 2s 15ms/step - loss: 1.2942 - accuracy: 0.5879 - val_loss: 1.5136 - val_accuracy: 0.5293\n",
            "Epoch 4/20\n",
            "133/133 [==============================] - 2s 15ms/step - loss: 1.1505 - accuracy: 0.6313 - val_loss: 1.4519 - val_accuracy: 0.5540\n",
            "Epoch 5/20\n",
            "133/133 [==============================] - 2s 15ms/step - loss: 1.0417 - accuracy: 0.6667 - val_loss: 1.5054 - val_accuracy: 0.5527\n",
            "Epoch 6/20\n",
            "133/133 [==============================] - 2s 15ms/step - loss: 0.9448 - accuracy: 0.6972 - val_loss: 1.4929 - val_accuracy: 0.5613\n",
            "Epoch 7/20\n",
            "133/133 [==============================] - 2s 15ms/step - loss: 0.8414 - accuracy: 0.7300 - val_loss: 1.4516 - val_accuracy: 0.5627\n",
            "Epoch 8/20\n",
            "133/133 [==============================] - 2s 16ms/step - loss: 0.7585 - accuracy: 0.7542 - val_loss: 1.4972 - val_accuracy: 0.5547\n",
            "Epoch 9/20\n",
            "133/133 [==============================] - 2s 15ms/step - loss: 0.6800 - accuracy: 0.7792 - val_loss: 1.5549 - val_accuracy: 0.5540\n",
            "Epoch 10/20\n",
            "133/133 [==============================] - 2s 15ms/step - loss: 0.5981 - accuracy: 0.8074 - val_loss: 1.6315 - val_accuracy: 0.5540\n"
          ]
        }
      ]
    },
    {
      "cell_type": "code",
      "source": [
        "MyCNN_temp = tf.keras.models.load_model('MyCNN_pre.h5')\n",
        "\n",
        "loss, acc = MyCNN_temp.evaluate(x_test, y_test, verbose=2)\n",
        "print('Pretrained VGG16 model, accuracy: {:5.2f}%'.format(100 * acc))"
      ],
      "metadata": {
        "colab": {
          "base_uri": "https://localhost:8080/"
        },
        "id": "hxEa99N1NKR2",
        "outputId": "ca79fc2c-c624-4202-d22d-5d8d4f3a70ef"
      },
      "execution_count": 133,
      "outputs": [
        {
          "output_type": "stream",
          "name": "stdout",
          "text": [
            "63/63 - 1s - loss: 1.5336 - accuracy: 0.5860 - 783ms/epoch - 12ms/step\n",
            "Pretrained VGG16 model, accuracy: 58.60%\n"
          ]
        }
      ]
    },
    {
      "cell_type": "markdown",
      "source": [
        "Παρατηρούμε πως έχουμε πολύ γρήγορη σύγκλιση του μοντέλου. Δηλαδή με την χρήση της τεχνικές early stop, απαιούνται μόνο 10 εποχές για την εκπαίδευση του μοντέλου. Το αποτέλεσμα αυτό είναι λογικό από τη στιγμή που έχουμε ένα ήδη εκπαιδευμένο μοντέλο."
      ],
      "metadata": {
        "id": "Ei403bGJNidE"
      }
    },
    {
      "cell_type": "markdown",
      "source": [
        "####2. VGG16 με trainable layers"
      ],
      "metadata": {
        "id": "f1_lG6orPIoA"
      }
    },
    {
      "cell_type": "code",
      "source": [
        "pretrained_model_2 = tf.keras.applications.vgg16.VGG16(\n",
        "                        include_top=False,\n",
        "                        weights='imagenet',\n",
        "                        input_tensor=None,\n",
        "                        input_shape=(32, 32, 3),\n",
        "                        pooling=None,\n",
        "                        classes=20,\n",
        "                        classifier_activation='softmax'\n",
        "                    )\n",
        "\n",
        "# get number of layers\n",
        "num_of_layers = len(pretrained_model_2.layers)\n",
        "\n",
        "# freeze all layers except the last 4\n",
        "offset = 4\n",
        "for layer in pretrained_model_2.layers[:(num_of_layers - offset)]:\n",
        "  layer.trainable = False\n",
        "pretrained_model_2.summary()"
      ],
      "metadata": {
        "colab": {
          "base_uri": "https://localhost:8080/"
        },
        "id": "gqhp4brGQO-T",
        "outputId": "eeb9773a-ebfd-4ad4-f0ba-d459c229ce31"
      },
      "execution_count": 134,
      "outputs": [
        {
          "output_type": "stream",
          "name": "stdout",
          "text": [
            "Model: \"vgg16\"\n",
            "_________________________________________________________________\n",
            " Layer (type)                Output Shape              Param #   \n",
            "=================================================================\n",
            " input_31 (InputLayer)       [(None, 32, 32, 3)]       0         \n",
            "                                                                 \n",
            " block1_conv1 (Conv2D)       (None, 32, 32, 64)        1792      \n",
            "                                                                 \n",
            " block1_conv2 (Conv2D)       (None, 32, 32, 64)        36928     \n",
            "                                                                 \n",
            " block1_pool (MaxPooling2D)  (None, 16, 16, 64)        0         \n",
            "                                                                 \n",
            " block2_conv1 (Conv2D)       (None, 16, 16, 128)       73856     \n",
            "                                                                 \n",
            " block2_conv2 (Conv2D)       (None, 16, 16, 128)       147584    \n",
            "                                                                 \n",
            " block2_pool (MaxPooling2D)  (None, 8, 8, 128)         0         \n",
            "                                                                 \n",
            " block3_conv1 (Conv2D)       (None, 8, 8, 256)         295168    \n",
            "                                                                 \n",
            " block3_conv2 (Conv2D)       (None, 8, 8, 256)         590080    \n",
            "                                                                 \n",
            " block3_conv3 (Conv2D)       (None, 8, 8, 256)         590080    \n",
            "                                                                 \n",
            " block3_pool (MaxPooling2D)  (None, 4, 4, 256)         0         \n",
            "                                                                 \n",
            " block4_conv1 (Conv2D)       (None, 4, 4, 512)         1180160   \n",
            "                                                                 \n",
            " block4_conv2 (Conv2D)       (None, 4, 4, 512)         2359808   \n",
            "                                                                 \n",
            " block4_conv3 (Conv2D)       (None, 4, 4, 512)         2359808   \n",
            "                                                                 \n",
            " block4_pool (MaxPooling2D)  (None, 2, 2, 512)         0         \n",
            "                                                                 \n",
            " block5_conv1 (Conv2D)       (None, 2, 2, 512)         2359808   \n",
            "                                                                 \n",
            " block5_conv2 (Conv2D)       (None, 2, 2, 512)         2359808   \n",
            "                                                                 \n",
            " block5_conv3 (Conv2D)       (None, 2, 2, 512)         2359808   \n",
            "                                                                 \n",
            " block5_pool (MaxPooling2D)  (None, 1, 1, 512)         0         \n",
            "                                                                 \n",
            "=================================================================\n",
            "Total params: 14,714,688\n",
            "Trainable params: 7,079,424\n",
            "Non-trainable params: 7,635,264\n",
            "_________________________________________________________________\n"
          ]
        }
      ]
    },
    {
      "cell_type": "markdown",
      "source": [
        "Εδώ βλέπουμε από το summary πως έχουμε και κάποιες trainable παράμετρους."
      ],
      "metadata": {
        "id": "KYegagqIZuwf"
      }
    },
    {
      "cell_type": "code",
      "source": [
        "def MyCNN_pre():\n",
        "  return tf.keras.models.Sequential([\n",
        "    pretrained_model_2,\n",
        "    tf.keras.layers.Flatten(),\n",
        "    tf.keras.layers.Dense(1024, activation='relu'),\n",
        "    tf.keras.layers.Dense(200, activation='relu'),\n",
        "    tf.keras.layers.Dense(20)\n",
        "  ])"
      ],
      "metadata": {
        "id": "R3vfN10bVOP0"
      },
      "execution_count": 135,
      "outputs": []
    },
    {
      "cell_type": "code",
      "source": [
        "mycnn_pre = MyCNN_pre()\n",
        "mycnn_pre.summary()\n",
        "\n",
        "mycnn_pre.compile(optimizer='adam',\n",
        "              loss=tf.keras.losses.SparseCategoricalCrossentropy(from_logits=True),\n",
        "              metrics=['accuracy'])"
      ],
      "metadata": {
        "colab": {
          "base_uri": "https://localhost:8080/"
        },
        "id": "7H_haEDhVZ73",
        "outputId": "373f8f0e-c7d1-4dd3-97aa-28e043fa250f"
      },
      "execution_count": 136,
      "outputs": [
        {
          "output_type": "stream",
          "name": "stdout",
          "text": [
            "Model: \"sequential_17\"\n",
            "_________________________________________________________________\n",
            " Layer (type)                Output Shape              Param #   \n",
            "=================================================================\n",
            " vgg16 (Functional)          (None, 1, 1, 512)         14714688  \n",
            "                                                                 \n",
            " flatten_17 (Flatten)        (None, 512)               0         \n",
            "                                                                 \n",
            " dense_51 (Dense)            (None, 1024)              525312    \n",
            "                                                                 \n",
            " dense_52 (Dense)            (None, 200)               205000    \n",
            "                                                                 \n",
            " dense_53 (Dense)            (None, 20)                4020      \n",
            "                                                                 \n",
            "=================================================================\n",
            "Total params: 15,449,020\n",
            "Trainable params: 7,813,756\n",
            "Non-trainable params: 7,635,264\n",
            "_________________________________________________________________\n"
          ]
        }
      ]
    },
    {
      "cell_type": "code",
      "source": [
        "# early stop\n",
        "callback = tf.keras.callbacks.EarlyStopping(monitor='val_loss', patience=3)\n",
        "\n",
        "history_mycnn_pre2 = mycnn_pre.fit(x_train, y_train, epochs=20, batch_size=64, validation_data=(x_val, y_val), callbacks = callback)\n",
        "\n",
        "mycnn_pre.save('MyCNN_pre2.h5')"
      ],
      "metadata": {
        "colab": {
          "base_uri": "https://localhost:8080/"
        },
        "id": "a_y_igwnX7HF",
        "outputId": "31e0f303-ddac-4596-8db8-11c0bbdf8f7a"
      },
      "execution_count": 137,
      "outputs": [
        {
          "output_type": "stream",
          "name": "stdout",
          "text": [
            "Epoch 1/20\n",
            "133/133 [==============================] - 4s 24ms/step - loss: 2.0351 - accuracy: 0.3580 - val_loss: 1.4931 - val_accuracy: 0.5333\n",
            "Epoch 2/20\n",
            "133/133 [==============================] - 3s 22ms/step - loss: 1.3157 - accuracy: 0.5985 - val_loss: 1.4469 - val_accuracy: 0.5767\n",
            "Epoch 3/20\n",
            "133/133 [==============================] - 3s 23ms/step - loss: 1.0443 - accuracy: 0.6773 - val_loss: 1.2788 - val_accuracy: 0.6133\n",
            "Epoch 4/20\n",
            "133/133 [==============================] - 3s 22ms/step - loss: 0.8401 - accuracy: 0.7408 - val_loss: 1.3330 - val_accuracy: 0.6227\n",
            "Epoch 5/20\n",
            "133/133 [==============================] - 3s 22ms/step - loss: 0.7243 - accuracy: 0.7695 - val_loss: 1.3238 - val_accuracy: 0.6313\n",
            "Epoch 6/20\n",
            "133/133 [==============================] - 3s 22ms/step - loss: 0.6197 - accuracy: 0.8101 - val_loss: 1.3321 - val_accuracy: 0.6500\n"
          ]
        }
      ]
    },
    {
      "cell_type": "code",
      "source": [
        "MyCNN_temp = tf.keras.models.load_model('MyCNN_pre2.h5')\n",
        "\n",
        "loss, acc = MyCNN_temp.evaluate(x_test, y_test, verbose=2)\n",
        "print('Pretrained VGG16 model with 4 trainable layers, accuracy: {:5.2f}%'.format(100 * acc))"
      ],
      "metadata": {
        "colab": {
          "base_uri": "https://localhost:8080/"
        },
        "id": "6lPoynSwX__d",
        "outputId": "6ca6ae3b-abb3-4670-f333-e5cfad032216"
      },
      "execution_count": 138,
      "outputs": [
        {
          "output_type": "stream",
          "name": "stdout",
          "text": [
            "63/63 - 1s - loss: 1.2825 - accuracy: 0.6615 - 745ms/epoch - 12ms/step\n",
            "Pretrained VGG16 model with 4 trainable layers, accuracy: 66.15%\n"
          ]
        }
      ]
    },
    {
      "cell_type": "markdown",
      "source": [
        "Εδώ, στη περίπτωση του VGG16 με trainable layers έχουμε ακόμα πιο γρήγορη σύγκλιση με μόνο 6 εποχές να απαιτούνται για την εκπαίδευση (με χρήση early stopping). Επιπλέον, έχουμε ακόμα μεγαλύτερη ακρίβεια του μοντέλου, το οποίο είναι λογικό από τη στιγμή που αφήνουμε κάποια layers να γίνουν train."
      ],
      "metadata": {
        "id": "hXeAMZN9ade9"
      }
    },
    {
      "cell_type": "markdown",
      "source": [
        "####3. Αξιολόγηση"
      ],
      "metadata": {
        "id": "9m-WrswRbCXz"
      }
    },
    {
      "cell_type": "code",
      "source": [
        "plot_accuracy(history_mycnn_pre, history_mycnn_pre2, ['VGG16 without trainable layers', 'VGG16 with trainable layers'])"
      ],
      "metadata": {
        "colab": {
          "base_uri": "https://localhost:8080/",
          "height": 458
        },
        "id": "UqZRMbr1baJx",
        "outputId": "e2cefaf7-4345-4b20-ce75-3be425c4092d"
      },
      "execution_count": 141,
      "outputs": [
        {
          "output_type": "display_data",
          "data": {
            "text/plain": [
              "<Figure size 1440x504 with 2 Axes>"
            ],
            "image/png": "[encoded data removed]"
          },
          "metadata": {
            "needs_background": "light"
          }
        }
      ]
    },
    {
      "cell_type": "code",
      "source": [
        "# VGG16 model without trainable layers - Left diagram\n",
        "MyCNN_temp = tf.keras.models.load_model('MyCNN_pre.h5')\n",
        "\n",
        "loss, acc = MyCNN_temp.evaluate(x_test, y_test, verbose=2)\n",
        "print('Pretrained VGG16 model without trainable layers, test set accuracy: {:5.2f}%'.format(100 * acc))\n",
        "print('\\n')\n",
        "loss, acc = MyCNN_temp.evaluate(x_val, y_val, verbose=2)\n",
        "print('Pretrained VGG16 model without trainable layers, val set accuracy: {:5.2f}%'.format(100 * acc))"
      ],
      "metadata": {
        "colab": {
          "base_uri": "https://localhost:8080/"
        },
        "id": "DwT7yaN-cKOM",
        "outputId": "1f0dcf76-58ec-4389-986a-4c2fa9f89ae9"
      },
      "execution_count": 144,
      "outputs": [
        {
          "output_type": "stream",
          "name": "stdout",
          "text": [
            "63/63 - 1s - loss: 1.5336 - accuracy: 0.5860 - 997ms/epoch - 16ms/step\n",
            "Pretrained VGG16 model without trainable layers, test set accuracy: 58.60%\n",
            "\n",
            "\n",
            "47/47 - 1s - loss: 1.6315 - accuracy: 0.5540 - 507ms/epoch - 11ms/step\n",
            "Pretrained VGG16 model without trainable layers, val set accuracy: 55.40%\n"
          ]
        }
      ]
    },
    {
      "cell_type": "code",
      "source": [
        "# VGG16 model with trainable layers - Right diagram\n",
        "MyCNN_temp = tf.keras.models.load_model('MyCNN_pre2.h5')\n",
        "\n",
        "loss, acc = MyCNN_temp.evaluate(x_test, y_test, verbose=2)\n",
        "print('Pretrained VGG16 model with trainable layers, test set accuracy: {:5.2f}%'.format(100 * acc))\n",
        "print('\\n')\n",
        "loss, acc = MyCNN_temp.evaluate(x_val, y_val, verbose=2)\n",
        "print('Pretrained VGG16 model with trainable layers, val set accuracy: {:5.2f}%'.format(100 * acc))"
      ],
      "metadata": {
        "colab": {
          "base_uri": "https://localhost:8080/"
        },
        "id": "-UM0vplTcte1",
        "outputId": "2e740535-2ad1-437a-99c2-60c633446a8f"
      },
      "execution_count": 145,
      "outputs": [
        {
          "output_type": "stream",
          "name": "stdout",
          "text": [
            "63/63 - 1s - loss: 1.2825 - accuracy: 0.6615 - 958ms/epoch - 15ms/step\n",
            "Pretrained VGG16 model with trainable layers, test set accuracy: 66.15%\n",
            "\n",
            "\n",
            "47/47 - 0s - loss: 1.3321 - accuracy: 0.6500 - 415ms/epoch - 9ms/step\n",
            "Pretrained VGG16 model with trainable layers, val set accuracy: 65.00%\n"
          ]
        }
      ]
    },
    {
      "cell_type": "markdown",
      "source": [
        "Συμπεραίνουμε πως το pretrained model έχει γενικά καλές τιμές accuracy τόσο στα training όσο και στα validation data. Βέβαια η ακρίβεια αυξάνεται σημαντικά όταν αφήνουμε κάποια από τα layers να είναι trainable. Αυτό σε συνδιασμό με το early stopping για τη μείωση της υπερεκπαίδευσης μας δίνει ακρίβεια 65-66%, το οποίο είναι καλύτερο από όλες τις προηγούμενες μεθόδους που δοκιμάσαμε. Τέλος, αξίζει να σημειωθεί πως η εκπαίδευση του pretrained model γενικά χρειάστηκε πολύ λίγες εποχές. Οπότε, έχουμε τελικά ένα μοντέλο που εκπαιδέυεται με μικρό αριθμό εποχών και έχει πολύ καλή ακρίβεια.  "
      ],
      "metadata": {
        "id": "9iBqvwkrczvu"
      }
    },
    {
      "cell_type": "markdown",
      "metadata": {
        "id": "M_T6Y9EJDuOu"
      },
      "source": [
        "## Διαχείριση μνήμης (TFRecord)\n",
        "Η φόρτωση δεδομένων με τον τρόπο που το κάναμε παραπάνω στο απλό παράδειγμα υλοποίησης είναι πολύ βολική αλλά δεν είναι αποτελεσματική ως προς τη διαχείριση της μνήμης. Συγκεκριμένα, με τον τρόπο αυτό, τα δεδομένα αποθηκεύονται απευθείας σε μεταβλητές, οι οποίες όλες μαζί καταλαμβάνουν τη RAM της CPU ή της GPU, κάτι που κάνει αδύνατη τη διαχείριση μεγάλων datasets ή τον μεταχηματισμό των δεδομένων όπως όταν κάνουμε αύξηση δεδομένων (data augmentation).\n",
        "\n",
        "Για να παρακαμφθεί αυτό το πρόβλημα, υπάρχει η δυνατότητα της σειριοποίησης των δεδομένων (serialization) και της αποθήκευσής τους σε αρχεία μεσαίου μεγέθους (κάποιων MB) τα οποία μπορούν να αναγνωστούν γραμμικά.\n",
        "\n",
        "Το φορμάτ TFRecord είναι ένα φορμάτ που επιτρέπει την αποθήκευση σειράς δυαδικών εγγραφών. Διαβάστε σχετικά για το [TFRecord and tf.Example](https://www.tensorflow.org/tutorials/load_data/tfrecord) και [tf.data: Build TensorFlow input pipelines](https://www.tensorflow.org/guide/data). \n",
        "\n",
        "Σημειώστε ότι με τη μέθοδο αυτή θα πρέπει να γίνει import η `tensorflow_datasets` και να χρησιμοποιήσουμε την `tfds.load` ώστε να αποθηκευθεί το σύνολο δεδομένων σε αρχεία tfrecord στο δίσκο (δείτε [εδώ](https://colab.research.google.com/github/tensorflow/datasets/blob/master/docs/overview.ipynb) ένα παράδειγμα). Φυσικά μπορούμε να μετατρέψουμε και τα πρωτογενή δεδομένα (raw data) του dataset όπως αρχεία jpg σε φορματ tfrecord όπως [εδώ](https://towardsdatascience.com/working-with-tfrecords-and-tf-train-example-36d111b3ff4d).\n"
      ]
    }
  ],
  "metadata": {
    "colab": {
      "collapsed_sections": [
        "DfEMjsB4Yurm",
        "pb8g46J9wQaI",
        "daDqu-8gw7od",
        "mGsT2fK2bCRs",
        "xVkoOzKZySsf",
        "o1g3NV0uECLu",
        "rR9ma6ExIACn",
        "lBpMJLtcyA-l",
        "SHaH4iTqDKJV",
        "ig6NNn2FDN0k",
        "NBZc7I_4FG5j",
        "D0Zo9VxJMu4u",
        "2qonSMQpSoom",
        "RF6SmgKAkzz0",
        "SHJOLnHNu6-h",
        "aFbt8yn_wK7f",
        "C6l0MiWdwo5O",
        "Z-Q0FIxHCmPs",
        "rAojnqT7hPj3",
        "UU9-CPqb2uC8",
        "jGb19GoNJ78O",
        "FLqBUiXvKlV6",
        "BlKv7MGJQE6L",
        "kONP6QrXSjk9",
        "K1kex6znrj_2",
        "jTxKRNEHWfGs",
        "_V8TUSdlGTMv",
        "f1_lG6orPIoA",
        "9m-WrswRbCXz"
      ],
      "name": "Image_Lab_2.ipynb",
      "provenance": []
    },
    "kernelspec": {
      "display_name": "Python 3",
      "name": "python3"
    },
    "accelerator": "GPU"
  },
  "nbformat": 4,
  "nbformat_minor": 0
}